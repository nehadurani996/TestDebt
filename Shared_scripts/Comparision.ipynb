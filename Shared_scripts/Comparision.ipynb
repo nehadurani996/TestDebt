{
 "cells": [
  {
   "cell_type": "code",
   "execution_count": 2,
   "id": "847eb3e6-5f02-4ad6-834a-f685bcc0c42b",
   "metadata": {
    "tags": []
   },
   "outputs": [
    {
     "name": "stdout",
     "output_type": "stream",
     "text": [
      "Agreement Rate: 6.68%\n"
     ]
    }
   ],
   "source": [
    "import pandas as pd\n",
    "\n",
    "# Load the CSV files into DataFrames\n",
    "df_final_output = pd.read_csv('output_with_classifications_regex.csv')\n",
    "df_selected_columns_output = pd.read_csv('classificationLLM.csv')\n",
    "\n",
    "# Merge the DataFrames on the 'text_clean' column\n",
    "df_merged = pd.merge(df_final_output, df_selected_columns_output, on='text_clean', suffixes=('_final', '_selected'))\n",
    "\n",
    "# Calculate the agreement or similarity rate\n",
    "# Here, we're checking how many rows have the same value in 'test_debt_type_numeric' and 'classification_numeric'\n",
    "agreement_rate = (df_merged['test_debt_type_numeric'] == df_merged['classification_numeric']).mean()\n",
    "\n",
    "print(f'Agreement Rate: {agreement_rate:.2%}')\n"
   ]
  },
  {
   "cell_type": "code",
   "execution_count": 16,
   "id": "797e974e-5b18-423c-9ff6-1f60631bf281",
   "metadata": {
    "tags": []
   },
   "outputs": [
    {
     "name": "stdout",
     "output_type": "stream",
     "text": [
      "Column names in merged DataFrame:\n",
      "Index(['text_clean', 'test_debt_type_numeric', 'classification_numeric'], dtype='object')\n"
     ]
    },
    {
     "data": {
      "text/html": [
       "<div>\n",
       "<style scoped>\n",
       "    .dataframe tbody tr th:only-of-type {\n",
       "        vertical-align: middle;\n",
       "    }\n",
       "\n",
       "    .dataframe tbody tr th {\n",
       "        vertical-align: top;\n",
       "    }\n",
       "\n",
       "    .dataframe thead th {\n",
       "        text-align: right;\n",
       "    }\n",
       "</style>\n",
       "<table border=\"1\" class=\"dataframe\">\n",
       "  <thead>\n",
       "    <tr style=\"text-align: right;\">\n",
       "      <th></th>\n",
       "      <th>text_clean</th>\n",
       "      <th>test_debt_type_numeric</th>\n",
       "      <th>classification_numeric</th>\n",
       "    </tr>\n",
       "  </thead>\n",
       "  <tbody>\n",
       "    <tr>\n",
       "      <th>0</th>\n",
       "      <td>add tests for systemdrawingcommonthis issue tr...</td>\n",
       "      <td>1</td>\n",
       "      <td>3</td>\n",
       "    </tr>\n",
       "    <tr>\n",
       "      <th>1</th>\n",
       "      <td>acctests for packetfabricportresource please k...</td>\n",
       "      <td>5</td>\n",
       "      <td>3</td>\n",
       "    </tr>\n",
       "    <tr>\n",
       "      <th>2</th>\n",
       "      <td>text analytics abstractivesummarizebatchconven...</td>\n",
       "      <td>5</td>\n",
       "      <td>3</td>\n",
       "    </tr>\n",
       "    <tr>\n",
       "      <th>3</th>\n",
       "      <td>see entity recordssee the story in the release...</td>\n",
       "      <td>5</td>\n",
       "      <td>3</td>\n",
       "    </tr>\n",
       "    <tr>\n",
       "      <th>4</th>\n",
       "      <td>editor crash when click mesh instance 3d with ...</td>\n",
       "      <td>5</td>\n",
       "      <td>2</td>\n",
       "    </tr>\n",
       "  </tbody>\n",
       "</table>\n",
       "</div>"
      ],
      "text/plain": [
       "                                          text_clean  test_debt_type_numeric  \\\n",
       "0  add tests for systemdrawingcommonthis issue tr...                       1   \n",
       "1  acctests for packetfabricportresource please k...                       5   \n",
       "2  text analytics abstractivesummarizebatchconven...                       5   \n",
       "3  see entity recordssee the story in the release...                       5   \n",
       "4  editor crash when click mesh instance 3d with ...                       5   \n",
       "\n",
       "   classification_numeric  \n",
       "0                       3  \n",
       "1                       3  \n",
       "2                       3  \n",
       "3                       3  \n",
       "4                       2  "
      ]
     },
     "execution_count": 16,
     "metadata": {},
     "output_type": "execute_result"
    }
   ],
   "source": [
    "import pandas as pd\n",
    "\n",
    "# Load the CSV files into DataFrames\n",
    "df_final_output = pd.read_csv('output_with_classifications_regex.csv')\n",
    "df_selected_columns_output = pd.read_csv('classificationLLM.csv')\n",
    "\n",
    "# Merge the DataFrames on the 'text_clean' column\n",
    "df_merged = pd.merge(df_final_output, df_selected_columns_output, on='text_clean', suffixes=('_final', '_selected'))\n",
    "\n",
    "# Print column names to verify the correct column names\n",
    "print(\"Column names in merged DataFrame:\")\n",
    "\n",
    "df_merged = df_merged.drop(columns=['label_final','label_selected'])\n",
    "print(df_merged.columns)\n",
    "df_merged.head()"
   ]
  },
  {
   "cell_type": "code",
   "execution_count": 17,
   "id": "6a4530a5-6c16-48b7-8b62-c9cadb87e254",
   "metadata": {
    "tags": []
   },
   "outputs": [
    {
     "name": "stdout",
     "output_type": "stream",
     "text": [
      "Category Matching Table:\n",
      "classification_numeric     1    2     3    4   5\n",
      "test_debt_type_numeric                          \n",
      "1                        494  151   863   66   4\n",
      "2                        124   75   273   14   0\n",
      "3                          5    1    16    1   0\n",
      "4                         61   16   140   19   0\n",
      "5                       2149  884  3629  305  18\n"
     ]
    }
   ],
   "source": [
    "import pandas as pd\n",
    "\n",
    "# Assuming df_merged is already created and looks like the DataFrame you described\n",
    "# If you need to load or merge data, ensure that df_merged is correctly formed\n",
    "\n",
    "# Create a cross-tabulation of the categories\n",
    "category_matches = pd.crosstab(df_merged['test_debt_type_numeric'], df_merged['classification_numeric'])\n",
    "\n",
    "# Print the cross-tabulation\n",
    "print(\"Category Matching Table:\")\n",
    "print(category_matches)\n"
   ]
  },
  {
   "cell_type": "code",
   "execution_count": 18,
   "id": "ddbecfb2-ced8-4163-aa99-13c351b109b5",
   "metadata": {
    "tags": []
   },
   "outputs": [
    {
     "name": "stdout",
     "output_type": "stream",
     "text": [
      "Agreement Rate: 6.68%\n"
     ]
    }
   ],
   "source": [
    "import pandas as pd\n",
    "\n",
    "# Assuming df_merged is already created and looks like the DataFrame you described\n",
    "# If you need to load or merge data, ensure that df_merged is correctly formed\n",
    "\n",
    "# Calculate the agreement rate as the percentage of matching entries\n",
    "agreement_rate = (df_merged['test_debt_type_numeric'] == df_merged['classification_numeric']).mean() * 100\n",
    "\n",
    "# Print the agreement rate\n",
    "print(f'Agreement Rate: {agreement_rate:.2f}%')\n"
   ]
  },
  {
   "cell_type": "code",
   "execution_count": 20,
   "id": "9ce3e3f4-fb02-4670-931a-561c8a5def47",
   "metadata": {
    "tags": []
   },
   "outputs": [
    {
     "name": "stdout",
     "output_type": "stream",
     "text": [
      "Agreement Rates by Category:\n",
      "classification_numeric\n",
      "1    17.437346\n",
      "2     6.654836\n",
      "3     0.325137\n",
      "4     4.691358\n",
      "5    81.818182\n",
      "dtype: float64\n"
     ]
    }
   ],
   "source": [
    "import pandas as pd\n",
    "\n",
    "# Assuming df_merged is already created and looks like the DataFrame you described\n",
    "# If you need to load or merge data, ensure that df_merged is correctly formed\n",
    "\n",
    "# Function to calculate agreement rate for each category, expressed as a percentage\n",
    "def calculate_agreement(group):\n",
    "    return 100 * (group['test_debt_type_numeric'] == group['classification_numeric']).mean()\n",
    "\n",
    "# Group by 'test_debt_type_numeric' and apply the calculate_agreement function\n",
    "agreement_rates_by_category = df_merged.groupby('classification_numeric').apply(calculate_agreement)\n",
    "\n",
    "# Print the agreement rates for each category\n",
    "print(\"Agreement Rates by Category:\")\n",
    "print(agreement_rates_by_category)\n"
   ]
  },
  {
   "cell_type": "code",
   "execution_count": 22,
   "id": "6318c960-818f-4640-8c73-7830dc7849d8",
   "metadata": {
    "tags": []
   },
   "outputs": [
    {
     "data": {
      "text/html": [
       "<div>\n",
       "<style scoped>\n",
       "    .dataframe tbody tr th:only-of-type {\n",
       "        vertical-align: middle;\n",
       "    }\n",
       "\n",
       "    .dataframe tbody tr th {\n",
       "        vertical-align: top;\n",
       "    }\n",
       "\n",
       "    .dataframe thead th {\n",
       "        text-align: right;\n",
       "    }\n",
       "</style>\n",
       "<table border=\"1\" class=\"dataframe\">\n",
       "  <thead>\n",
       "    <tr style=\"text-align: right;\">\n",
       "      <th></th>\n",
       "      <th>text_clean</th>\n",
       "      <th>test_debt_type_numeric</th>\n",
       "      <th>classification_numeric</th>\n",
       "      <th>category_match</th>\n",
       "    </tr>\n",
       "  </thead>\n",
       "  <tbody>\n",
       "    <tr>\n",
       "      <th>0</th>\n",
       "      <td>add tests for systemdrawingcommonthis issue tr...</td>\n",
       "      <td>1</td>\n",
       "      <td>3</td>\n",
       "      <td>Different Category</td>\n",
       "    </tr>\n",
       "    <tr>\n",
       "      <th>1</th>\n",
       "      <td>acctests for packetfabricportresource please k...</td>\n",
       "      <td>5</td>\n",
       "      <td>3</td>\n",
       "      <td>Different Category</td>\n",
       "    </tr>\n",
       "    <tr>\n",
       "      <th>2</th>\n",
       "      <td>text analytics abstractivesummarizebatchconven...</td>\n",
       "      <td>5</td>\n",
       "      <td>3</td>\n",
       "      <td>Different Category</td>\n",
       "    </tr>\n",
       "    <tr>\n",
       "      <th>3</th>\n",
       "      <td>see entity recordssee the story in the release...</td>\n",
       "      <td>5</td>\n",
       "      <td>3</td>\n",
       "      <td>Different Category</td>\n",
       "    </tr>\n",
       "    <tr>\n",
       "      <th>4</th>\n",
       "      <td>editor crash when click mesh instance 3d with ...</td>\n",
       "      <td>5</td>\n",
       "      <td>2</td>\n",
       "      <td>Different Category</td>\n",
       "    </tr>\n",
       "  </tbody>\n",
       "</table>\n",
       "</div>"
      ],
      "text/plain": [
       "                                          text_clean  test_debt_type_numeric  \\\n",
       "0  add tests for systemdrawingcommonthis issue tr...                       1   \n",
       "1  acctests for packetfabricportresource please k...                       5   \n",
       "2  text analytics abstractivesummarizebatchconven...                       5   \n",
       "3  see entity recordssee the story in the release...                       5   \n",
       "4  editor crash when click mesh instance 3d with ...                       5   \n",
       "\n",
       "   classification_numeric      category_match  \n",
       "0                       3  Different Category  \n",
       "1                       3  Different Category  \n",
       "2                       3  Different Category  \n",
       "3                       3  Different Category  \n",
       "4                       2  Different Category  "
      ]
     },
     "execution_count": 22,
     "metadata": {},
     "output_type": "execute_result"
    }
   ],
   "source": [
    "import pandas as pd\n",
    "\n",
    "# Assuming df_merged is already created and looks like the DataFrame you described\n",
    "# If you need to load or merge data, ensure that df_merged is correctly formed\n",
    "\n",
    "# Add a new column 'category_match' to the DataFrame\n",
    "df_merged['category_match'] = df_merged.apply(lambda row: \"Same Category\" if row['test_debt_type_numeric'] == row['classification_numeric'] else \"Different Category\", axis=1)\n",
    "\n",
    "# Print the updated DataFrame to see the new column\n",
    "df_merged.head()\n"
   ]
  },
  {
   "cell_type": "code",
   "execution_count": 24,
   "id": "3fd472a7-ff3f-461c-958e-e05c66bb33ec",
   "metadata": {},
   "outputs": [
    {
     "data": {
      "text/html": [
       "<div>\n",
       "<style scoped>\n",
       "    .dataframe tbody tr th:only-of-type {\n",
       "        vertical-align: middle;\n",
       "    }\n",
       "\n",
       "    .dataframe tbody tr th {\n",
       "        vertical-align: top;\n",
       "    }\n",
       "\n",
       "    .dataframe thead th {\n",
       "        text-align: right;\n",
       "    }\n",
       "</style>\n",
       "<table border=\"1\" class=\"dataframe\">\n",
       "  <thead>\n",
       "    <tr style=\"text-align: right;\">\n",
       "      <th></th>\n",
       "      <th>text_clean</th>\n",
       "      <th>test_debt_type_numeric</th>\n",
       "      <th>classification_numeric</th>\n",
       "      <th>category_match</th>\n",
       "    </tr>\n",
       "  </thead>\n",
       "  <tbody>\n",
       "    <tr>\n",
       "      <th>10</th>\n",
       "      <td>deprecate testcasegetmockbuilderthese deprecat...</td>\n",
       "      <td>1</td>\n",
       "      <td>1</td>\n",
       "      <td>Same Category</td>\n",
       "    </tr>\n",
       "    <tr>\n",
       "      <th>42</th>\n",
       "      <td>ci reinstate performance testthe performance t...</td>\n",
       "      <td>2</td>\n",
       "      <td>2</td>\n",
       "      <td>Same Category</td>\n",
       "    </tr>\n",
       "    <tr>\n",
       "      <th>91</th>\n",
       "      <td>refactor testsutilities remove the conditional...</td>\n",
       "      <td>1</td>\n",
       "      <td>1</td>\n",
       "      <td>Same Category</td>\n",
       "    </tr>\n",
       "    <tr>\n",
       "      <th>103</th>\n",
       "      <td>random 403s on lower environments can cause sp...</td>\n",
       "      <td>1</td>\n",
       "      <td>1</td>\n",
       "      <td>Same Category</td>\n",
       "    </tr>\n",
       "    <tr>\n",
       "      <th>109</th>\n",
       "      <td>do not change the order of execution of a base...</td>\n",
       "      <td>1</td>\n",
       "      <td>1</td>\n",
       "      <td>Same Category</td>\n",
       "    </tr>\n",
       "    <tr>\n",
       "      <th>...</th>\n",
       "      <td>...</td>\n",
       "      <td>...</td>\n",
       "      <td>...</td>\n",
       "      <td>...</td>\n",
       "    </tr>\n",
       "    <tr>\n",
       "      <th>9162</th>\n",
       "      <td>explore options for minimizing content on left...</td>\n",
       "      <td>1</td>\n",
       "      <td>1</td>\n",
       "      <td>Same Category</td>\n",
       "    </tr>\n",
       "    <tr>\n",
       "      <th>9183</th>\n",
       "      <td>srcinterpreterssortedblockswritercpp25965 runt...</td>\n",
       "      <td>1</td>\n",
       "      <td>1</td>\n",
       "      <td>Same Category</td>\n",
       "    </tr>\n",
       "    <tr>\n",
       "      <th>9194</th>\n",
       "      <td>failing test chrome xpack observability ui fun...</td>\n",
       "      <td>1</td>\n",
       "      <td>1</td>\n",
       "      <td>Same Category</td>\n",
       "    </tr>\n",
       "    <tr>\n",
       "      <th>9195</th>\n",
       "      <td>modify phpcodesniffer to allow see with arbitr...</td>\n",
       "      <td>1</td>\n",
       "      <td>1</td>\n",
       "      <td>Same Category</td>\n",
       "    </tr>\n",
       "    <tr>\n",
       "      <th>9227</th>\n",
       "      <td>failing test chrome xpack ui functional tests ...</td>\n",
       "      <td>1</td>\n",
       "      <td>1</td>\n",
       "      <td>Same Category</td>\n",
       "    </tr>\n",
       "  </tbody>\n",
       "</table>\n",
       "<p>622 rows × 4 columns</p>\n",
       "</div>"
      ],
      "text/plain": [
       "                                             text_clean  \\\n",
       "10    deprecate testcasegetmockbuilderthese deprecat...   \n",
       "42    ci reinstate performance testthe performance t...   \n",
       "91    refactor testsutilities remove the conditional...   \n",
       "103   random 403s on lower environments can cause sp...   \n",
       "109   do not change the order of execution of a base...   \n",
       "...                                                 ...   \n",
       "9162  explore options for minimizing content on left...   \n",
       "9183  srcinterpreterssortedblockswritercpp25965 runt...   \n",
       "9194  failing test chrome xpack observability ui fun...   \n",
       "9195  modify phpcodesniffer to allow see with arbitr...   \n",
       "9227  failing test chrome xpack ui functional tests ...   \n",
       "\n",
       "      test_debt_type_numeric  classification_numeric category_match  \n",
       "10                         1                       1  Same Category  \n",
       "42                         2                       2  Same Category  \n",
       "91                         1                       1  Same Category  \n",
       "103                        1                       1  Same Category  \n",
       "109                        1                       1  Same Category  \n",
       "...                      ...                     ...            ...  \n",
       "9162                       1                       1  Same Category  \n",
       "9183                       1                       1  Same Category  \n",
       "9194                       1                       1  Same Category  \n",
       "9195                       1                       1  Same Category  \n",
       "9227                       1                       1  Same Category  \n",
       "\n",
       "[622 rows x 4 columns]"
      ]
     },
     "execution_count": 24,
     "metadata": {},
     "output_type": "execute_result"
    }
   ],
   "source": [
    "import pandas as pd\n",
    "\n",
    "# Assuming df_merged and the 'category_match' column have already been created\n",
    "# If not, first create the 'category_match' column as previously described\n",
    "\n",
    "# Filter the DataFrame to show only rows where 'category_match' is 'Same Category'\n",
    "df_same_category = df_merged[df_merged['category_match'] == \"Same Category\"]\n",
    "\n",
    "# Print the filtered DataFrame\n",
    "df_same_category\n"
   ]
  },
  {
   "cell_type": "code",
   "execution_count": null,
   "id": "87e36562-504d-43d3-b9a6-795a03e4ef23",
   "metadata": {},
   "outputs": [],
   "source": []
  }
 ],
 "metadata": {
  "kernelspec": {
   "display_name": "Python 3 (ipykernel)",
   "language": "python",
   "name": "python3"
  },
  "language_info": {
   "codemirror_mode": {
    "name": "ipython",
    "version": 3
   },
   "file_extension": ".py",
   "mimetype": "text/x-python",
   "name": "python",
   "nbconvert_exporter": "python",
   "pygments_lexer": "ipython3",
   "version": "3.10.13"
  }
 },
 "nbformat": 4,
 "nbformat_minor": 5
}
