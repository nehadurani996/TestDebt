{
 "cells": [
  {
   "cell_type": "code",
   "execution_count": 1,
   "id": "96f56353-c2da-4d39-a1a2-5714be526694",
   "metadata": {
    "tags": []
   },
   "outputs": [
    {
     "data": {
      "text/html": [
       "<div>\n",
       "<style scoped>\n",
       "    .dataframe tbody tr th:only-of-type {\n",
       "        vertical-align: middle;\n",
       "    }\n",
       "\n",
       "    .dataframe tbody tr th {\n",
       "        vertical-align: top;\n",
       "    }\n",
       "\n",
       "    .dataframe thead th {\n",
       "        text-align: right;\n",
       "    }\n",
       "</style>\n",
       "<table border=\"1\" class=\"dataframe\">\n",
       "  <thead>\n",
       "    <tr style=\"text-align: right;\">\n",
       "      <th></th>\n",
       "      <th>Unnamed: 0</th>\n",
       "      <th>text_clean</th>\n",
       "      <th>label</th>\n",
       "    </tr>\n",
       "  </thead>\n",
       "  <tbody>\n",
       "    <tr>\n",
       "      <th>0</th>\n",
       "      <td>0</td>\n",
       "      <td>add tests for systemdrawingcommonthis issue tr...</td>\n",
       "      <td>1</td>\n",
       "    </tr>\n",
       "    <tr>\n",
       "      <th>1</th>\n",
       "      <td>1</td>\n",
       "      <td>acctests for packetfabricportresource please k...</td>\n",
       "      <td>1</td>\n",
       "    </tr>\n",
       "    <tr>\n",
       "      <th>2</th>\n",
       "      <td>2</td>\n",
       "      <td>text analytics abstractivesummarizebatchconven...</td>\n",
       "      <td>1</td>\n",
       "    </tr>\n",
       "    <tr>\n",
       "      <th>3</th>\n",
       "      <td>3</td>\n",
       "      <td>see entity recordssee the story in the release...</td>\n",
       "      <td>1</td>\n",
       "    </tr>\n",
       "    <tr>\n",
       "      <th>4</th>\n",
       "      <td>4</td>\n",
       "      <td>editor crash when click mesh instance 3d with ...</td>\n",
       "      <td>1</td>\n",
       "    </tr>\n",
       "  </tbody>\n",
       "</table>\n",
       "</div>"
      ],
      "text/plain": [
       "   Unnamed: 0                                         text_clean  label\n",
       "0           0  add tests for systemdrawingcommonthis issue tr...      1\n",
       "1           1  acctests for packetfabricportresource please k...      1\n",
       "2           2  text analytics abstractivesummarizebatchconven...      1\n",
       "3           3  see entity recordssee the story in the release...      1\n",
       "4           4  editor crash when click mesh instance 3d with ...      1"
      ]
     },
     "execution_count": 1,
     "metadata": {},
     "output_type": "execute_result"
    }
   ],
   "source": [
    "import pandas as pd\n",
    "\n",
    "csv_file_path = 'clean_test_or_not_test.csv'\n",
    "df = pd.read_csv(csv_file_path)\n",
    "df.head()\n"
   ]
  },
  {
   "cell_type": "code",
   "execution_count": 2,
   "id": "d1749b8f-79da-4fe0-b42d-61b2dcb8cd1e",
   "metadata": {
    "tags": []
   },
   "outputs": [
    {
     "data": {
      "text/html": [
       "<div>\n",
       "<style scoped>\n",
       "    .dataframe tbody tr th:only-of-type {\n",
       "        vertical-align: middle;\n",
       "    }\n",
       "\n",
       "    .dataframe tbody tr th {\n",
       "        vertical-align: top;\n",
       "    }\n",
       "\n",
       "    .dataframe thead th {\n",
       "        text-align: right;\n",
       "    }\n",
       "</style>\n",
       "<table border=\"1\" class=\"dataframe\">\n",
       "  <thead>\n",
       "    <tr style=\"text-align: right;\">\n",
       "      <th></th>\n",
       "      <th>count</th>\n",
       "    </tr>\n",
       "    <tr>\n",
       "      <th>text_clean</th>\n",
       "      <th></th>\n",
       "    </tr>\n",
       "  </thead>\n",
       "  <tbody>\n",
       "    <tr>\n",
       "      <th>bad code in a console prompt kills the replas detected by greggirwin to reproduce systemconsoleprompt does append now results in func append now script error append does not allow date for its series argument where append stack ask string prompt macmini ralfwenske expected behavior console not crashing platform version please complete the following information red 064 for macos built 13feb20201918351000 commit d513c8f also see 3506 1953 867 1122</th>\n",
       "      <td>2</td>\n",
       "    </tr>\n",
       "    <tr>\n",
       "      <th>remove active licence option from user profile avatarremove active licence option from user profile avatar imagehttpsuserimagesgithubusercontentcom75515088187373271e7eaae84f9904594869032969ce8b520png</th>\n",
       "      <td>2</td>\n",
       "    </tr>\n",
       "    <tr>\n",
       "      <th>my files in v2 personal filesmigrate my files from 111x to a new tool my files</th>\n",
       "      <td>2</td>\n",
       "    </tr>\n",
       "    <tr>\n",
       "      <th>movie life is beautiful 1997 themoviedb url httpswwwthemoviedborgmovie637lavitabellalanguageenus youtube theme song video url httpswwwyoutubecomwatchvbav633eoh5c</th>\n",
       "      <td>2</td>\n",
       "    </tr>\n",
       "    <tr>\n",
       "      <th>windowethereumsend should be writablehttpswwwmycryptoheroesnet and httpswalletpolygontechnology would do windowethereumsend windowethereumsendasync we should make that function to be an exception of the property protection</th>\n",
       "      <td>2</td>\n",
       "    </tr>\n",
       "    <tr>\n",
       "      <th>some users can create appmaps without signing ina new user who has not yet signed in opening a new project will get an alert prompting them to install appmap from the alert they can navigate to the project picker and then nextback through the whole setup flow without signing in imagehttpsuserimagesgithubusercontentcom12293262212775207a2b3eb978764d28a0a27fea4b9ca2edpng</th>\n",
       "      <td>2</td>\n",
       "    </tr>\n",
       "    <tr>\n",
       "      <th>configure a prow job that writes cve json data to gc bucket every hour what create a prow job that runs a github query to create a json blob of cve data and writes it to a gcb bucket why we need a way where hugo can fetch always the latest data about officially announced cves google cloud bucket seems like a simpler way to host that data how example script that writes to gcb can be found herehttpsgithubcomkubernetestestinfrablob8bddea4df208ea536b18e5eed7edb2328148f7e6triageupdatesummariesshl99l103 example prow job that uses this script to write to a gcb bucket is herehttpsgithubcomkubernetestestinfrablob6dec48b89caab69806c17f72dd32d88ba1b1dcc0configjobskubernetessigk8sinfratrustedsigk8sinfratestinfrayamll84l114 overall docs for writing to bucket can be found herehttpscloudgooglecomstoragedocsquickstartgsutiluploadanobjectintoyourbucket prerequisites need to request a bucket for which following information is needed example issue httpsgithubcomkubernetesk8siopull2570 google group of humans who will own this infra httpsgithubcomkubernetesk8sioblobmaingroupssigsecuritygroupsyaml group description might need an update name of the bucket k8scvefeed service account name k8scvefeed note the names here are suggestions final naming convention is up to sig k8s infra related info one example for reading from a bucket via html can be found here httpsgithubcomkubernetestestinfrablobf7e21a3c18f4f4bbc7ee170675ed53e4544a0632maintenanceoncallhtml parent issue that this is part of 1 discussion slack thread httpskubernetesslackcomarchivesc01cusvmhpyp1642720739011300 sig testing k8sinfra security</th>\n",
       "      <td>2</td>\n",
       "    </tr>\n",
       "    <tr>\n",
       "      <th>create a periodic prow job to implement kep3203related to kubernetesenhancements3203 create a periodic prow job to query github api for new cves announced every 5 minutes if new cve announced push the new content toksigsecuritysigsecuritytoolingfeedsofficialcvefeedjson this prow job will call the shellgolangpython script to query the github apis and populate the json with the below data the sample json format will be as cveid cve202125741 cveurl httpswwwcvedetailscomcvedetailsphpt1cveidcve202125741 number 104980 summary symlink exchange can allow host filesystem access issueurl httpsgithubcomkuberneteskubernetesissues104980 googlegroupurl httpsgroupsgooglecomgkubernetesannouncesearchqcve202125741 cveid cve20208565 cveurl httpswwwcvedetailscomcvedetailsphpt1cveidcve20208565 number 95623 summary incomplete fix for cve201911250 allows for token leak in logs when loglevel 9 issueurl httpsgithubcomkuberneteskubernetesissues95623 googlegroupurl httpsgroupsgooglecomgkubernetesannouncesearchqcve20208565</th>\n",
       "      <td>2</td>\n",
       "    </tr>\n",
       "    <tr>\n",
       "      <th>last bullet point in list lostsometimes possibly when zim has been running continuously for a long time the last bullet point in a list is lost imagine a list of bullet points present in a file then add a new entry by placing the cursor at the end of the last bullet point entry and hitting enter a new bullet point appears in the line below as expected after writing some text or adding a link in the same line after the bullet point selecting another page and navigating back or hitting ctrlr while on the same page will remove the bullet point the text remains if my description isnt clear please tell me ill try to clarify this happens with zim 068 and 069 under linux and with zim 068 under windows 069 not tested under windows potentially contains the same bug</th>\n",
       "      <td>2</td>\n",
       "    </tr>\n",
       "    <tr>\n",
       "      <th>idc user research study insert adobe launch codeper imagingdatacommonsidcprojectmanagement1283 we need to add in new adobe research study code awaiting the code to insert then we can proceed</th>\n",
       "      <td>2</td>\n",
       "    </tr>\n",
       "    <tr>\n",
       "      <th>roundtrip serialization testfor a given type that has a deserialization we want to check that at least the composition is valid deserializeserializex x can we also check serializedeserializebytes bytes</th>\n",
       "      <td>2</td>\n",
       "    </tr>\n",
       "    <tr>\n",
       "      <th>fix unit test for testspassonlyclassesnestedasyncawait1ts related test httpsgithubcomdudykrstcblobmaincratesstctsfileanalyzertestspassonlyclassesnestedasyncawait1ts this issue is created by sync script</th>\n",
       "      <td>2</td>\n",
       "    </tr>\n",
       "    <tr>\n",
       "      <th>angular tests are much slower since upgrade nx from 13 to 14 current behavior we recently migrated our nx workspace from v1302 to v14510 but we noticed that our angular unit tests are extremely slow both local and github actions our cicd some tests here 3x up the execution time this same behavior happens in a clean nx workspace v14 see below nx 14 nx 13 imagehttpsuserimagesgithubusercontentcom117131901865120754e9f9b024b464e82af7054ae1445b176png imagehttpsuserimagesgithubusercontentcom117131901865119693283bd590d894cb3862c0ee1d9919e36png imagehttpsuserimagesgithubusercontentcom117131901865701710d8eb3941f3b440aac0395a6d42c4a17png imagehttpsuserimagesgithubusercontentcom117131901865702270535ce7cb54045bdb068175fc79af671png expected behavior we expected same execution time or more faster steps to reproduce 1 create nx 14 workspace with angular app 2 create 3 buildable lib 3 npx nx runmany targettest ive made sample repo to demonstrate the problem 1302httpsgithubcomriquedevnx1302angularwithslowtest 14510httpsgithubcomriquedevnx14510angularwithslowtest the results ci is same of prints above github actions with nx 1302httpsgithubcomriquedevnx1302angularwithslowtestruns8002931685checksuitefocustrue github actions with nx 14510httpsgithubcomriquedevnx14510angularwithslowtestruns8002705708checksuitefocustrue environment node 16170 os darwin x64 ubuntu2004 npm 8150 nx 14510 nrwlangular 14510 nrwlcypress not found nrwldetox not found nrwldevkit 14510 nrwleslintpluginnx 14510 nrwlexpress not found nrwljest 14510 nrwljs not found nrwllinter 14510 nrwlnest not found nrwlnext not found nrwlnode not found nrwlnxcloud not found nrwlnxplugin not found nrwlreact not found nrwlreactnative not found nrwlschematics not found nrwlstorybook not found nrwlweb not found nrwlworkspace 14510 typescript 472 others our workaround we did many tests to circumvent this situation but still tests are very slow we are adding esbuildhttpsesbuildgithubio and changing our configs jest jestconfigts adding this config ts globals tsjest isolatedmodules true</th>\n",
       "      <td>2</td>\n",
       "    </tr>\n",
       "    <tr>\n",
       "      <th>bugfixtable column custom overflow tooltip content notworkingversion branch tag 出了什么问题？what happened 如何复现？how to reproduce 预期结果what you expect</th>\n",
       "      <td>2</td>\n",
       "    </tr>\n",
       "    <tr>\n",
       "      <th>add poseidon reference implementation using sageafter 57 is merged we might consider adding some sage scripts as a reference implementation to make sure the implementation is correct originally posted by boyuanfeng in httpsgithubcommantanetworkmantarspull57discussionr869376550</th>\n",
       "      <td>2</td>\n",
       "    </tr>\n",
       "    <tr>\n",
       "      <th>clearly distinguish message typesextended description as a user i would like clarity on what different message types in the ui mean acceptance criteria a visual symbol to clarify positive messaging a visual symbol to clarify diagnostic messaging on what needs to be fixed helper text that indicates if an individual message is positive or diagnostic when the user selects or hover over it reconsider usage of severity background colors story tasks tasks definition of done with ui acceptance criteria met unit test coverage of our code 90 needs automation story accessibility tests pass needs automation story automated code quality checks pass security reviewed and reported check in with wes on what we could do here reviewed against plain language guidelines design qa passed code must be selfdocumenting no local tech debt documentation updated architectural decision record completed as necessary for significant design choices pr reviewed approved source code merged</th>\n",
       "      <td>2</td>\n",
       "    </tr>\n",
       "    <tr>\n",
       "      <th>flaky testproviderupdate what happened periodically testproviderupdate breaks on yarn install its introduced recently and does not use yarn lock and restart logic that is present in programtest framework but probably should httpsgithubcompulumipulumirandomactionsruns4137304624jobs7152392377step21214 expected behavior test works consistently steps to reproduce observe failures in ci output of pulumi about na additional context no response contributing vote on this issue by adding a  reaction to contribute a fix for this issue leave a comment and link to your pull request if youve opened one already</th>\n",
       "      <td>2</td>\n",
       "    </tr>\n",
       "    <tr>\n",
       "      <th>testing is downin 365c2aehttpsgithubcomyorkijrrexmasuptimecommit365c2ae25195223691cc112801b20e2eb86ad07e testing httpsconsurso187979611saeast1elbamazonawscom was down http code 0 response time 0 ms</th>\n",
       "      <td>2</td>\n",
       "    </tr>\n",
       "    <tr>\n",
       "      <th>pytest intermittent fails to write xml resultsdescribe the bug pytest can fail while trying to write its xml report causing test runs to unexpectedly report failure this bug appears to emit from pytest when it attempts to write its xml report httpsjenkinsbuildo3deorgblueorganizationsjenkinso3dedetaildevelopment3041pipeline assets required na steps to reproduce unknown repro steps expected behavior passing tests always report success actual behavior intermittent failure while writing a file to disk results in file dworkspaceo3depythonruntimepython3105rev1windowspythonlibrunpypy line 196 in runmoduleasmain return runcodecode mainglobals none file dworkspaceo3depythonruntimepython3105rev1windowspythonlibrunpypy line 86 in runcode execcode runglobals file dworkspaceo3depythonruntimepython3105rev1windowspythonlibsitepackagespytestmainpy line 5 in module raise systemexitpytestconsolemain file dworkspaceo3depythonruntimepython3105rev1windowspythonlibsitepackagespytestconfiginitpy line 185 in consolemain code main file dworkspaceo3depythonruntimepython3105rev1windowspythonlibsitepackagespytestconfiginitpy line 162 in main ret unionexitcode int confighookpytestcmdlinemain file dworkspaceo3depythonruntimepython3105rev1windowspythonlibsitepackagespluggyhookspy line 286 in call return selfhookexecself selfgethookimpls kwargs file dworkspaceo3depythonruntimepython3105rev1windowspythonlibsitepackagespluggymanagerpy line 93 in hookexec return selfinnerhookexechook methods kwargs file dworkspaceo3depythonruntimepython3105rev1windowspythonlibsitepackagespluggymanagerpy line 84 in lambda selfinnerhookexec lambda hook methods kwargs hookmulticall file dworkspaceo3depythonruntimepython3105rev1windowspythonlibsitepackagespluggycallerspy line 208 in multicall return outcomegetresult file dworkspaceo3depythonruntimepython3105rev1windowspythonlibsitepackagespluggycallerspy line 80 in getresult raise ex1withtracebackex2 file dworkspaceo3depythonruntimepython3105rev1windowspythonlibsitepackagespluggycallerspy line 187 in multicall res hookimplfunctionargs file dworkspaceo3depythonruntimepython3105rev1windowspythonlibsitepackagespytestmainpy line 316 in pytestcmdlinemain return wrapsessionconfig main file dworkspaceo3depythonruntimepython3105rev1windowspythonlibsitepackagespytestmainpy line 304 in wrapsession confighookpytestsessionfinish file dworkspaceo3depythonruntimepython3105rev1windowspythonlibsitepackagespluggyhookspy line 286 in call return selfhookexecself selfgethookimpls kwargs file dworkspaceo3depythonruntimepython3105rev1windowspythonlibsitepackagespluggymanagerpy line 93 in hookexec return selfinnerhookexechook methods kwargs file dworkspaceo3depythonruntimepython3105rev1windowspythonlibsitepackagespluggymanagerpy line 84 in lambda selfinnerhookexec lambda hook methods kwargs hookmulticall file dworkspaceo3depythonruntimepython3105rev1windowspythonlibsitepackagespluggycallerspy line 203 in multicall gensendoutcome file dworkspaceo3depythonruntimepython3105rev1windowspythonlibsitepackagespytestterminalpy line 803 in pytestsessionfinish outcomegetresult file dworkspaceo3depythonruntimepython3105rev1windowspythonlibsitepackagespluggycallerspy line 80 in getresult raise ex1withtracebackex2 file dworkspaceo3depythonruntimepython3105rev1windowspythonlibsitepackagespluggycallerspy line 187 in multicall res hookimplfunctionargs file dworkspaceo3depythonruntimepython3105rev1windowspythonlibsitepackagespytestjunitxmlpy line 650 in pytestsessionfinish osmakedirsdirname file dworkspaceo3depythonruntimepython3105rev1windowspythonlibospy line 225 in makedirs mkdirname mode fileexistserror winerror 183 cannot create a file when that file already exists dworkspaceo3debuildwindowstestingpytest screenshotsvideo if applicable add screenshots andor a video to help explain your problem found in branch development desktopdevice please complete the following information device eg pc mac iphone samsung os eg windows macos ios android version eg 10 monterey oreo cpu eg intel i99900k ryzen 5900x gpu amd 6800 xt nvidia rtx 3090 memory eg 16gb additional context add any other context about the problem here</th>\n",
       "      <td>2</td>\n",
       "    </tr>\n",
       "    <tr>\n",
       "      <th>e2e testing tool test mysql source on mariadbprepare following test scenario to be used with e2etestingtool 1 create mysql source around mariadb database 2 create postgres destination 3 create connection using source and destination from steps 12 4 perform sync on newly created destination</th>\n",
       "      <td>2</td>\n",
       "    </tr>\n",
       "    <tr>\n",
       "      <th>demo server features selector download button use original file name instead of title if possible x testing saving in the test servers at least containers button to click that saves and then loads timing both x matrix commands on demo server stopgap until we get matrixcontainerhost running separately remove network parameter for host in host readme restrict access to dist folders only x iframe too tall 100 runs over by amount of the top controls also css comments must be not x change heroku name to collabs point to in docsreadmepublished places eg personal site x link to demo source code x make clear that theyre collaborative open in multiple tabsdevices main links use a server also make matrix ones easier eg rich text copyable command</th>\n",
       "      <td>2</td>\n",
       "    </tr>\n",
       "    <tr>\n",
       "      <th>reconcile level 1 file between pipeline and steves resultsthe file to check is 2022090118201402ucomp1074l0fts do the run with intermediate products and interpolating flats produce difference images produce difference images</th>\n",
       "      <td>2</td>\n",
       "    </tr>\n",
       "    <tr>\n",
       "      <th>antenna deployment circuit testing motivation the proposed antenna deployment system requires a circuit to perform the deployment the current design is to provide power to a nickelchromium wire to generate heat and melt a fishing line this ticket is to track the progress of developing the electrical system used to provide that power next steps generate a list of voltage regulator ics to be tested create a test pcb with different footprints to break out the pins of the different voltage regulators manufacture the test pcb test the different ics for the antenna deployment system with the nicad wire and fishing line use the chosen ic in the rest of the designs definition of done a single ic is identified to be used in the antenna deployment board cc lambertjacob seantedesco</th>\n",
       "      <td>2</td>\n",
       "    </tr>\n",
       "    <tr>\n",
       "      <th>testremotetimelineclientcallsstartedmetric is flakyassert 0 0 in httpsneongithubpublicdevs3amazonawscomreportspr3762release4359645106indexhtmlsuites837740b64a53e769572c4ed7b7a7eeebef597a896e400b6b httpsneongithubpublicdevs3amazonawscomreportspr3763debug4359653494indexhtmlsuites837740b64a53e769572c4ed7b7a7eeeb4f7cbce429e4f6cd</th>\n",
       "      <td>2</td>\n",
       "    </tr>\n",
       "    <tr>\n",
       "      <th>movie my neighbor totoro 1988 themoviedb url httpswwwthemoviedborgmovie8392tonarinototorolanguageenus youtube theme song video url httpswwwyoutubecomwatchvbf3jgivk71i</th>\n",
       "      <td>2</td>\n",
       "    </tr>\n",
       "    <tr>\n",
       "      <th>bug conda env file channel is not used by envd description py installcondapackagesenvfileenvironmentyaml yaml name test channels pytorch defaults dependencies pytorch the channel info in the environmentyaml file will be ignored reproduction additional info it will be very helpful if you can provide the version info by running the command envd version issue author dont delete this message to encourage other users to support your issue message from the maintainers impacted by this bug give it a  we prioritise the issues with the most</th>\n",
       "      <td>2</td>\n",
       "    </tr>\n",
       "    <tr>\n",
       "      <th>1165 icefire crash connecting to the server for the first time issuetemplate1 important do not delete this line minecraft version 1165 mohist version mohist11651088 operating system windows 10 home 21h2 concerned mod plugin probably iceandfire21111165httpswwwcurseforgecomminecraftmcmodsiceandfiredragonsfiles3948661 on medieval mchttpswwwcurseforgecomminecraftmodpacksmedievalmcmodpackfiles4013468 modpack logs httpspastebincomwvyl3z1e steps to reproduce 1 installed a clean instance of mohist 1088 2 installing medieval mc forge v57 mods 3 running on java 11 4 it crashes on connecting a player to the server description of issue im used to see bugs with iceandfire on past servers but i dont find a solution on this one</th>\n",
       "      <td>2</td>\n",
       "    </tr>\n",
       "    <tr>\n",
       "      <th>1165 no enum constant for vanilla biomes issuetemplate3 important do not delete this line thank you for reporting please note that issues can take a lot of time to be fixed and there is no eta if you dont know where to upload your logs and crash reports you can use these websites httpsgistgithubcom recommended httpsmclogs httpshastemohistmccom httpspastebincom to fill this template you need to replace the by what you want minecraft version 1165 mohist version mohist11651099 operating system any description of issue the code java playergetlocationgetblockgetbiome will cause java caused by javalangillegalargumentexception no enum constant orgbukkitblockbiomeminecrafttaiga at javalangenumvalueofunknown source 180333 at orgbukkitblockbiomevalueofbiomejava11 forge at orgbukkitcraftbukkitv116r3blockcraftblockbiomebasetobiomecraftblockjava522 forge at orgbukkitcraftbukkitv116r3craftworldgetbiomecraftworldjava935 forge7e29f765296df5669fb885e8 at orgbukkitcraftbukkitv116r3blockcraftblockgetbiomecraftblockjava508 forge because there is no enum for biomeminecrafttaiga only for biometaiga so if the biome is vanilla there is no need for the biome prefix</th>\n",
       "      <td>2</td>\n",
       "    </tr>\n",
       "    <tr>\n",
       "      <th>ssw rules archive do you know how to add a test case to a test plan in microsoft test manager and add new rule for azure test planssee httpssswcomsharepointcomwssswtestingpracticeeuxjrfmhkoxaiegcxxwrr6mbhyz3bmfdowpchm4sdu8aogeb7b7gp</th>\n",
       "      <td>2</td>\n",
       "    </tr>\n",
       "    <tr>\n",
       "      <th>upgrade junit 591 assertj to 3231 mockito to 480 archunit to 100bash gradlew resolveandlockall nobuildcache updatelocks orgassertjorgjunitorgjunitrulanwenwiremockcomgithubtomakehurstorgmockitocomtngtecharchunitorgawaitility</th>\n",
       "      <td>2</td>\n",
       "    </tr>\n",
       "    <tr>\n",
       "      <th>bug benchmarkdiskann milvus getindexstate interface reports proxy not healthy after starting the build index is there an existing issue for this x i have searched the existing issues environment markdown milvus version220202302278dd1add3 deployment modestandalone or clusterstandalone mq typerocksmq pulsar or kafka rocksmq sdk versioneg pymilvus v200rc2230dev34 osubuntu or centos cpumemory gpu others current behavior argo task fouramfstabletest1677535200 id 2 case testconcurrentlocustdiskanndqlstandalone milvus restart 5 times， server fouramfstabletest16775352002etcd0 11 running 0 70m 101046190 4amnode13 none none fouramfstabletest16775352002milvusstandalone58698d4gf2rv 01 oomkilled 5 11m ago 70m 101044155 4amnode11 none none fouramfstabletest16775352002minio69546f46f85r2ps 11 running 0 70m 101046192 4amnode13 none none client 20230227 220742519 info fouram base number of vectors in the collectionfourammzuc41yu 10000000 basepy302 20230227 220742527 info fouram base params of index indextype diskann metrictype l2 params basepy280 20230227 220742527 info fouram base start build index of diskann for collection fourammzuc41yu paramsindextype diskann metrictype l2 params basepy267 20230227 221748249 warning fouram \u001b93mgetindexstate retry4 cost 027s reason multithreadedrendezvous statuscodeunavailable failed to connect to all addresses\u001b0m decoratorspy71 20230227 221748521 warning fouram \u001b93mgetindexstate retry5 cost 081s reason multithreadedrendezvous statuscodeunavailable failed to connect to all addresses\u001b0m decoratorspy71 20230227 221749333 warning fouram \u001b93mgetindexstate retry6 cost 243s reason multithreadedrendezvous statuscodeunavailable failed to connect to all addresses\u001b0m decoratorspy71 20230227 221751766 warning fouram \u001b93mgetindexstate retry7 cost 729s reason multithreadedrendezvous statuscodeunavailable failed to connect to all addresses\u001b0m decoratorspy71 20230227 221759064 warning fouram \u001b93mgetindexstate retry8 cost 2187s reason multithreadedrendezvous statuscodeunavailable failed to connect to all addresses\u001b0m decoratorspy71 20230227 221820957 warning fouram \u001b93mgetindexstate retry9 cost 6000s reason multithreadedrendezvous statuscodeunavailable failed to connect to all addresses\u001b0m decoratorspy71 20230227 221921018 warning fouram \u001b93mgetindexstate retry10 cost 6000s reason multithreadedrendezvous statuscodeunavailable failed to connect to all addresses\u001b0m decoratorspy71 20230227 222806415 warning fouram \u001b93mgetindexstate retry4 cost 027s reason multithreadedrendezvous statuscodeunavailable failed to connect to all addresses\u001b0m decoratorspy71 20230227 222806687 warning fouram \u001b93mgetindexstate retry5 cost 081s reason multithreadedrendezvous statuscodeunavailable failed to connect to all addresses\u001b0m decoratorspy71 20230227 222807499 warning fouram \u001b93mgetindexstate retry6 cost 243s reason multithreadedrendezvous statuscodeunavailable failed to connect to all addresses\u001b0m decoratorspy71 20230227 222809932 warning fouram \u001b93mgetindexstate retry7 cost 729s reason multithreadedrendezvous statuscodeunavailable failed to connect to all addresses\u001b0m decoratorspy71 20230227 222817230 warning fouram \u001b93mgetindexstate retry8 cost 2187s reason multithreadedrendezvous statuscodeunavailable failed to connect to all addresses\u001b0m decoratorspy71 20230227 222839123 warning fouram \u001b93mgetindexstate retry9 cost 6000s reason multithreadedrendezvous statuscodeunavailable failed to connect to all addresses\u001b0m decoratorspy71 20230227 222939184 warning fouram \u001b93mgetindexstate retry10 cost 6000s reason multithreadedrendezvous statuscodeunavailable failed to connect to all addresses\u001b0m decoratorspy71 20230227 223850193 warning fouram \u001b93mgetindexstate retry4 cost 027s reason multithreadedrendezvous statuscodeunavailable failed to connect to all addresses\u001b0m decoratorspy71 20230227 223850466 warning fouram \u001b93mgetindexstate retry5 cost 081s reason multithreadedrendezvous statuscodeunavailable failed to connect to all addresses\u001b0m decoratorspy71 20230227 223851278 warning fouram \u001b93mgetindexstate retry6 cost 243s reason multithreadedrendezvous statuscodeunavailable failed to connect to all addresses\u001b0m decoratorspy71 20230227 223853711 warning fouram \u001b93mgetindexstate retry7 cost 729s reason multithreadedrendezvous statuscodeunavailable failed to connect to all addresses\u001b0m decoratorspy71 20230227 223901009 warning fouram \u001b93mgetindexstate retry8 cost 2187s reason multithreadedrendezvous statuscodeunavailable failed to connect to all addresses\u001b0m decoratorspy71 20230227 223922901 warning fouram \u001b93mgetindexstate retry9 cost 6000s reason multithreadedrendezvous statuscodeunavailable failed to connect to all addresses\u001b0m decoratorspy71 20230227 224022959 warning fouram \u001b93mgetindexstate retry10 cost 6000s reason multithreadedrendezvous statuscodeunavailable failed to connect to all addresses\u001b0m decoratorspy71 20230227 224932104 warning fouram \u001b93mgetindexstate retry4 cost 027s reason multithreadedrendezvous statuscodeunavailable failed to connect to all addresses\u001b0m decoratorspy71 20230227 224932376 warning fouram \u001b93mgetindexstate retry5 cost 081s reason multithreadedrendezvous statuscodeunavailable failed to connect to all addresses\u001b0m decoratorspy71 20230227 224933187 warning fouram \u001b93mgetindexstate retry6 cost 243s reason multithreadedrendezvous statuscodeunavailable failed to connect to all addresses\u001b0m decoratorspy71 20230227 224935620 warning fouram \u001b93mgetindexstate retry7 cost 729s reason multithreadedrendezvous statuscodeunavailable failed to connect to all addresses\u001b0m decoratorspy71 20230227 224942918 warning fouram \u001b93mgetindexstate retry8 cost 2187s reason multithreadedrendezvous statuscodeunavailable failed to connect to all addresses\u001b0m decoratorspy71 20230227 225004812 warning fouram \u001b93mgetindexstate retry9 cost 6000s reason multithreadedrendezvous statuscodeunavailable failed to connect to all addresses\u001b0m decoratorspy71 20230227 225104863 warning fouram \u001b93mgetindexstate retry10 cost 6000s reason multithreadedrendezvous statuscodeunavailable failed to connect to all addresses\u001b0m decoratorspy71 20230227 230024535 warning fouram \u001b93mgetindexstate retry4 cost 027s reason multithreadedrendezvous statuscodeunavailable failed to connect to all addresses\u001b0m decoratorspy71 20230227 230024807 warning fouram \u001b93mgetindexstate retry5 cost 081s reason multithreadedrendezvous statuscodeunavailable failed to connect to all addresses\u001b0m decoratorspy71 20230227 230025619 warning fouram \u001b93mgetindexstate retry6 cost 243s reason multithreadedrendezvous statuscodeunavailable failed to connect to all addresses\u001b0m decoratorspy71 20230227 230028052 warning fouram \u001b93mgetindexstate retry7 cost 729s reason multithreadedrendezvous statuscodeunavailable failed to connect to all addresses\u001b0m decoratorspy71 20230227 230035350 warning fouram \u001b93mgetindexstate retry8 cost 2187s reason multithreadedrendezvous statuscodeunavailable failed to connect to all addresses\u001b0m decoratorspy71 20230227 230057242 warning fouram \u001b93mgetindexstate retry9 cost 6000s reason multithreadedrendezvous statuscodeunavailable failed to connect to all addresses\u001b0m decoratorspy71 20230227 230157303 warning fouram \u001b93mgetindexstate retry10 cost 6000s reason multithreadedrendezvous statuscodeunavailable failed to connect to all addresses\u001b0m decoratorspy71 20230227 231122276 error fouram rpc error getindexstate milvusexception code1 messageproxy not healthy timerpc start 20230227 231122274323 rpc error 20230227 231122276296 decoratorspy108 20230227 231122277 error fouram rpc error waitforcreatingindex milvusexception code1 messageproxy not healthy timerpc start 20230227 220742537334 rpc error 20230227 231122277395 decoratorspy108 20230227 231122277 error fouram rpc error createindex milvusexception code1 messageproxy not healthy timerpc start 20230227 220742529725 rpc error 20230227 231122277572 decoratorspy108 20230227 231122278 error fouram traceback most recent call last file srcfouramclientutilapirequestpy line 33 in innerwrapper res funcargs kwargs imagehttpsuserimagesgithubusercontentcom485235642217509574d388d2916624d59870874bd93939cf0png grafana imagehttpsuserimagesgithubusercontentcom48523564221751053a961cb57c5b44ff38e481ae4a6c82336png expected behavior no response steps to reproduce markdown 1 create a collection or use an existing collection 2 build diskann index on vector column 3 insert a certain number of vectors 4 flush collection 5 build index on vector column with the same parameters 6 build index on on scalars column or not 7 count the total number of rows 8 load collection 9 perform concurrent operations 10 clean all collections or not milvus log no response anything else testconcurrentlocustdiskanndqlstandalone pytestmarklocust pytestmarkparametrizedeploymode standalone def testconcurrentlocustdiskanndqlstandaloneself inputparams inputparamsbase deploymode test steps 1 concurrent test and calculation of rt and qps concurrenttasks concurrentparamsparamssearchweight10 nq10 topk10 searchparamsearchlist 30 concurrentparamsparamsqueryweight2 idsi for i in range10 concurrentparamsparamsloadweight1 defaultcaseparams concurrentparamsparamssceneconcurrentconcurrenttasks concurrentnumber20 duringtime1h interval20 datasetsize10m cdpdefaultindexparamsdiskann selfconcurrencytemplateinputparamsinputparams cpudpdefaultcpu memdpdefaultmem deploymodedeploymode oldversionformatfalse syncreporttrue casecallableobjconcurrentclientbasesceneconcurrentlocust defaultcaseparamsdefaultcaseparams</th>\n",
       "      <td>2</td>\n",
       "    </tr>\n",
       "    <tr>\n",
       "      <th>reverse sniper rifle version latest 14stable os windows platform steam this bug affects gameplay as a player description made some testing with the sniper rifle and using the rifle scope nerfs the range of the zoom of the sniper itself you get more range without it to be sure i actually deactivated all mods to be sure nothing changeswent to vanilla to make sure isnt a resolution problemand it actuallly works as intened log file no response steps to reproduce 1equipe rifle scope 2zoom with sniper rifle 3thats itjust compare it expected behavior extend zoom actual behavior decrease zoom reproduction frequency no response additional information no response</th>\n",
       "      <td>2</td>\n",
       "    </tr>\n",
       "    <tr>\n",
       "      <th>dm 031 mysqlreplica02shardddl1tb1 count 0 expected 1 which jobs are flaking dm031 which tests are flaking dmit shardddl11 jenkins logs or github actions link httpsci2pingcapnetblueorganizationsjenkinsdmghprintegrationtestdetaildmghprintegrationtest8785pipeline anything else we need to know does this test exist for other branches as well has there been a high frequency of failure lately</th>\n",
       "      <td>2</td>\n",
       "    </tr>\n",
       "    <tr>\n",
       "      <th>deposit localhost330 doi10100797830300066868idtitleauthorpubdatevenuevolumeissuepagetypepublishereditor doi10100797836620791883influence of dielectric properties state and electrodes on electric strengthushakov vasily y2004insulation of highvoltage equipment isbn9783642058530 isbn97836620791882782book chapterspringer science and business media llc crossref297 doi1010160021999173901472fluxcorrected transport i shasta a fluid transport algorithm that worksboris jay p book david l19731journal of computational physics issn002199911113869journal articleelsevier bv crossref78 doi10110920877674an investigation of femfct method for streamer corona simulationwoonggee min hyeongseok kim seokhyun lee songyop hahn 20007ieee transactions on magnetics issn0018946436412801284journal articleinstitute of electrical and electronics engineers ieee crossref263 doi101109tps2003815469numerical study on influences of barrier arrangements on dielectric barrier discharge characteristicswoo seok kang jin myung park yongho kim sang hee hong 20038ieee transactions on plasma science issn00933813314504510journal articleinstitute of electrical and electronics engineers ieee crossref263 spatial distribution of ion current around hvdc bundle conductorszhou xiangxian cui xiang lu tiebing fang chao zhen yongzan20121ieee transactions on power delivery issn08858977 issn19374208271380390journal articleinstitute of electrical and electronics engineers ieee crossref263 doi101007978146153786111the solution of the continuity equations in ionization and plasma growthdavies a j niessen w1990physics and applications of pseudosparks isbn9781461366874 isbn9781461537861197217book chapterspringer science and business media llc crossref297 doi10108800223727131002discharge current induced by the motion of charged particlessato n1980114journal of physics d applied physics issn00223727 issn1361646313136journal articleiop publishing crossref266 doi10110927106800particleincell chargedparticle simulations plus monte carlo collisions with neutral atoms picmccbirdsall ck19914ieee transactions on plasma science issn009338131926585journal articleinstitute of electrical and electronics engineers ieee crossref263 doi1010160021999179900512fully multidimensional fluxcorrected transport algorithms for fluidszalesak steven t19796journal of computational physics issn00219991313335362journal articleelsevier bv crossref78 doi101088002237273914017diffusion correction to the raether–meek criterion for the avalanchetostreamer transitionmontijn carolynne ebert ute orcid00000003389168692006630journal of physics d applied physics issn00223727 issn13616463391429792992journal articleiop publishing crossref266 doi1010079783663140900 isbn9783528085995 isbn9783663140900highvoltage insulation technologykind dieter kärner hermann1985bookspringer science and business media llc crossref297 spacecharge effects in highdensity plasmasmorrow r19826journal of computational physics issn00219991463454461journal articleelsevier bv crossref78 doi101007s4283502201029ynumerical simulation of gas discharge using supgfemfct method with adaptive mesh refinementchoi chan young park il han orcid00000002938368562022228journal of electrical engineering technology issn19750102 issn2093742317318731881journal articlespringer science and business media llc crossref297 citingidcitingpublicationdatecitedidcitedpublicationdate doi101007s4283502201029y20220228doi101007978366207918832004 doi101007s4283502201029y20220228doi101016002199917390147219731 doi101007s4283502201029y20220228doi1011092087767420007 doi101007s4283502201029y20220228doi101109tps2003815469 doi101007s4283502201029y20220228doi101109tpwrd2011217269420121 doi101007s4283502201029y20220228doi1010079781461537861111990 doi101007s4283502201029y20220228doi101088002237271310021980114 doi101007s4283502201029y20220228doi1011092710680019914 doi101007s4283502201029y20220228doi101016002199917990051219796 doi101007s4283502201029y20220228doi101088002237273914017 doi101007s4283502201029y20220228doi10100797836631409001985 doi101007s4283502201029y20220228doi1010160021999182900262</th>\n",
       "      <td>2</td>\n",
       "    </tr>\n",
       "    <tr>\n",
       "      <th>write tests for corelibutilwrite tests for coretypests analyzetypefnutilts ensurearrayutilts isconstructorutilts isiddecoratorts setnamepropertyutilts substitutetypeutilts edit the body of your new issue then click the ✓ create issue button in the top right of the editor the first line will be the issue title assignees and labels follow after a blank line leave an empty line before beginning the body of the issue</th>\n",
       "      <td>2</td>\n",
       "    </tr>\n",
       "    <tr>\n",
       "      <th>separate remaining cabal tests into their own packagesthe problem httpsgithubcomhaskellcabalpull8398issuecomment1231819585 is that cabal packages on hackage mention tests in the cabal files but they fail building i think its easier also in terms of maintenance and good enough to just separate them out instead of making sure they remain buildable in each release the main test suite is separate anyway we could leave in a single smoke test that distros can use to test their packages</th>\n",
       "      <td>2</td>\n",
       "    </tr>\n",
       "    <tr>\n",
       "      <th>the error does not make sense if copying an archive blob when source and destination are the samestorage explorer version 1290dev build number 2023022811 branch main platformos windows 10linux ubuntu 2204macos ventura 1321 apple m1 pro architecture ia32x64 how found from running test cases regression from not a regression steps to reproduce 1 expand one storage account blob containers 2 create a blob container upload one blob 3 change the blobs access tier to archive 4 right click the blob click copy click paste 5 do not change the value in the copy and rehydrate dialog 6 click apply there is a failed activity log click details 7 check whether the error makes sense expected experience the error makes sense actual experience the error does not make sense details this operation is not permitted on an archived blob imagehttpsuserimagesgithubusercontentcom413519932220858459cd5a39ef47541d79a8311879722d6f5png</th>\n",
       "      <td>2</td>\n",
       "    </tr>\n",
       "    <tr>\n",
       "      <th>rfc 697 test and enable interrupted upgradessee rfc 697 multiple version upgradeshttpsdocsgooglecomdocumentd1eniwzwzmfpvzfhs9idcm7sbchvhm8uj6bi3tdlvg im unsure what happens if an upgrade process is interrupted halfway through it could be nothing but we might have some odd issues with the version check at the beginning of the process if there is an issue with version state one solution to a fuzzy state would be to add an upgrading column to the versions table so that this state can be read by frontends starting up whoops you didnt finish your upgrade exit 1 as well as the migrator service looks like we got interrupted lets start from where we left off</th>\n",
       "      <td>2</td>\n",
       "    </tr>\n",
       "    <tr>\n",
       "      <th>tests with more than one newlines in names are not runnable from codelens linksno tests match regular expression test exit b 0 4007 httpsgithubcomdartcodedartcodeissues4007 this fails in windows 11 using dart code 3461 test given formtype is signin when signinwithemailandpassword succeeds then return true and state is asyncdata async this succeeds test given formtype is signin when signinwithemailandpassword succeeds then return true and state is asyncdata async the error is no tests match regular expression submit given formtype is signinn when signinwithemailandpassword succeeds exit b 0</th>\n",
       "      <td>2</td>\n",
       "    </tr>\n",
       "    <tr>\n",
       "      <th>tfe staking associating extra tokens when some already staked auto stakes1 associate some wallet vega to vega wallet 2 stake vega against a validator 3 then associate some extra vega as in step 1 4 the newly associated vega will become automatically staked to the validator that was staked against in step 2 discovered on testnet</th>\n",
       "      <td>2</td>\n",
       "    </tr>\n",
       "    <tr>\n",
       "      <th>publish condayml filethis will help conda users get up to speed more quickly</th>\n",
       "      <td>2</td>\n",
       "    </tr>\n",
       "    <tr>\n",
       "      <th>fix nonlinearactivationfunctionstesttorchrrelu tensorflowa hrefhttpsgithubcomunifyaiivyactionsruns4014742905jobs6895638002 relnoopener noreferrer targetblankimg srchttpsimgshieldsiobadgesuccesssuccessa torcha hrefhttpsgithubcomunifyaiivyactionsruns4014742905jobs6895638002 relnoopener noreferrer targetblankimg srchttpsimgshieldsiobadgesuccesssuccessa numpya hrefhttpsgithubcomunifyaiivyactionsruns4014742905jobs6895638002 relnoopener noreferrer targetblankimg srchttpsimgshieldsiobadgesuccesssuccessa jaxa hrefhttpsgithubcomunifyaiivyactionsruns4014742905jobs6895638002 relnoopener noreferrer targetblankimg srchttpsimgshieldsiobadgesuccesssuccessa</th>\n",
       "      <td>2</td>\n",
       "    </tr>\n",
       "    <tr>\n",
       "      <th>cypress testing quote screencypress testing quote screen</th>\n",
       "      <td>2</td>\n",
       "    </tr>\n",
       "    <tr>\n",
       "      <th>use action scheduler for background processingright now the primary issue with the delicious brains batch processing is it stores everything in wpoptions and tries to use adminajax to keep the queue going the preloader is also badly designed in my opinion such that all urls are stored as a single batch vs individual the problem with that is no way to detect for the actual progress of the queue beside the simple options based counter the latest action scheduler httpsactionschedulerorg stores to a dedicated table and has integrated delicious brains async class but it does not rely on it 100 and you can still process everything individually this overall would provide better scalability and performance in both shared hosting and more advanced setupsuse cases i have had to write a plugin myself not too long ago that hooks into the wp http api to abort the ajax callbacks from the preloader and force everything on the clicron and i would like to see that not be needed truthfully thanks</th>\n",
       "      <td>2</td>\n",
       "    </tr>\n",
       "    <tr>\n",
       "      <th>calendar additional text elements within modaldialog with conditional visibilityas a researcher i want to add more explanation within the modal that are visible depending on the selected type img width379 altscreenshot 20220809 at 165917 zofar demo srchttpsuserimagesgithubusercontentcom30111489183706459784db167b8af4a35985832dd3342ebe7png</th>\n",
       "      <td>2</td>\n",
       "    </tr>\n",
       "    <tr>\n",
       "      <th>data race in the recordstores bug report please answer these questions before submitting your issue thanks 1 minimal reproduce step required warning data race read at  by goroutine 32852 runtimegrowslice gorootsrcruntimeslicego178  githubcompingcaptidbbrpkgrestoretestrecordstoresput brpkgrestoreclienttestgo423  githubcompingcaptidbbrpkgrestoretestfakeimporterclientsetdownloadspeedlimit brpkgrestoreclienttestgo449  githubcompingcaptidbbrpkgrestoretestfakeimporterclientsetdownloadspeedlimit autogenerated1  githubcompingcaptidbbrpkgrestorefileimportersetdownloadspeedlimit brpkgrestoreimportgo505  githubcompingcaptidbbrpkgrestoreclientsetspeedlimitfunc1 brpkgrestoreclientgo1008  githubcompingcaptidbbrpkgutilsworkerpoolapplyonerrorgroupfunc1 brpkgutilsworkergo76  golangorgxsyncerrgroupgroupgofunc1 externalorggolangxsyncerrgrouperrgroupgo75  previous write at  by goroutine 32837 internalreflectliteswapperfunc5 gorootsrcinternalreflectliteswappergo52  sortinsertionsortfunc gorootsrcsortzsortfuncgo13  sortpdqsortfunc gorootsrcsortzsortfuncgo73  sortslice gorootsrcsortslicego23  githubcompingcaptidbbrpkgrestoretestrecordstoressort brpkgrestoreclienttestgo427  githubcompingcaptidbbrpkgrestoretesttestsetspeedlimit brpkgrestoreclienttestgo503  testingtrunner gorootsrctestingtestinggo1446  testingtrunfunc1 gorootsrctestingtestinggo1493  goroutine 32852 running created at golangorgxsyncerrgroupgroupgo externalorggolangxsyncerrgrouperrgroupgo72  githubcompingcaptidbbrpkgutilsworkerpoolapplyonerrorgroup brpkgutilsworkergo74  githubcompingcaptidbbrpkgrestoreclientsetspeedlimit brpkgrestoreclientgo1006  githubcompingcaptidbbrpkgrestoremockcallsetspeedlimit brpkgrestoreclientgo980  githubcompingcaptidbbrpkgrestoretesttestsetspeedlimit brpkgrestoreclienttestgo499  testingtrunner gorootsrctestingtestinggo1446  testingtrunfunc1 gorootsrctestingtestinggo1493  goroutine 32837 finished created at testingtrun gorootsrctestingtestinggo1493  testingruntestsfunc1 gorootsrctestingtestinggo1846  testingtrunner gorootsrctestingtestinggo1446  testingruntests gorootsrctestingtestinggo1844  testingmrun gorootsrctestingtestinggo1726  githubcompingcaptidbbrpkgrestoretesttestmain brpkgrestoremaintestgo45  mainmain bazeloutk8fastbuildbinbrpkgrestorerestoretesttestmaingo234  a step by step guide for reproducing the bug 2 what did you expect to see required 3 what did you see instead required 4 what is your tidb version required paste the output of select tidbversion</th>\n",
       "      <td>2</td>\n",
       "    </tr>\n",
       "    <tr>\n",
       "      <th>bug variable undefined is undefineddescription we recently started getting this exception when salt renders jinja template it seems that for some reason keyword undefined is not recognized and it tries tor esolve it as variable name same tempalte worked just fine before without any change serviceservice endfor for state enbled in saltpillargetwebserver items webserverstate endfor if saltpillargetwebprojects undefined is defined and saltpillargetwebprojects undefined none project servicemysqlclient endif for state enbled in saltpillargetdev items devstate error unable to render top file jinja variable undefined is undefined expected behavior no error</th>\n",
       "      <td>2</td>\n",
       "    </tr>\n",
       "    <tr>\n",
       "      <th>stackuseafterscope in columnarrayreplicatestring describe the bug httpss3amazonawscomclickhousetestreports4214382850eb56046c857be8df56a8c425304b2670425statefultestsasanstderrlog error message andor stacktrace 646error addresssanitizer stackuseafterscope on address  at pc  bp  sp  write of size 33554432 at  thread t994 querypipelineex 0  in asanmemcpy usrbinclickhouse buildid e2f3e57c9d5750229244e6ee26377f571bcec5b8 1  in allocatorfalse falsereallocvoid unsigned long unsigned long unsigned long builddockersrccommonallocatorh17213 2  in void dbpodarraybase8ul 4096ul allocatorfalse false 15ul 16ulreservefornextsize usrbinclickhouse buildid e2f3e57c9d5750229244e6ee26377f571bcec5b8 3  in void dbpodarrayunsigned long 4096ul allocatorfalse false 15ul 16ulpushbackunsigned longunsigned long builddockersrccommonpodarrayh43719 4  in dbcolumnarrayreplicatestringdbpodarrayunsigned long 4096ul allocatorfalse false 15ul 16ul const const builddockersrccolumnscolumnarraycpp105836 5  in dbcolumnarrayreplicatedbpodarrayunsigned long 4096ul allocatorfalse false 15ul 16ul const const builddockersrccolumnscolumnarraycpp94365 6  in dbcolumnfunctionreplicatedbpodarrayunsigned long 4096ul allocatorfalse false 15ul 16ul const const builddockersrccolumnscolumnfunctioncpp4940 7  in dbfunctionarraymappeddbarrayallimpl dbnamearrayallexecuteimplstd1vectordbcolumnwithtypeandname std1allocatordbcolumnwithtypeandname const std1sharedptrdbidatatype const const unsigned long const usrbinclickhouse buildid e2f3e57c9d5750229244e6ee26377f571bcec5b8 8  in dbfunctiontoexecutablefunctionadaptorexecuteimplstd1vectordbcolumnwithtypeandname std1allocatordbcolumnwithtypeandname const std1sharedptrdbidatatype const const unsigned long const usrbinclickhouse buildid e2f3e57c9d5750229244e6ee26377f571bcec5b8 9  in dbiexecutablefunctionexecutewithoutlowcardinalitycolumnsstd1vectordbcolumnwithtypeandname std1allocatordbcolumnwithtypeandname const std1sharedptrdbidatatype const const unsigned long bool const builddockersrcfunctionsifunctioncpp24815 10  in dbiexecutablefunctionexecutewithoutsparsecolumnsstd1vectordbcolumnwithtypeandname std1allocatordbcolumnwithtypeandname const std1sharedptrdbidatatype const const unsigned long bool const builddockersrcfunctionsifunctioncpp30222 11  in dbiexecutablefunctionexecutestd1vectordbcolumnwithtypeandname std1allocatordbcolumnwithtypeandname const std1sharedptrdbidatatype const const unsigned long bool const builddockersrcfunctionsifunctioncpp37216 12  in dbexecuteactiondbexpressionactionsaction const dbanonymous namespaceexecutioncontext bool builddockersrcinterpretersexpressionactionscpp60760 13  in dbexpressionactionsexecutedbblock unsigned long bool const builddockersrcinterpretersexpressionactionscpp72413 14  in dbfiltertransformdotransformdbchunk builddockersrcprocessorstransformsfiltertransformcpp12225 15  in dbfiltertransformtransformdbchunk builddockersrcprocessorstransformsfiltertransformcpp1075 16  in dbisimpletransformtransformdbchunk dbchunk builddockersrcprocessorsisimpletransformh329 17  in dbisimpletransformwork builddockersrcprocessorsisimpletransformcpp899 18  in dbexecutejobdbexecutinggraphnode dbreadprogresscallback builddockersrcprocessorsexecutorsexecutionthreadcontextcpp4726 19  in dbexecutionthreadcontextexecutetask builddockersrcprocessorsexecutorsexecutionthreadcontextcpp929 20  in dbpipelineexecutorexecutestepimplunsigned long std1atomicbool builddockersrcprocessorsexecutorspipelineexecutorcpp22826 21  in dbpipelineexecutorexecutesinglethreadunsigned long builddockersrcprocessorsexecutorspipelineexecutorcpp1945 22  in dbpipelineexecutorspawnthreads0operator const builddockersrcprocessorsexecutorspipelineexecutorcpp31517 23  in decltypestaticcastdbpipelineexecutorspawnthreads0fp std1invokeconstexprdbpipelineexecutorspawnthreads0dbpipelineexecutorspawnthreads0 builddockercontriblibcxxincludetypetraits364823 24  in decltypeauto std1applytupleimpldbpipelineexecutorspawnthreads0 std1tupledbpipelineexecutorspawnthreads0 std1tuple std1tupleindices builddockercontriblibcxxincludetuple15951 25  in decltypeauto std1applydbpipelineexecutorspawnthreads0 std1tupledbpipelineexecutorspawnthreads0 std1tuple builddockercontriblibcxxincludetuple16041 26  in threadfromglobalpoolimpltruethreadfromglobalpoolimpldbpipelineexecutorspawnthreads0dbpipelineexecutorspawnthreads0lambdaoperator builddockersrccommonthreadpoolh19313 27  in decltypestaticcastdbpipelineexecutorspawnthreads0fp std1invokethreadfromglobalpoolimpltruethreadfromglobalpoolimpldbpipelineexecutorspawnthreads0dbpipelineexecutorspawnthreads0lambdadbpipelineexecutorspawnthreads0 builddockercontriblibcxxincludetypetraits364023 28  in void std1invokevoidreturnwrappervoid truecallthreadfromglobalpoolimpltruethreadfromglobalpoolimpldbpipelineexecutorspawnthreads0dbpipelineexecutorspawnthreads0lambdathreadfromglobalpoolimpltruethreadfromglobalpoolimpldbpipelineexecutorspawnthreads0dbpipelineexecutorspawnthreads0lambda builddockercontriblibcxxincludefunctionalinvokeh619 29  in std1functiondefaultallocfuncthreadfromglobalpoolimpltruethreadfromglobalpoolimpldbpipelineexecutorspawnthreads0dbpipelineexecutorspawnthreads0lambda void operator builddockercontriblibcxxincludefunctionalfunctionh23012 30  in void std1functionpolicyinvokervoid callimplstd1functiondefaultallocfuncthreadfromglobalpoolimpltruethreadfromglobalpoolimpldbpipelineexecutorspawnthreads0dbpipelineexecutorspawnthreads0lambda void std1functionpolicystorage const builddockercontriblibcxxincludefunctionalfunctionh71116 31  in std1functionpolicyfuncvoid operator const builddockercontriblibcxxincludefunctionalfunctionh84316 32  in std1functionvoid operator const builddockercontriblibcxxincludefunctionalfunctionh118412 33  in threadpoolimplstd1threadworkerstd1listiteratorstd1thread void builddockersrccommonthreadpoolcpp29417 34  in void threadpoolimplstd1threadscheduleimplvoidstd1functionvoid int std1optionalunsigned long boollambda0operator const builddockersrccommonthreadpoolcpp14473 35  in decltypestaticcastvoidfp std1invokevoid threadpoolimplstd1threadscheduleimplvoidstd1functionvoid int std1optionalunsigned long boollambda0void builddockercontriblibcxxincludetypetraits364023 36  in void std1threadexecutestd1uniqueptrstd1threadstruct std1defaultdeletestd1threadstruct void threadpoolimplstd1threadscheduleimplvoidstd1functionvoid int std1optionalunsigned long boollambda0std1tuplevoid void threadpoolimplstd1threadscheduleimplvoidstd1functionvoid int std1optionalunsigned long boollambda0 std1tupleindices builddockercontriblibcxxincludethread2825 37  in void std1threadproxystd1tuplestd1uniqueptrstd1threadstruct std1defaultdeletestd1threadstruct void threadpoolimplstd1threadscheduleimplvoidstd1functionvoid int std1optionalunsigned long boollambda0void builddockercontriblibcxxincludethread2935 38  in startthread libx8664linuxgnulibpthreadso0 buildid 7b4536f41cdaa5888408e82d0836e33dcf436466 39  in clone libx8664linuxgnulibcso6 buildid 1878e6b475720c7c51969e69ab2d276fae6d1dee address  is a wild pointer inside of access range of size  summary addresssanitizer stackuseafterscope usrbinclickhouse buildid e2f3e57c9d5750229244e6ee26377f571bcec5b8 in asanmemcpy shadow bytes around the buggy address  00 00 00 00 00 00 00 00 00 00 00 00 00 00 00 00  00 00 00 00 00 00 00 00 00 00 00 00 00 00 00 00  00 00 00 00 00 00 00 00 00 00 00 00 00 00 00 00  00 00 00 00 00 00 00 00 00 00 00 00 00 00 00 00  00 00 00 00 00 00 00 00 00 00 00 00 00 00 00 00  00 00 f8 00 00 00 00 00 00 00 00 00 00 00  00 00 00 00 00 00 00 00 00 00 00 00 00 00 00 00  00 00 00 00 00 00 00 00 00 00 00 00 00 00 00 00  00 00 00 00 00 00 00 00 00 00 00 00 00 00 00 00  00 00 00 00 00 00 00 00 00 00 00 00 00 00 00 00  00 00 00 00 00 00 00 00 00 00 00 00 00 00 00 00 shadow byte legend one shadow byte represents 8 application bytes addressable 00 partially addressable 01 02 03 04 05 06 07 heap left redzone fa freed heap region fd stack left redzone f1 stack mid redzone f2 stack right redzone f3 stack after return f5 stack use after scope f8 global redzone f9 global init order f6 poisoned by user f7 container overflow fc array cookie ac intra object redzone bb asan internal fe left alloca redzone ca right alloca redzone cb thread t994 querypipelineex created by t982 threadpool here 0  in pthreadcreate usrbinclickhouse buildid e2f3e57c9d5750229244e6ee26377f571bcec5b8 1  in std1libcppthreadcreateunsigned long void void void builddockercontriblibcxxincludethreadingsupport37510 2  in std1threadthreadvoid threadpoolimplstd1threadscheduleimplvoidstd1functionvoid int std1optionalunsigned long boollambda0 voidvoid builddockercontriblibcxxincludethread30916 3  in void threadpoolimplstd1threadscheduleimplvoidstd1functionvoid int std1optionalunsigned long bool builddockersrccommonthreadpoolcpp14435 4  in threadpoolimplstd1threadscheduleorthrowstd1functionvoid int unsigned long bool builddockersrccommonthreadpoolcpp1805 5  in threadfromglobalpoolimpltruethreadfromglobalpoolimpldbpipelineexecutorspawnthreads0dbpipelineexecutorspawnthreads0 builddockersrccommonthreadpoolh17638 6  in threadfromglobalpoolimpltrue std1constructatthreadfromglobalpoolimpltrue dbpipelineexecutorspawnthreads0 threadfromglobalpoolimpltruethreadfromglobalpoolimpltrue dbpipelineexecutorspawnthreads0 builddockercontriblibcxxincludememoryconstructath3850 7  in void std1allocatortraitsstd1allocatorthreadfromglobalpoolimpltrueconstructthreadfromglobalpoolimpltrue dbpipelineexecutorspawnthreads0 void voidstd1allocatorthreadfromglobalpoolimpltrue threadfromglobalpoolimpltrue dbpipelineexecutorspawnthreads0 builddockercontriblibcxxincludememoryallocatortraitsh2989 8  in void std1vectorthreadfromglobalpoolimpltrue std1allocatorthreadfromglobalpoolimpltrueconstructoneatenddbpipelineexecutorspawnthreads0dbpipelineexecutorspawnthreads0 builddockercontriblibcxxincludevector7785 9  in threadfromglobalpoolimpltrue std1vectorthreadfromglobalpoolimpltrue std1allocatorthreadfromglobalpoolimpltrueemplacebackdbpipelineexecutorspawnthreads0dbpipelineexecutorspawnthreads0 builddockercontriblibcxxincludevector15779 10  in dbpipelineexecutorspawnthreads builddockersrcprocessorsexecutorspipelineexecutorcpp30417 11  in dbpipelineexecutorexecuteimplunsigned long builddockersrcprocessorsexecutorspipelineexecutorcpp3609 12  in dbpipelineexecutorexecuteunsigned long builddockersrcprocessorsexecutorspipelineexecutorcpp899 13  in dbthreadfunctiondbpullingasyncpipelineexecutordata std1sharedptrdbthreadgroupstatus unsigned long builddockersrcprocessorsexecutorspullingasyncpipelineexecutorcpp7924 14  in dbpullingasyncpipelineexecutorpulldbchunk unsigned long0operator const builddockersrcprocessorsexecutorspullingasyncpipelineexecutorcpp10713 15  in decltypestaticcastdbpullingasyncpipelineexecutorpulldbchunk unsigned long0fp std1invokeconstexprdbpullingasyncpipelineexecutorpulldbchunk unsigned long0dbpullingasyncpipelineexecutorpulldbchunk unsigned long0 builddockercontriblibcxxincludetypetraits364823 16  in decltypeauto std1applytupleimpldbpullingasyncpipelineexecutorpulldbchunk unsigned long0 std1tupledbpullingasyncpipelineexecutorpulldbchunk unsigned long0 std1tuple std1tupleindices builddockercontriblibcxxincludetuple15951 17  in decltypeauto std1applydbpullingasyncpipelineexecutorpulldbchunk unsigned long0 std1tupledbpullingasyncpipelineexecutorpulldbchunk unsigned long0 std1tuple builddockercontriblibcxxincludetuple16041 18  in threadfromglobalpoolimpltruethreadfromglobalpoolimpldbpullingasyncpipelineexecutorpulldbchunk unsigned long0dbpullingasyncpipelineexecutorpulldbchunk unsigned long0lambdaoperator builddockersrccommonthreadpoolh19313 19  in decltypestaticcastdbpullingasyncpipelineexecutorpulldbchunk unsigned long0fp std1invokethreadfromglobalpoolimpltruethreadfromglobalpoolimpldbpullingasyncpipelineexecutorpulldbchunk unsigned long0dbpullingasyncpipelineexecutorpulldbchunk unsigned long0lambdadbpullingasyncpipelineexecutorpulldbchunk unsigned long0 builddockercontriblibcxxincludetypetraits364023 20  in void std1invokevoidreturnwrappervoid truecallthreadfromglobalpoolimpltruethreadfromglobalpoolimpldbpullingasyncpipelineexecutorpulldbchunk unsigned long0dbpullingasyncpipelineexecutorpulldbchunk unsigned long0lambdathreadfromglobalpoolimpltruethreadfromglobalpoolimpldbpullingasyncpipelineexecutorpulldbchunk unsigned long0dbpullingasyncpipelineexecutorpulldbchunk unsigned long0lambda builddockercontriblibcxxincludefunctionalinvokeh619 21  in std1functiondefaultallocfuncthreadfromglobalpoolimpltruethreadfromglobalpoolimpldbpullingasyncpipelineexecutorpulldbchunk unsigned long0dbpullingasyncpipelineexecutorpulldbchunk unsigned long0lambda void operator builddockercontriblibcxxincludefunctionalfunctionh23012 22  in void std1functionpolicyinvokervoid callimplstd1functiondefaultallocfuncthreadfromglobalpoolimpltruethreadfromglobalpoolimpldbpullingasyncpipelineexecutorpulldbchunk unsigned long0dbpullingasyncpipelineexecutorpulldbchunk unsigned long0lambda void std1functionpolicystorage const builddockercontriblibcxxincludefunctionalfunctionh71116 23  in std1functionpolicyfuncvoid operator const builddockercontriblibcxxincludefunctionalfunctionh84316 24  in std1functionvoid operator const builddockercontriblibcxxincludefunctionalfunctionh118412 25  in threadpoolimplstd1threadworkerstd1listiteratorstd1thread void builddockersrccommonthreadpoolcpp29417 26  in void threadpoolimplstd1threadscheduleimplvoidstd1functionvoid int std1optionalunsigned long boollambda0operator const builddockersrccommonthreadpoolcpp14473 27  in decltypestaticcastvoidfp std1invokevoid threadpoolimplstd1threadscheduleimplvoidstd1functionvoid int std1optionalunsigned long boollambda0void builddockercontriblibcxxincludetypetraits364023 28  in void std1threadexecutestd1uniqueptrstd1threadstruct std1defaultdeletestd1threadstruct void threadpoolimplstd1threadscheduleimplvoidstd1functionvoid int std1optionalunsigned long boollambda0std1tuplevoid void threadpoolimplstd1threadscheduleimplvoidstd1functionvoid int std1optionalunsigned long boollambda0 std1tupleindices builddockercontriblibcxxincludethread2825 29  in void std1threadproxystd1tuplestd1uniqueptrstd1threadstruct std1defaultdeletestd1threadstruct void threadpoolimplstd1threadscheduleimplvoidstd1functionvoid int std1optionalunsigned long boollambda0void builddockercontriblibcxxincludethread2935 30  in startthread libx8664linuxgnulibpthreadso0 buildid 7b4536f41cdaa5888408e82d0836e33dcf436466 thread t982 threadpool created by t972 tcphandler here 0  in pthreadcreate usrbinclickhouse buildid e2f3e57c9d5750229244e6ee26377f571bcec5b8 1  in std1libcppthreadcreateunsigned long void void void builddockercontriblibcxxincludethreadingsupport37510 2  in std1threadthreadvoid threadpoolimplstd1threadscheduleimplvoidstd1functionvoid int std1optionalunsigned long boollambda0 voidvoid builddockercontriblibcxxincludethread30916 3  in void threadpoolimplstd1threadscheduleimplvoidstd1functionvoid int std1optionalunsigned long bool builddockersrccommonthreadpoolcpp14435 4  in threadpoolimplstd1threadscheduleorthrowstd1functionvoid int unsigned long bool builddockersrccommonthreadpoolcpp1805 5  in threadfromglobalpoolimpltruethreadfromglobalpoolimpldbpullingasyncpipelineexecutorpulldbchunk unsigned long0dbpullingasyncpipelineexecutorpulldbchunk unsigned long0 builddockersrccommonthreadpoolh17638 6  in dbpullingasyncpipelineexecutorpulldbchunk unsigned long builddockersrcprocessorsexecutorspullingasyncpipelineexecutorcpp11024 7  in dbpullingasyncpipelineexecutorpulldbblock unsigned long builddockersrcprocessorsexecutorspullingasyncpipelineexecutorcpp14810 8  in dbtcphandlerprocessordinaryquerywithprocessors builddockersrcservertcphandlercpp73925 9  in dbtcphandlerrunimpl builddockersrcservertcphandlercpp37617 10  in dbtcphandlerrun builddockersrcservertcphandlercpp18849 11  in poconettcpserverconnectionstart builddockercontribpoconetsrctcpserverconnectioncpp433 12  in poconettcpserverdispatcherrun builddockercontribpoconetsrctcpserverdispatchercpp11520 13  in pocopooledthreadrun builddockercontribpocofoundationsrcthreadpoolcpp19914 14  in pocothreadimplrunnableentryvoid builddockercontribpocofoundationsrcthreadposixcpp34527 15  in startthread libx8664linuxgnulibpthreadso0 buildid 7b4536f41cdaa5888408e82d0836e33dcf436466 thread t972 tcphandler created by t260 here 0  in pthreadcreate usrbinclickhouse buildid e2f3e57c9d5750229244e6ee26377f571bcec5b8 1  in pocothreadimplstartimplpocosharedptrpocorunnable pocoreferencecounter pocoreleasepolicypocorunnable builddockercontribpocofoundationsrcthreadposixcpp2026 2  in pocothreadstartpocorunnable builddockercontribpocofoundationsrcthreadcpp1282 3  in pocopooledthreadstart builddockercontribpocofoundationsrcthreadpoolcpp8510 4  in pocothreadpoolgetthread builddockercontribpocofoundationsrcthreadpoolcpp46114 5  in pocothreadpoolstartwithprioritypocothreadpriority pocorunnable std1basicstringchar std1chartraitschar std1allocatorchar const builddockercontribpocofoundationsrcthreadpoolcpp3652 6  in poconettcpserverdispatcherenqueuepoconetstreamsocket const builddockercontribpoconetsrctcpserverdispatchercpp15217 7  in poconettcpserverrun builddockercontribpoconetsrctcpservercpp14821 8  in pocothreadimplrunnableentryvoid builddockercontribpocofoundationsrcthreadposixcpp34527 9  in startthread libx8664linuxgnulibpthreadso0 buildid 7b4536f41cdaa5888408e82d0836e33dcf436466 thread t260 created by t0 here 0  in pthreadcreate usrbinclickhouse buildid e2f3e57c9d5750229244e6ee26377f571bcec5b8 1  in pocothreadimplstartimplpocosharedptrpocorunnable pocoreferencecounter pocoreleasepolicypocorunnable builddockercontribpocofoundationsrcthreadposixcpp2026 2  in pocothreadstartpocorunnable builddockercontribpocofoundationsrcthreadcpp1282 3  in dbprotocolserveradapterstart builddockersrcserverprotocolserveradapterh2926 4  in dbservermainstd1vectorstd1basicstringchar std1chartraitschar std1allocatorchar std1allocatorstd1basicstringchar std1chartraitschar std1allocatorchar const builddockerprogramsserverservercpp177624 5  in pocoutilapplicationrun builddockercontribpocoutilsrcapplicationcpp3348 6  in dbserverrun builddockerprogramsserverservercpp46825 7  in pocoutilserverapplicationrunint char builddockercontribpocoutilsrcserverapplicationcpp6119 8  in mainentryclickhouseserverint char builddockerprogramsserverservercpp18320 9  in main builddockerprogramsmaincpp48212 10  in libcstartmain libx8664linuxgnulibcso6 buildid 1878e6b475720c7c51969e69ab2d276fae6d1dee</th>\n",
       "      <td>2</td>\n",
       "    </tr>\n",
       "    <tr>\n",
       "      <th>cypress testing checklistcypress testing checklist</th>\n",
       "      <td>2</td>\n",
       "    </tr>\n",
       "    <tr>\n",
       "      <th>testengine integration test dmbasic always fail locally what did you do make engineintegrationtest casedmbasic what did you expect to see the integration test run well what did you see instead always fail when check the dm upstream is ok versions of the cluster dataflow engine version run tiflow version console master2fc5b44</th>\n",
       "      <td>2</td>\n",
       "    </tr>\n",
       "  </tbody>\n",
       "</table>\n",
       "</div>"
      ],
      "text/plain": [
       "                                                    count\n",
       "text_clean                                               \n",
       "bad code in a console prompt kills the replas d...      2\n",
       "remove active licence option from user profile ...      2\n",
       "my files in v2 personal filesmigrate my files f...      2\n",
       "movie life is beautiful 1997 themoviedb url htt...      2\n",
       "windowethereumsend should be writablehttpswwwmy...      2\n",
       "some users can create appmaps without signing i...      2\n",
       "configure a prow job that writes cve json data ...      2\n",
       "create a periodic prow job to implement kep3203...      2\n",
       "last bullet point in list lostsometimes possibl...      2\n",
       "idc user research study insert adobe launch cod...      2\n",
       "roundtrip serialization testfor a given type th...      2\n",
       "fix unit test for testspassonlyclassesnestedasy...      2\n",
       "angular tests are much slower since upgrade nx ...      2\n",
       "bugfixtable column custom overflow tooltip cont...      2\n",
       "add poseidon reference implementation using sag...      2\n",
       "clearly distinguish message typesextended descr...      2\n",
       "flaky testproviderupdate what happened periodic...      2\n",
       " testing is downin 365c2aehttpsgithubcomyorkijr...      2\n",
       "pytest intermittent fails to write xml resultsd...      2\n",
       "e2e testing tool test mysql source on mariadbpr...      2\n",
       "demo server features selector download button u...      2\n",
       "reconcile level 1 file between pipeline and ste...      2\n",
       "antenna deployment circuit testing motivation t...      2\n",
       "testremotetimelineclientcallsstartedmetric is f...      2\n",
       "movie my neighbor totoro 1988 themoviedb url ht...      2\n",
       "bug conda env file channel is not used by envd ...      2\n",
       "1165 icefire crash connecting to the server for...      2\n",
       "1165 no enum constant for vanilla biomes issuet...      2\n",
       "ssw rules archive do you know how to add a test...      2\n",
       "upgrade junit 591 assertj to 3231 mockito to 48...      2\n",
       "bug benchmarkdiskann milvus getindexstate inter...      2\n",
       "reverse sniper rifle version latest 14stable os...      2\n",
       "dm 031 mysqlreplica02shardddl1tb1 count 0 expec...      2\n",
       "deposit localhost330 doi10100797830300066868idt...      2\n",
       "write tests for corelibutilwrite tests for core...      2\n",
       "separate remaining cabal tests into their own p...      2\n",
       "the error does not make sense if copying an arc...      2\n",
       "rfc 697 test and enable interrupted upgradessee...      2\n",
       "tests with more than one newlines in names are ...      2\n",
       "tfe staking associating extra tokens when some ...      2\n",
       "publish condayml filethis will help conda users...      2\n",
       "fix nonlinearactivationfunctionstesttorchrrelu ...      2\n",
       "cypress testing quote screencypress testing quo...      2\n",
       "use action scheduler for background processingr...      2\n",
       "calendar additional text elements within modald...      2\n",
       "data race in the recordstores bug report please...      2\n",
       "bug variable undefined is undefineddescription ...      2\n",
       "stackuseafterscope in columnarrayreplicatestrin...      2\n",
       "cypress testing checklistcypress testing checklist      2\n",
       "testengine integration test dmbasic always fail...      2"
      ]
     },
     "execution_count": 2,
     "metadata": {},
     "output_type": "execute_result"
    }
   ],
   "source": [
    "df.text_clean.value_counts().to_frame()[:50]"
   ]
  },
  {
   "cell_type": "code",
   "execution_count": 3,
   "id": "b723b2e5-7294-45ab-a8d7-5db58c0630da",
   "metadata": {
    "tags": []
   },
   "outputs": [
    {
     "name": "stdout",
     "output_type": "stream",
     "text": [
      "DataFrame length: 72330\n"
     ]
    }
   ],
   "source": [
    "df_length = df.shape[0]\n",
    "\n",
    "print(\"DataFrame length:\", df_length)"
   ]
  },
  {
   "cell_type": "code",
   "execution_count": 4,
   "id": "60ed48e0-d586-4829-84b5-67963bfa773f",
   "metadata": {
    "tags": []
   },
   "outputs": [],
   "source": [
    "import re\n",
    "test_label = r'\\b.*test.*\\b'"
   ]
  },
  {
   "cell_type": "code",
   "execution_count": 5,
   "id": "1982e167-2a19-48b4-948e-aa660460d20f",
   "metadata": {
    "tags": []
   },
   "outputs": [],
   "source": [
    "df['status'] = df['text_clean'].apply(lambda x: 'TD' if re.search(test_label, str(x), flags=re.IGNORECASE) else 'not_TD')\n",
    "\n",
    "df.to_csv('output_file.csv', index=False)  "
   ]
  },
  {
   "cell_type": "code",
   "execution_count": 6,
   "id": "435e169a-07cc-4f10-8906-7b0b77951f15",
   "metadata": {
    "tags": []
   },
   "outputs": [
    {
     "data": {
      "text/html": [
       "<div>\n",
       "<style scoped>\n",
       "    .dataframe tbody tr th:only-of-type {\n",
       "        vertical-align: middle;\n",
       "    }\n",
       "\n",
       "    .dataframe tbody tr th {\n",
       "        vertical-align: top;\n",
       "    }\n",
       "\n",
       "    .dataframe thead th {\n",
       "        text-align: right;\n",
       "    }\n",
       "</style>\n",
       "<table border=\"1\" class=\"dataframe\">\n",
       "  <thead>\n",
       "    <tr style=\"text-align: right;\">\n",
       "      <th></th>\n",
       "      <th>Unnamed: 0</th>\n",
       "      <th>text_clean</th>\n",
       "      <th>label</th>\n",
       "      <th>status</th>\n",
       "    </tr>\n",
       "  </thead>\n",
       "  <tbody>\n",
       "    <tr>\n",
       "      <th>0</th>\n",
       "      <td>0</td>\n",
       "      <td>add tests for systemdrawingcommonthis issue tr...</td>\n",
       "      <td>1</td>\n",
       "      <td>TD</td>\n",
       "    </tr>\n",
       "    <tr>\n",
       "      <th>1</th>\n",
       "      <td>1</td>\n",
       "      <td>acctests for packetfabricportresource please k...</td>\n",
       "      <td>1</td>\n",
       "      <td>TD</td>\n",
       "    </tr>\n",
       "    <tr>\n",
       "      <th>2</th>\n",
       "      <td>2</td>\n",
       "      <td>text analytics abstractivesummarizebatchconven...</td>\n",
       "      <td>1</td>\n",
       "      <td>TD</td>\n",
       "    </tr>\n",
       "    <tr>\n",
       "      <th>3</th>\n",
       "      <td>3</td>\n",
       "      <td>see entity recordssee the story in the release...</td>\n",
       "      <td>1</td>\n",
       "      <td>not_TD</td>\n",
       "    </tr>\n",
       "    <tr>\n",
       "      <th>4</th>\n",
       "      <td>4</td>\n",
       "      <td>editor crash when click mesh instance 3d with ...</td>\n",
       "      <td>1</td>\n",
       "      <td>not_TD</td>\n",
       "    </tr>\n",
       "  </tbody>\n",
       "</table>\n",
       "</div>"
      ],
      "text/plain": [
       "   Unnamed: 0                                         text_clean  label  \\\n",
       "0           0  add tests for systemdrawingcommonthis issue tr...      1   \n",
       "1           1  acctests for packetfabricportresource please k...      1   \n",
       "2           2  text analytics abstractivesummarizebatchconven...      1   \n",
       "3           3  see entity recordssee the story in the release...      1   \n",
       "4           4  editor crash when click mesh instance 3d with ...      1   \n",
       "\n",
       "   status  \n",
       "0      TD  \n",
       "1      TD  \n",
       "2      TD  \n",
       "3  not_TD  \n",
       "4  not_TD  "
      ]
     },
     "execution_count": 6,
     "metadata": {},
     "output_type": "execute_result"
    }
   ],
   "source": [
    "df.head()"
   ]
  },
  {
   "cell_type": "code",
   "execution_count": 7,
   "id": "fd9b3a41-5ff1-4c2f-bbf1-06d8cdd00ebd",
   "metadata": {
    "tags": []
   },
   "outputs": [
    {
     "name": "stdout",
     "output_type": "stream",
     "text": [
      "Number of TD: 34230\n",
      "Number of not_TD: 38100\n"
     ]
    }
   ],
   "source": [
    "label_counts = df['status'].value_counts()\n",
    "\n",
    "# Display the counts\n",
    "print(\"Number of TD:\", label_counts.get('TD', 0))\n",
    "print(\"Number of not_TD:\", label_counts.get('not_TD', 0))"
   ]
  },
  {
   "cell_type": "code",
   "execution_count": 8,
   "id": "177cea3e-590d-4b99-9e6f-ebd75f5ba9dc",
   "metadata": {
    "tags": []
   },
   "outputs": [
    {
     "data": {
      "text/html": [
       "<div>\n",
       "<style scoped>\n",
       "    .dataframe tbody tr th:only-of-type {\n",
       "        vertical-align: middle;\n",
       "    }\n",
       "\n",
       "    .dataframe tbody tr th {\n",
       "        vertical-align: top;\n",
       "    }\n",
       "\n",
       "    .dataframe thead th {\n",
       "        text-align: right;\n",
       "    }\n",
       "</style>\n",
       "<table border=\"1\" class=\"dataframe\">\n",
       "  <thead>\n",
       "    <tr style=\"text-align: right;\">\n",
       "      <th></th>\n",
       "      <th>count</th>\n",
       "    </tr>\n",
       "    <tr>\n",
       "      <th>label</th>\n",
       "      <th></th>\n",
       "    </tr>\n",
       "  </thead>\n",
       "  <tbody>\n",
       "    <tr>\n",
       "      <th>1</th>\n",
       "      <td>36269</td>\n",
       "    </tr>\n",
       "    <tr>\n",
       "      <th>0</th>\n",
       "      <td>36061</td>\n",
       "    </tr>\n",
       "  </tbody>\n",
       "</table>\n",
       "</div>"
      ],
      "text/plain": [
       "       count\n",
       "label       \n",
       "1      36269\n",
       "0      36061"
      ]
     },
     "execution_count": 8,
     "metadata": {},
     "output_type": "execute_result"
    }
   ],
   "source": [
    "pd.set_option('display.max_rows', None)\n",
    "df.label.value_counts().to_frame()[:100]\n"
   ]
  },
  {
   "cell_type": "code",
   "execution_count": 9,
   "id": "80e29ef2-2ff7-45f9-9bfe-1436806fb5e6",
   "metadata": {
    "tags": []
   },
   "outputs": [],
   "source": [
    "import pandas as pd\n",
    "import re\n",
    "\n",
    "# Step 1: Define keywords or phrases for each category\n",
    "functional_keywords = ['function testing', 'requirements-based', 'business-process-based', 'priority','function', 'functionality','requirements(-|\\s)based' , 'business(-|\\s)process', 'specifications','user stories', 'acceptance criteria' ,'feature(s)?', 'use case(s)?', 'scenario(s)?', 'functional']\n",
    "non_functional_keywords = ['performance testing', 'usability testing', 'reliability testing', 'ISO 9126', 'performance', 'usability', 'reliability', 'ISO 9126', 'scalability' ,'efficiency' , 'maintainability', 'portability' , 'non(-|\\s)functional' , 'load testing', 'stress testing', 'security', 'compatibility']\n",
    "structural_keywords = ['structural testing', 'white-box', 'control flow', 'coverage', 'structural', 'white(-|\\s)box', 'control flow', 'coverage', 'unit testing', 'integration testing' ,'path testing', 'code coverage', 'cyclomatic complexity', 'internal structure']\n",
    "change_related_keywords = ['change testing', 'confirmation testing', 'regression testing', 'side effects','change testing', 'confirmation testing', 'regression testing', 'side effects', 'patch testing', 'release testing', 'modification testing', 'update testing', 'backward compatibility testing', 'version testing', 'hotfix testing', 'functional regression','non(-|\\s)functional regression']\n",
    "\n",
    "\n",
    "def classify_test_debt(text_clean):\n",
    "    # Check for each category\n",
    "    if any(keyword in text_clean.lower() for keyword in functional_keywords):\n",
    "        return 'Functional Testing'\n",
    "    elif any(keyword in text_clean.lower() for keyword in non_functional_keywords):\n",
    "        return 'Non-functional Testing'\n",
    "    elif any(keyword in text_clean.lower() for keyword in structural_keywords):\n",
    "        return 'Structural Testing'\n",
    "    elif any(keyword in text_clean.lower() for keyword in change_related_keywords):\n",
    "        return 'Testing related to Changes'\n",
    "    else:\n",
    "        return 'Unclassified'\n"
   ]
  },
  {
   "cell_type": "code",
   "execution_count": 15,
   "id": "50385350-d31c-4f9e-afb4-29262dc3e64e",
   "metadata": {
    "tags": []
   },
   "outputs": [
    {
     "name": "stderr",
     "output_type": "stream",
     "text": [
      "/tmp/ipykernel_1872563/3835368710.py:10: SettingWithCopyWarning: \n",
      "A value is trying to be set on a copy of a slice from a DataFrame.\n",
      "Try using .loc[row_indexer,col_indexer] = value instead\n",
      "\n",
      "See the caveats in the documentation: https://pandas.pydata.org/pandas-docs/stable/user_guide/indexing.html#returning-a-view-versus-a-copy\n",
      "  df_filtered['test_debt_type'] = df_filtered['text_clean'].apply(classify_test_debt)\n"
     ]
    },
    {
     "name": "stdout",
     "output_type": "stream",
     "text": [
      "test_debt_type\n",
      "Unclassified                  27312\n",
      "Functional Testing             6059\n",
      "Non-functional Testing         1851\n",
      "Structural Testing              953\n",
      "Testing related to Changes       94\n",
      "Name: count, dtype: int64\n"
     ]
    }
   ],
   "source": [
    "import pandas as pd\n",
    "\n",
    "# Load your DataFrame\n",
    "df = pd.read_csv('output_file.csv')\n",
    "\n",
    "# Filter the DataFrame to include only rows where `label` is 1\n",
    "df_filtered = df[df['label'] == 1]\n",
    "\n",
    "# Apply the `classify_test_debt` function to the filtered DataFrame\n",
    "df_filtered['test_debt_type'] = df_filtered['text_clean'].apply(classify_test_debt)\n",
    "\n",
    "# Optional: Check how many items fall into each category within the filtered data\n",
    "print(df_filtered['test_debt_type'].value_counts())\n",
    "\n",
    "# Save the updated, filtered DataFrame to a new CSV file\n",
    "df_filtered.to_csv('output_with_classifications_filtered.csv', index=False)\n"
   ]
  },
  {
   "cell_type": "code",
   "execution_count": 16,
   "id": "09a4280d-b5ac-4a27-9152-ab38503826bf",
   "metadata": {
    "tags": []
   },
   "outputs": [
    {
     "name": "stderr",
     "output_type": "stream",
     "text": [
      "/tmp/ipykernel_1872563/2462329254.py:9: SettingWithCopyWarning: \n",
      "A value is trying to be set on a copy of a slice from a DataFrame.\n",
      "Try using .loc[row_indexer,col_indexer] = value instead\n",
      "\n",
      "See the caveats in the documentation: https://pandas.pydata.org/pandas-docs/stable/user_guide/indexing.html#returning-a-view-versus-a-copy\n",
      "  df_filtered['test_debt_type_numeric'] = df_filtered['test_debt_type'].map(test_debt_type_to_numeric)\n"
     ]
    },
    {
     "data": {
      "text/html": [
       "<div>\n",
       "<style scoped>\n",
       "    .dataframe tbody tr th:only-of-type {\n",
       "        vertical-align: middle;\n",
       "    }\n",
       "\n",
       "    .dataframe tbody tr th {\n",
       "        vertical-align: top;\n",
       "    }\n",
       "\n",
       "    .dataframe thead th {\n",
       "        text-align: right;\n",
       "    }\n",
       "</style>\n",
       "<table border=\"1\" class=\"dataframe\">\n",
       "  <thead>\n",
       "    <tr style=\"text-align: right;\">\n",
       "      <th></th>\n",
       "      <th>text_clean</th>\n",
       "      <th>label</th>\n",
       "      <th>test_debt_type_numeric</th>\n",
       "    </tr>\n",
       "  </thead>\n",
       "  <tbody>\n",
       "    <tr>\n",
       "      <th>0</th>\n",
       "      <td>add tests for systemdrawingcommonthis issue tr...</td>\n",
       "      <td>1</td>\n",
       "      <td>1</td>\n",
       "    </tr>\n",
       "    <tr>\n",
       "      <th>1</th>\n",
       "      <td>acctests for packetfabricportresource please k...</td>\n",
       "      <td>1</td>\n",
       "      <td>5</td>\n",
       "    </tr>\n",
       "    <tr>\n",
       "      <th>2</th>\n",
       "      <td>text analytics abstractivesummarizebatchconven...</td>\n",
       "      <td>1</td>\n",
       "      <td>5</td>\n",
       "    </tr>\n",
       "    <tr>\n",
       "      <th>3</th>\n",
       "      <td>see entity recordssee the story in the release...</td>\n",
       "      <td>1</td>\n",
       "      <td>5</td>\n",
       "    </tr>\n",
       "    <tr>\n",
       "      <th>4</th>\n",
       "      <td>editor crash when click mesh instance 3d with ...</td>\n",
       "      <td>1</td>\n",
       "      <td>5</td>\n",
       "    </tr>\n",
       "  </tbody>\n",
       "</table>\n",
       "</div>"
      ],
      "text/plain": [
       "                                          text_clean  label  \\\n",
       "0  add tests for systemdrawingcommonthis issue tr...      1   \n",
       "1  acctests for packetfabricportresource please k...      1   \n",
       "2  text analytics abstractivesummarizebatchconven...      1   \n",
       "3  see entity recordssee the story in the release...      1   \n",
       "4  editor crash when click mesh instance 3d with ...      1   \n",
       "\n",
       "   test_debt_type_numeric  \n",
       "0                       1  \n",
       "1                       5  \n",
       "2                       5  \n",
       "3                       5  \n",
       "4                       5  "
      ]
     },
     "execution_count": 16,
     "metadata": {},
     "output_type": "execute_result"
    }
   ],
   "source": [
    "test_debt_type_to_numeric = {\n",
    "    'Unclassified': 5,\n",
    "    'Functional Testing': 1,\n",
    "    'Non-functional Testing': 2,\n",
    "    'Structural Testing': 4,\n",
    "    'Testing related to Changes': 3\n",
    "}\n",
    "# Ensure df_filtered is already defined and contains the 'test_debt_type' column as per previous steps\n",
    "df_filtered['test_debt_type_numeric'] = df_filtered['test_debt_type'].map(test_debt_type_to_numeric)\n",
    "# Assuming df_filtered already exists and contains the desired columns\n",
    "\n",
    "# Select only the specified columns\n",
    "df_filtered = df_filtered[['text_clean', 'label', 'test_debt_type_numeric']]\n",
    "\n",
    "# Now, your df_filtered DataFrame has an additional column 'test_debt_type_numeric' with numeric values\n",
    "df_filtered.to_csv('output_with_classifications_regex.csv', index=False)\n",
    "df_filtered.head()"
   ]
  },
  {
   "cell_type": "code",
   "execution_count": 22,
   "id": "69c9f0d4-3774-4fdd-bcb8-f136e1590e11",
   "metadata": {
    "tags": []
   },
   "outputs": [
    {
     "data": {
      "text/html": [
       "<div>\n",
       "<style scoped>\n",
       "    .dataframe tbody tr th:only-of-type {\n",
       "        vertical-align: middle;\n",
       "    }\n",
       "\n",
       "    .dataframe tbody tr th {\n",
       "        vertical-align: top;\n",
       "    }\n",
       "\n",
       "    .dataframe thead th {\n",
       "        text-align: right;\n",
       "    }\n",
       "</style>\n",
       "<table border=\"1\" class=\"dataframe\">\n",
       "  <thead>\n",
       "    <tr style=\"text-align: right;\">\n",
       "      <th></th>\n",
       "      <th>text_clean</th>\n",
       "      <th>label</th>\n",
       "      <th>test_debt_type_numeric</th>\n",
       "    </tr>\n",
       "  </thead>\n",
       "  <tbody>\n",
       "    <tr>\n",
       "      <th>0</th>\n",
       "      <td>add tests for systemdrawingcommonthis issue tr...</td>\n",
       "      <td>1</td>\n",
       "      <td>1</td>\n",
       "    </tr>\n",
       "    <tr>\n",
       "      <th>1</th>\n",
       "      <td>acctests for packetfabricportresource please k...</td>\n",
       "      <td>1</td>\n",
       "      <td>5</td>\n",
       "    </tr>\n",
       "    <tr>\n",
       "      <th>2</th>\n",
       "      <td>text analytics abstractivesummarizebatchconven...</td>\n",
       "      <td>1</td>\n",
       "      <td>5</td>\n",
       "    </tr>\n",
       "    <tr>\n",
       "      <th>3</th>\n",
       "      <td>see entity recordssee the story in the release...</td>\n",
       "      <td>1</td>\n",
       "      <td>5</td>\n",
       "    </tr>\n",
       "    <tr>\n",
       "      <th>4</th>\n",
       "      <td>editor crash when click mesh instance 3d with ...</td>\n",
       "      <td>1</td>\n",
       "      <td>5</td>\n",
       "    </tr>\n",
       "  </tbody>\n",
       "</table>\n",
       "</div>"
      ],
      "text/plain": [
       "                                          text_clean  label  \\\n",
       "0  add tests for systemdrawingcommonthis issue tr...      1   \n",
       "1  acctests for packetfabricportresource please k...      1   \n",
       "2  text analytics abstractivesummarizebatchconven...      1   \n",
       "3  see entity recordssee the story in the release...      1   \n",
       "4  editor crash when click mesh instance 3d with ...      1   \n",
       "\n",
       "   test_debt_type_numeric  \n",
       "0                       1  \n",
       "1                       5  \n",
       "2                       5  \n",
       "3                       5  \n",
       "4                       5  "
      ]
     },
     "execution_count": 22,
     "metadata": {},
     "output_type": "execute_result"
    }
   ],
   "source": [
    "import pandas as pd\n",
    "\n",
    "# Assuming the file is a CSV\n",
    "df = pd.read_csv('output_with_classifications_regex.csv')\n",
    "df.head()\n"
   ]
  },
  {
   "cell_type": "code",
   "execution_count": 24,
   "id": "98419fed-f1c5-429e-a226-5f54db943e07",
   "metadata": {
    "tags": []
   },
   "outputs": [
    {
     "data": {
      "text/html": [
       "<div>\n",
       "<style scoped>\n",
       "    .dataframe tbody tr th:only-of-type {\n",
       "        vertical-align: middle;\n",
       "    }\n",
       "\n",
       "    .dataframe tbody tr th {\n",
       "        vertical-align: top;\n",
       "    }\n",
       "\n",
       "    .dataframe thead th {\n",
       "        text-align: right;\n",
       "    }\n",
       "</style>\n",
       "<table border=\"1\" class=\"dataframe\">\n",
       "  <thead>\n",
       "    <tr style=\"text-align: right;\">\n",
       "      <th></th>\n",
       "      <th>text_clean</th>\n",
       "      <th>label</th>\n",
       "      <th>test_debt_type_numeric</th>\n",
       "    </tr>\n",
       "  </thead>\n",
       "  <tbody>\n",
       "    <tr>\n",
       "      <th>0</th>\n",
       "      <td>omnilight and spotlight incorrect on x11 edito...</td>\n",
       "      <td>1</td>\n",
       "      <td>1</td>\n",
       "    </tr>\n",
       "    <tr>\n",
       "      <th>1</th>\n",
       "      <td>failing test jest integration testssrcpluginsf...</td>\n",
       "      <td>1</td>\n",
       "      <td>1</td>\n",
       "    </tr>\n",
       "    <tr>\n",
       "      <th>2</th>\n",
       "      <td>flaky testtendermintbuffer subject of the issu...</td>\n",
       "      <td>1</td>\n",
       "      <td>1</td>\n",
       "    </tr>\n",
       "    <tr>\n",
       "      <th>3</th>\n",
       "      <td>unable to read logs from sway testswhen runnin...</td>\n",
       "      <td>1</td>\n",
       "      <td>1</td>\n",
       "    </tr>\n",
       "    <tr>\n",
       "      <th>4</th>\n",
       "      <td>failing test execution context functional test...</td>\n",
       "      <td>1</td>\n",
       "      <td>1</td>\n",
       "    </tr>\n",
       "  </tbody>\n",
       "</table>\n",
       "</div>"
      ],
      "text/plain": [
       "                                          text_clean  label  \\\n",
       "0  omnilight and spotlight incorrect on x11 edito...      1   \n",
       "1  failing test jest integration testssrcpluginsf...      1   \n",
       "2  flaky testtendermintbuffer subject of the issu...      1   \n",
       "3  unable to read logs from sway testswhen runnin...      1   \n",
       "4  failing test execution context functional test...      1   \n",
       "\n",
       "   test_debt_type_numeric  \n",
       "0                       1  \n",
       "1                       1  \n",
       "2                       1  \n",
       "3                       1  \n",
       "4                       1  "
      ]
     },
     "execution_count": 24,
     "metadata": {},
     "output_type": "execute_result"
    }
   ],
   "source": [
    "# Let's assume the category column is named 'testing_type'\n",
    "categories = df['test_debt_type_numeric'].unique()\n",
    "\n",
    "# DataFrame to hold the balanced data\n",
    "balanced_df = pd.DataFrame()\n",
    "\n",
    "for category in categories:\n",
    "    subset = df[df['test_debt_type_numeric'] == category]\n",
    "    \n",
    "    # Sample 1000 entries from each category, if there are at least 1000 entries\n",
    "    if len(subset) >= 1000:\n",
    "        subset = subset.sample(n=1000, random_state=42)\n",
    "    else:\n",
    "        # Optional: Upsample if less than 1000; here, just continue without upsampling\n",
    "        # You can uncomment the next line to perform upsampling instead\n",
    "        # subset = subset.sample(n=1000, replace=True, random_state=42)\n",
    "        continue\n",
    "    \n",
    "    balanced_df = pd.concat([balanced_df, subset])\n",
    "\n",
    "# Reset index for the new DataFrame\n",
    "balanced_df.reset_index(drop=True, inplace=True)\n",
    "balanced_df.head()\n"
   ]
  },
  {
   "cell_type": "code",
   "execution_count": 25,
   "id": "6604f4ad-b4bc-42ae-9860-4889b9ea2040",
   "metadata": {
    "tags": []
   },
   "outputs": [],
   "source": [
    "# To save the balanced DataFrame to a new CSV file\n",
    "balanced_df.to_csv('balanced_output_with_classifications.csv', index=False)\n"
   ]
  },
  {
   "cell_type": "code",
   "execution_count": 26,
   "id": "fd52512a-dd8e-4a71-9bfd-d79b689c9e60",
   "metadata": {
    "tags": []
   },
   "outputs": [
    {
     "data": {
      "text/html": [
       "<div>\n",
       "<style scoped>\n",
       "    .dataframe tbody tr th:only-of-type {\n",
       "        vertical-align: middle;\n",
       "    }\n",
       "\n",
       "    .dataframe tbody tr th {\n",
       "        vertical-align: top;\n",
       "    }\n",
       "\n",
       "    .dataframe thead th {\n",
       "        text-align: right;\n",
       "    }\n",
       "</style>\n",
       "<table border=\"1\" class=\"dataframe\">\n",
       "  <thead>\n",
       "    <tr style=\"text-align: right;\">\n",
       "      <th></th>\n",
       "      <th>text_clean</th>\n",
       "      <th>label</th>\n",
       "      <th>test_debt_type_numeric</th>\n",
       "    </tr>\n",
       "  </thead>\n",
       "  <tbody>\n",
       "    <tr>\n",
       "      <th>0</th>\n",
       "      <td>omnilight and spotlight incorrect on x11 edito...</td>\n",
       "      <td>1</td>\n",
       "      <td>1</td>\n",
       "    </tr>\n",
       "    <tr>\n",
       "      <th>1</th>\n",
       "      <td>failing test jest integration testssrcpluginsf...</td>\n",
       "      <td>1</td>\n",
       "      <td>1</td>\n",
       "    </tr>\n",
       "    <tr>\n",
       "      <th>2</th>\n",
       "      <td>flaky testtendermintbuffer subject of the issu...</td>\n",
       "      <td>1</td>\n",
       "      <td>1</td>\n",
       "    </tr>\n",
       "    <tr>\n",
       "      <th>3</th>\n",
       "      <td>unable to read logs from sway testswhen runnin...</td>\n",
       "      <td>1</td>\n",
       "      <td>1</td>\n",
       "    </tr>\n",
       "    <tr>\n",
       "      <th>4</th>\n",
       "      <td>failing test execution context functional test...</td>\n",
       "      <td>1</td>\n",
       "      <td>1</td>\n",
       "    </tr>\n",
       "  </tbody>\n",
       "</table>\n",
       "</div>"
      ],
      "text/plain": [
       "                                          text_clean  label  \\\n",
       "0  omnilight and spotlight incorrect on x11 edito...      1   \n",
       "1  failing test jest integration testssrcpluginsf...      1   \n",
       "2  flaky testtendermintbuffer subject of the issu...      1   \n",
       "3  unable to read logs from sway testswhen runnin...      1   \n",
       "4  failing test execution context functional test...      1   \n",
       "\n",
       "   test_debt_type_numeric  \n",
       "0                       1  \n",
       "1                       1  \n",
       "2                       1  \n",
       "3                       1  \n",
       "4                       1  "
      ]
     },
     "execution_count": 26,
     "metadata": {},
     "output_type": "execute_result"
    }
   ],
   "source": [
    "csv_file_path = 'balanced_output_with_classifications.csv'\n",
    "df = pd.read_csv(csv_file_path)\n",
    "df.head()"
   ]
  },
  {
   "cell_type": "code",
   "execution_count": 28,
   "id": "6a643cfa-e3a6-4eb4-ad62-c68283abe4cc",
   "metadata": {
    "tags": []
   },
   "outputs": [
    {
     "data": {
      "text/html": [
       "<div>\n",
       "<style scoped>\n",
       "    .dataframe tbody tr th:only-of-type {\n",
       "        vertical-align: middle;\n",
       "    }\n",
       "\n",
       "    .dataframe tbody tr th {\n",
       "        vertical-align: top;\n",
       "    }\n",
       "\n",
       "    .dataframe thead th {\n",
       "        text-align: right;\n",
       "    }\n",
       "</style>\n",
       "<table border=\"1\" class=\"dataframe\">\n",
       "  <thead>\n",
       "    <tr style=\"text-align: right;\">\n",
       "      <th></th>\n",
       "      <th>text_clean</th>\n",
       "      <th>test_debt_type_numeric</th>\n",
       "    </tr>\n",
       "  </thead>\n",
       "  <tbody>\n",
       "    <tr>\n",
       "      <th>0</th>\n",
       "      <td>omnilight and spotlight incorrect on x11 edito...</td>\n",
       "      <td>1</td>\n",
       "    </tr>\n",
       "    <tr>\n",
       "      <th>1</th>\n",
       "      <td>failing test jest integration testssrcpluginsf...</td>\n",
       "      <td>1</td>\n",
       "    </tr>\n",
       "    <tr>\n",
       "      <th>2</th>\n",
       "      <td>flaky testtendermintbuffer subject of the issu...</td>\n",
       "      <td>1</td>\n",
       "    </tr>\n",
       "    <tr>\n",
       "      <th>3</th>\n",
       "      <td>unable to read logs from sway testswhen runnin...</td>\n",
       "      <td>1</td>\n",
       "    </tr>\n",
       "    <tr>\n",
       "      <th>4</th>\n",
       "      <td>failing test execution context functional test...</td>\n",
       "      <td>1</td>\n",
       "    </tr>\n",
       "  </tbody>\n",
       "</table>\n",
       "</div>"
      ],
      "text/plain": [
       "                                          text_clean  test_debt_type_numeric\n",
       "0  omnilight and spotlight incorrect on x11 edito...                       1\n",
       "1  failing test jest integration testssrcpluginsf...                       1\n",
       "2  flaky testtendermintbuffer subject of the issu...                       1\n",
       "3  unable to read logs from sway testswhen runnin...                       1\n",
       "4  failing test execution context functional test...                       1"
      ]
     },
     "execution_count": 28,
     "metadata": {},
     "output_type": "execute_result"
    }
   ],
   "source": [
    "df_final = df[['text_clean', 'test_debt_type_numeric']]\n",
    "df_final.head()"
   ]
  },
  {
   "cell_type": "code",
   "execution_count": 29,
   "id": "193b78bd-4f65-40b4-bc47-4794a66a876a",
   "metadata": {
    "tags": []
   },
   "outputs": [
    {
     "name": "stderr",
     "output_type": "stream",
     "text": [
      "/tmp/ipykernel_1872563/1002879203.py:2: SettingWithCopyWarning: \n",
      "A value is trying to be set on a copy of a slice from a DataFrame.\n",
      "Try using .loc[row_indexer,col_indexer] = value instead\n",
      "\n",
      "See the caveats in the documentation: https://pandas.pydata.org/pandas-docs/stable/user_guide/indexing.html#returning-a-view-versus-a-copy\n",
      "  df_final[\"text_clean\"] = df_final['text_clean'].astype(str)\n"
     ]
    }
   ],
   "source": [
    "# Convert to string\n",
    "df_final[\"text_clean\"] = df_final['text_clean'].astype(str)"
   ]
  },
  {
   "cell_type": "code",
   "execution_count": 30,
   "id": "e16e99be-43e3-4bcb-936d-0a0cd61da8a0",
   "metadata": {
    "tags": []
   },
   "outputs": [],
   "source": [
    "import pandas as pd\n",
    "import sys\n",
    "sys.path.append(\"scripts_shared\")\n",
    "from preprocess_text import preprocess_text\n",
    "df_final[\"clean_labels\"] = df_final[\"text_clean\"].map(preprocess_text)"
   ]
  },
  {
   "cell_type": "code",
   "execution_count": 31,
   "id": "07ab509f-1a6f-4692-a7db-af78f3fab8b7",
   "metadata": {
    "tags": []
   },
   "outputs": [],
   "source": [
    "# Drops rows with missing values\n",
    "df_final.dropna(inplace=True)\n",
    "df_final.reset_index(inplace=True)"
   ]
  },
  {
   "cell_type": "code",
   "execution_count": 32,
   "id": "49a6f4d9-7cdd-4a37-9568-c5764ce27bdb",
   "metadata": {
    "tags": []
   },
   "outputs": [],
   "source": [
    "df_final.drop(columns= [\"index\"], inplace = True)"
   ]
  },
  {
   "cell_type": "code",
   "execution_count": 33,
   "id": "28ad6267-49dc-4267-8e14-ea876aef906b",
   "metadata": {
    "tags": []
   },
   "outputs": [
    {
     "name": "stdout",
     "output_type": "stream",
     "text": [
      "Number of rows in df_final: 2982\n"
     ]
    }
   ],
   "source": [
    "len(df_final)\n",
    "# Save the df_final DataFrame to a new CSV file\n",
    "df_final.to_csv('final_balanced_classification_cleaned.csv', index=False)\n",
    "\n",
    "# Print the number of rows in df_final\n",
    "print(\"Number of rows in df_final:\", len(df_final))\n"
   ]
  },
  {
   "cell_type": "code",
   "execution_count": 34,
   "id": "4c997cd3-b68e-453b-a041-cda8d76d0d1d",
   "metadata": {
    "tags": []
   },
   "outputs": [],
   "source": [
    "clean_labels = df_final[\"clean_labels\"]\n"
   ]
  },
  {
   "cell_type": "code",
   "execution_count": 40,
   "id": "cf5f57e8-b3b1-441c-81f9-3af0369985d9",
   "metadata": {
    "tags": []
   },
   "outputs": [
    {
     "data": {
      "text/plain": [
       "111    failure in endtoendshadowindexingtestwithdisru...\n",
       "112    an easier way to ignore fields is needed for t...\n",
       "113    failing test xpack alerting api integration te...\n",
       "114    pkgsqllogictesttestslocallocaltest testlogiccr...\n",
       "115    flaky test should outdent with children metada...\n",
       "116    bug windowfunctiontest hanging in databricks 1...\n",
       "Name: clean_labels, dtype: object"
      ]
     },
     "execution_count": 40,
     "metadata": {},
     "output_type": "execute_result"
    }
   ],
   "source": [
    "clean_labels[111:117]"
   ]
  },
  {
   "cell_type": "code",
   "execution_count": 41,
   "id": "d870e3a6-7eea-4eaa-9ddd-348dcaefff95",
   "metadata": {
    "tags": []
   },
   "outputs": [
    {
     "data": {
      "text/html": [
       "<div>\n",
       "<style scoped>\n",
       "    .dataframe tbody tr th:only-of-type {\n",
       "        vertical-align: middle;\n",
       "    }\n",
       "\n",
       "    .dataframe tbody tr th {\n",
       "        vertical-align: top;\n",
       "    }\n",
       "\n",
       "    .dataframe thead th {\n",
       "        text-align: right;\n",
       "    }\n",
       "</style>\n",
       "<table border=\"1\" class=\"dataframe\">\n",
       "  <thead>\n",
       "    <tr style=\"text-align: right;\">\n",
       "      <th></th>\n",
       "      <th>text_clean</th>\n",
       "      <th>test_debt_type_numeric</th>\n",
       "      <th>clean_labels</th>\n",
       "    </tr>\n",
       "  </thead>\n",
       "  <tbody>\n",
       "    <tr>\n",
       "      <th>0</th>\n",
       "      <td>omnilight and spotlight incorrect on x11 edito...</td>\n",
       "      <td>1</td>\n",
       "      <td>omnilight and spotlight incorrect on x11 edito...</td>\n",
       "    </tr>\n",
       "    <tr>\n",
       "      <th>1</th>\n",
       "      <td>failing test jest integration testssrcpluginsf...</td>\n",
       "      <td>1</td>\n",
       "      <td>failing test jest integration testssrcpluginsf...</td>\n",
       "    </tr>\n",
       "    <tr>\n",
       "      <th>2</th>\n",
       "      <td>flaky testtendermintbuffer subject of the issu...</td>\n",
       "      <td>1</td>\n",
       "      <td>flaky testtendermintbuffer subject of the issu...</td>\n",
       "    </tr>\n",
       "    <tr>\n",
       "      <th>3</th>\n",
       "      <td>unable to read logs from sway testswhen runnin...</td>\n",
       "      <td>1</td>\n",
       "      <td>unable to read logs from sway testswhen runnin...</td>\n",
       "    </tr>\n",
       "    <tr>\n",
       "      <th>4</th>\n",
       "      <td>failing test execution context functional test...</td>\n",
       "      <td>1</td>\n",
       "      <td>failing test execution context functional test...</td>\n",
       "    </tr>\n",
       "  </tbody>\n",
       "</table>\n",
       "</div>"
      ],
      "text/plain": [
       "                                          text_clean  test_debt_type_numeric  \\\n",
       "0  omnilight and spotlight incorrect on x11 edito...                       1   \n",
       "1  failing test jest integration testssrcpluginsf...                       1   \n",
       "2  flaky testtendermintbuffer subject of the issu...                       1   \n",
       "3  unable to read logs from sway testswhen runnin...                       1   \n",
       "4  failing test execution context functional test...                       1   \n",
       "\n",
       "                                        clean_labels  \n",
       "0  omnilight and spotlight incorrect on x11 edito...  \n",
       "1  failing test jest integration testssrcpluginsf...  \n",
       "2  flaky testtendermintbuffer subject of the issu...  \n",
       "3  unable to read logs from sway testswhen runnin...  \n",
       "4  failing test execution context functional test...  "
      ]
     },
     "execution_count": 41,
     "metadata": {},
     "output_type": "execute_result"
    }
   ],
   "source": [
    "csv_file_path = 'final_balanced_classification_cleaned.csv'\n",
    "df = pd.read_csv(csv_file_path)\n",
    "df.head()"
   ]
  },
  {
   "cell_type": "code",
   "execution_count": 43,
   "id": "0fc53c60-9697-46d8-bbae-69d05c65faef",
   "metadata": {
    "tags": []
   },
   "outputs": [
    {
     "ename": "KeyError",
     "evalue": "\"['text_clean'] not found in axis\"",
     "output_type": "error",
     "traceback": [
      "\u001b[0;31m---------------------------------------------------------------------------\u001b[0m",
      "\u001b[0;31mKeyError\u001b[0m                                  Traceback (most recent call last)",
      "Cell \u001b[0;32mIn[43], line 1\u001b[0m\n\u001b[0;32m----> 1\u001b[0m df \u001b[38;5;241m=\u001b[39m \u001b[43mdf\u001b[49m\u001b[38;5;241;43m.\u001b[39;49m\u001b[43mdrop\u001b[49m\u001b[43m(\u001b[49m\u001b[38;5;124;43m'\u001b[39;49m\u001b[38;5;124;43mtext_clean\u001b[39;49m\u001b[38;5;124;43m'\u001b[39;49m\u001b[43m,\u001b[49m\u001b[43m \u001b[49m\u001b[43maxis\u001b[49m\u001b[38;5;241;43m=\u001b[39;49m\u001b[38;5;241;43m1\u001b[39;49m\u001b[43m)\u001b[49m\n\u001b[1;32m      2\u001b[0m df\u001b[38;5;241m.\u001b[39mhead()\n",
      "File \u001b[0;32m~/.conda/envs/dl/lib/python3.10/site-packages/pandas/core/frame.py:5258\u001b[0m, in \u001b[0;36mDataFrame.drop\u001b[0;34m(self, labels, axis, index, columns, level, inplace, errors)\u001b[0m\n\u001b[1;32m   5110\u001b[0m \u001b[38;5;28;01mdef\u001b[39;00m \u001b[38;5;21mdrop\u001b[39m(\n\u001b[1;32m   5111\u001b[0m     \u001b[38;5;28mself\u001b[39m,\n\u001b[1;32m   5112\u001b[0m     labels: IndexLabel \u001b[38;5;241m=\u001b[39m \u001b[38;5;28;01mNone\u001b[39;00m,\n\u001b[0;32m   (...)\u001b[0m\n\u001b[1;32m   5119\u001b[0m     errors: IgnoreRaise \u001b[38;5;241m=\u001b[39m \u001b[38;5;124m\"\u001b[39m\u001b[38;5;124mraise\u001b[39m\u001b[38;5;124m\"\u001b[39m,\n\u001b[1;32m   5120\u001b[0m ) \u001b[38;5;241m-\u001b[39m\u001b[38;5;241m>\u001b[39m DataFrame \u001b[38;5;241m|\u001b[39m \u001b[38;5;28;01mNone\u001b[39;00m:\n\u001b[1;32m   5121\u001b[0m \u001b[38;5;250m    \u001b[39m\u001b[38;5;124;03m\"\"\"\u001b[39;00m\n\u001b[1;32m   5122\u001b[0m \u001b[38;5;124;03m    Drop specified labels from rows or columns.\u001b[39;00m\n\u001b[1;32m   5123\u001b[0m \n\u001b[0;32m   (...)\u001b[0m\n\u001b[1;32m   5256\u001b[0m \u001b[38;5;124;03m            weight  1.0     0.8\u001b[39;00m\n\u001b[1;32m   5257\u001b[0m \u001b[38;5;124;03m    \"\"\"\u001b[39;00m\n\u001b[0;32m-> 5258\u001b[0m     \u001b[38;5;28;01mreturn\u001b[39;00m \u001b[38;5;28;43msuper\u001b[39;49m\u001b[43m(\u001b[49m\u001b[43m)\u001b[49m\u001b[38;5;241;43m.\u001b[39;49m\u001b[43mdrop\u001b[49m\u001b[43m(\u001b[49m\n\u001b[1;32m   5259\u001b[0m \u001b[43m        \u001b[49m\u001b[43mlabels\u001b[49m\u001b[38;5;241;43m=\u001b[39;49m\u001b[43mlabels\u001b[49m\u001b[43m,\u001b[49m\n\u001b[1;32m   5260\u001b[0m \u001b[43m        \u001b[49m\u001b[43maxis\u001b[49m\u001b[38;5;241;43m=\u001b[39;49m\u001b[43maxis\u001b[49m\u001b[43m,\u001b[49m\n\u001b[1;32m   5261\u001b[0m \u001b[43m        \u001b[49m\u001b[43mindex\u001b[49m\u001b[38;5;241;43m=\u001b[39;49m\u001b[43mindex\u001b[49m\u001b[43m,\u001b[49m\n\u001b[1;32m   5262\u001b[0m \u001b[43m        \u001b[49m\u001b[43mcolumns\u001b[49m\u001b[38;5;241;43m=\u001b[39;49m\u001b[43mcolumns\u001b[49m\u001b[43m,\u001b[49m\n\u001b[1;32m   5263\u001b[0m \u001b[43m        \u001b[49m\u001b[43mlevel\u001b[49m\u001b[38;5;241;43m=\u001b[39;49m\u001b[43mlevel\u001b[49m\u001b[43m,\u001b[49m\n\u001b[1;32m   5264\u001b[0m \u001b[43m        \u001b[49m\u001b[43minplace\u001b[49m\u001b[38;5;241;43m=\u001b[39;49m\u001b[43minplace\u001b[49m\u001b[43m,\u001b[49m\n\u001b[1;32m   5265\u001b[0m \u001b[43m        \u001b[49m\u001b[43merrors\u001b[49m\u001b[38;5;241;43m=\u001b[39;49m\u001b[43merrors\u001b[49m\u001b[43m,\u001b[49m\n\u001b[1;32m   5266\u001b[0m \u001b[43m    \u001b[49m\u001b[43m)\u001b[49m\n",
      "File \u001b[0;32m~/.conda/envs/dl/lib/python3.10/site-packages/pandas/core/generic.py:4549\u001b[0m, in \u001b[0;36mNDFrame.drop\u001b[0;34m(self, labels, axis, index, columns, level, inplace, errors)\u001b[0m\n\u001b[1;32m   4547\u001b[0m \u001b[38;5;28;01mfor\u001b[39;00m axis, labels \u001b[38;5;129;01min\u001b[39;00m axes\u001b[38;5;241m.\u001b[39mitems():\n\u001b[1;32m   4548\u001b[0m     \u001b[38;5;28;01mif\u001b[39;00m labels \u001b[38;5;129;01mis\u001b[39;00m \u001b[38;5;129;01mnot\u001b[39;00m \u001b[38;5;28;01mNone\u001b[39;00m:\n\u001b[0;32m-> 4549\u001b[0m         obj \u001b[38;5;241m=\u001b[39m \u001b[43mobj\u001b[49m\u001b[38;5;241;43m.\u001b[39;49m\u001b[43m_drop_axis\u001b[49m\u001b[43m(\u001b[49m\u001b[43mlabels\u001b[49m\u001b[43m,\u001b[49m\u001b[43m \u001b[49m\u001b[43maxis\u001b[49m\u001b[43m,\u001b[49m\u001b[43m \u001b[49m\u001b[43mlevel\u001b[49m\u001b[38;5;241;43m=\u001b[39;49m\u001b[43mlevel\u001b[49m\u001b[43m,\u001b[49m\u001b[43m \u001b[49m\u001b[43merrors\u001b[49m\u001b[38;5;241;43m=\u001b[39;49m\u001b[43merrors\u001b[49m\u001b[43m)\u001b[49m\n\u001b[1;32m   4551\u001b[0m \u001b[38;5;28;01mif\u001b[39;00m inplace:\n\u001b[1;32m   4552\u001b[0m     \u001b[38;5;28mself\u001b[39m\u001b[38;5;241m.\u001b[39m_update_inplace(obj)\n",
      "File \u001b[0;32m~/.conda/envs/dl/lib/python3.10/site-packages/pandas/core/generic.py:4591\u001b[0m, in \u001b[0;36mNDFrame._drop_axis\u001b[0;34m(self, labels, axis, level, errors, only_slice)\u001b[0m\n\u001b[1;32m   4589\u001b[0m         new_axis \u001b[38;5;241m=\u001b[39m axis\u001b[38;5;241m.\u001b[39mdrop(labels, level\u001b[38;5;241m=\u001b[39mlevel, errors\u001b[38;5;241m=\u001b[39merrors)\n\u001b[1;32m   4590\u001b[0m     \u001b[38;5;28;01melse\u001b[39;00m:\n\u001b[0;32m-> 4591\u001b[0m         new_axis \u001b[38;5;241m=\u001b[39m \u001b[43maxis\u001b[49m\u001b[38;5;241;43m.\u001b[39;49m\u001b[43mdrop\u001b[49m\u001b[43m(\u001b[49m\u001b[43mlabels\u001b[49m\u001b[43m,\u001b[49m\u001b[43m \u001b[49m\u001b[43merrors\u001b[49m\u001b[38;5;241;43m=\u001b[39;49m\u001b[43merrors\u001b[49m\u001b[43m)\u001b[49m\n\u001b[1;32m   4592\u001b[0m     indexer \u001b[38;5;241m=\u001b[39m axis\u001b[38;5;241m.\u001b[39mget_indexer(new_axis)\n\u001b[1;32m   4594\u001b[0m \u001b[38;5;66;03m# Case for non-unique axis\u001b[39;00m\n\u001b[1;32m   4595\u001b[0m \u001b[38;5;28;01melse\u001b[39;00m:\n",
      "File \u001b[0;32m~/.conda/envs/dl/lib/python3.10/site-packages/pandas/core/indexes/base.py:6699\u001b[0m, in \u001b[0;36mIndex.drop\u001b[0;34m(self, labels, errors)\u001b[0m\n\u001b[1;32m   6697\u001b[0m \u001b[38;5;28;01mif\u001b[39;00m mask\u001b[38;5;241m.\u001b[39many():\n\u001b[1;32m   6698\u001b[0m     \u001b[38;5;28;01mif\u001b[39;00m errors \u001b[38;5;241m!=\u001b[39m \u001b[38;5;124m\"\u001b[39m\u001b[38;5;124mignore\u001b[39m\u001b[38;5;124m\"\u001b[39m:\n\u001b[0;32m-> 6699\u001b[0m         \u001b[38;5;28;01mraise\u001b[39;00m \u001b[38;5;167;01mKeyError\u001b[39;00m(\u001b[38;5;124mf\u001b[39m\u001b[38;5;124m\"\u001b[39m\u001b[38;5;132;01m{\u001b[39;00m\u001b[38;5;28mlist\u001b[39m(labels[mask])\u001b[38;5;132;01m}\u001b[39;00m\u001b[38;5;124m not found in axis\u001b[39m\u001b[38;5;124m\"\u001b[39m)\n\u001b[1;32m   6700\u001b[0m     indexer \u001b[38;5;241m=\u001b[39m indexer[\u001b[38;5;241m~\u001b[39mmask]\n\u001b[1;32m   6701\u001b[0m \u001b[38;5;28;01mreturn\u001b[39;00m \u001b[38;5;28mself\u001b[39m\u001b[38;5;241m.\u001b[39mdelete(indexer)\n",
      "\u001b[0;31mKeyError\u001b[0m: \"['text_clean'] not found in axis\""
     ]
    }
   ],
   "source": [
    "df = df.drop('text_clean', axis=1)\n",
    "df.head()"
   ]
  },
  {
   "cell_type": "code",
   "execution_count": 46,
   "id": "90ed44f5-e2f3-4d92-b23e-197fcbfe0513",
   "metadata": {
    "tags": []
   },
   "outputs": [
    {
     "data": {
      "text/html": [
       "<div>\n",
       "<style scoped>\n",
       "    .dataframe tbody tr th:only-of-type {\n",
       "        vertical-align: middle;\n",
       "    }\n",
       "\n",
       "    .dataframe tbody tr th {\n",
       "        vertical-align: top;\n",
       "    }\n",
       "\n",
       "    .dataframe thead th {\n",
       "        text-align: right;\n",
       "    }\n",
       "</style>\n",
       "<table border=\"1\" class=\"dataframe\">\n",
       "  <thead>\n",
       "    <tr style=\"text-align: right;\">\n",
       "      <th></th>\n",
       "      <th>label</th>\n",
       "      <th>text_clean</th>\n",
       "    </tr>\n",
       "  </thead>\n",
       "  <tbody>\n",
       "    <tr>\n",
       "      <th>0</th>\n",
       "      <td>1</td>\n",
       "      <td>omnilight and spotlight incorrect on x11 edito...</td>\n",
       "    </tr>\n",
       "    <tr>\n",
       "      <th>1</th>\n",
       "      <td>1</td>\n",
       "      <td>failing test jest integration testssrcpluginsf...</td>\n",
       "    </tr>\n",
       "    <tr>\n",
       "      <th>2</th>\n",
       "      <td>1</td>\n",
       "      <td>flaky testtendermintbuffer subject of the issu...</td>\n",
       "    </tr>\n",
       "    <tr>\n",
       "      <th>3</th>\n",
       "      <td>1</td>\n",
       "      <td>unable to read logs from sway testswhen runnin...</td>\n",
       "    </tr>\n",
       "    <tr>\n",
       "      <th>4</th>\n",
       "      <td>1</td>\n",
       "      <td>failing test execution context functional test...</td>\n",
       "    </tr>\n",
       "  </tbody>\n",
       "</table>\n",
       "</div>"
      ],
      "text/plain": [
       "   label                                         text_clean\n",
       "0      1  omnilight and spotlight incorrect on x11 edito...\n",
       "1      1  failing test jest integration testssrcpluginsf...\n",
       "2      1  flaky testtendermintbuffer subject of the issu...\n",
       "3      1  unable to read logs from sway testswhen runnin...\n",
       "4      1  failing test execution context functional test..."
      ]
     },
     "execution_count": 46,
     "metadata": {},
     "output_type": "execute_result"
    }
   ],
   "source": [
    "df.rename(columns={'clean_labels': 'text_clean'}, inplace=True)\n",
    "df.rename(columns={'test_debt_type_numeric': 'label'}, inplace=True)\n",
    "df.head()"
   ]
  },
  {
   "cell_type": "code",
   "execution_count": 47,
   "id": "df42ac76-79ae-4687-9a3d-fb081b790e82",
   "metadata": {
    "tags": []
   },
   "outputs": [],
   "source": [
    "df= df[['text_clean','label']]"
   ]
  },
  {
   "cell_type": "code",
   "execution_count": 48,
   "id": "73b8aad3-39ab-4dec-8bbf-5c140d4cc8c2",
   "metadata": {
    "tags": []
   },
   "outputs": [
    {
     "data": {
      "text/html": [
       "<div>\n",
       "<style scoped>\n",
       "    .dataframe tbody tr th:only-of-type {\n",
       "        vertical-align: middle;\n",
       "    }\n",
       "\n",
       "    .dataframe tbody tr th {\n",
       "        vertical-align: top;\n",
       "    }\n",
       "\n",
       "    .dataframe thead th {\n",
       "        text-align: right;\n",
       "    }\n",
       "</style>\n",
       "<table border=\"1\" class=\"dataframe\">\n",
       "  <thead>\n",
       "    <tr style=\"text-align: right;\">\n",
       "      <th></th>\n",
       "      <th>text_clean</th>\n",
       "      <th>label</th>\n",
       "    </tr>\n",
       "  </thead>\n",
       "  <tbody>\n",
       "    <tr>\n",
       "      <th>0</th>\n",
       "      <td>omnilight and spotlight incorrect on x11 edito...</td>\n",
       "      <td>1</td>\n",
       "    </tr>\n",
       "    <tr>\n",
       "      <th>1</th>\n",
       "      <td>failing test jest integration testssrcpluginsf...</td>\n",
       "      <td>1</td>\n",
       "    </tr>\n",
       "    <tr>\n",
       "      <th>2</th>\n",
       "      <td>flaky testtendermintbuffer subject of the issu...</td>\n",
       "      <td>1</td>\n",
       "    </tr>\n",
       "    <tr>\n",
       "      <th>3</th>\n",
       "      <td>unable to read logs from sway testswhen runnin...</td>\n",
       "      <td>1</td>\n",
       "    </tr>\n",
       "    <tr>\n",
       "      <th>4</th>\n",
       "      <td>failing test execution context functional test...</td>\n",
       "      <td>1</td>\n",
       "    </tr>\n",
       "  </tbody>\n",
       "</table>\n",
       "</div>"
      ],
      "text/plain": [
       "                                          text_clean  label\n",
       "0  omnilight and spotlight incorrect on x11 edito...      1\n",
       "1  failing test jest integration testssrcpluginsf...      1\n",
       "2  flaky testtendermintbuffer subject of the issu...      1\n",
       "3  unable to read logs from sway testswhen runnin...      1\n",
       "4  failing test execution context functional test...      1"
      ]
     },
     "execution_count": 48,
     "metadata": {},
     "output_type": "execute_result"
    }
   ],
   "source": [
    "df.head()"
   ]
  },
  {
   "cell_type": "code",
   "execution_count": 49,
   "id": "a3288759-1519-47f8-a009-d447c6ca0b5d",
   "metadata": {
    "tags": []
   },
   "outputs": [],
   "source": [
    "df.to_csv('Final_cleaned_test_types.csv', index=False)"
   ]
  },
  {
   "cell_type": "code",
   "execution_count": null,
   "id": "efbcc9ba-7a4b-4759-b61f-27f5ddbd2785",
   "metadata": {},
   "outputs": [],
   "source": []
  }
 ],
 "metadata": {
  "kernelspec": {
   "display_name": "Python 3 (ipykernel)",
   "language": "python",
   "name": "python3"
  },
  "language_info": {
   "codemirror_mode": {
    "name": "ipython",
    "version": 3
   },
   "file_extension": ".py",
   "mimetype": "text/x-python",
   "name": "python",
   "nbconvert_exporter": "python",
   "pygments_lexer": "ipython3",
   "version": "3.10.13"
  }
 },
 "nbformat": 4,
 "nbformat_minor": 5
}
