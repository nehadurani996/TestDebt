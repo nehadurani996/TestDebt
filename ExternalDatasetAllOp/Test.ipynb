{
 "cells": [
  {
   "cell_type": "code",
   "execution_count": 5,
   "id": "1020907e-260d-4357-8552-6a8189cd800b",
   "metadata": {
    "tags": []
   },
   "outputs": [],
   "source": [
    "from joblib import dump, load\n",
    "\n",
    "# Load the model\n",
    "svm_classifier = load('svm_classifier.joblib')\n",
    "# Load the TF-IDF vectorizer\n",
    "vectorizer = load('tfidf_vectorizer.joblib')\n"
   ]
  },
  {
   "cell_type": "code",
   "execution_count": 6,
   "id": "0c7aba27-b7eb-466d-b8b6-b022c8c96f37",
   "metadata": {
    "tags": []
   },
   "outputs": [],
   "source": [
    "import pandas as pd\n",
    "# Assuming the new CSV file is 'new_data.csv' and has a text column named 'text_clean'\n",
    "new_df = pd.read_csv('testset_test_or_not_test_clean.csv')\n",
    "X_new = vectorizer.transform(new_df['text_clean'])\n",
    "\n",
    "# If the new data also contains true labels for evaluation\n",
    "y_true = new_df['label']\n"
   ]
  },
  {
   "cell_type": "code",
   "execution_count": 7,
   "id": "a95e9328-9839-4357-b6ad-e4516205d0a8",
   "metadata": {
    "tags": []
   },
   "outputs": [],
   "source": [
    "# Predict with the loaded model\n",
    "y_pred = svm_classifier.predict(X_new)\n"
   ]
  },
  {
   "cell_type": "code",
   "execution_count": 8,
   "id": "8355cde8-024c-4496-9b04-46b2ec39475b",
   "metadata": {
    "tags": []
   },
   "outputs": [
    {
     "name": "stdout",
     "output_type": "stream",
     "text": [
      "Accuracy: 0.7959\n",
      "Precision: 0.7727\n",
      "Recall: 0.7727\n",
      "F1 Score: 0.7727\n"
     ]
    }
   ],
   "source": [
    "from sklearn.metrics import accuracy_score, precision_score, recall_score, f1_score\n",
    "\n",
    "accuracy = accuracy_score(y_true, y_pred)\n",
    "precision = precision_score(y_true, y_pred)\n",
    "recall = recall_score(y_true, y_pred)\n",
    "f1 = f1_score(y_true, y_pred)\n",
    "\n",
    "print(f'Accuracy: {accuracy:.4f}')\n",
    "print(f'Precision: {precision:.4f}')\n",
    "print(f'Recall: {recall:.4f}')\n",
    "print(f'F1 Score: {f1:.4f}')\n"
   ]
  }
 ],
 "metadata": {
  "kernelspec": {
   "display_name": "Python 3 (ipykernel)",
   "language": "python",
   "name": "python3"
  },
  "language_info": {
   "codemirror_mode": {
    "name": "ipython",
    "version": 3
   },
   "file_extension": ".py",
   "mimetype": "text/x-python",
   "name": "python",
   "nbconvert_exporter": "python",
   "pygments_lexer": "ipython3",
   "version": "3.10.13"
  }
 },
 "nbformat": 4,
 "nbformat_minor": 5
}
