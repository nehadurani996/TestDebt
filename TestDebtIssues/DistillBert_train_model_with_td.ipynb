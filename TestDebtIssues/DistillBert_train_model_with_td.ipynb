{
 "cells": [
  {
   "cell_type": "code",
   "execution_count": 1,
   "id": "527f860b-9dc7-4432-b953-4dd2f313a7e9",
   "metadata": {
    "tags": []
   },
   "outputs": [],
   "source": [
    "import pandas as pd\n",
    "import torch\n",
    "import os\n",
    "import numpy as np\n",
    "import datasets\n",
    "import transformers\n",
    "from GPUtil import showUtilization as gpu_usage\n",
    "from numba import cuda\n",
    "import torch.nn.functional as F\n",
    "\n",
    "from sklearn.metrics import accuracy_score, precision_recall_fscore_support\n",
    "from transformers import (\n",
    "    AutoModelForSequenceClassification,\n",
    "    AutoTokenizer,\n",
    "    Trainer,\n",
    "    TrainingArguments,\n",
    ")\n",
    "\n",
    "from datasets import load_dataset, Dataset, DatasetDict"
   ]
  },
  {
   "cell_type": "code",
   "execution_count": 2,
   "id": "5e2ed76c-21ab-4b17-9e32-fddfaf3ae17a",
   "metadata": {
    "tags": []
   },
   "outputs": [],
   "source": [
    "# !watch -n 0.5 nvidia-smi"
   ]
  },
  {
   "cell_type": "code",
   "execution_count": 3,
   "id": "989ae130-ed7d-47d8-8dfd-2fda5cf1f685",
   "metadata": {
    "tags": []
   },
   "outputs": [
    {
     "name": "stdout",
     "output_type": "stream",
     "text": [
      "PyTorch version: 2.0.1\n",
      "CUDA version: 11.8\n",
      "cuDNN version: 8700\n",
      "Current device: 0\n",
      "Is cuda available: True\n"
     ]
    }
   ],
   "source": [
    "print(f'PyTorch version: {torch.__version__}')  # 1.9.1+cu111\n",
    "print(f'CUDA version: {torch.version.cuda}')  # 11.1\n",
    "print(f'cuDNN version: {torch.backends.cudnn.version()}')  # 8005\n",
    "print(f'Current device: {torch.cuda.current_device()}')  # 0\n",
    "print(f'Is cuda available: {torch.cuda.is_available()}')  # TRUE"
   ]
  },
  {
   "cell_type": "code",
   "execution_count": 4,
   "id": "68f01549-7e94-491f-823d-9c9fa23af798",
   "metadata": {
    "tags": []
   },
   "outputs": [
    {
     "name": "stdout",
     "output_type": "stream",
     "text": [
      "Transformers version: 4.37.2\n",
      "Datasets version: 2.14.5\n"
     ]
    }
   ],
   "source": [
    "print(f'Transformers version: {transformers.__version__}')\n",
    "print(f'Datasets version: {datasets.__version__}')"
   ]
  },
  {
   "cell_type": "code",
   "execution_count": 5,
   "id": "fd5e8609-b918-4727-8551-16fa74ac017f",
   "metadata": {
    "tags": []
   },
   "outputs": [],
   "source": [
    "# Prevent a warning related to the tokenization process in the transformers library. \n",
    "os.environ[\"TOKENIZERS_PARALLELISM\"] = \"False\"\n",
    "# Makes CUDA operations synchronous\n",
    "os.environ[\"CUDA_LAUNCH_BLOCKING\"] = \"1\""
   ]
  },
  {
   "cell_type": "code",
   "execution_count": 6,
   "id": "7d1b7d84-7d7e-4cb0-bcea-64921f983495",
   "metadata": {
    "tags": []
   },
   "outputs": [
    {
     "name": "stdout",
     "output_type": "stream",
     "text": [
      "Thu Mar  7 11:20:07 2024       \n",
      "+---------------------------------------------------------------------------------------+\n",
      "| NVIDIA-SMI 545.23.08              Driver Version: 545.23.08    CUDA Version: 12.3     |\n",
      "|-----------------------------------------+----------------------+----------------------+\n",
      "| GPU  Name                 Persistence-M | Bus-Id        Disp.A | Volatile Uncorr. ECC |\n",
      "| Fan  Temp   Perf          Pwr:Usage/Cap |         Memory-Usage | GPU-Util  Compute M. |\n",
      "|                                         |                      |               MIG M. |\n",
      "|=========================================+======================+======================|\n",
      "|   0  NVIDIA GeForce RTX 2080 Ti     On  | 00000000:01:00.0 Off |                  N/A |\n",
      "| 40%   65C    P2             168W / 250W |    697MiB / 11264MiB |     96%      Default |\n",
      "|                                         |                      |                  N/A |\n",
      "+-----------------------------------------+----------------------+----------------------+\n",
      "|   1  NVIDIA GeForce RTX 2080 Ti     On  | 00000000:23:00.0 Off |                  N/A |\n",
      "| 22%   33C    P8              22W / 250W |    689MiB / 11264MiB |      0%      Default |\n",
      "|                                         |                      |                  N/A |\n",
      "+-----------------------------------------+----------------------+----------------------+\n",
      "|   2  NVIDIA GeForce RTX 2080 Ti     On  | 00000000:41:00.0 Off |                  N/A |\n",
      "| 22%   27C    P8              16W / 250W |    689MiB / 11264MiB |      0%      Default |\n",
      "|                                         |                      |                  N/A |\n",
      "+-----------------------------------------+----------------------+----------------------+\n",
      "|   3  NVIDIA GeForce RTX 2080 Ti     On  | 00000000:61:00.0 Off |                  N/A |\n",
      "| 22%   27C    P8               1W / 250W |      3MiB / 11264MiB |      0%      Default |\n",
      "|                                         |                      |                  N/A |\n",
      "+-----------------------------------------+----------------------+----------------------+\n",
      "|   4  NVIDIA GeForce RTX 2080 Ti     On  | 00000000:81:00.0 Off |                  N/A |\n",
      "| 22%   25C    P8               1W / 250W |    689MiB / 11264MiB |      0%      Default |\n",
      "|                                         |                      |                  N/A |\n",
      "+-----------------------------------------+----------------------+----------------------+\n",
      "|   5  NVIDIA GeForce RTX 2080 Ti     On  | 00000000:A1:00.0 Off |                  N/A |\n",
      "| 22%   25C    P8               5W / 250W |      3MiB / 11264MiB |      0%      Default |\n",
      "|                                         |                      |                  N/A |\n",
      "+-----------------------------------------+----------------------+----------------------+\n",
      "|   6  NVIDIA GeForce RTX 2080 Ti     On  | 00000000:C1:00.0 Off |                  N/A |\n",
      "| 22%   26C    P8              13W / 250W |      3MiB / 11264MiB |      0%      Default |\n",
      "|                                         |                      |                  N/A |\n",
      "+-----------------------------------------+----------------------+----------------------+\n",
      "|   7  NVIDIA GeForce RTX 2080 Ti     On  | 00000000:E1:00.0 Off |                  N/A |\n",
      "| 22%   24C    P8              11W / 250W |    689MiB / 11264MiB |      0%      Default |\n",
      "|                                         |                      |                  N/A |\n",
      "+-----------------------------------------+----------------------+----------------------+\n",
      "                                                                                         \n",
      "+---------------------------------------------------------------------------------------+\n",
      "| Processes:                                                                            |\n",
      "|  GPU   GI   CI        PID   Type   Process name                            GPU Memory |\n",
      "|        ID   ID                                                             Usage      |\n",
      "|=======================================================================================|\n",
      "|    0   N/A  N/A   2692029      C   ...dinger/2023-3/internal/bin/gdesmond      352MiB |\n",
      "|    0   N/A  N/A   2841778      C   ...dinger/2023-3/internal/bin/gdesmond      348MiB |\n",
      "|    1   N/A  N/A   2554534      C   .../users/mariuaas/torch2_2/bin/python      686MiB |\n",
      "|    2   N/A  N/A   2558454      C   .../users/mariuaas/torch2_2/bin/python      686MiB |\n",
      "|    4   N/A  N/A   2559007      C   .../users/mariuaas/torch2_2/bin/python      686MiB |\n",
      "|    7   N/A  N/A   2559776      C   .../users/mariuaas/torch2_2/bin/python      686MiB |\n",
      "+---------------------------------------------------------------------------------------+\n"
     ]
    }
   ],
   "source": [
    "# Find the GPU with the least memory usage.\n",
    "!nvidia-smi"
   ]
  },
  {
   "cell_type": "code",
   "execution_count": 7,
   "id": "da3c8113-128b-476f-99b1-2232d8d330dd",
   "metadata": {
    "tags": []
   },
   "outputs": [
    {
     "name": "stdout",
     "output_type": "stream",
     "text": [
      "Initial GPU Usage\n",
      "| ID | GPU | MEM |\n",
      "------------------\n",
      "|  0 | 96% |  6% |\n",
      "|  1 |  0% |  6% |\n",
      "|  2 |  0% |  6% |\n",
      "|  3 |  0% |  0% |\n",
      "|  4 |  0% |  6% |\n",
      "|  5 |  0% |  0% |\n",
      "|  6 |  0% |  0% |\n",
      "|  7 |  0% |  6% |\n",
      "GPU Usage after emptying the cache\n",
      "| ID | GPU | MEM |\n",
      "------------------\n",
      "|  0 | 78% |  6% |\n",
      "|  1 |  0% |  6% |\n",
      "|  2 |  0% |  6% |\n",
      "|  3 |  0% |  1% |\n",
      "|  4 |  0% |  6% |\n",
      "|  5 |  0% |  0% |\n",
      "|  6 |  0% |  0% |\n",
      "|  7 |  0% |  6% |\n"
     ]
    }
   ],
   "source": [
    "def free_gpu_cache():\n",
    "    print(\"Initial GPU Usage\")\n",
    "    gpu_usage()                             \n",
    "\n",
    "    # free unreferenced tensors from the GPU memory.\n",
    "    torch.cuda.empty_cache()\n",
    "\n",
    "    cuda.select_device(0)\n",
    "    cuda.close()\n",
    "    cuda.select_device(0)\n",
    "\n",
    "    print(\"GPU Usage after emptying the cache\")\n",
    "    gpu_usage()\n",
    "\n",
    "free_gpu_cache() "
   ]
  },
  {
   "cell_type": "code",
   "execution_count": 8,
   "id": "1a1d08c4-2c1a-44e7-a048-d9a9356fda52",
   "metadata": {
    "tags": []
   },
   "outputs": [
    {
     "data": {
      "text/html": [
       "<div>\n",
       "<style scoped>\n",
       "    .dataframe tbody tr th:only-of-type {\n",
       "        vertical-align: middle;\n",
       "    }\n",
       "\n",
       "    .dataframe tbody tr th {\n",
       "        vertical-align: top;\n",
       "    }\n",
       "\n",
       "    .dataframe thead th {\n",
       "        text-align: right;\n",
       "    }\n",
       "</style>\n",
       "<table border=\"1\" class=\"dataframe\">\n",
       "  <thead>\n",
       "    <tr style=\"text-align: right;\">\n",
       "      <th></th>\n",
       "      <th>text_clean</th>\n",
       "      <th>label</th>\n",
       "    </tr>\n",
       "  </thead>\n",
       "  <tbody>\n",
       "    <tr>\n",
       "      <th>0</th>\n",
       "      <td>cover anvil service response in unit testshttp...</td>\n",
       "      <td>0</td>\n",
       "    </tr>\n",
       "    <tr>\n",
       "      <th>1</th>\n",
       "      <td>service apprepositorycontroller should be cach...</td>\n",
       "      <td>0</td>\n",
       "    </tr>\n",
       "    <tr>\n",
       "      <th>2</th>\n",
       "      <td>many caches persist between test casesan examp...</td>\n",
       "      <td>0</td>\n",
       "    </tr>\n",
       "    <tr>\n",
       "      <th>3</th>\n",
       "      <td>improve friendliness of behat text pattern mat...</td>\n",
       "      <td>0</td>\n",
       "    </tr>\n",
       "    <tr>\n",
       "      <th>4</th>\n",
       "      <td>run e2e tests for prs is your feature request ...</td>\n",
       "      <td>0</td>\n",
       "    </tr>\n",
       "    <tr>\n",
       "      <th>...</th>\n",
       "      <td>...</td>\n",
       "      <td>...</td>\n",
       "    </tr>\n",
       "    <tr>\n",
       "      <th>437</th>\n",
       "      <td>need to refractor create addresses functionali...</td>\n",
       "      <td>1</td>\n",
       "    </tr>\n",
       "    <tr>\n",
       "      <th>438</th>\n",
       "      <td>decouple asset lambda with messagebus 1246 124...</td>\n",
       "      <td>1</td>\n",
       "    </tr>\n",
       "    <tr>\n",
       "      <th>439</th>\n",
       "      <td>remove helm chart from werft publish release j...</td>\n",
       "      <td>1</td>\n",
       "    </tr>\n",
       "    <tr>\n",
       "      <th>440</th>\n",
       "      <td>add the ability to create new pages or section...</td>\n",
       "      <td>1</td>\n",
       "    </tr>\n",
       "    <tr>\n",
       "      <th>441</th>\n",
       "      <td>urllinker is not quite maintainedwe should try...</td>\n",
       "      <td>1</td>\n",
       "    </tr>\n",
       "  </tbody>\n",
       "</table>\n",
       "<p>442 rows × 2 columns</p>\n",
       "</div>"
      ],
      "text/plain": [
       "                                            text_clean  label\n",
       "0    cover anvil service response in unit testshttp...      0\n",
       "1    service apprepositorycontroller should be cach...      0\n",
       "2    many caches persist between test casesan examp...      0\n",
       "3    improve friendliness of behat text pattern mat...      0\n",
       "4    run e2e tests for prs is your feature request ...      0\n",
       "..                                                 ...    ...\n",
       "437  need to refractor create addresses functionali...      1\n",
       "438  decouple asset lambda with messagebus 1246 124...      1\n",
       "439  remove helm chart from werft publish release j...      1\n",
       "440  add the ability to create new pages or section...      1\n",
       "441  urllinker is not quite maintainedwe should try...      1\n",
       "\n",
       "[442 rows x 2 columns]"
      ]
     },
     "execution_count": 8,
     "metadata": {},
     "output_type": "execute_result"
    }
   ],
   "source": [
    "data = pd.read_csv(\"clean_test_or_not_test.csv\" , index_col = 0)\n",
    "data"
   ]
  },
  {
   "cell_type": "code",
   "execution_count": 9,
   "id": "5a0d19ac-0b58-4eb8-bdf1-714fc7a5902d",
   "metadata": {
    "tags": []
   },
   "outputs": [
    {
     "data": {
      "text/html": [
       "<div>\n",
       "<style scoped>\n",
       "    .dataframe tbody tr th:only-of-type {\n",
       "        vertical-align: middle;\n",
       "    }\n",
       "\n",
       "    .dataframe tbody tr th {\n",
       "        vertical-align: top;\n",
       "    }\n",
       "\n",
       "    .dataframe thead th {\n",
       "        text-align: right;\n",
       "    }\n",
       "</style>\n",
       "<table border=\"1\" class=\"dataframe\">\n",
       "  <thead>\n",
       "    <tr style=\"text-align: right;\">\n",
       "      <th></th>\n",
       "      <th>text_clean</th>\n",
       "      <th>label</th>\n",
       "    </tr>\n",
       "  </thead>\n",
       "  <tbody>\n",
       "    <tr>\n",
       "      <th>0</th>\n",
       "      <td>lintingas a developer i need to follow python ...</td>\n",
       "      <td>1</td>\n",
       "    </tr>\n",
       "    <tr>\n",
       "      <th>1</th>\n",
       "      <td>allow use of components within wrapper for uni...</td>\n",
       "      <td>0</td>\n",
       "    </tr>\n",
       "    <tr>\n",
       "      <th>2</th>\n",
       "      <td>migrate componentschannelnotificationsmodalcom...</td>\n",
       "      <td>1</td>\n",
       "    </tr>\n",
       "    <tr>\n",
       "      <th>3</th>\n",
       "      <td>leverage godot 40 tilemap layersmost of our ti...</td>\n",
       "      <td>1</td>\n",
       "    </tr>\n",
       "    <tr>\n",
       "      <th>4</th>\n",
       "      <td>review testing code and remove domain filein h...</td>\n",
       "      <td>1</td>\n",
       "    </tr>\n",
       "    <tr>\n",
       "      <th>5</th>\n",
       "      <td>investigate usage of production groupvars aws ...</td>\n",
       "      <td>1</td>\n",
       "    </tr>\n",
       "    <tr>\n",
       "      <th>6</th>\n",
       "      <td>create unit tests for resource list and involv...</td>\n",
       "      <td>0</td>\n",
       "    </tr>\n",
       "    <tr>\n",
       "      <th>7</th>\n",
       "      <td>too much output from waitformarkersnoticed on ...</td>\n",
       "      <td>0</td>\n",
       "    </tr>\n",
       "    <tr>\n",
       "      <th>8</th>\n",
       "      <td>orders stuck at pending payment when using rev...</td>\n",
       "      <td>1</td>\n",
       "    </tr>\n",
       "    <tr>\n",
       "      <th>9</th>\n",
       "      <td>improve load time of dashboard home and cluste...</td>\n",
       "      <td>0</td>\n",
       "    </tr>\n",
       "    <tr>\n",
       "      <th>10</th>\n",
       "      <td>chaindb qsm failure with getisvalid to reprodu...</td>\n",
       "      <td>0</td>\n",
       "    </tr>\n",
       "    <tr>\n",
       "      <th>11</th>\n",
       "      <td>bug on account existance checking in busmappin...</td>\n",
       "      <td>0</td>\n",
       "    </tr>\n",
       "    <tr>\n",
       "      <th>12</th>\n",
       "      <td>tech debt cryptography apis description of the...</td>\n",
       "      <td>1</td>\n",
       "    </tr>\n",
       "    <tr>\n",
       "      <th>13</th>\n",
       "      <td>improve location of large config chunks that s...</td>\n",
       "      <td>0</td>\n",
       "    </tr>\n",
       "    <tr>\n",
       "      <th>14</th>\n",
       "      <td>plattform stabilizationparent epic 4 all thing...</td>\n",
       "      <td>1</td>\n",
       "    </tr>\n",
       "    <tr>\n",
       "      <th>15</th>\n",
       "      <td>run probers on azure staging periodicallyrun t...</td>\n",
       "      <td>0</td>\n",
       "    </tr>\n",
       "    <tr>\n",
       "      <th>16</th>\n",
       "      <td>integ tests should add retry loops for verifyi...</td>\n",
       "      <td>1</td>\n",
       "    </tr>\n",
       "    <tr>\n",
       "      <th>17</th>\n",
       "      <td>math operands should be cast before assignment...</td>\n",
       "      <td>1</td>\n",
       "    </tr>\n",
       "    <tr>\n",
       "      <th>18</th>\n",
       "      <td>update readme fileas a usermarket manager i ne...</td>\n",
       "      <td>1</td>\n",
       "    </tr>\n",
       "    <tr>\n",
       "      <th>19</th>\n",
       "      <td>handledeleteabnormal unit test intermittently ...</td>\n",
       "      <td>0</td>\n",
       "    </tr>\n",
       "    <tr>\n",
       "      <th>20</th>\n",
       "      <td>port unit tests using the old json abi types t...</td>\n",
       "      <td>0</td>\n",
       "    </tr>\n",
       "    <tr>\n",
       "      <th>21</th>\n",
       "      <td>tech debt pluginsgoals identify areas of code ...</td>\n",
       "      <td>0</td>\n",
       "    </tr>\n",
       "    <tr>\n",
       "      <th>22</th>\n",
       "      <td>ruledescriptionsmd can easily become outofdate...</td>\n",
       "      <td>1</td>\n",
       "    </tr>\n",
       "    <tr>\n",
       "      <th>23</th>\n",
       "      <td>add a gql regression test for symbols subrepo ...</td>\n",
       "      <td>0</td>\n",
       "    </tr>\n",
       "    <tr>\n",
       "      <th>24</th>\n",
       "      <td>add a demo build for testing purposeseach libr...</td>\n",
       "      <td>0</td>\n",
       "    </tr>\n",
       "    <tr>\n",
       "      <th>25</th>\n",
       "      <td>matchspec should be valid checklist x i added ...</td>\n",
       "      <td>0</td>\n",
       "    </tr>\n",
       "    <tr>\n",
       "      <th>26</th>\n",
       "      <td>tech debt fix lgpo module integration tests de...</td>\n",
       "      <td>0</td>\n",
       "    </tr>\n",
       "    <tr>\n",
       "      <th>27</th>\n",
       "      <td>put the application in dockers containersusing...</td>\n",
       "      <td>1</td>\n",
       "    </tr>\n",
       "    <tr>\n",
       "      <th>28</th>\n",
       "      <td>convert all http framework headers to lowercas...</td>\n",
       "      <td>1</td>\n",
       "    </tr>\n",
       "    <tr>\n",
       "      <th>29</th>\n",
       "      <td>matplotlib deprecationsmatplotlib has deprecat...</td>\n",
       "      <td>1</td>\n",
       "    </tr>\n",
       "    <tr>\n",
       "      <th>30</th>\n",
       "      <td>backport drain provisioning test is flaky due ...</td>\n",
       "      <td>0</td>\n",
       "    </tr>\n",
       "    <tr>\n",
       "      <th>31</th>\n",
       "      <td>remove sendcommand from servertscurrently ther...</td>\n",
       "      <td>0</td>\n",
       "    </tr>\n",
       "    <tr>\n",
       "      <th>32</th>\n",
       "      <td>investigate use of cywait in cypress specscywa...</td>\n",
       "      <td>1</td>\n",
       "    </tr>\n",
       "    <tr>\n",
       "      <th>33</th>\n",
       "      <td>convert all strings 00000 to chain specific va...</td>\n",
       "      <td>1</td>\n",
       "    </tr>\n",
       "    <tr>\n",
       "      <th>34</th>\n",
       "      <td>seperate the set up process in the gh action f...</td>\n",
       "      <td>0</td>\n",
       "    </tr>\n",
       "    <tr>\n",
       "      <th>35</th>\n",
       "      <td>on premise gl is sometimes unavailable during ...</td>\n",
       "      <td>0</td>\n",
       "    </tr>\n",
       "    <tr>\n",
       "      <th>36</th>\n",
       "      <td>make sure integration tests are running with i...</td>\n",
       "      <td>0</td>\n",
       "    </tr>\n",
       "    <tr>\n",
       "      <th>37</th>\n",
       "      <td>enable packages to provide their own formatter...</td>\n",
       "      <td>0</td>\n",
       "    </tr>\n",
       "    <tr>\n",
       "      <th>38</th>\n",
       "      <td>integration tests without sudo callsafter main...</td>\n",
       "      <td>0</td>\n",
       "    </tr>\n",
       "    <tr>\n",
       "      <th>39</th>\n",
       "      <td>cover references panel codemirror side blob wi...</td>\n",
       "      <td>0</td>\n",
       "    </tr>\n",
       "    <tr>\n",
       "      <th>40</th>\n",
       "      <td>create a schema in flask framework for restful...</td>\n",
       "      <td>1</td>\n",
       "    </tr>\n",
       "    <tr>\n",
       "      <th>41</th>\n",
       "      <td>task increase unit test coverage of create clu...</td>\n",
       "      <td>1</td>\n",
       "    </tr>\n",
       "    <tr>\n",
       "      <th>42</th>\n",
       "      <td>convert existing locale strings to use context...</td>\n",
       "      <td>1</td>\n",
       "    </tr>\n",
       "    <tr>\n",
       "      <th>43</th>\n",
       "      <td>run happy path integration tests only on pushm...</td>\n",
       "      <td>0</td>\n",
       "    </tr>\n",
       "    <tr>\n",
       "      <th>44</th>\n",
       "      <td>task improve bottlerocket integration tests wh...</td>\n",
       "      <td>0</td>\n",
       "    </tr>\n",
       "    <tr>\n",
       "      <th>45</th>\n",
       "      <td>can run a widget notebook twice is failing int...</td>\n",
       "      <td>0</td>\n",
       "    </tr>\n",
       "    <tr>\n",
       "      <th>46</th>\n",
       "      <td>rfe wrangler should provide mock interfaces fo...</td>\n",
       "      <td>0</td>\n",
       "    </tr>\n",
       "    <tr>\n",
       "      <th>47</th>\n",
       "      <td>various discrepancies between huron and sharep...</td>\n",
       "      <td>1</td>\n",
       "    </tr>\n",
       "    <tr>\n",
       "      <th>48</th>\n",
       "      <td>use nextjs pages for existing routes descripti...</td>\n",
       "      <td>1</td>\n",
       "    </tr>\n",
       "  </tbody>\n",
       "</table>\n",
       "</div>"
      ],
      "text/plain": [
       "                                           text_clean  label\n",
       "0   lintingas a developer i need to follow python ...      1\n",
       "1   allow use of components within wrapper for uni...      0\n",
       "2   migrate componentschannelnotificationsmodalcom...      1\n",
       "3   leverage godot 40 tilemap layersmost of our ti...      1\n",
       "4   review testing code and remove domain filein h...      1\n",
       "5   investigate usage of production groupvars aws ...      1\n",
       "6   create unit tests for resource list and involv...      0\n",
       "7   too much output from waitformarkersnoticed on ...      0\n",
       "8   orders stuck at pending payment when using rev...      1\n",
       "9   improve load time of dashboard home and cluste...      0\n",
       "10  chaindb qsm failure with getisvalid to reprodu...      0\n",
       "11  bug on account existance checking in busmappin...      0\n",
       "12  tech debt cryptography apis description of the...      1\n",
       "13  improve location of large config chunks that s...      0\n",
       "14  plattform stabilizationparent epic 4 all thing...      1\n",
       "15  run probers on azure staging periodicallyrun t...      0\n",
       "16  integ tests should add retry loops for verifyi...      1\n",
       "17  math operands should be cast before assignment...      1\n",
       "18  update readme fileas a usermarket manager i ne...      1\n",
       "19  handledeleteabnormal unit test intermittently ...      0\n",
       "20  port unit tests using the old json abi types t...      0\n",
       "21  tech debt pluginsgoals identify areas of code ...      0\n",
       "22  ruledescriptionsmd can easily become outofdate...      1\n",
       "23  add a gql regression test for symbols subrepo ...      0\n",
       "24  add a demo build for testing purposeseach libr...      0\n",
       "25  matchspec should be valid checklist x i added ...      0\n",
       "26  tech debt fix lgpo module integration tests de...      0\n",
       "27  put the application in dockers containersusing...      1\n",
       "28  convert all http framework headers to lowercas...      1\n",
       "29  matplotlib deprecationsmatplotlib has deprecat...      1\n",
       "30  backport drain provisioning test is flaky due ...      0\n",
       "31  remove sendcommand from servertscurrently ther...      0\n",
       "32  investigate use of cywait in cypress specscywa...      1\n",
       "33  convert all strings 00000 to chain specific va...      1\n",
       "34  seperate the set up process in the gh action f...      0\n",
       "35  on premise gl is sometimes unavailable during ...      0\n",
       "36  make sure integration tests are running with i...      0\n",
       "37  enable packages to provide their own formatter...      0\n",
       "38  integration tests without sudo callsafter main...      0\n",
       "39  cover references panel codemirror side blob wi...      0\n",
       "40  create a schema in flask framework for restful...      1\n",
       "41  task increase unit test coverage of create clu...      1\n",
       "42  convert existing locale strings to use context...      1\n",
       "43  run happy path integration tests only on pushm...      0\n",
       "44  task improve bottlerocket integration tests wh...      0\n",
       "45  can run a widget notebook twice is failing int...      0\n",
       "46  rfe wrangler should provide mock interfaces fo...      0\n",
       "47  various discrepancies between huron and sharep...      1\n",
       "48  use nextjs pages for existing routes descripti...      1"
      ]
     },
     "execution_count": 9,
     "metadata": {},
     "output_type": "execute_result"
    }
   ],
   "source": [
    "data_test_set = pd.read_csv(\"testset_test_or_not_test_clean.csv\" , index_col = 0)\n",
    "data_test_set"
   ]
  },
  {
   "cell_type": "code",
   "execution_count": 10,
   "id": "13a6a7cd-4d14-4bab-83da-6f7d37604a6d",
   "metadata": {
    "tags": []
   },
   "outputs": [],
   "source": [
    "# Smaller and faster than bert.\n",
    "base_model_id = \"distilbert-base-uncased\"\n",
    "\n",
    "epochs = 5 #Number of full cyles through the training set.\n",
    "num_labels = 2 \n",
    "learning_rate = 5e-5 # Rate the model updates based on the data its trained on.\n",
    "train_batch_size = 16 # Number of training examples in one iteration.\n",
    "eval_batch_size = 32 # Number evalutaion examples in on iteratoion.\n",
    "save_strategy = \"no\" # Should the model be saved automatically during training.\n",
    "save_steps = 500 # How often to save the model during training. No effect since no over.\n",
    "logging_steps = 100\n",
    "model_dir = \"./model\" #Where to save model\n",
    "\n",
    "# Use early stopping to prevent overfitting\n",
    "#load_best_model_at_end=True\n",
    "#metric_for_best_model=\"eval_loss\"\n",
    "#greater_is_better=False"
   ]
  },
  {
   "cell_type": "code",
   "execution_count": 11,
   "id": "644b3194-eb30-4222-814b-cc3d063cbc6d",
   "metadata": {
    "tags": []
   },
   "outputs": [],
   "source": [
    "# Split dataframe into three parts: training, validation and testing.\n",
    "def train_validate_test_split(df, train_percent=.8, validate_percent=.1, seed=42):\n",
    "    np.random.seed(seed)\n",
    "    # Shuffle index of dataframe\n",
    "    perm = np.random.permutation(df.index)\n",
    "    \n",
    "    df_length = len(df.index)\n",
    "    \n",
    "    # Number of row in training set\n",
    "    train_end = int(train_percent * df_length)\n",
    "    # Number of rows in validate set\n",
    "    validate_end = int(validate_percent * df_length) + train_end\n",
    "    \n",
    "    # From start to train end\n",
    "    train = df.iloc[perm[:train_end]]\n",
    "    # From train_end to validate_end\n",
    "    validate = df.iloc[perm[train_end:validate_end]]\n",
    "    # From validate to the last row in dataframe.\n",
    "    test = df.iloc[perm[validate_end:]]\n",
    "    return train, validate, test"
   ]
  },
  {
   "cell_type": "code",
   "execution_count": 12,
   "id": "4092bcdd-287a-4821-9683-ca3f1907f564",
   "metadata": {
    "tags": []
   },
   "outputs": [],
   "source": [
    "# Drops rows with missing values\n",
    "data.dropna(inplace=True)"
   ]
  },
  {
   "cell_type": "code",
   "execution_count": 13,
   "id": "c9d44b78-2434-459c-b4b8-ca5dce978910",
   "metadata": {
    "tags": []
   },
   "outputs": [
    {
     "data": {
      "text/html": [
       "<div>\n",
       "<style scoped>\n",
       "    .dataframe tbody tr th:only-of-type {\n",
       "        vertical-align: middle;\n",
       "    }\n",
       "\n",
       "    .dataframe tbody tr th {\n",
       "        vertical-align: top;\n",
       "    }\n",
       "\n",
       "    .dataframe thead th {\n",
       "        text-align: right;\n",
       "    }\n",
       "</style>\n",
       "<table border=\"1\" class=\"dataframe\">\n",
       "  <thead>\n",
       "    <tr style=\"text-align: right;\">\n",
       "      <th></th>\n",
       "      <th>index</th>\n",
       "      <th>text_clean</th>\n",
       "      <th>label</th>\n",
       "    </tr>\n",
       "  </thead>\n",
       "  <tbody>\n",
       "    <tr>\n",
       "      <th>0</th>\n",
       "      <td>0</td>\n",
       "      <td>cover anvil service response in unit testshttp...</td>\n",
       "      <td>0</td>\n",
       "    </tr>\n",
       "    <tr>\n",
       "      <th>1</th>\n",
       "      <td>1</td>\n",
       "      <td>service apprepositorycontroller should be cach...</td>\n",
       "      <td>0</td>\n",
       "    </tr>\n",
       "    <tr>\n",
       "      <th>2</th>\n",
       "      <td>2</td>\n",
       "      <td>many caches persist between test casesan examp...</td>\n",
       "      <td>0</td>\n",
       "    </tr>\n",
       "    <tr>\n",
       "      <th>3</th>\n",
       "      <td>3</td>\n",
       "      <td>improve friendliness of behat text pattern mat...</td>\n",
       "      <td>0</td>\n",
       "    </tr>\n",
       "    <tr>\n",
       "      <th>4</th>\n",
       "      <td>4</td>\n",
       "      <td>run e2e tests for prs is your feature request ...</td>\n",
       "      <td>0</td>\n",
       "    </tr>\n",
       "    <tr>\n",
       "      <th>...</th>\n",
       "      <td>...</td>\n",
       "      <td>...</td>\n",
       "      <td>...</td>\n",
       "    </tr>\n",
       "    <tr>\n",
       "      <th>437</th>\n",
       "      <td>437</td>\n",
       "      <td>need to refractor create addresses functionali...</td>\n",
       "      <td>1</td>\n",
       "    </tr>\n",
       "    <tr>\n",
       "      <th>438</th>\n",
       "      <td>438</td>\n",
       "      <td>decouple asset lambda with messagebus 1246 124...</td>\n",
       "      <td>1</td>\n",
       "    </tr>\n",
       "    <tr>\n",
       "      <th>439</th>\n",
       "      <td>439</td>\n",
       "      <td>remove helm chart from werft publish release j...</td>\n",
       "      <td>1</td>\n",
       "    </tr>\n",
       "    <tr>\n",
       "      <th>440</th>\n",
       "      <td>440</td>\n",
       "      <td>add the ability to create new pages or section...</td>\n",
       "      <td>1</td>\n",
       "    </tr>\n",
       "    <tr>\n",
       "      <th>441</th>\n",
       "      <td>441</td>\n",
       "      <td>urllinker is not quite maintainedwe should try...</td>\n",
       "      <td>1</td>\n",
       "    </tr>\n",
       "  </tbody>\n",
       "</table>\n",
       "<p>442 rows × 3 columns</p>\n",
       "</div>"
      ],
      "text/plain": [
       "     index                                         text_clean  label\n",
       "0        0  cover anvil service response in unit testshttp...      0\n",
       "1        1  service apprepositorycontroller should be cach...      0\n",
       "2        2  many caches persist between test casesan examp...      0\n",
       "3        3  improve friendliness of behat text pattern mat...      0\n",
       "4        4  run e2e tests for prs is your feature request ...      0\n",
       "..     ...                                                ...    ...\n",
       "437    437  need to refractor create addresses functionali...      1\n",
       "438    438  decouple asset lambda with messagebus 1246 124...      1\n",
       "439    439  remove helm chart from werft publish release j...      1\n",
       "440    440  add the ability to create new pages or section...      1\n",
       "441    441  urllinker is not quite maintainedwe should try...      1\n",
       "\n",
       "[442 rows x 3 columns]"
      ]
     },
     "execution_count": 13,
     "metadata": {},
     "output_type": "execute_result"
    }
   ],
   "source": [
    "# Resets the index after dropping rows\n",
    "data.reset_index(inplace=True)\n",
    "data"
   ]
  },
  {
   "cell_type": "code",
   "execution_count": 14,
   "id": "30b0fa64-3922-46ca-a721-3dfbcb8b3ea3",
   "metadata": {
    "tags": []
   },
   "outputs": [],
   "source": [
    "#Drops the index col, better for managint the data.\n",
    "data.drop(columns= [\"index\"], inplace = True)"
   ]
  },
  {
   "cell_type": "code",
   "execution_count": 15,
   "id": "2398a175-37bb-41a9-ab9c-c86b0b890906",
   "metadata": {
    "tags": []
   },
   "outputs": [
    {
     "data": {
      "text/html": [
       "<div>\n",
       "<style scoped>\n",
       "    .dataframe tbody tr th:only-of-type {\n",
       "        vertical-align: middle;\n",
       "    }\n",
       "\n",
       "    .dataframe tbody tr th {\n",
       "        vertical-align: top;\n",
       "    }\n",
       "\n",
       "    .dataframe thead th {\n",
       "        text-align: right;\n",
       "    }\n",
       "</style>\n",
       "<table border=\"1\" class=\"dataframe\">\n",
       "  <thead>\n",
       "    <tr style=\"text-align: right;\">\n",
       "      <th></th>\n",
       "      <th>text_clean</th>\n",
       "      <th>label</th>\n",
       "    </tr>\n",
       "  </thead>\n",
       "  <tbody>\n",
       "    <tr>\n",
       "      <th>0</th>\n",
       "      <td>cover anvil service response in unit testshttp...</td>\n",
       "      <td>0</td>\n",
       "    </tr>\n",
       "    <tr>\n",
       "      <th>1</th>\n",
       "      <td>service apprepositorycontroller should be cach...</td>\n",
       "      <td>0</td>\n",
       "    </tr>\n",
       "    <tr>\n",
       "      <th>2</th>\n",
       "      <td>many caches persist between test casesan examp...</td>\n",
       "      <td>0</td>\n",
       "    </tr>\n",
       "    <tr>\n",
       "      <th>3</th>\n",
       "      <td>improve friendliness of behat text pattern mat...</td>\n",
       "      <td>0</td>\n",
       "    </tr>\n",
       "    <tr>\n",
       "      <th>4</th>\n",
       "      <td>run e2e tests for prs is your feature request ...</td>\n",
       "      <td>0</td>\n",
       "    </tr>\n",
       "    <tr>\n",
       "      <th>...</th>\n",
       "      <td>...</td>\n",
       "      <td>...</td>\n",
       "    </tr>\n",
       "    <tr>\n",
       "      <th>437</th>\n",
       "      <td>need to refractor create addresses functionali...</td>\n",
       "      <td>1</td>\n",
       "    </tr>\n",
       "    <tr>\n",
       "      <th>438</th>\n",
       "      <td>decouple asset lambda with messagebus 1246 124...</td>\n",
       "      <td>1</td>\n",
       "    </tr>\n",
       "    <tr>\n",
       "      <th>439</th>\n",
       "      <td>remove helm chart from werft publish release j...</td>\n",
       "      <td>1</td>\n",
       "    </tr>\n",
       "    <tr>\n",
       "      <th>440</th>\n",
       "      <td>add the ability to create new pages or section...</td>\n",
       "      <td>1</td>\n",
       "    </tr>\n",
       "    <tr>\n",
       "      <th>441</th>\n",
       "      <td>urllinker is not quite maintainedwe should try...</td>\n",
       "      <td>1</td>\n",
       "    </tr>\n",
       "  </tbody>\n",
       "</table>\n",
       "<p>442 rows × 2 columns</p>\n",
       "</div>"
      ],
      "text/plain": [
       "                                            text_clean  label\n",
       "0    cover anvil service response in unit testshttp...      0\n",
       "1    service apprepositorycontroller should be cach...      0\n",
       "2    many caches persist between test casesan examp...      0\n",
       "3    improve friendliness of behat text pattern mat...      0\n",
       "4    run e2e tests for prs is your feature request ...      0\n",
       "..                                                 ...    ...\n",
       "437  need to refractor create addresses functionali...      1\n",
       "438  decouple asset lambda with messagebus 1246 124...      1\n",
       "439  remove helm chart from werft publish release j...      1\n",
       "440  add the ability to create new pages or section...      1\n",
       "441  urllinker is not quite maintainedwe should try...      1\n",
       "\n",
       "[442 rows x 2 columns]"
      ]
     },
     "execution_count": 15,
     "metadata": {},
     "output_type": "execute_result"
    }
   ],
   "source": [
    "data\n"
   ]
  },
  {
   "cell_type": "code",
   "execution_count": 16,
   "id": "02787dd7-7866-4243-9bd5-40c661ad1083",
   "metadata": {
    "tags": []
   },
   "outputs": [],
   "source": [
    "# 80% trainig, 10% validate, 10% test. Seed 42.\n",
    "# Test 80-10-10 and 70-15-15\n",
    "train , validate , test = train_validate_test_split(data)\n"
   ]
  },
  {
   "cell_type": "code",
   "execution_count": 17,
   "id": "f2de236c-d091-451b-b157-af18a4b9dd4c",
   "metadata": {
    "tags": []
   },
   "outputs": [],
   "source": [
    "train.set_index(\"label\" , inplace = True)\n",
    "validate.set_index(\"label\" , inplace = True)\n",
    "test.set_index(\"label\" , inplace = True)"
   ]
  },
  {
   "cell_type": "code",
   "execution_count": 18,
   "id": "9b346d9c-1417-466d-9e94-7bd373ba3056",
   "metadata": {
    "tags": []
   },
   "outputs": [
    {
     "data": {
      "text/html": [
       "<div>\n",
       "<style scoped>\n",
       "    .dataframe tbody tr th:only-of-type {\n",
       "        vertical-align: middle;\n",
       "    }\n",
       "\n",
       "    .dataframe tbody tr th {\n",
       "        vertical-align: top;\n",
       "    }\n",
       "\n",
       "    .dataframe thead th {\n",
       "        text-align: right;\n",
       "    }\n",
       "</style>\n",
       "<table border=\"1\" class=\"dataframe\">\n",
       "  <thead>\n",
       "    <tr style=\"text-align: right;\">\n",
       "      <th></th>\n",
       "      <th>text_clean</th>\n",
       "    </tr>\n",
       "    <tr>\n",
       "      <th>label</th>\n",
       "      <th></th>\n",
       "    </tr>\n",
       "  </thead>\n",
       "  <tbody>\n",
       "    <tr>\n",
       "      <th>1</th>\n",
       "      <td>create a team on ibm cloudas a maintainer of t...</td>\n",
       "    </tr>\n",
       "    <tr>\n",
       "      <th>1</th>\n",
       "      <td>remove support for nodejs 14 until end of apr...</td>\n",
       "    </tr>\n",
       "    <tr>\n",
       "      <th>0</th>\n",
       "      <td>flaky test debug a cell from a python file1 in...</td>\n",
       "    </tr>\n",
       "    <tr>\n",
       "      <th>1</th>\n",
       "      <td>fix all cstyle casting warningscurrently there...</td>\n",
       "    </tr>\n",
       "    <tr>\n",
       "      <th>0</th>\n",
       "      <td>add unit tests for cluster delete with namedes...</td>\n",
       "    </tr>\n",
       "    <tr>\n",
       "      <th>0</th>\n",
       "      <td>projectutilswaituntilnobuilderrorsproject time...</td>\n",
       "    </tr>\n",
       "    <tr>\n",
       "      <th>0</th>\n",
       "      <td>ranchercomponents new versionrelates to ranche...</td>\n",
       "    </tr>\n",
       "    <tr>\n",
       "      <th>1</th>\n",
       "      <td>decouple asset lambda with messagebus 1246 124...</td>\n",
       "    </tr>\n",
       "    <tr>\n",
       "      <th>0</th>\n",
       "      <td>flaky e2e test detected communitycarecypresss...</td>\n",
       "    </tr>\n",
       "    <tr>\n",
       "      <th>0</th>\n",
       "      <td>test carousel and slideshow widgetsthis issue ...</td>\n",
       "    </tr>\n",
       "    <tr>\n",
       "      <th>0</th>\n",
       "      <td>benchmarking of resource constrained environme...</td>\n",
       "    </tr>\n",
       "    <tr>\n",
       "      <th>0</th>\n",
       "      <td>avoid querying decorations in testingdecoratio...</td>\n",
       "    </tr>\n",
       "    <tr>\n",
       "      <th>1</th>\n",
       "      <td>deployment to cloudas a user i want the vcount...</td>\n",
       "    </tr>\n",
       "    <tr>\n",
       "      <th>1</th>\n",
       "      <td>ci investigate how to cache maven dependencies...</td>\n",
       "    </tr>\n",
       "    <tr>\n",
       "      <th>1</th>\n",
       "      <td>tech debt remove deprecated componentsas part ...</td>\n",
       "    </tr>\n",
       "    <tr>\n",
       "      <th>0</th>\n",
       "      <td>generate coverage value for both unit and e2e ...</td>\n",
       "    </tr>\n",
       "    <tr>\n",
       "      <th>1</th>\n",
       "      <td>investigate and replace namespace filtering lo...</td>\n",
       "    </tr>\n",
       "    <tr>\n",
       "      <th>0</th>\n",
       "      <td>tech debt e2e testsgoals configure e2e tests t...</td>\n",
       "    </tr>\n",
       "    <tr>\n",
       "      <th>1</th>\n",
       "      <td>enable tests using wiremockwiremock is not com...</td>\n",
       "    </tr>\n",
       "    <tr>\n",
       "      <th>0</th>\n",
       "      <td>testinitgensis needs a second look problem whi...</td>\n",
       "    </tr>\n",
       "    <tr>\n",
       "      <th>1</th>\n",
       "      <td>fix justmycodefalse for interactive window deb...</td>\n",
       "    </tr>\n",
       "    <tr>\n",
       "      <th>1</th>\n",
       "      <td>update metabase link in cif dashboard 8descrip...</td>\n",
       "    </tr>\n",
       "    <tr>\n",
       "      <th>1</th>\n",
       "      <td>complete deploy service to cloud the database ...</td>\n",
       "    </tr>\n",
       "    <tr>\n",
       "      <th>1</th>\n",
       "      <td>nginx upgrade what is the problem when i upgra...</td>\n",
       "    </tr>\n",
       "    <tr>\n",
       "      <th>1</th>\n",
       "      <td>duplicate calls in studio or task contextloadi...</td>\n",
       "    </tr>\n",
       "    <tr>\n",
       "      <th>1</th>\n",
       "      <td>double check if we can pattern out false posit...</td>\n",
       "    </tr>\n",
       "    <tr>\n",
       "      <th>0</th>\n",
       "      <td>macos smoke test is consistently failing on ci...</td>\n",
       "    </tr>\n",
       "    <tr>\n",
       "      <th>0</th>\n",
       "      <td>dockerrunsuitetesttruncatereturn is not finish...</td>\n",
       "    </tr>\n",
       "    <tr>\n",
       "      <th>0</th>\n",
       "      <td>task increase test coverage of addons descript...</td>\n",
       "    </tr>\n",
       "    <tr>\n",
       "      <th>1</th>\n",
       "      <td>setup test automationafter merging 206 we shou...</td>\n",
       "    </tr>\n",
       "    <tr>\n",
       "      <th>0</th>\n",
       "      <td>only clean up files on test successdescribe ex...</td>\n",
       "    </tr>\n",
       "    <tr>\n",
       "      <th>1</th>\n",
       "      <td>remove transform expansionwhile a creative sol...</td>\n",
       "    </tr>\n",
       "    <tr>\n",
       "      <th>0</th>\n",
       "      <td>vs code unskip flaky tests in feature branchin...</td>\n",
       "    </tr>\n",
       "    <tr>\n",
       "      <th>1</th>\n",
       "      <td>implement reader capabilities as base classes...</td>\n",
       "    </tr>\n",
       "    <tr>\n",
       "      <th>0</th>\n",
       "      <td>tests saverestore iptables ruleswhen the clust...</td>\n",
       "    </tr>\n",
       "    <tr>\n",
       "      <th>0</th>\n",
       "      <td>test when switching from remote to local then ...</td>\n",
       "    </tr>\n",
       "    <tr>\n",
       "      <th>1</th>\n",
       "      <td>urllinker is not quite maintainedwe should try...</td>\n",
       "    </tr>\n",
       "    <tr>\n",
       "      <th>0</th>\n",
       "      <td>improve test coverage of setcapabilityoffsets ...</td>\n",
       "    </tr>\n",
       "    <tr>\n",
       "      <th>0</th>\n",
       "      <td>add testing pipelinecurrently developers modif...</td>\n",
       "    </tr>\n",
       "    <tr>\n",
       "      <th>0</th>\n",
       "      <td>write a test for cdktf provider add upgrade fo...</td>\n",
       "    </tr>\n",
       "    <tr>\n",
       "      <th>0</th>\n",
       "      <td>add clang as a compiler for unit testsclang ca...</td>\n",
       "    </tr>\n",
       "    <tr>\n",
       "      <th>1</th>\n",
       "      <td>ci add performance testing automation and make...</td>\n",
       "    </tr>\n",
       "    <tr>\n",
       "      <th>1</th>\n",
       "      <td>find replace find all replace all add keyboard...</td>\n",
       "    </tr>\n",
       "    <tr>\n",
       "      <th>1</th>\n",
       "      <td>shelliomanagercreatecompatibleresourceloadingc...</td>\n",
       "    </tr>\n",
       "    <tr>\n",
       "      <th>0</th>\n",
       "      <td>jetbrains integration tests fail silently for ...</td>\n",
       "    </tr>\n",
       "  </tbody>\n",
       "</table>\n",
       "</div>"
      ],
      "text/plain": [
       "                                              text_clean\n",
       "label                                                   \n",
       "1      create a team on ibm cloudas a maintainer of t...\n",
       "1       remove support for nodejs 14 until end of apr...\n",
       "0      flaky test debug a cell from a python file1 in...\n",
       "1      fix all cstyle casting warningscurrently there...\n",
       "0      add unit tests for cluster delete with namedes...\n",
       "0      projectutilswaituntilnobuilderrorsproject time...\n",
       "0      ranchercomponents new versionrelates to ranche...\n",
       "1      decouple asset lambda with messagebus 1246 124...\n",
       "0       flaky e2e test detected communitycarecypresss...\n",
       "0      test carousel and slideshow widgetsthis issue ...\n",
       "0      benchmarking of resource constrained environme...\n",
       "0      avoid querying decorations in testingdecoratio...\n",
       "1      deployment to cloudas a user i want the vcount...\n",
       "1      ci investigate how to cache maven dependencies...\n",
       "1      tech debt remove deprecated componentsas part ...\n",
       "0      generate coverage value for both unit and e2e ...\n",
       "1      investigate and replace namespace filtering lo...\n",
       "0      tech debt e2e testsgoals configure e2e tests t...\n",
       "1      enable tests using wiremockwiremock is not com...\n",
       "0      testinitgensis needs a second look problem whi...\n",
       "1      fix justmycodefalse for interactive window deb...\n",
       "1      update metabase link in cif dashboard 8descrip...\n",
       "1      complete deploy service to cloud the database ...\n",
       "1      nginx upgrade what is the problem when i upgra...\n",
       "1      duplicate calls in studio or task contextloadi...\n",
       "1      double check if we can pattern out false posit...\n",
       "0      macos smoke test is consistently failing on ci...\n",
       "0      dockerrunsuitetesttruncatereturn is not finish...\n",
       "0      task increase test coverage of addons descript...\n",
       "1      setup test automationafter merging 206 we shou...\n",
       "0      only clean up files on test successdescribe ex...\n",
       "1      remove transform expansionwhile a creative sol...\n",
       "0      vs code unskip flaky tests in feature branchin...\n",
       "1       implement reader capabilities as base classes...\n",
       "0      tests saverestore iptables ruleswhen the clust...\n",
       "0      test when switching from remote to local then ...\n",
       "1      urllinker is not quite maintainedwe should try...\n",
       "0      improve test coverage of setcapabilityoffsets ...\n",
       "0      add testing pipelinecurrently developers modif...\n",
       "0      write a test for cdktf provider add upgrade fo...\n",
       "0      add clang as a compiler for unit testsclang ca...\n",
       "1      ci add performance testing automation and make...\n",
       "1      find replace find all replace all add keyboard...\n",
       "1      shelliomanagercreatecompatibleresourceloadingc...\n",
       "0      jetbrains integration tests fail silently for ..."
      ]
     },
     "execution_count": 18,
     "metadata": {},
     "output_type": "execute_result"
    }
   ],
   "source": [
    "test"
   ]
  },
  {
   "cell_type": "code",
   "execution_count": 19,
   "id": "2303a1e0-4e3c-4a66-936e-84ee7b73e8a1",
   "metadata": {
    "tags": []
   },
   "outputs": [
    {
     "data": {
      "text/plain": [
       "DatasetDict({\n",
       "    test: Dataset({\n",
       "        features: ['text_clean', 'label'],\n",
       "        num_rows: 45\n",
       "    })\n",
       "    train: Dataset({\n",
       "        features: ['text_clean', 'label'],\n",
       "        num_rows: 353\n",
       "    })\n",
       "    validate: Dataset({\n",
       "        features: ['text_clean', 'label'],\n",
       "        num_rows: 44\n",
       "    })\n",
       "    separate_test_set: Dataset({\n",
       "        features: ['text_clean', 'label', '__index_level_0__'],\n",
       "        num_rows: 49\n",
       "    })\n",
       "})"
      ]
     },
     "execution_count": 19,
     "metadata": {},
     "output_type": "execute_result"
    }
   ],
   "source": [
    "# Convert from Pandas DataFrame to Hugging Face datasets\n",
    "tds = Dataset.from_pandas(train)\n",
    "vds = Dataset.from_pandas(validate)\n",
    "testds = Dataset.from_pandas(test)\n",
    "\n",
    "separate_test_set = Dataset.from_pandas(data_test_set)\n",
    "ds = DatasetDict()\n",
    "\n",
    "ds[\"test\"] = testds\n",
    "ds[\"train\"] = tds\n",
    "ds[\"validate\"] = vds\n",
    "ds[\"separate_test_set\"] = separate_test_set\n",
    "\n",
    "ds"
   ]
  },
  {
   "cell_type": "code",
   "execution_count": 20,
   "id": "975863f4-f4b2-43cd-941b-83e7486da7d9",
   "metadata": {
    "tags": []
   },
   "outputs": [],
   "source": [
    "train_dataset = ds[\"train\"]\n",
    "valid_dataset = ds[\"validate\"]\n",
    "test_ds = ds[\"test\"]\n",
    "separate_test_set_dataset = ds[\"separate_test_set\"]"
   ]
  },
  {
   "cell_type": "code",
   "execution_count": 21,
   "id": "5bceaba9-3261-4a04-88be-831d51fac6c9",
   "metadata": {
    "tags": []
   },
   "outputs": [
    {
     "data": {
      "text/plain": [
       "{'text_clean': 'use jsonspecscgroupparsingjson input in unit testsin httpsgithubcomelasticapmagentdotnetpull1833 jsonspec input files were synced into the apmagentdotnet repository however there are no tests yet which make use of these data the goal of this issue is to add new unit tests which have the json test definitions in cgroupparsingjsonhttpsgithubcomelasticapmagentdotnetblobmaintestelasticapmteststestresourcesjsonspecscgroupparsingjson as their input',\n",
       " 'label': 1}"
      ]
     },
     "execution_count": 21,
     "metadata": {},
     "output_type": "execute_result"
    }
   ],
   "source": [
    "ds[\"train\"][0]"
   ]
  },
  {
   "cell_type": "code",
   "execution_count": 22,
   "id": "054ea27f-3b88-4cb1-b02f-1d12a82ec193",
   "metadata": {
    "tags": []
   },
   "outputs": [],
   "source": [
    "def compute_metrics(pred):\n",
    "    labels = pred.label_ids\n",
    "    preds = pred.predictions.argmax(-1)\n",
    "    precision, recall, f1, _ = precision_recall_fscore_support(labels, preds)\n",
    "    acc = accuracy_score(labels, preds)\n",
    "    return {\"accuracy\": acc, \"f1\": f1, \"precision\": precision, \"recall\": recall}"
   ]
  },
  {
   "cell_type": "code",
   "execution_count": 23,
   "id": "e6de1f9e-9ea1-42d6-b2f6-8448d962abe0",
   "metadata": {
    "tags": []
   },
   "outputs": [
    {
     "name": "stderr",
     "output_type": "stream",
     "text": [
      "Some weights of DistilBertForSequenceClassification were not initialized from the model checkpoint at distilbert-base-uncased and are newly initialized: ['classifier.bias', 'classifier.weight', 'pre_classifier.bias', 'pre_classifier.weight']\n",
      "You should probably TRAIN this model on a down-stream task to be able to use it for predictions and inference.\n"
     ]
    }
   ],
   "source": [
    "device = torch.device(\"cuda\" if torch.cuda.is_available() else \"cpu\")\n",
    "model = AutoModelForSequenceClassification.from_pretrained(base_model_id, num_labels=num_labels)\n"
   ]
  },
  {
   "cell_type": "markdown",
   "id": "2102ca1b-6573-4b17-bd8b-ab8ebfdf189c",
   "metadata": {},
   "source": [
    "# Tokanization"
   ]
  },
  {
   "cell_type": "code",
   "execution_count": 24,
   "id": "f7b61137-9aff-4b4c-b925-3c612e5ca9e5",
   "metadata": {
    "tags": []
   },
   "outputs": [],
   "source": [
    "model_ckpt = \"distilbert-base-uncased\"\n",
    "tokenizer = AutoTokenizer.from_pretrained(model_ckpt)"
   ]
  },
  {
   "cell_type": "code",
   "execution_count": 25,
   "id": "d00c290e-d1fb-4d4b-b8a4-7436e69945b5",
   "metadata": {
    "tags": []
   },
   "outputs": [
    {
     "data": {
      "application/vnd.jupyter.widget-view+json": {
       "model_id": "02804db695f643c3a34d73a501920d25",
       "version_major": 2,
       "version_minor": 0
      },
      "text/plain": [
       "Map:   0%|          | 0/353 [00:00<?, ? examples/s]"
      ]
     },
     "metadata": {},
     "output_type": "display_data"
    },
    {
     "data": {
      "application/vnd.jupyter.widget-view+json": {
       "model_id": "6995012b65ac456fb07d6ba70d9dd187",
       "version_major": 2,
       "version_minor": 0
      },
      "text/plain": [
       "Map:   0%|          | 0/44 [00:00<?, ? examples/s]"
      ]
     },
     "metadata": {},
     "output_type": "display_data"
    },
    {
     "data": {
      "application/vnd.jupyter.widget-view+json": {
       "model_id": "7306506124d54d54abc9cc1aa2481093",
       "version_major": 2,
       "version_minor": 0
      },
      "text/plain": [
       "Map:   0%|          | 0/45 [00:00<?, ? examples/s]"
      ]
     },
     "metadata": {},
     "output_type": "display_data"
    },
    {
     "data": {
      "application/vnd.jupyter.widget-view+json": {
       "model_id": "ecb58ca64d534a2bb0e6fbb3ab379dd5",
       "version_major": 2,
       "version_minor": 0
      },
      "text/plain": [
       "Map:   0%|          | 0/49 [00:00<?, ? examples/s]"
      ]
     },
     "metadata": {},
     "output_type": "display_data"
    }
   ],
   "source": [
    "#Tokenize the dataset to the correct input for the transformer model.\n",
    "def tokenize(batch):\n",
    "    return tokenizer(batch[\"text_clean\"], padding=\"max_length\", truncation=True)\n",
    "\n",
    "train_dataset = train_dataset.map(tokenize, batched=True, batch_size=len(train_dataset))\n",
    "valid_dataset = valid_dataset.map(tokenize, batched=True, batch_size=len(valid_dataset))\n",
    "test_dataset = test_ds.map(tokenize, batched=True, batch_size=len(test_ds))\n",
    "separate_test_set_dataset = separate_test_set_dataset.map(tokenize, batched=True, batch_size=len(separate_test_set_dataset))"
   ]
  },
  {
   "cell_type": "code",
   "execution_count": 26,
   "id": "62066e28-3e64-4394-8254-5d33205ce273",
   "metadata": {
    "tags": []
   },
   "outputs": [],
   "source": [
    "training_args = TrainingArguments(\n",
    "    output_dir=model_dir,\n",
    "    num_train_epochs=epochs,\n",
    "    per_device_train_batch_size=train_batch_size,\n",
    "    per_device_eval_batch_size=eval_batch_size,\n",
    "    save_strategy=save_strategy,\n",
    "    save_steps=save_steps,\n",
    "    evaluation_strategy=\"epoch\",\n",
    "    learning_rate=learning_rate,\n",
    "    logging_steps=logging_steps,\n",
    ")"
   ]
  },
  {
   "cell_type": "code",
   "execution_count": 27,
   "id": "f861feb1-3b00-4581-8577-97b41d4a8af5",
   "metadata": {
    "tags": []
   },
   "outputs": [],
   "source": [
    " trainer = Trainer(\n",
    "    model=model,\n",
    "    args=training_args,\n",
    "    tokenizer=tokenizer,\n",
    "    compute_metrics=compute_metrics,\n",
    "    train_dataset=train_dataset,\n",
    "    eval_dataset=valid_dataset,\n",
    ")"
   ]
  },
  {
   "cell_type": "code",
   "execution_count": 28,
   "id": "8da21617-2244-4441-835a-8fc1ce2b7772",
   "metadata": {},
   "outputs": [
    {
     "data": {
      "text/html": [
       "\n",
       "    <div>\n",
       "      \n",
       "      <progress value='115' max='115' style='width:300px; height:20px; vertical-align: middle;'></progress>\n",
       "      [115/115 00:38, Epoch 5/5]\n",
       "    </div>\n",
       "    <table border=\"1\" class=\"dataframe\">\n",
       "  <thead>\n",
       " <tr style=\"text-align: left;\">\n",
       "      <th>Epoch</th>\n",
       "      <th>Training Loss</th>\n",
       "      <th>Validation Loss</th>\n",
       "      <th>Accuracy</th>\n",
       "      <th>F1</th>\n",
       "      <th>Precision</th>\n",
       "      <th>Recall</th>\n",
       "    </tr>\n",
       "  </thead>\n",
       "  <tbody>\n",
       "    <tr>\n",
       "      <td>1</td>\n",
       "      <td>No log</td>\n",
       "      <td>0.509341</td>\n",
       "      <td>0.818182</td>\n",
       "      <td>[0.78947368 0.84      ]</td>\n",
       "      <td>[0.83333333 0.80769231]</td>\n",
       "      <td>[0.75  0.875]</td>\n",
       "    </tr>\n",
       "    <tr>\n",
       "      <td>2</td>\n",
       "      <td>No log</td>\n",
       "      <td>0.429102</td>\n",
       "      <td>0.863636</td>\n",
       "      <td>[0.83333333 0.88461538]</td>\n",
       "      <td>[0.9375     0.82142857]</td>\n",
       "      <td>[0.75       0.95833333]</td>\n",
       "    </tr>\n",
       "    <tr>\n",
       "      <td>3</td>\n",
       "      <td>No log</td>\n",
       "      <td>0.451753</td>\n",
       "      <td>0.840909</td>\n",
       "      <td>[0.8        0.86792453]</td>\n",
       "      <td>[0.93333333 0.79310345]</td>\n",
       "      <td>[0.7        0.95833333]</td>\n",
       "    </tr>\n",
       "    <tr>\n",
       "      <td>4</td>\n",
       "      <td>No log</td>\n",
       "      <td>0.489809</td>\n",
       "      <td>0.795455</td>\n",
       "      <td>[0.76923077 0.81632653]</td>\n",
       "      <td>[0.78947368 0.8       ]</td>\n",
       "      <td>[0.75       0.83333333]</td>\n",
       "    </tr>\n",
       "    <tr>\n",
       "      <td>5</td>\n",
       "      <td>0.414600</td>\n",
       "      <td>0.505073</td>\n",
       "      <td>0.772727</td>\n",
       "      <td>[0.75       0.79166667]</td>\n",
       "      <td>[0.75       0.79166667]</td>\n",
       "      <td>[0.75       0.79166667]</td>\n",
       "    </tr>\n",
       "  </tbody>\n",
       "</table><p>"
      ],
      "text/plain": [
       "<IPython.core.display.HTML object>"
      ]
     },
     "metadata": {},
     "output_type": "display_data"
    },
    {
     "data": {
      "text/plain": [
       "TrainOutput(global_step=115, training_loss=0.38179699234340503, metrics={'train_runtime': 41.9604, 'train_samples_per_second': 42.063, 'train_steps_per_second': 2.741, 'total_flos': 233804958627840.0, 'train_loss': 0.38179699234340503, 'epoch': 5.0})"
      ]
     },
     "execution_count": 28,
     "metadata": {},
     "output_type": "execute_result"
    }
   ],
   "source": [
    "trainer.train() "
   ]
  },
  {
   "cell_type": "code",
   "execution_count": 29,
   "id": "3ece97dd-c2f8-4e97-80be-90318c176c46",
   "metadata": {
    "tags": []
   },
   "outputs": [
    {
     "data": {
      "text/html": [
       "\n",
       "    <div>\n",
       "      \n",
       "      <progress value='6' max='2' style='width:300px; height:20px; vertical-align: middle;'></progress>\n",
       "      [2/2 00:01]\n",
       "    </div>\n",
       "    "
      ],
      "text/plain": [
       "<IPython.core.display.HTML object>"
      ]
     },
     "metadata": {},
     "output_type": "display_data"
    }
   ],
   "source": [
    "eval_result = trainer.evaluate(eval_dataset=valid_dataset)"
   ]
  },
  {
   "cell_type": "code",
   "execution_count": 30,
   "id": "9d3961b0-680f-4753-a2f8-708c3f408cc0",
   "metadata": {
    "tags": []
   },
   "outputs": [
    {
     "name": "stdout",
     "output_type": "stream",
     "text": [
      "epoch = 5.0\n",
      "\n",
      "eval_accuracy = 0.7727272727272727\n",
      "\n",
      "eval_f1 = [0.75       0.79166667]\n",
      "\n",
      "eval_loss = 0.5050725936889648\n",
      "\n",
      "eval_precision = [0.75       0.79166667]\n",
      "\n",
      "eval_recall = [0.75       0.79166667]\n",
      "\n",
      "eval_runtime = 0.3279\n",
      "\n",
      "eval_samples_per_second = 134.199\n",
      "\n",
      "eval_steps_per_second = 6.1\n",
      "\n"
     ]
    }
   ],
   "source": [
    "for key, value in sorted(eval_result.items()):\n",
    "    print(f\"{key} = {value}\\n\")"
   ]
  },
  {
   "cell_type": "markdown",
   "id": "9c384cc8-1b5e-4161-8f0b-230a3d453637",
   "metadata": {},
   "source": [
    "## Training loss decreases, valdiation loss increases = Overfitting"
   ]
  },
  {
   "cell_type": "code",
   "execution_count": 31,
   "id": "b77cc45b-1d9e-47d7-b73a-c56a4ff77ec7",
   "metadata": {
    "tags": []
   },
   "outputs": [],
   "source": [
    "# Evaluate test data set\n",
    "test_results = trainer.evaluate(eval_dataset=test_dataset)"
   ]
  },
  {
   "cell_type": "code",
   "execution_count": 32,
   "id": "d57397f6-5a08-4562-824e-642b03d0ce3e",
   "metadata": {
    "tags": []
   },
   "outputs": [
    {
     "name": "stdout",
     "output_type": "stream",
     "text": [
      "epoch = 5.0\n",
      "\n",
      "eval_accuracy = 0.8666666666666667\n",
      "\n",
      "eval_f1 = [0.86956522 0.86363636]\n",
      "\n",
      "eval_loss = 0.39644381403923035\n",
      "\n",
      "eval_precision = [0.86956522 0.86363636]\n",
      "\n",
      "eval_recall = [0.86956522 0.86363636]\n",
      "\n",
      "eval_runtime = 0.3289\n",
      "\n",
      "eval_samples_per_second = 136.807\n",
      "\n",
      "eval_steps_per_second = 6.08\n",
      "\n"
     ]
    }
   ],
   "source": [
    "for key, value in sorted(test_results.items()):\n",
    "    print(f\"{key} = {value}\\n\")"
   ]
  },
  {
   "cell_type": "markdown",
   "id": "73018a46-ce85-4b2c-971f-580c684d2ae3",
   "metadata": {},
   "source": [
    "# Test set"
   ]
  },
  {
   "cell_type": "code",
   "execution_count": 33,
   "id": "90cd7bb6-6c93-478f-bbf0-ba28e6e9f9e7",
   "metadata": {
    "tags": []
   },
   "outputs": [],
   "source": [
    "separate_test_set_results = trainer.evaluate(eval_dataset=separate_test_set_dataset)"
   ]
  },
  {
   "cell_type": "code",
   "execution_count": 34,
   "id": "1b2c9011-0a0b-41a4-9890-f8b572201155",
   "metadata": {
    "tags": []
   },
   "outputs": [
    {
     "name": "stdout",
     "output_type": "stream",
     "text": [
      "epoch = 5.0\n",
      "\n",
      "eval_accuracy = 0.8163265306122449\n",
      "\n",
      "eval_f1 = [0.83636364 0.79069767]\n",
      "\n",
      "eval_loss = 0.5959644913673401\n",
      "\n",
      "eval_precision = [0.82142857 0.80952381]\n",
      "\n",
      "eval_recall = [0.85185185 0.77272727]\n",
      "\n",
      "eval_runtime = 0.3527\n",
      "\n",
      "eval_samples_per_second = 138.922\n",
      "\n",
      "eval_steps_per_second = 5.67\n",
      "\n"
     ]
    }
   ],
   "source": [
    "for key, value in sorted(separate_test_set_results.items()):\n",
    "    print(f\"{key} = {value}\\n\")"
   ]
  },
  {
   "cell_type": "code",
   "execution_count": 35,
   "id": "38713ff0-d6c7-4016-a4a8-29a42d65c926",
   "metadata": {
    "tags": []
   },
   "outputs": [],
   "source": [
    "trainer.save_model(model_dir + \"_local\") "
   ]
  },
  {
   "cell_type": "code",
   "execution_count": 36,
   "id": "35467216-6f3d-4e00-a836-2d72510cbfb2",
   "metadata": {
    "tags": []
   },
   "outputs": [],
   "source": [
    "from transformers import pipeline\n",
    "    \n",
    "classifier = pipeline(\"text-classification\", model=\"./model_local\")"
   ]
  },
  {
   "cell_type": "code",
   "execution_count": 37,
   "id": "c63e264c-607c-49ba-b283-d623d47fdb04",
   "metadata": {
    "tags": []
   },
   "outputs": [
    {
     "data": {
      "text/plain": [
       "DistilBertForSequenceClassification(\n",
       "  (distilbert): DistilBertModel(\n",
       "    (embeddings): Embeddings(\n",
       "      (word_embeddings): Embedding(30522, 768, padding_idx=0)\n",
       "      (position_embeddings): Embedding(512, 768)\n",
       "      (LayerNorm): LayerNorm((768,), eps=1e-12, elementwise_affine=True)\n",
       "      (dropout): Dropout(p=0.1, inplace=False)\n",
       "    )\n",
       "    (transformer): Transformer(\n",
       "      (layer): ModuleList(\n",
       "        (0-5): 6 x TransformerBlock(\n",
       "          (attention): MultiHeadSelfAttention(\n",
       "            (dropout): Dropout(p=0.1, inplace=False)\n",
       "            (q_lin): Linear(in_features=768, out_features=768, bias=True)\n",
       "            (k_lin): Linear(in_features=768, out_features=768, bias=True)\n",
       "            (v_lin): Linear(in_features=768, out_features=768, bias=True)\n",
       "            (out_lin): Linear(in_features=768, out_features=768, bias=True)\n",
       "          )\n",
       "          (sa_layer_norm): LayerNorm((768,), eps=1e-12, elementwise_affine=True)\n",
       "          (ffn): FFN(\n",
       "            (dropout): Dropout(p=0.1, inplace=False)\n",
       "            (lin1): Linear(in_features=768, out_features=3072, bias=True)\n",
       "            (lin2): Linear(in_features=3072, out_features=768, bias=True)\n",
       "            (activation): GELUActivation()\n",
       "          )\n",
       "          (output_layer_norm): LayerNorm((768,), eps=1e-12, elementwise_affine=True)\n",
       "        )\n",
       "      )\n",
       "    )\n",
       "  )\n",
       "  (pre_classifier): Linear(in_features=768, out_features=768, bias=True)\n",
       "  (classifier): Linear(in_features=768, out_features=2, bias=True)\n",
       "  (dropout): Dropout(p=0.2, inplace=False)\n",
       ")"
      ]
     },
     "execution_count": 37,
     "metadata": {},
     "output_type": "execute_result"
    }
   ],
   "source": [
    "classifier.model"
   ]
  },
  {
   "cell_type": "code",
   "execution_count": 38,
   "id": "b2246fcd-713c-40bd-9230-63797d2181a1",
   "metadata": {
    "tags": []
   },
   "outputs": [
    {
     "data": {
      "text/plain": [
       "[{'label': 'LABEL_0', 'score': 0.9490121603012085}]"
      ]
     },
     "execution_count": 38,
     "metadata": {},
     "output_type": "execute_result"
    }
   ],
   "source": [
    "classifier(\"this contain bugs regarding testing\")"
   ]
  },
  {
   "cell_type": "code",
   "execution_count": 39,
   "id": "d2e0a903-6900-443a-8c80-c45b798026ee",
   "metadata": {
    "tags": []
   },
   "outputs": [
    {
     "data": {
      "text/plain": [
       "[{'label': 'LABEL_0', 'score': 0.9519818425178528}]"
      ]
     },
     "execution_count": 39,
     "metadata": {},
     "output_type": "execute_result"
    }
   ],
   "source": [
    "classifier(\"this contain bugs regarding automtion not testing\")"
   ]
  },
  {
   "cell_type": "code",
   "execution_count": 40,
   "id": "38318df6-498f-4b6e-983d-4962b18f6179",
   "metadata": {
    "tags": []
   },
   "outputs": [
    {
     "data": {
      "text/plain": [
       "[{'label': 'LABEL_1', 'score': 0.5614379048347473}]"
      ]
     },
     "execution_count": 40,
     "metadata": {},
     "output_type": "execute_result"
    }
   ],
   "source": [
    "classifier(\"this bug has super high impact on the project\")"
   ]
  },
  {
   "cell_type": "code",
   "execution_count": 41,
   "id": "67064e82-b6ec-4e05-8964-79bbc2d45705",
   "metadata": {
    "tags": []
   },
   "outputs": [
    {
     "data": {
      "text/html": [
       "<div>\n",
       "<style scoped>\n",
       "    .dataframe tbody tr th:only-of-type {\n",
       "        vertical-align: middle;\n",
       "    }\n",
       "\n",
       "    .dataframe tbody tr th {\n",
       "        vertical-align: top;\n",
       "    }\n",
       "\n",
       "    .dataframe thead th {\n",
       "        text-align: right;\n",
       "    }\n",
       "</style>\n",
       "<table border=\"1\" class=\"dataframe\">\n",
       "  <thead>\n",
       "    <tr style=\"text-align: right;\">\n",
       "      <th></th>\n",
       "      <th>Unnamed: 0</th>\n",
       "      <th>text_clean</th>\n",
       "      <th>Type</th>\n",
       "    </tr>\n",
       "  </thead>\n",
       "  <tbody>\n",
       "    <tr>\n",
       "      <th>0</th>\n",
       "      <td>0</td>\n",
       "      <td>done next time ill bring a lawyer with me sinc...</td>\n",
       "      <td>1</td>\n",
       "    </tr>\n",
       "    <tr>\n",
       "      <th>1</th>\n",
       "      <td>1</td>\n",
       "      <td>please include a small change in hbaseserver m...</td>\n",
       "      <td>0</td>\n",
       "    </tr>\n",
       "    <tr>\n",
       "      <th>2</th>\n",
       "      <td>2</td>\n",
       "      <td>yeah lets return 0 for the primitive types pat...</td>\n",
       "      <td>0</td>\n",
       "    </tr>\n",
       "    <tr>\n",
       "      <th>3</th>\n",
       "      <td>3</td>\n",
       "      <td>merged to master</td>\n",
       "      <td>1</td>\n",
       "    </tr>\n",
       "    <tr>\n",
       "      <th>4</th>\n",
       "      <td>4</td>\n",
       "      <td>we were missing property in parent pom and cam...</td>\n",
       "      <td>1</td>\n",
       "    </tr>\n",
       "  </tbody>\n",
       "</table>\n",
       "</div>"
      ],
      "text/plain": [
       "   Unnamed: 0                                         text_clean  Type\n",
       "0           0  done next time ill bring a lawyer with me sinc...     1\n",
       "1           1  please include a small change in hbaseserver m...     0\n",
       "2           2  yeah lets return 0 for the primitive types pat...     0\n",
       "3           3                                   merged to master     1\n",
       "4           4  we were missing property in parent pom and cam...     1"
      ]
     },
     "execution_count": 41,
     "metadata": {},
     "output_type": "execute_result"
    }
   ],
   "source": [
    "df = pd.read_csv('External_clean_test_debt_or_not_test.csv')\n",
    "df.head()"
   ]
  },
  {
   "cell_type": "code",
   "execution_count": 42,
   "id": "fe6a148a-9d42-40a9-92f8-e5af0611cb1d",
   "metadata": {
    "tags": []
   },
   "outputs": [],
   "source": [
    "results = []\n",
    "for index, row in df.iterrows():\n",
    "    # Apply the classifier to the clean_text column\n",
    "    prediction = classifier(row['text_clean'])\n",
    "    predicted_label = prediction[0]['label']\n",
    "    prediction_confidence = prediction[0]['score']\n",
    "    \n",
    "    # Append the result as a tuple\n",
    "    results.append((row['text_clean'], row['Type'], predicted_label, prediction_confidence))"
   ]
  },
  {
   "cell_type": "code",
   "execution_count": 43,
   "id": "2721d732-31ab-4743-a43b-33a680e84ba3",
   "metadata": {
    "tags": []
   },
   "outputs": [
    {
     "data": {
      "text/html": [
       "<div>\n",
       "<style scoped>\n",
       "    .dataframe tbody tr th:only-of-type {\n",
       "        vertical-align: middle;\n",
       "    }\n",
       "\n",
       "    .dataframe tbody tr th {\n",
       "        vertical-align: top;\n",
       "    }\n",
       "\n",
       "    .dataframe thead th {\n",
       "        text-align: right;\n",
       "    }\n",
       "</style>\n",
       "<table border=\"1\" class=\"dataframe\">\n",
       "  <thead>\n",
       "    <tr style=\"text-align: right;\">\n",
       "      <th></th>\n",
       "      <th>clean_text</th>\n",
       "      <th>actual_type</th>\n",
       "      <th>predicted_type</th>\n",
       "      <th>prediction_accuracy</th>\n",
       "    </tr>\n",
       "  </thead>\n",
       "  <tbody>\n",
       "    <tr>\n",
       "      <th>0</th>\n",
       "      <td>done next time ill bring a lawyer with me sinc...</td>\n",
       "      <td>1</td>\n",
       "      <td>LABEL_1</td>\n",
       "      <td>0.727563</td>\n",
       "    </tr>\n",
       "    <tr>\n",
       "      <th>1</th>\n",
       "      <td>please include a small change in hbaseserver m...</td>\n",
       "      <td>0</td>\n",
       "      <td>LABEL_0</td>\n",
       "      <td>0.957581</td>\n",
       "    </tr>\n",
       "    <tr>\n",
       "      <th>2</th>\n",
       "      <td>yeah lets return 0 for the primitive types pat...</td>\n",
       "      <td>0</td>\n",
       "      <td>LABEL_0</td>\n",
       "      <td>0.944256</td>\n",
       "    </tr>\n",
       "    <tr>\n",
       "      <th>3</th>\n",
       "      <td>merged to master</td>\n",
       "      <td>1</td>\n",
       "      <td>LABEL_1</td>\n",
       "      <td>0.676842</td>\n",
       "    </tr>\n",
       "    <tr>\n",
       "      <th>4</th>\n",
       "      <td>we were missing property in parent pom and cam...</td>\n",
       "      <td>1</td>\n",
       "      <td>LABEL_1</td>\n",
       "      <td>0.896116</td>\n",
       "    </tr>\n",
       "  </tbody>\n",
       "</table>\n",
       "</div>"
      ],
      "text/plain": [
       "                                          clean_text  actual_type  \\\n",
       "0  done next time ill bring a lawyer with me sinc...            1   \n",
       "1  please include a small change in hbaseserver m...            0   \n",
       "2  yeah lets return 0 for the primitive types pat...            0   \n",
       "3                                   merged to master            1   \n",
       "4  we were missing property in parent pom and cam...            1   \n",
       "\n",
       "  predicted_type  prediction_accuracy  \n",
       "0        LABEL_1             0.727563  \n",
       "1        LABEL_0             0.957581  \n",
       "2        LABEL_0             0.944256  \n",
       "3        LABEL_1             0.676842  \n",
       "4        LABEL_1             0.896116  "
      ]
     },
     "execution_count": 43,
     "metadata": {},
     "output_type": "execute_result"
    }
   ],
   "source": [
    "results_df = pd.DataFrame(results, columns=['clean_text', 'actual_type', 'predicted_type', 'prediction_accuracy'])\n",
    "\n",
    "# Display the first few rows of the results DataFrame\n",
    "results_df.head()"
   ]
  },
  {
   "cell_type": "code",
   "execution_count": 44,
   "id": "b94415a8-c001-46e1-8a3f-92719f58e752",
   "metadata": {
    "tags": []
   },
   "outputs": [
    {
     "name": "stdout",
     "output_type": "stream",
     "text": [
      "Accuracy: 0.8819320214669052\n",
      "Precision: 0.8333333333333334\n",
      "Recall: 0.9302325581395349\n",
      "F1 Score: 0.8791208791208791\n"
     ]
    }
   ],
   "source": [
    "results_df['predicted_type'] = results_df['predicted_type'].apply(lambda x: int(x.split('_')[-1]))\n",
    "y_true = results_df['actual_type']\n",
    "y_pred = results_df['predicted_type']\n",
    "\n",
    "# Calculate accuracy\n",
    "accuracy = accuracy_score(y_true, y_pred)\n",
    "print(f\"Accuracy: {accuracy}\")\n",
    "\n",
    "# Calculate precision, recall, and F1 score\n",
    "precision, recall, f1, _ = precision_recall_fscore_support(y_true, y_pred, average='binary')\n",
    "print(f\"Precision: {precision}\")\n",
    "print(f\"Recall: {recall}\")\n",
    "print(f\"F1 Score: {f1}\")"
   ]
  },
  {
   "cell_type": "markdown",
   "id": "fa24caac-2ca2-45fa-a547-1122d66927d6",
   "metadata": {},
   "source": [
    "### Delete the dataset with large memory"
   ]
  },
  {
   "cell_type": "code",
   "execution_count": 44,
   "id": "0ad0df6f-2507-4be1-a026-43145120c661",
   "metadata": {
    "tags": []
   },
   "outputs": [],
   "source": [
    "del valid_dataset"
   ]
  },
  {
   "cell_type": "code",
   "execution_count": 45,
   "id": "6013e6b7-e0f6-4755-a8ab-0eaabdd95c4a",
   "metadata": {
    "tags": []
   },
   "outputs": [],
   "source": [
    "del model"
   ]
  },
  {
   "cell_type": "code",
   "execution_count": 46,
   "id": "ed059002-d156-431c-8556-c7152abe62ee",
   "metadata": {
    "tags": []
   },
   "outputs": [],
   "source": [
    "# Free cache\n",
    "torch.cuda.empty_cache()"
   ]
  },
  {
   "cell_type": "code",
   "execution_count": 47,
   "id": "86114411-d883-48d6-a960-f90726d8ae2d",
   "metadata": {
    "tags": []
   },
   "outputs": [
    {
     "name": "stdout",
     "output_type": "stream",
     "text": [
      "Thu Feb 22 13:06:23 2024       \n",
      "+---------------------------------------------------------------------------------------+\n",
      "| NVIDIA-SMI 545.23.08              Driver Version: 545.23.08    CUDA Version: 12.3     |\n",
      "|-----------------------------------------+----------------------+----------------------+\n",
      "| GPU  Name                 Persistence-M | Bus-Id        Disp.A | Volatile Uncorr. ECC |\n",
      "| Fan  Temp   Perf          Pwr:Usage/Cap |         Memory-Usage | GPU-Util  Compute M. |\n",
      "|                                         |                      |               MIG M. |\n",
      "|=========================================+======================+======================|\n",
      "|   0  NVIDIA GeForce RTX 3090        On  | 00000000:41:00.0 Off |                  N/A |\n",
      "| 30%   29C    P8              26W / 350W |      6MiB / 24576MiB |      0%      Default |\n",
      "|                                         |                      |                  N/A |\n",
      "+-----------------------------------------+----------------------+----------------------+\n",
      "|   1  NVIDIA GeForce RTX 3090        On  | 00000000:61:00.0 Off |                  N/A |\n",
      "| 30%   39C    P2              57W / 350W |   1335MiB / 24576MiB |      0%      Default |\n",
      "|                                         |                      |                  N/A |\n",
      "+-----------------------------------------+----------------------+----------------------+\n",
      "|   2  NVIDIA GeForce RTX 3090        On  | 00000000:C1:00.0 Off |                  N/A |\n",
      "| 30%   25C    P8              21W / 350W |  19369MiB / 24576MiB |      0%      Default |\n",
      "|                                         |                      |                  N/A |\n",
      "+-----------------------------------------+----------------------+----------------------+\n",
      "|   3  NVIDIA GeForce RTX 3090        On  | 00000000:E1:00.0 Off |                  N/A |\n",
      "| 30%   25C    P8              19W / 350W |      6MiB / 24576MiB |      0%      Default |\n",
      "|                                         |                      |                  N/A |\n",
      "+-----------------------------------------+----------------------+----------------------+\n",
      "                                                                                         \n",
      "+---------------------------------------------------------------------------------------+\n",
      "| Processes:                                                                            |\n",
      "|  GPU   GI   CI        PID   Type   Process name                            GPU Memory |\n",
      "|        ID   ID                                                             Usage      |\n",
      "|=======================================================================================|\n",
      "|    1   N/A  N/A   2016338      C   ...ome/nehad/.conda/envs/dl/bin/python     1326MiB |\n",
      "|    2   N/A  N/A   1492211      C   ...me/karths/.conda/envs/dl/bin/python     8218MiB |\n",
      "|    2   N/A  N/A   1670539      C   ...me/karths/.conda/envs/dl/bin/python    11140MiB |\n",
      "+---------------------------------------------------------------------------------------+\n"
     ]
    }
   ],
   "source": [
    "!nvidia-smi"
   ]
  }
 ],
 "metadata": {
  "kernelspec": {
   "display_name": "Python 3 (ipykernel)",
   "language": "python",
   "name": "python3"
  },
  "language_info": {
   "codemirror_mode": {
    "name": "ipython",
    "version": 3
   },
   "file_extension": ".py",
   "mimetype": "text/x-python",
   "name": "python",
   "nbconvert_exporter": "python",
   "pygments_lexer": "ipython3",
   "version": "3.10.13"
  }
 },
 "nbformat": 4,
 "nbformat_minor": 5
}
