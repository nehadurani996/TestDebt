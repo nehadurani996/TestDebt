{
 "cells": [
  {
   "cell_type": "code",
   "execution_count": 1,
   "id": "532c64b4-0248-4867-8965-174c865d2e4d",
   "metadata": {
    "tags": []
   },
   "outputs": [
    {
     "name": "stderr",
     "output_type": "stream",
     "text": [
      "2024-04-25 18:08:47.303706: I external/local_tsl/tsl/cuda/cudart_stub.cc:32] Could not find cuda drivers on your machine, GPU will not be used.\n",
      "2024-04-25 18:08:47.308710: I external/local_tsl/tsl/cuda/cudart_stub.cc:32] Could not find cuda drivers on your machine, GPU will not be used.\n",
      "2024-04-25 18:08:47.585450: I tensorflow/core/platform/cpu_feature_guard.cc:210] This TensorFlow binary is optimized to use available CPU instructions in performance-critical operations.\n",
      "To enable the following instructions: AVX2 FMA, in other operations, rebuild TensorFlow with the appropriate compiler flags.\n",
      "2024-04-25 18:08:52.688560: W tensorflow/compiler/tf2tensorrt/utils/py_utils.cc:38] TF-TRT Warning: Could not find TensorRT\n",
      "2024-04-25 18:08:59.921728: W tensorflow/core/common_runtime/gpu/gpu_device.cc:2251] Cannot dlopen some GPU libraries. Please make sure the missing libraries mentioned above are installed properly if you would like to use GPU. Follow the guide at https://www.tensorflow.org/install/gpu for how to download and setup the required libraries for your platform.\n",
      "Skipping registering GPU devices...\n",
      "WARNING:absl:Compiled the loaded model, but the compiled metrics have yet to be built. `model.compile_metrics` will be empty until you train or evaluate the model.\n"
     ]
    }
   ],
   "source": [
    "from tensorflow.keras.models import load_model\n",
    "from tensorflow.keras.preprocessing.text import Tokenizer\n",
    "# Load the saved model\n",
    "model = load_model('my_model.h5')\n"
   ]
  },
  {
   "cell_type": "code",
   "execution_count": 2,
   "id": "38c701dd-aeb0-4d10-9416-82e67670023a",
   "metadata": {
    "tags": []
   },
   "outputs": [
    {
     "data": {
      "text/html": [
       "<div>\n",
       "<style scoped>\n",
       "    .dataframe tbody tr th:only-of-type {\n",
       "        vertical-align: middle;\n",
       "    }\n",
       "\n",
       "    .dataframe tbody tr th {\n",
       "        vertical-align: top;\n",
       "    }\n",
       "\n",
       "    .dataframe thead th {\n",
       "        text-align: right;\n",
       "    }\n",
       "</style>\n",
       "<table border=\"1\" class=\"dataframe\">\n",
       "  <thead>\n",
       "    <tr style=\"text-align: right;\">\n",
       "      <th></th>\n",
       "      <th>Unnamed: 0</th>\n",
       "      <th>text_clean</th>\n",
       "      <th>label</th>\n",
       "    </tr>\n",
       "  </thead>\n",
       "  <tbody>\n",
       "    <tr>\n",
       "      <th>0</th>\n",
       "      <td>0</td>\n",
       "      <td>make sure integration tests are running with i...</td>\n",
       "      <td>1</td>\n",
       "    </tr>\n",
       "    <tr>\n",
       "      <th>1</th>\n",
       "      <td>1</td>\n",
       "      <td>cover anvil service response in unit testshttp...</td>\n",
       "      <td>1</td>\n",
       "    </tr>\n",
       "    <tr>\n",
       "      <th>2</th>\n",
       "      <td>2</td>\n",
       "      <td>service apprepositorycontroller should be cach...</td>\n",
       "      <td>1</td>\n",
       "    </tr>\n",
       "    <tr>\n",
       "      <th>3</th>\n",
       "      <td>3</td>\n",
       "      <td>many caches persist between test casesan examp...</td>\n",
       "      <td>1</td>\n",
       "    </tr>\n",
       "    <tr>\n",
       "      <th>4</th>\n",
       "      <td>4</td>\n",
       "      <td>improve friendliness of behat text pattern mat...</td>\n",
       "      <td>1</td>\n",
       "    </tr>\n",
       "  </tbody>\n",
       "</table>\n",
       "</div>"
      ],
      "text/plain": [
       "   Unnamed: 0                                         text_clean  label\n",
       "0           0  make sure integration tests are running with i...      1\n",
       "1           1  cover anvil service response in unit testshttp...      1\n",
       "2           2  service apprepositorycontroller should be cach...      1\n",
       "3           3  many caches persist between test casesan examp...      1\n",
       "4           4  improve friendliness of behat text pattern mat...      1"
      ]
     },
     "execution_count": 2,
     "metadata": {},
     "output_type": "execute_result"
    }
   ],
   "source": [
    "import pandas as pd\n",
    "from tensorflow.keras.preprocessing.sequence import pad_sequences\n",
    "\n",
    "# Load new data\n",
    "new_data_df = pd.read_csv('clean_test_or_not_test_debt.csv')\n",
    "new_data_df.head()\n"
   ]
  },
  {
   "cell_type": "code",
   "execution_count": 3,
   "id": "fd1a3c25-b2f2-4da5-b3f5-fbb1070acf51",
   "metadata": {
    "tags": []
   },
   "outputs": [],
   "source": [
    "new_texts = new_data_df['text_clean'].values  # Adjust column name as necessary\n",
    "tokenizer = Tokenizer(num_words=5000)  # Adjust `num_words` as needed\n",
    "tokenizer.fit_on_texts(new_texts)\n",
    "# Tokenize and pad sequences\n",
    "\n",
    "sequences = tokenizer.texts_to_sequences(new_texts)\n",
    "max_sequence_length = max(len(x) for x in sequences)\n",
    "X_new = pad_sequences(sequences, maxlen=max_sequence_length)"
   ]
  },
  {
   "cell_type": "code",
   "execution_count": 4,
   "id": "964711e5-2c0a-409f-bc2a-eec047839f94",
   "metadata": {
    "tags": []
   },
   "outputs": [
    {
     "name": "stdout",
     "output_type": "stream",
     "text": [
      "\u001b[1m16/16\u001b[0m \u001b[32m━━━━━━━━━━━━━━━━━━━━\u001b[0m\u001b[37m\u001b[0m \u001b[1m1s\u001b[0m 39ms/step\n"
     ]
    }
   ],
   "source": [
    "predictions = model.predict(X_new)\n",
    "predicted_classes = (predictions > 0.5).astype(int).flatten()  # Adjust threshold as needed\n"
   ]
  },
  {
   "cell_type": "code",
   "execution_count": 5,
   "id": "7df970db-c705-4976-9410-93d49c8172cb",
   "metadata": {
    "tags": []
   },
   "outputs": [],
   "source": [
    "new_data_df['predicted_label'] = predicted_classes\n",
    "new_data_df.to_csv('classified_external_data.csv', index=False)\n"
   ]
  },
  {
   "cell_type": "code",
   "execution_count": 6,
   "id": "b9781ac0-87ca-408a-859e-c7a347943ebc",
   "metadata": {
    "tags": []
   },
   "outputs": [],
   "source": [
    "import pandas as pd\n",
    "\n",
    "classified_data_df = pd.read_csv('classified_external_data.csv')\n",
    "y_true = classified_data_df['label'].values\n",
    "y_pred = classified_data_df['predicted_label'].values\n"
   ]
  },
  {
   "cell_type": "code",
   "execution_count": 7,
   "id": "fa04beaf-3add-436d-b1d3-f399a23251ab",
   "metadata": {
    "tags": []
   },
   "outputs": [
    {
     "name": "stdout",
     "output_type": "stream",
     "text": [
      "Accuracy: 0.4531\n",
      "F1 Score: 0.4097\n",
      "Precision: 0.4471\n",
      "Recall: 0.3780\n"
     ]
    }
   ],
   "source": [
    "from sklearn.metrics import accuracy_score, f1_score, precision_score, recall_score\n",
    "\n",
    "accuracy = accuracy_score(y_true, y_pred)\n",
    "f1 = f1_score(y_true, y_pred, average='binary')  # Use 'macro' or 'weighted' for multi-class classification\n",
    "precision = precision_score(y_true, y_pred, average='binary')  # Adjust as necessary\n",
    "recall = recall_score(y_true, y_pred, average='binary')  # Adjust as necessary\n",
    "\n",
    "print(f'Accuracy: {accuracy:.4f}')\n",
    "print(f'F1 Score: {f1:.4f}')\n",
    "print(f'Precision: {precision:.4f}')\n",
    "print(f'Recall: {recall:.4f}')\n"
   ]
  },
  {
   "cell_type": "code",
   "execution_count": null,
   "id": "f05d260e-7a1a-4629-a12c-1ab5cc84327f",
   "metadata": {},
   "outputs": [],
   "source": []
  }
 ],
 "metadata": {
  "kernelspec": {
   "display_name": "Python 3 (ipykernel)",
   "language": "python",
   "name": "python3"
  },
  "language_info": {
   "codemirror_mode": {
    "name": "ipython",
    "version": 3
   },
   "file_extension": ".py",
   "mimetype": "text/x-python",
   "name": "python",
   "nbconvert_exporter": "python",
   "pygments_lexer": "ipython3",
   "version": "3.10.13"
  }
 },
 "nbformat": 4,
 "nbformat_minor": 5
}
