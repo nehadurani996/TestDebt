{
 "cells": [
  {
   "cell_type": "markdown",
   "id": "f07717a6-d297-4b99-a412-62142a8d4d81",
   "metadata": {},
   "source": [
    "# Dataset creation\n",
    "## This notebook will:\n",
    "\n",
    "- Find github issues by label\n",
    "- Remove Technical debt labels\n",
    "- Make a test set\n",
    "- It will produce 4 different dataset:\n",
    "\n",
    "- test/non_test dataset\n",
    "- Test dataset\n",
    "- Debt dataset\n",
    "- Full dataset with nothing removed"
   ]
  },
  {
   "cell_type": "code",
   "execution_count": 1,
   "id": "b72eb1a6-d4f1-48ba-b9d2-fc48126ed990",
   "metadata": {
    "tags": []
   },
   "outputs": [],
   "source": [
    "import pandas as pd\n",
    "import re\n",
    "import os"
   ]
  },
  {
   "cell_type": "code",
   "execution_count": 2,
   "id": "bd3f9691-a437-477f-bc1f-1035a529d832",
   "metadata": {
    "tags": []
   },
   "outputs": [
    {
     "name": "stdout",
     "output_type": "stream",
     "text": [
      "['issues_all_2023-03-11.csv', 'issues_all_2023-02-24.csv', 'issues_all_2022-08-30.csv', 'issues_all_2023-02-10.csv', 'issues_all_2022-08-21.csv', 'issues_all_2022-09-15.csv', 'issues_all_2023-02-26.csv', 'issues_all_2022-09-21.csv', 'issues_all_2022-12-20.csv', 'issues_all_2023-03-13.csv', 'issues_all_2022-09-08.csv', 'issues_all_2022-09-25.csv', 'issues_all_2022-10-01.csv', 'issues_all_2022-08-16.csv', 'issues_all_2022-12-17.csv', 'issues_all_2022-10-13.csv', 'issues_all_2022-09-20.csv', 'issues_all_2022-07-26.csv', 'issues_all_2022-09-28.csv', 'issues_all_2022-09-09.csv', 'issues_all_2023-01-31.csv', 'issues_all_2022-10-30.csv', 'issues_all_2023-02-02.csv', 'issues_all_2023-02-16.csv', 'issues_all_2023-01-15.csv', 'issues_all_2022-08-13.csv', 'issues_all_2023-01-12.csv', 'issues_all_2022-08-19.csv', 'issues_all_2022-09-30.csv', 'issues_all_2022-09-04.csv', 'issues_all_2022-12-05.csv', 'issues_all_2022-08-24.csv', 'issues_all_2023-01-20.csv', 'issues_all_2023-01-05.csv', 'issues_all_2022-08-23.csv', 'issues_all_2023-03-16.csv', 'issues_all_2022-11-11.csv', 'issues_all_2022-09-11.csv', 'issues_all_2022-12-03.csv', 'issues_all_2023-01-01.csv', 'issues_all_2023-03-05.csv', 'issues_all_2023-01-21.csv', 'issues_all_2023-03-23.csv', 'issues_all_2023-03-22.csv', 'issues_all_2022-12-24.csv', 'issues_all_2022-10-22.csv', 'issues_all_2022-10-02.csv', 'issues_all_2022-11-16.csv', 'issues_all_2022-10-16.csv', 'issues_all_2023-01-25.csv', 'issues_all_2022-08-22.csv', 'issues_all_2023-01-11.csv', 'issues_all_2022-11-05.csv', 'issues_all_2022-10-24.csv', 'issues_all_2022-12-07.csv', 'issues_all_2023-03-24.csv', 'issues_all_2022-11-07.csv', 'issues_all_2022-12-16.csv', 'issues_all_2022-12-29.csv', 'issues_all_2022-11-03.csv', 'issues_all_2022-08-06.csv', 'issues_all_2022-10-26.csv', 'issues_all_2023-02-06.csv', 'issues_all_2022-09-18.csv', 'issues_all_2022-10-09.csv', 'issues_all_2022-12-19.csv', 'issues_all_2022-09-13.csv', 'issues_all_2022-12-10.csv', 'issues_all_2023-01-07.csv', 'issues_all_2022-08-03.csv', 'issues_all_2023-01-03.csv', 'issues_all_2023-03-03.csv', 'issues_all_2022-11-08.csv', 'issues_all_2022-12-06.csv', 'issues_all_2022-11-29.csv', 'issues_all_2022-07-28.csv', 'issues_all_2022-11-30.csv', 'issues_all_2023-01-09.csv', 'issues_all_2022-07-27.csv', 'issues_all_2022-12-21.csv', 'issues_all_2023-02-08.csv', 'issues_all_2023-03-09.csv', 'issues_all_2022-08-31.csv', 'issues_all_2023-03-12.csv', 'issues_all_2022-11-20.csv', 'issues_all_2022-09-12.csv', 'issues_all_2023-03-01.csv', 'issues_all_2023-03-28.csv', 'issues_all_2022-11-13.csv', 'issues_all_2022-09-16.csv', 'issues_all_2022-10-12.csv', 'issues_all_2022-12-11.csv', 'issues_all_2022-08-25.csv', 'issues_all_2023-02-15.csv', 'issues_all_2023-01-19.csv', 'issues_all_2022-11-06.csv', 'issues_all_2022-12-25.csv', 'issues_all_2022-10-17.csv', 'issues_all_2022-10-10.csv', 'issues_all_2022-07-31.csv', 'issues_all_2022-11-19.csv', 'issues_all_2023-03-10.csv', 'issues_all_2022-09-05.csv', 'issues_all_2022-11-01.csv', 'issues_all_2022-10-20.csv', 'issues_all_2022-12-09.csv', 'issues_all_2022-10-05.csv', 'issues_all_2022-10-25.csv', 'issues_all_2022-12-01.csv', 'issues_all_2022-11-17.csv', 'issues_all_2022-11-28.csv', 'issues_all_2023-03-04.csv', 'issues_all_2023-02-23.csv', 'issues_all_2023-02-17.csv', 'issues_all_2022-10-23.csv', 'issues_all_2022-09-06.csv', 'issues_all_2022-09-19.csv', 'issues_all_2022-10-07.csv', 'issues_all_2023-01-10.csv', 'issues_all_2023-01-27.csv', 'issues_all_2022-11-09.csv', 'issues_all_2022-12-18.csv', 'issues_all_2023-01-24.csv', 'issues_all_2022-08-09.csv', 'issues_all_2022-12-12.csv', 'issues_all_2023-02-12.csv', 'issues_all_2023-02-05.csv', 'issues_all_2022-07-23.csv', 'issues_all_2023-03-08.csv', 'issues_all_2023-01-18.csv', 'issues_all_2022-09-29.csv', 'issues_all_2022-09-22.csv', 'issues_all_2022-12-22.csv', 'issues_all_2022-08-12.csv', 'issues_all_2022-12-13.csv', 'issues_all_2022-08-15.csv', 'issues_all_2023-02-20.csv', 'issues_all_2023-02-14.csv', 'issues_all_2023-03-20.csv', 'issues_all_2022-12-15.csv', 'issues_all_2022-11-21.csv', 'issues_all_2023-03-07.csv', 'issues_all_2022-11-23.csv', 'issues_all_2023-02-07.csv', 'issues_all_2022-12-08.csv', 'issues_all_2022-08-07.csv', 'issues_all_2023-03-15.csv', 'issues_all_2022-10-11.csv', 'issues_all_2022-10-14.csv', 'issues_all_2023-03-26.csv', 'issues_all_2023-02-27.csv', 'issues_all_2023-01-08.csv', 'issues_all_2022-11-22.csv', 'issues_all_2022-09-26.csv', 'issues_all_2022-11-14.csv', 'issues_all_2022-12-30.csv', 'issues_all_2022-10-31.csv', 'issues_all_2022-10-27.csv', 'issues_all_2023-03-25.csv', 'issues_all_2023-03-31.csv', 'issues_all_2022-12-04.csv', 'issues_all_2022-10-18.csv', 'issues_all_2022-08-10.csv', 'issues_all_2022-08-20.csv', 'issues_all_2023-02-28.csv', 'issues_all_2022-10-19.csv', 'issues_all_2022-12-31.csv', 'issues_all_2022-11-26.csv', 'issues_all_2022-07-22.csv', 'issues_all_2023-01-23.csv', 'issues_all_2023-03-21.csv', 'issues_all_2022-09-23.csv', 'issues_all_2023-03-14.csv', 'issues_all_2023-03-17.csv', 'issues_all_2022-12-28.csv', 'issues_all_2023-01-04.csv', 'issues_all_2022-07-30.csv', 'issues_all_2022-09-07.csv', 'issues_all_2023-01-14.csv', 'issues_all_2023-01-16.csv', 'issues_all_2023-02-21.csv', 'issues_all_2023-03-30.csv', 'issues_all_2022-09-02.csv', 'issues_all_2022-07-29.csv', 'issues_all_2023-02-18.csv', 'issues_all_2023-01-13.csv', 'issues_all_2023-01-06.csv', 'issues_all_2023-02-04.csv', 'issues_all_2022-08-02.csv', 'issues_all_2022-12-27.csv', 'issues_all_2023-01-02.csv', 'issues_all_2022-08-26.csv', 'issues_all_2022-08-27.csv', 'issues_all_2022-08-08.csv', 'issues_all_2023-03-06.csv', 'issues_all_2022-12-26.csv', 'issues_all_2023-01-17.csv', 'issues_all_2022-11-15.csv', 'issues_all_2022-08-01.csv', 'issues_all_2022-08-18.csv', 'issues_all_2023-02-09.csv', 'issues_all_2022-12-02.csv', 'issues_all_2022-09-01.csv', 'issues_all_2023-02-22.csv', 'issues_all_2022-08-04.csv', 'issues_all_2022-09-03.csv', 'issues_all_2022-11-25.csv', 'issues_all_2022-10-21.csv', 'issues_all_2022-11-12.csv', 'issues_all_2022-07-24.csv', 'issues_all_2022-08-17.csv', 'issues_all_2022-08-28.csv', 'issues_all_2022-09-24.csv', 'issues_all_2022-12-14.csv', 'issues_all_2022-11-04.csv', 'issues_all_2022-11-27.csv', 'issues_all_2022-11-18.csv', 'issues_all_2022-10-04.csv', 'issues_all_2023-02-19.csv', 'issues_all_2023-01-28.csv', 'issues_all_2022-08-29.csv', 'issues_all_2023-02-11.csv', 'issues_all_2022-08-05.csv', 'issues_all_2022-11-10.csv', 'issues_all_2023-03-18.csv', 'issues_all_2022-08-14.csv', 'issues_all_2023-03-27.csv', 'issues_all_2022-11-24.csv', 'issues_all_2022-09-17.csv', 'issues_all_2022-12-23.csv', 'issues_all_2023-03-19.csv', 'issues_all_2022-09-14.csv', 'issues_all_2023-01-29.csv', 'issues_all_2022-10-15.csv', 'issues_all_2023-02-01.csv', 'issues_all_2022-10-28.csv', 'issues_all_2023-02-03.csv', 'issues_all_2022-08-11.csv', 'issues_all_2022-11-02.csv', 'issues_all_2023-01-22.csv', 'issues_all_2023-01-26.csv', 'issues_all_2022-10-29.csv', 'issues_all_2023-01-30.csv', 'issues_all_2022-07-25.csv', 'issues_all_2023-02-13.csv', 'issues_all_2022-09-27.csv', 'issues_all_2023-02-25.csv', 'issues_all_2022-10-06.csv', 'issues_all_2023-03-29.csv', 'issues_all_2023-03-02.csv', 'issues_all_2022-10-03.csv', 'issues_all_2022-10-08.csv', 'issues_all_2022-09-10.csv']\n"
     ]
    }
   ],
   "source": [
    "# folder path\n",
    "dir_path = 'Datasets' ## Point to the extracted folder containing all the issues csv files\n",
    "\n",
    "# list to store files\n",
    "res = []\n",
    "\n",
    "# Iterate directory\n",
    "for path in os.listdir(dir_path):\n",
    "    # check if current path is a file\n",
    "    if os.path.isfile(os.path.join(dir_path, path)):\n",
    "        res.append(path)\n",
    "print(res)"
   ]
  },
  {
   "cell_type": "code",
   "execution_count": 4,
   "id": "f730588e-a834-41e3-b745-c3c69748f1b3",
   "metadata": {},
   "outputs": [
    {
     "name": "stdout",
     "output_type": "stream",
     "text": [
      "0/253 Error processing issues_all_2023-03-11.csv: Error tokenizing data. C error: Buffer overflow caught - possible malformed input file.\n",
      "\n"
     ]
    },
    {
     "name": "stderr",
     "output_type": "stream",
     "text": [
      "/tmp/ipykernel_2471092/4062125134.py:13: DtypeWarning: Columns (0,1,2,3,4,5,6,7,8,9) have mixed types. Specify dtype option on import or set low_memory=False.\n",
      "  df = pd.read_csv(file_path, index_col=0)\n"
     ]
    },
    {
     "name": "stdout",
     "output_type": "stream",
     "text": [
      "1/253 Processed: issues_all_2023-02-24.csv \n",
      "2/253 Processed: issues_all_2022-08-30.csv \n"
     ]
    },
    {
     "name": "stderr",
     "output_type": "stream",
     "text": [
      "/tmp/ipykernel_2471092/4062125134.py:13: DtypeWarning: Columns (0,1) have mixed types. Specify dtype option on import or set low_memory=False.\n",
      "  df = pd.read_csv(file_path, index_col=0)\n"
     ]
    },
    {
     "name": "stdout",
     "output_type": "stream",
     "text": [
      "3/253 Processed: issues_all_2023-02-10.csv \n",
      "4/253 Processed: issues_all_2022-08-21.csv \n"
     ]
    },
    {
     "name": "stderr",
     "output_type": "stream",
     "text": [
      "/tmp/ipykernel_2471092/4062125134.py:13: DtypeWarning: Columns (0,2,3,4,5,6,7,8,9) have mixed types. Specify dtype option on import or set low_memory=False.\n",
      "  df = pd.read_csv(file_path, index_col=0)\n"
     ]
    },
    {
     "name": "stdout",
     "output_type": "stream",
     "text": [
      "5/253 Processed: issues_all_2022-09-15.csv \n",
      "6/253 Processed: issues_all_2023-02-26.csv \n",
      "7/253 Processed: issues_all_2022-09-21.csv \n",
      "8/253 Processed: issues_all_2022-12-20.csv \n",
      "9/253 Error processing issues_all_2023-03-13.csv: Error tokenizing data. C error: Buffer overflow caught - possible malformed input file.\n",
      "\n",
      "10/253 Processed: issues_all_2022-09-08.csv \n",
      "11/253 Processed: issues_all_2022-09-25.csv \n",
      "12/253 Processed: issues_all_2022-10-01.csv \n"
     ]
    },
    {
     "name": "stderr",
     "output_type": "stream",
     "text": [
      "/tmp/ipykernel_2471092/4062125134.py:13: DtypeWarning: Columns (0) have mixed types. Specify dtype option on import or set low_memory=False.\n",
      "  df = pd.read_csv(file_path, index_col=0)\n"
     ]
    },
    {
     "name": "stdout",
     "output_type": "stream",
     "text": [
      "13/253 Processed: issues_all_2022-08-16.csv \n",
      "14/253 Processed: issues_all_2022-12-17.csv \n",
      "15/253 Processed: issues_all_2022-10-13.csv \n",
      "16/253 Processed: issues_all_2022-09-20.csv \n",
      "17/253 Processed: issues_all_2022-07-26.csv \n",
      "18/253 Processed: issues_all_2022-09-28.csv \n",
      "19/253 Processed: issues_all_2022-09-09.csv \n"
     ]
    },
    {
     "name": "stderr",
     "output_type": "stream",
     "text": [
      "/tmp/ipykernel_2471092/4062125134.py:13: DtypeWarning: Columns (0,1) have mixed types. Specify dtype option on import or set low_memory=False.\n",
      "  df = pd.read_csv(file_path, index_col=0)\n"
     ]
    },
    {
     "name": "stdout",
     "output_type": "stream",
     "text": [
      "20/253 Processed: issues_all_2023-01-31.csv \n",
      "21/253 Processed: issues_all_2022-10-30.csv \n"
     ]
    },
    {
     "name": "stderr",
     "output_type": "stream",
     "text": [
      "/tmp/ipykernel_2471092/4062125134.py:13: DtypeWarning: Columns (0,1) have mixed types. Specify dtype option on import or set low_memory=False.\n",
      "  df = pd.read_csv(file_path, index_col=0)\n"
     ]
    },
    {
     "name": "stdout",
     "output_type": "stream",
     "text": [
      "22/253 Processed: issues_all_2023-02-02.csv \n"
     ]
    },
    {
     "name": "stderr",
     "output_type": "stream",
     "text": [
      "/tmp/ipykernel_2471092/4062125134.py:13: DtypeWarning: Columns (0,1) have mixed types. Specify dtype option on import or set low_memory=False.\n",
      "  df = pd.read_csv(file_path, index_col=0)\n"
     ]
    },
    {
     "name": "stdout",
     "output_type": "stream",
     "text": [
      "23/253 Processed: issues_all_2023-02-16.csv \n",
      "24/253 Processed: issues_all_2023-01-15.csv \n",
      "25/253 Processed: issues_all_2022-08-13.csv \n"
     ]
    },
    {
     "name": "stderr",
     "output_type": "stream",
     "text": [
      "/tmp/ipykernel_2471092/4062125134.py:13: DtypeWarning: Columns (0,1) have mixed types. Specify dtype option on import or set low_memory=False.\n",
      "  df = pd.read_csv(file_path, index_col=0)\n"
     ]
    },
    {
     "name": "stdout",
     "output_type": "stream",
     "text": [
      "26/253 Processed: issues_all_2023-01-12.csv \n"
     ]
    },
    {
     "name": "stderr",
     "output_type": "stream",
     "text": [
      "/tmp/ipykernel_2471092/4062125134.py:13: DtypeWarning: Columns (0,2,3,4,5,6,7,8,9) have mixed types. Specify dtype option on import or set low_memory=False.\n",
      "  df = pd.read_csv(file_path, index_col=0)\n"
     ]
    },
    {
     "name": "stdout",
     "output_type": "stream",
     "text": [
      "27/253 Processed: issues_all_2022-08-19.csv \n",
      "28/253 Processed: issues_all_2022-09-30.csv \n",
      "29/253 Processed: issues_all_2022-09-04.csv \n",
      "30/253 Error processing issues_all_2022-12-05.csv: Error tokenizing data. C error: Buffer overflow caught - possible malformed input file.\n",
      "\n",
      "31/253 Processed: issues_all_2022-08-24.csv \n"
     ]
    },
    {
     "name": "stderr",
     "output_type": "stream",
     "text": [
      "/tmp/ipykernel_2471092/4062125134.py:13: DtypeWarning: Columns (0,1) have mixed types. Specify dtype option on import or set low_memory=False.\n",
      "  df = pd.read_csv(file_path, index_col=0)\n"
     ]
    },
    {
     "name": "stdout",
     "output_type": "stream",
     "text": [
      "32/253 Processed: issues_all_2023-01-20.csv \n",
      "33/253 Processed: issues_all_2023-01-05.csv \n",
      "34/253 Processed: issues_all_2022-08-23.csv \n",
      "35/253 Processed: issues_all_2023-03-16.csv \n"
     ]
    },
    {
     "name": "stderr",
     "output_type": "stream",
     "text": [
      "/tmp/ipykernel_2471092/4062125134.py:13: DtypeWarning: Columns (0,2,3,4,5,6,7,8,9) have mixed types. Specify dtype option on import or set low_memory=False.\n",
      "  df = pd.read_csv(file_path, index_col=0)\n"
     ]
    },
    {
     "name": "stdout",
     "output_type": "stream",
     "text": [
      "36/253 Processed: issues_all_2022-11-11.csv \n",
      "37/253 Processed: issues_all_2022-09-11.csv \n",
      "38/253 Error processing issues_all_2022-12-03.csv: Error tokenizing data. C error: Buffer overflow caught - possible malformed input file.\n",
      "\n",
      "39/253 Processed: issues_all_2023-01-01.csv \n",
      "40/253 Processed: issues_all_2023-03-05.csv \n",
      "41/253 Processed: issues_all_2023-01-21.csv \n",
      "42/253 Error processing issues_all_2023-03-23.csv: Error tokenizing data. C error: Buffer overflow caught - possible malformed input file.\n",
      "\n",
      "43/253 Error processing issues_all_2023-03-22.csv: Error tokenizing data. C error: Buffer overflow caught - possible malformed input file.\n",
      "\n",
      "44/253 Processed: issues_all_2022-12-24.csv \n",
      "45/253 Processed: issues_all_2022-10-22.csv \n",
      "46/253 Processed: issues_all_2022-10-02.csv \n",
      "47/253 Processed: issues_all_2022-11-16.csv \n",
      "48/253 Processed: issues_all_2022-10-16.csv \n"
     ]
    },
    {
     "name": "stderr",
     "output_type": "stream",
     "text": [
      "/tmp/ipykernel_2471092/4062125134.py:13: DtypeWarning: Columns (0,1) have mixed types. Specify dtype option on import or set low_memory=False.\n",
      "  df = pd.read_csv(file_path, index_col=0)\n"
     ]
    },
    {
     "name": "stdout",
     "output_type": "stream",
     "text": [
      "49/253 Processed: issues_all_2023-01-25.csv \n",
      "50/253 Error processing issues_all_2022-08-22.csv: Error tokenizing data. C error: Buffer overflow caught - possible malformed input file.\n",
      "\n",
      "51/253 Processed: issues_all_2023-01-11.csv \n",
      "52/253 Processed: issues_all_2022-11-05.csv \n"
     ]
    },
    {
     "name": "stderr",
     "output_type": "stream",
     "text": [
      "/tmp/ipykernel_2471092/4062125134.py:13: DtypeWarning: Columns (1) have mixed types. Specify dtype option on import or set low_memory=False.\n",
      "  df = pd.read_csv(file_path, index_col=0)\n"
     ]
    },
    {
     "name": "stdout",
     "output_type": "stream",
     "text": [
      "53/253 Processed: issues_all_2022-10-24.csv \n",
      "54/253 Processed: issues_all_2022-12-07.csv \n"
     ]
    },
    {
     "name": "stderr",
     "output_type": "stream",
     "text": [
      "/tmp/ipykernel_2471092/4062125134.py:13: DtypeWarning: Columns (0,1,2,3,4,5,6,7,8,9) have mixed types. Specify dtype option on import or set low_memory=False.\n",
      "  df = pd.read_csv(file_path, index_col=0)\n"
     ]
    },
    {
     "name": "stdout",
     "output_type": "stream",
     "text": [
      "55/253 Processed: issues_all_2023-03-24.csv \n"
     ]
    },
    {
     "name": "stderr",
     "output_type": "stream",
     "text": [
      "/tmp/ipykernel_2471092/4062125134.py:13: DtypeWarning: Columns (1) have mixed types. Specify dtype option on import or set low_memory=False.\n",
      "  df = pd.read_csv(file_path, index_col=0)\n"
     ]
    },
    {
     "name": "stdout",
     "output_type": "stream",
     "text": [
      "56/253 Processed: issues_all_2022-11-07.csv \n"
     ]
    },
    {
     "name": "stderr",
     "output_type": "stream",
     "text": [
      "/tmp/ipykernel_2471092/4062125134.py:13: DtypeWarning: Columns (0,2,3,4,5,6,7,8,9) have mixed types. Specify dtype option on import or set low_memory=False.\n",
      "  df = pd.read_csv(file_path, index_col=0)\n"
     ]
    },
    {
     "name": "stdout",
     "output_type": "stream",
     "text": [
      "57/253 Processed: issues_all_2022-12-16.csv \n",
      "58/253 Processed: issues_all_2022-12-29.csv \n",
      "59/253 Processed: issues_all_2022-11-03.csv \n",
      "60/253 Processed: issues_all_2022-08-06.csv \n",
      "61/253 Processed: issues_all_2022-10-26.csv \n"
     ]
    },
    {
     "name": "stderr",
     "output_type": "stream",
     "text": [
      "/tmp/ipykernel_2471092/4062125134.py:13: DtypeWarning: Columns (0,1) have mixed types. Specify dtype option on import or set low_memory=False.\n",
      "  df = pd.read_csv(file_path, index_col=0)\n"
     ]
    },
    {
     "name": "stdout",
     "output_type": "stream",
     "text": [
      "62/253 Processed: issues_all_2023-02-06.csv \n",
      "63/253 Processed: issues_all_2022-09-18.csv \n",
      "64/253 Processed: issues_all_2022-10-09.csv \n",
      "65/253 Processed: issues_all_2022-12-19.csv \n",
      "66/253 Processed: issues_all_2022-09-13.csv \n",
      "67/253 Processed: issues_all_2022-12-10.csv \n",
      "68/253 Processed: issues_all_2023-01-07.csv \n"
     ]
    },
    {
     "name": "stderr",
     "output_type": "stream",
     "text": [
      "/tmp/ipykernel_2471092/4062125134.py:13: DtypeWarning: Columns (0) have mixed types. Specify dtype option on import or set low_memory=False.\n",
      "  df = pd.read_csv(file_path, index_col=0)\n"
     ]
    },
    {
     "name": "stdout",
     "output_type": "stream",
     "text": [
      "69/253 Processed: issues_all_2022-08-03.csv \n",
      "70/253 Processed: issues_all_2023-01-03.csv \n",
      "71/253 Error processing issues_all_2023-03-03.csv: Error tokenizing data. C error: Buffer overflow caught - possible malformed input file.\n",
      "\n",
      "72/253 Processed: issues_all_2022-11-08.csv \n",
      "73/253 Error processing issues_all_2022-12-06.csv: Error tokenizing data. C error: Buffer overflow caught - possible malformed input file.\n",
      "\n",
      "74/253 Processed: issues_all_2022-11-29.csv \n"
     ]
    },
    {
     "name": "stderr",
     "output_type": "stream",
     "text": [
      "/tmp/ipykernel_2471092/4062125134.py:13: DtypeWarning: Columns (1) have mixed types. Specify dtype option on import or set low_memory=False.\n",
      "  df = pd.read_csv(file_path, index_col=0)\n"
     ]
    },
    {
     "name": "stdout",
     "output_type": "stream",
     "text": [
      "75/253 Processed: issues_all_2022-07-28.csv \n"
     ]
    },
    {
     "name": "stderr",
     "output_type": "stream",
     "text": [
      "/tmp/ipykernel_2471092/4062125134.py:13: DtypeWarning: Columns (0,1) have mixed types. Specify dtype option on import or set low_memory=False.\n",
      "  df = pd.read_csv(file_path, index_col=0)\n"
     ]
    },
    {
     "name": "stdout",
     "output_type": "stream",
     "text": [
      "76/253 Processed: issues_all_2022-11-30.csv \n",
      "77/253 Error processing issues_all_2023-01-09.csv: Error tokenizing data. C error: Buffer overflow caught - possible malformed input file.\n",
      "\n"
     ]
    },
    {
     "name": "stderr",
     "output_type": "stream",
     "text": [
      "/tmp/ipykernel_2471092/4062125134.py:13: DtypeWarning: Columns (1) have mixed types. Specify dtype option on import or set low_memory=False.\n",
      "  df = pd.read_csv(file_path, index_col=0)\n"
     ]
    },
    {
     "name": "stdout",
     "output_type": "stream",
     "text": [
      "78/253 Processed: issues_all_2022-07-27.csv \n",
      "79/253 Processed: issues_all_2022-12-21.csv \n"
     ]
    },
    {
     "name": "stderr",
     "output_type": "stream",
     "text": [
      "/tmp/ipykernel_2471092/4062125134.py:13: DtypeWarning: Columns (0,1) have mixed types. Specify dtype option on import or set low_memory=False.\n",
      "  df = pd.read_csv(file_path, index_col=0)\n"
     ]
    },
    {
     "name": "stdout",
     "output_type": "stream",
     "text": [
      "80/253 Processed: issues_all_2023-02-08.csv \n"
     ]
    },
    {
     "name": "stderr",
     "output_type": "stream",
     "text": [
      "/tmp/ipykernel_2471092/4062125134.py:13: DtypeWarning: Columns (0) have mixed types. Specify dtype option on import or set low_memory=False.\n",
      "  df = pd.read_csv(file_path, index_col=0)\n"
     ]
    },
    {
     "name": "stdout",
     "output_type": "stream",
     "text": [
      "81/253 Processed: issues_all_2023-03-09.csv \n",
      "82/253 Processed: issues_all_2022-08-31.csv \n",
      "83/253 Processed: issues_all_2023-03-12.csv \n",
      "84/253 Processed: issues_all_2022-11-20.csv \n",
      "85/253 Processed: issues_all_2022-09-12.csv \n",
      "86/253 Processed: issues_all_2023-03-01.csv \n"
     ]
    },
    {
     "name": "stderr",
     "output_type": "stream",
     "text": [
      "/tmp/ipykernel_2471092/4062125134.py:13: DtypeWarning: Columns (0,1) have mixed types. Specify dtype option on import or set low_memory=False.\n",
      "  df = pd.read_csv(file_path, index_col=0)\n"
     ]
    },
    {
     "name": "stdout",
     "output_type": "stream",
     "text": [
      "87/253 Processed: issues_all_2023-03-28.csv \n",
      "88/253 Processed: issues_all_2022-11-13.csv \n",
      "89/253 Processed: issues_all_2022-09-16.csv \n",
      "90/253 Processed: issues_all_2022-10-12.csv \n",
      "91/253 Processed: issues_all_2022-12-11.csv \n",
      "92/253 Processed: issues_all_2022-08-25.csv \n"
     ]
    },
    {
     "name": "stderr",
     "output_type": "stream",
     "text": [
      "/tmp/ipykernel_2471092/4062125134.py:13: DtypeWarning: Columns (0,1) have mixed types. Specify dtype option on import or set low_memory=False.\n",
      "  df = pd.read_csv(file_path, index_col=0)\n"
     ]
    },
    {
     "name": "stdout",
     "output_type": "stream",
     "text": [
      "93/253 Processed: issues_all_2023-02-15.csv \n"
     ]
    },
    {
     "name": "stderr",
     "output_type": "stream",
     "text": [
      "/tmp/ipykernel_2471092/4062125134.py:13: DtypeWarning: Columns (0,1,2,3,4,5,6,7,8,9) have mixed types. Specify dtype option on import or set low_memory=False.\n",
      "  df = pd.read_csv(file_path, index_col=0)\n"
     ]
    },
    {
     "name": "stdout",
     "output_type": "stream",
     "text": [
      "94/253 Processed: issues_all_2023-01-19.csv \n",
      "95/253 Error processing issues_all_2022-11-06.csv: Error tokenizing data. C error: Buffer overflow caught - possible malformed input file.\n",
      "\n",
      "96/253 Processed: issues_all_2022-12-25.csv \n"
     ]
    },
    {
     "name": "stderr",
     "output_type": "stream",
     "text": [
      "/tmp/ipykernel_2471092/4062125134.py:13: DtypeWarning: Columns (1) have mixed types. Specify dtype option on import or set low_memory=False.\n",
      "  df = pd.read_csv(file_path, index_col=0)\n"
     ]
    },
    {
     "name": "stdout",
     "output_type": "stream",
     "text": [
      "97/253 Processed: issues_all_2022-10-17.csv \n",
      "98/253 Processed: issues_all_2022-10-10.csv \n",
      "99/253 Processed: issues_all_2022-07-31.csv \n",
      "100/253 Processed: issues_all_2022-11-19.csv \n"
     ]
    },
    {
     "name": "stderr",
     "output_type": "stream",
     "text": [
      "/tmp/ipykernel_2471092/4062125134.py:13: DtypeWarning: Columns (0,1,2,3,4,5,6,7,8,9) have mixed types. Specify dtype option on import or set low_memory=False.\n",
      "  df = pd.read_csv(file_path, index_col=0)\n"
     ]
    },
    {
     "name": "stdout",
     "output_type": "stream",
     "text": [
      "101/253 Processed: issues_all_2023-03-10.csv \n"
     ]
    },
    {
     "name": "stderr",
     "output_type": "stream",
     "text": [
      "/tmp/ipykernel_2471092/4062125134.py:13: DtypeWarning: Columns (0) have mixed types. Specify dtype option on import or set low_memory=False.\n",
      "  df = pd.read_csv(file_path, index_col=0)\n"
     ]
    },
    {
     "name": "stdout",
     "output_type": "stream",
     "text": [
      "102/253 Processed: issues_all_2022-09-05.csv \n",
      "103/253 Processed: issues_all_2022-11-01.csv \n",
      "104/253 Processed: issues_all_2022-10-20.csv \n"
     ]
    },
    {
     "name": "stderr",
     "output_type": "stream",
     "text": [
      "/tmp/ipykernel_2471092/4062125134.py:13: DtypeWarning: Columns (0,2,3,4,5,6,7,8,9) have mixed types. Specify dtype option on import or set low_memory=False.\n",
      "  df = pd.read_csv(file_path, index_col=0)\n"
     ]
    },
    {
     "name": "stdout",
     "output_type": "stream",
     "text": [
      "105/253 Processed: issues_all_2022-12-09.csv \n",
      "106/253 Processed: issues_all_2022-10-05.csv \n",
      "107/253 Processed: issues_all_2022-10-25.csv \n",
      "108/253 Processed: issues_all_2022-12-01.csv \n",
      "109/253 Processed: issues_all_2022-11-17.csv \n"
     ]
    },
    {
     "name": "stderr",
     "output_type": "stream",
     "text": [
      "/tmp/ipykernel_2471092/4062125134.py:13: DtypeWarning: Columns (0,1) have mixed types. Specify dtype option on import or set low_memory=False.\n",
      "  df = pd.read_csv(file_path, index_col=0)\n"
     ]
    },
    {
     "name": "stdout",
     "output_type": "stream",
     "text": [
      "110/253 Processed: issues_all_2022-11-28.csv \n"
     ]
    },
    {
     "name": "stderr",
     "output_type": "stream",
     "text": [
      "/tmp/ipykernel_2471092/4062125134.py:13: DtypeWarning: Columns (0,1) have mixed types. Specify dtype option on import or set low_memory=False.\n",
      "  df = pd.read_csv(file_path, index_col=0)\n"
     ]
    },
    {
     "name": "stdout",
     "output_type": "stream",
     "text": [
      "111/253 Processed: issues_all_2023-03-04.csv \n"
     ]
    },
    {
     "name": "stderr",
     "output_type": "stream",
     "text": [
      "/tmp/ipykernel_2471092/4062125134.py:13: DtypeWarning: Columns (1) have mixed types. Specify dtype option on import or set low_memory=False.\n",
      "  df = pd.read_csv(file_path, index_col=0)\n"
     ]
    },
    {
     "name": "stdout",
     "output_type": "stream",
     "text": [
      "112/253 Processed: issues_all_2023-02-23.csv \n"
     ]
    },
    {
     "name": "stderr",
     "output_type": "stream",
     "text": [
      "/tmp/ipykernel_2471092/4062125134.py:13: DtypeWarning: Columns (0,1,2,3,4,5,6,7,8,9) have mixed types. Specify dtype option on import or set low_memory=False.\n",
      "  df = pd.read_csv(file_path, index_col=0)\n"
     ]
    },
    {
     "name": "stdout",
     "output_type": "stream",
     "text": [
      "113/253 Processed: issues_all_2023-02-17.csv \n",
      "114/253 Processed: issues_all_2022-10-23.csv \n",
      "115/253 Processed: issues_all_2022-09-06.csv \n",
      "116/253 Processed: issues_all_2022-09-19.csv \n",
      "117/253 Processed: issues_all_2022-10-07.csv \n",
      "118/253 Processed: issues_all_2023-01-10.csv \n"
     ]
    },
    {
     "name": "stderr",
     "output_type": "stream",
     "text": [
      "/tmp/ipykernel_2471092/4062125134.py:13: DtypeWarning: Columns (0,1,2,3,4,5,6,7,8,9) have mixed types. Specify dtype option on import or set low_memory=False.\n",
      "  df = pd.read_csv(file_path, index_col=0)\n"
     ]
    },
    {
     "name": "stdout",
     "output_type": "stream",
     "text": [
      "119/253 Processed: issues_all_2023-01-27.csv \n"
     ]
    },
    {
     "name": "stderr",
     "output_type": "stream",
     "text": [
      "/tmp/ipykernel_2471092/4062125134.py:13: DtypeWarning: Columns (1) have mixed types. Specify dtype option on import or set low_memory=False.\n",
      "  df = pd.read_csv(file_path, index_col=0)\n"
     ]
    },
    {
     "name": "stdout",
     "output_type": "stream",
     "text": [
      "120/253 Processed: issues_all_2022-11-09.csv \n",
      "121/253 Processed: issues_all_2022-12-18.csv \n"
     ]
    },
    {
     "name": "stderr",
     "output_type": "stream",
     "text": [
      "/tmp/ipykernel_2471092/4062125134.py:13: DtypeWarning: Columns (0,1) have mixed types. Specify dtype option on import or set low_memory=False.\n",
      "  df = pd.read_csv(file_path, index_col=0)\n"
     ]
    },
    {
     "name": "stdout",
     "output_type": "stream",
     "text": [
      "122/253 Processed: issues_all_2023-01-24.csv \n",
      "123/253 Processed: issues_all_2022-08-09.csv \n",
      "124/253 Processed: issues_all_2022-12-12.csv \n",
      "125/253 Processed: issues_all_2023-02-12.csv \n",
      "126/253 Processed: issues_all_2023-02-05.csv \n",
      "127/253 Processed: issues_all_2022-07-23.csv \n"
     ]
    },
    {
     "name": "stderr",
     "output_type": "stream",
     "text": [
      "/tmp/ipykernel_2471092/4062125134.py:13: DtypeWarning: Columns (0,1) have mixed types. Specify dtype option on import or set low_memory=False.\n",
      "  df = pd.read_csv(file_path, index_col=0)\n"
     ]
    },
    {
     "name": "stdout",
     "output_type": "stream",
     "text": [
      "128/253 Processed: issues_all_2023-03-08.csv \n"
     ]
    },
    {
     "name": "stderr",
     "output_type": "stream",
     "text": [
      "/tmp/ipykernel_2471092/4062125134.py:13: DtypeWarning: Columns (0) have mixed types. Specify dtype option on import or set low_memory=False.\n",
      "  df = pd.read_csv(file_path, index_col=0)\n"
     ]
    },
    {
     "name": "stdout",
     "output_type": "stream",
     "text": [
      "129/253 Processed: issues_all_2023-01-18.csv \n",
      "130/253 Processed: issues_all_2022-09-29.csv \n",
      "131/253 Processed: issues_all_2022-09-22.csv \n",
      "132/253 Processed: issues_all_2022-12-22.csv \n",
      "133/253 Processed: issues_all_2022-08-12.csv \n",
      "134/253 Processed: issues_all_2022-12-13.csv \n",
      "135/253 Processed: issues_all_2022-08-15.csv \n",
      "136/253 Processed: issues_all_2023-02-20.csv \n"
     ]
    },
    {
     "name": "stderr",
     "output_type": "stream",
     "text": [
      "/tmp/ipykernel_2471092/4062125134.py:13: DtypeWarning: Columns (0,1) have mixed types. Specify dtype option on import or set low_memory=False.\n",
      "  df = pd.read_csv(file_path, index_col=0)\n"
     ]
    },
    {
     "name": "stdout",
     "output_type": "stream",
     "text": [
      "137/253 Processed: issues_all_2023-02-14.csv \n"
     ]
    },
    {
     "name": "stderr",
     "output_type": "stream",
     "text": [
      "/tmp/ipykernel_2471092/4062125134.py:13: DtypeWarning: Columns (0,1) have mixed types. Specify dtype option on import or set low_memory=False.\n",
      "  df = pd.read_csv(file_path, index_col=0)\n"
     ]
    },
    {
     "name": "stdout",
     "output_type": "stream",
     "text": [
      "138/253 Processed: issues_all_2023-03-20.csv \n"
     ]
    },
    {
     "name": "stderr",
     "output_type": "stream",
     "text": [
      "/tmp/ipykernel_2471092/4062125134.py:13: DtypeWarning: Columns (1) have mixed types. Specify dtype option on import or set low_memory=False.\n",
      "  df = pd.read_csv(file_path, index_col=0)\n"
     ]
    },
    {
     "name": "stdout",
     "output_type": "stream",
     "text": [
      "139/253 Processed: issues_all_2022-12-15.csv \n",
      "140/253 Processed: issues_all_2022-11-21.csv \n"
     ]
    },
    {
     "name": "stderr",
     "output_type": "stream",
     "text": [
      "/tmp/ipykernel_2471092/4062125134.py:13: DtypeWarning: Columns (0,1) have mixed types. Specify dtype option on import or set low_memory=False.\n",
      "  df = pd.read_csv(file_path, index_col=0)\n"
     ]
    },
    {
     "name": "stdout",
     "output_type": "stream",
     "text": [
      "141/253 Processed: issues_all_2023-03-07.csv \n",
      "142/253 Error processing issues_all_2022-11-23.csv: Error tokenizing data. C error: Buffer overflow caught - possible malformed input file.\n",
      "\n"
     ]
    },
    {
     "name": "stderr",
     "output_type": "stream",
     "text": [
      "/tmp/ipykernel_2471092/4062125134.py:13: DtypeWarning: Columns (0,1) have mixed types. Specify dtype option on import or set low_memory=False.\n",
      "  df = pd.read_csv(file_path, index_col=0)\n"
     ]
    },
    {
     "name": "stdout",
     "output_type": "stream",
     "text": [
      "143/253 Processed: issues_all_2023-02-07.csv \n",
      "144/253 Processed: issues_all_2022-12-08.csv \n",
      "145/253 Processed: issues_all_2022-08-07.csv \n"
     ]
    },
    {
     "name": "stderr",
     "output_type": "stream",
     "text": [
      "/tmp/ipykernel_2471092/4062125134.py:13: DtypeWarning: Columns (0,1) have mixed types. Specify dtype option on import or set low_memory=False.\n",
      "  df = pd.read_csv(file_path, index_col=0)\n"
     ]
    },
    {
     "name": "stdout",
     "output_type": "stream",
     "text": [
      "146/253 Processed: issues_all_2023-03-15.csv \n",
      "147/253 Processed: issues_all_2022-10-11.csv \n",
      "148/253 Processed: issues_all_2022-10-14.csv \n",
      "149/253 Processed: issues_all_2023-03-26.csv \n"
     ]
    },
    {
     "name": "stderr",
     "output_type": "stream",
     "text": [
      "/tmp/ipykernel_2471092/4062125134.py:13: DtypeWarning: Columns (0,1) have mixed types. Specify dtype option on import or set low_memory=False.\n",
      "  df = pd.read_csv(file_path, index_col=0)\n"
     ]
    },
    {
     "name": "stdout",
     "output_type": "stream",
     "text": [
      "150/253 Processed: issues_all_2023-02-27.csv \n",
      "151/253 Processed: issues_all_2023-01-08.csv \n",
      "152/253 Processed: issues_all_2022-11-22.csv \n",
      "153/253 Processed: issues_all_2022-09-26.csv \n",
      "154/253 Processed: issues_all_2022-11-14.csv \n"
     ]
    },
    {
     "name": "stderr",
     "output_type": "stream",
     "text": [
      "/tmp/ipykernel_2471092/4062125134.py:13: DtypeWarning: Columns (0,2,3,4,5,6,7,8,9) have mixed types. Specify dtype option on import or set low_memory=False.\n",
      "  df = pd.read_csv(file_path, index_col=0)\n"
     ]
    },
    {
     "name": "stdout",
     "output_type": "stream",
     "text": [
      "155/253 Processed: issues_all_2022-12-30.csv \n"
     ]
    },
    {
     "name": "stderr",
     "output_type": "stream",
     "text": [
      "/tmp/ipykernel_2471092/4062125134.py:13: DtypeWarning: Columns (1) have mixed types. Specify dtype option on import or set low_memory=False.\n",
      "  df = pd.read_csv(file_path, index_col=0)\n"
     ]
    },
    {
     "name": "stdout",
     "output_type": "stream",
     "text": [
      "156/253 Processed: issues_all_2022-10-31.csv \n",
      "157/253 Processed: issues_all_2022-10-27.csv \n",
      "158/253 Processed: issues_all_2023-03-25.csv \n"
     ]
    },
    {
     "name": "stderr",
     "output_type": "stream",
     "text": [
      "/tmp/ipykernel_2471092/4062125134.py:13: DtypeWarning: Columns (0,1,2,3,4,5,6,7,8,9) have mixed types. Specify dtype option on import or set low_memory=False.\n",
      "  df = pd.read_csv(file_path, index_col=0)\n"
     ]
    },
    {
     "name": "stdout",
     "output_type": "stream",
     "text": [
      "159/253 Processed: issues_all_2023-03-31.csv \n",
      "160/253 Error processing issues_all_2022-12-04.csv: Error tokenizing data. C error: Buffer overflow caught - possible malformed input file.\n",
      "\n",
      "161/253 Processed: issues_all_2022-10-18.csv \n",
      "162/253 Processed: issues_all_2022-08-10.csv \n",
      "163/253 Processed: issues_all_2022-08-20.csv \n"
     ]
    },
    {
     "name": "stderr",
     "output_type": "stream",
     "text": [
      "/tmp/ipykernel_2471092/4062125134.py:13: DtypeWarning: Columns (0,1) have mixed types. Specify dtype option on import or set low_memory=False.\n",
      "  df = pd.read_csv(file_path, index_col=0)\n"
     ]
    },
    {
     "name": "stdout",
     "output_type": "stream",
     "text": [
      "164/253 Processed: issues_all_2023-02-28.csv \n",
      "165/253 Processed: issues_all_2022-10-19.csv \n",
      "166/253 Processed: issues_all_2022-12-31.csv \n",
      "167/253 Processed: issues_all_2022-11-26.csv \n"
     ]
    },
    {
     "name": "stderr",
     "output_type": "stream",
     "text": [
      "/tmp/ipykernel_2471092/4062125134.py:13: DtypeWarning: Columns (0) have mixed types. Specify dtype option on import or set low_memory=False.\n",
      "  df = pd.read_csv(file_path, index_col=0)\n"
     ]
    },
    {
     "name": "stdout",
     "output_type": "stream",
     "text": [
      "168/253 Processed: issues_all_2022-07-22.csv \n"
     ]
    },
    {
     "name": "stderr",
     "output_type": "stream",
     "text": [
      "/tmp/ipykernel_2471092/4062125134.py:13: DtypeWarning: Columns (0,1) have mixed types. Specify dtype option on import or set low_memory=False.\n",
      "  df = pd.read_csv(file_path, index_col=0)\n"
     ]
    },
    {
     "name": "stdout",
     "output_type": "stream",
     "text": [
      "169/253 Processed: issues_all_2023-01-23.csv \n"
     ]
    },
    {
     "name": "stderr",
     "output_type": "stream",
     "text": [
      "/tmp/ipykernel_2471092/4062125134.py:13: DtypeWarning: Columns (0,1) have mixed types. Specify dtype option on import or set low_memory=False.\n",
      "  df = pd.read_csv(file_path, index_col=0)\n"
     ]
    },
    {
     "name": "stdout",
     "output_type": "stream",
     "text": [
      "170/253 Processed: issues_all_2023-03-21.csv \n",
      "171/253 Processed: issues_all_2022-09-23.csv \n"
     ]
    },
    {
     "name": "stderr",
     "output_type": "stream",
     "text": [
      "/tmp/ipykernel_2471092/4062125134.py:13: DtypeWarning: Columns (0,1) have mixed types. Specify dtype option on import or set low_memory=False.\n",
      "  df = pd.read_csv(file_path, index_col=0)\n"
     ]
    },
    {
     "name": "stdout",
     "output_type": "stream",
     "text": [
      "172/253 Processed: issues_all_2023-03-14.csv \n"
     ]
    },
    {
     "name": "stderr",
     "output_type": "stream",
     "text": [
      "/tmp/ipykernel_2471092/4062125134.py:13: DtypeWarning: Columns (0,1,2,3,4,5,6,7,8,9) have mixed types. Specify dtype option on import or set low_memory=False.\n",
      "  df = pd.read_csv(file_path, index_col=0)\n"
     ]
    },
    {
     "name": "stdout",
     "output_type": "stream",
     "text": [
      "173/253 Processed: issues_all_2023-03-17.csv \n",
      "174/253 Processed: issues_all_2022-12-28.csv \n",
      "175/253 Processed: issues_all_2023-01-04.csv \n",
      "176/253 Processed: issues_all_2022-07-30.csv \n",
      "177/253 Processed: issues_all_2022-09-07.csv \n",
      "178/253 Processed: issues_all_2023-01-14.csv \n"
     ]
    },
    {
     "name": "stderr",
     "output_type": "stream",
     "text": [
      "/tmp/ipykernel_2471092/4062125134.py:13: DtypeWarning: Columns (0,1) have mixed types. Specify dtype option on import or set low_memory=False.\n",
      "  df = pd.read_csv(file_path, index_col=0)\n"
     ]
    },
    {
     "name": "stdout",
     "output_type": "stream",
     "text": [
      "179/253 Processed: issues_all_2023-01-16.csv \n"
     ]
    },
    {
     "name": "stderr",
     "output_type": "stream",
     "text": [
      "/tmp/ipykernel_2471092/4062125134.py:13: DtypeWarning: Columns (0,1) have mixed types. Specify dtype option on import or set low_memory=False.\n",
      "  df = pd.read_csv(file_path, index_col=0)\n"
     ]
    },
    {
     "name": "stdout",
     "output_type": "stream",
     "text": [
      "180/253 Processed: issues_all_2023-02-21.csv \n"
     ]
    },
    {
     "name": "stderr",
     "output_type": "stream",
     "text": [
      "/tmp/ipykernel_2471092/4062125134.py:13: DtypeWarning: Columns (0,1) have mixed types. Specify dtype option on import or set low_memory=False.\n",
      "  df = pd.read_csv(file_path, index_col=0)\n"
     ]
    },
    {
     "name": "stdout",
     "output_type": "stream",
     "text": [
      "181/253 Processed: issues_all_2023-03-30.csv \n"
     ]
    },
    {
     "name": "stderr",
     "output_type": "stream",
     "text": [
      "/tmp/ipykernel_2471092/4062125134.py:13: DtypeWarning: Columns (0,2,3,4,5,6,7,8,9) have mixed types. Specify dtype option on import or set low_memory=False.\n",
      "  df = pd.read_csv(file_path, index_col=0)\n"
     ]
    },
    {
     "name": "stdout",
     "output_type": "stream",
     "text": [
      "182/253 Processed: issues_all_2022-09-02.csv \n"
     ]
    },
    {
     "name": "stderr",
     "output_type": "stream",
     "text": [
      "/tmp/ipykernel_2471092/4062125134.py:13: DtypeWarning: Columns (1) have mixed types. Specify dtype option on import or set low_memory=False.\n",
      "  df = pd.read_csv(file_path, index_col=0)\n"
     ]
    },
    {
     "name": "stdout",
     "output_type": "stream",
     "text": [
      "183/253 Processed: issues_all_2022-07-29.csv \n",
      "184/253 Processed: issues_all_2023-02-18.csv \n"
     ]
    },
    {
     "name": "stderr",
     "output_type": "stream",
     "text": [
      "/tmp/ipykernel_2471092/4062125134.py:13: DtypeWarning: Columns (0,1,2,3,4,5,6,7,8,9) have mixed types. Specify dtype option on import or set low_memory=False.\n",
      "  df = pd.read_csv(file_path, index_col=0)\n"
     ]
    },
    {
     "name": "stdout",
     "output_type": "stream",
     "text": [
      "185/253 Processed: issues_all_2023-01-13.csv \n"
     ]
    },
    {
     "name": "stderr",
     "output_type": "stream",
     "text": [
      "/tmp/ipykernel_2471092/4062125134.py:13: DtypeWarning: Columns (0,2,3,4,5,6,7,8,9) have mixed types. Specify dtype option on import or set low_memory=False.\n",
      "  df = pd.read_csv(file_path, index_col=0)\n"
     ]
    },
    {
     "name": "stdout",
     "output_type": "stream",
     "text": [
      "186/253 Processed: issues_all_2023-01-06.csv \n",
      "187/253 Processed: issues_all_2023-02-04.csv \n",
      "188/253 Processed: issues_all_2022-08-02.csv \n",
      "189/253 Processed: issues_all_2022-12-27.csv \n",
      "190/253 Processed: issues_all_2023-01-02.csv \n",
      "191/253 Processed: issues_all_2022-08-26.csv \n",
      "192/253 Processed: issues_all_2022-08-27.csv \n"
     ]
    },
    {
     "name": "stderr",
     "output_type": "stream",
     "text": [
      "/tmp/ipykernel_2471092/4062125134.py:13: DtypeWarning: Columns (1) have mixed types. Specify dtype option on import or set low_memory=False.\n",
      "  df = pd.read_csv(file_path, index_col=0)\n"
     ]
    },
    {
     "name": "stdout",
     "output_type": "stream",
     "text": [
      "193/253 Processed: issues_all_2022-08-08.csv \n"
     ]
    },
    {
     "name": "stderr",
     "output_type": "stream",
     "text": [
      "/tmp/ipykernel_2471092/4062125134.py:13: DtypeWarning: Columns (0,1) have mixed types. Specify dtype option on import or set low_memory=False.\n",
      "  df = pd.read_csv(file_path, index_col=0)\n"
     ]
    },
    {
     "name": "stdout",
     "output_type": "stream",
     "text": [
      "194/253 Processed: issues_all_2023-03-06.csv \n",
      "195/253 Processed: issues_all_2022-12-26.csv \n"
     ]
    },
    {
     "name": "stderr",
     "output_type": "stream",
     "text": [
      "/tmp/ipykernel_2471092/4062125134.py:13: DtypeWarning: Columns (0,1) have mixed types. Specify dtype option on import or set low_memory=False.\n",
      "  df = pd.read_csv(file_path, index_col=0)\n"
     ]
    },
    {
     "name": "stdout",
     "output_type": "stream",
     "text": [
      "196/253 Processed: issues_all_2023-01-17.csv \n",
      "197/253 Processed: issues_all_2022-11-15.csv \n",
      "198/253 Processed: issues_all_2022-08-01.csv \n",
      "199/253 Processed: issues_all_2022-08-18.csv \n",
      "200/253 Processed: issues_all_2023-02-09.csv \n",
      "201/253 Error processing issues_all_2022-12-02.csv: Error tokenizing data. C error: Buffer overflow caught - possible malformed input file.\n",
      "\n",
      "202/253 Processed: issues_all_2022-09-01.csv \n"
     ]
    },
    {
     "name": "stderr",
     "output_type": "stream",
     "text": [
      "/tmp/ipykernel_2471092/4062125134.py:13: DtypeWarning: Columns (1) have mixed types. Specify dtype option on import or set low_memory=False.\n",
      "  df = pd.read_csv(file_path, index_col=0)\n"
     ]
    },
    {
     "name": "stdout",
     "output_type": "stream",
     "text": [
      "203/253 Processed: issues_all_2023-02-22.csv \n",
      "204/253 Processed: issues_all_2022-08-04.csv \n",
      "205/253 Processed: issues_all_2022-09-03.csv \n"
     ]
    },
    {
     "name": "stderr",
     "output_type": "stream",
     "text": [
      "/tmp/ipykernel_2471092/4062125134.py:13: DtypeWarning: Columns (0,2,3,4,5,6,7,8,9) have mixed types. Specify dtype option on import or set low_memory=False.\n",
      "  df = pd.read_csv(file_path, index_col=0)\n"
     ]
    },
    {
     "name": "stdout",
     "output_type": "stream",
     "text": [
      "206/253 Processed: issues_all_2022-11-25.csv \n",
      "207/253 Processed: issues_all_2022-10-21.csv \n",
      "208/253 Processed: issues_all_2022-11-12.csv \n",
      "209/253 Processed: issues_all_2022-07-24.csv \n"
     ]
    },
    {
     "name": "stderr",
     "output_type": "stream",
     "text": [
      "/tmp/ipykernel_2471092/4062125134.py:13: DtypeWarning: Columns (1) have mixed types. Specify dtype option on import or set low_memory=False.\n",
      "  df = pd.read_csv(file_path, index_col=0)\n"
     ]
    },
    {
     "name": "stdout",
     "output_type": "stream",
     "text": [
      "210/253 Processed: issues_all_2022-08-17.csv \n",
      "211/253 Processed: issues_all_2022-08-28.csv \n",
      "212/253 Processed: issues_all_2022-09-24.csv \n",
      "213/253 Processed: issues_all_2022-12-14.csv \n"
     ]
    },
    {
     "name": "stderr",
     "output_type": "stream",
     "text": [
      "/tmp/ipykernel_2471092/4062125134.py:13: DtypeWarning: Columns (0,2,3,4,5,6,7,8,9) have mixed types. Specify dtype option on import or set low_memory=False.\n",
      "  df = pd.read_csv(file_path, index_col=0)\n"
     ]
    },
    {
     "name": "stdout",
     "output_type": "stream",
     "text": [
      "214/253 Processed: issues_all_2022-11-04.csv \n",
      "215/253 Processed: issues_all_2022-11-27.csv \n"
     ]
    },
    {
     "name": "stderr",
     "output_type": "stream",
     "text": [
      "/tmp/ipykernel_2471092/4062125134.py:13: DtypeWarning: Columns (0,2,3,4,5,6,7,8,9) have mixed types. Specify dtype option on import or set low_memory=False.\n",
      "  df = pd.read_csv(file_path, index_col=0)\n"
     ]
    },
    {
     "name": "stdout",
     "output_type": "stream",
     "text": [
      "216/253 Processed: issues_all_2022-11-18.csv \n",
      "217/253 Processed: issues_all_2022-10-04.csv \n",
      "218/253 Processed: issues_all_2023-02-19.csv \n",
      "219/253 Processed: issues_all_2023-01-28.csv \n",
      "220/253 Processed: issues_all_2022-08-29.csv \n",
      "221/253 Processed: issues_all_2023-02-11.csv \n"
     ]
    },
    {
     "name": "stderr",
     "output_type": "stream",
     "text": [
      "/tmp/ipykernel_2471092/4062125134.py:13: DtypeWarning: Columns (0,2,3,4,5,6,7,8,9) have mixed types. Specify dtype option on import or set low_memory=False.\n",
      "  df = pd.read_csv(file_path, index_col=0)\n"
     ]
    },
    {
     "name": "stdout",
     "output_type": "stream",
     "text": [
      "222/253 Processed: issues_all_2022-08-05.csv \n",
      "223/253 Processed: issues_all_2022-11-10.csv \n",
      "224/253 Processed: issues_all_2023-03-18.csv \n",
      "225/253 Processed: issues_all_2022-08-14.csv \n"
     ]
    },
    {
     "name": "stderr",
     "output_type": "stream",
     "text": [
      "/tmp/ipykernel_2471092/4062125134.py:13: DtypeWarning: Columns (0,1) have mixed types. Specify dtype option on import or set low_memory=False.\n",
      "  df = pd.read_csv(file_path, index_col=0)\n"
     ]
    },
    {
     "name": "stdout",
     "output_type": "stream",
     "text": [
      "226/253 Processed: issues_all_2023-03-27.csv \n"
     ]
    },
    {
     "name": "stderr",
     "output_type": "stream",
     "text": [
      "/tmp/ipykernel_2471092/4062125134.py:13: DtypeWarning: Columns (1) have mixed types. Specify dtype option on import or set low_memory=False.\n",
      "  df = pd.read_csv(file_path, index_col=0)\n"
     ]
    },
    {
     "name": "stdout",
     "output_type": "stream",
     "text": [
      "227/253 Processed: issues_all_2022-11-24.csv \n",
      "228/253 Processed: issues_all_2022-09-17.csv \n",
      "229/253 Error processing issues_all_2022-12-23.csv: Error tokenizing data. C error: Buffer overflow caught - possible malformed input file.\n",
      "\n",
      "230/253 Processed: issues_all_2023-03-19.csv \n",
      "231/253 Processed: issues_all_2022-09-14.csv \n",
      "232/253 Processed: issues_all_2023-01-29.csv \n",
      "233/253 Processed: issues_all_2022-10-15.csv \n",
      "234/253 Processed: issues_all_2023-02-01.csv \n",
      "235/253 Processed: issues_all_2022-10-28.csv \n"
     ]
    },
    {
     "name": "stderr",
     "output_type": "stream",
     "text": [
      "/tmp/ipykernel_2471092/4062125134.py:13: DtypeWarning: Columns (0,1,2,3,4,5,6,7,8,9) have mixed types. Specify dtype option on import or set low_memory=False.\n",
      "  df = pd.read_csv(file_path, index_col=0)\n"
     ]
    },
    {
     "name": "stdout",
     "output_type": "stream",
     "text": [
      "236/253 Processed: issues_all_2023-02-03.csv \n",
      "237/253 Processed: issues_all_2022-08-11.csv \n",
      "238/253 Processed: issues_all_2022-11-02.csv \n",
      "239/253 Processed: issues_all_2023-01-22.csv \n",
      "240/253 Processed: issues_all_2023-01-26.csv \n",
      "241/253 Processed: issues_all_2022-10-29.csv \n",
      "242/253 Processed: issues_all_2023-01-30.csv \n",
      "243/253 Processed: issues_all_2022-07-25.csv \n"
     ]
    },
    {
     "name": "stderr",
     "output_type": "stream",
     "text": [
      "/tmp/ipykernel_2471092/4062125134.py:13: DtypeWarning: Columns (0,1) have mixed types. Specify dtype option on import or set low_memory=False.\n",
      "  df = pd.read_csv(file_path, index_col=0)\n"
     ]
    },
    {
     "name": "stdout",
     "output_type": "stream",
     "text": [
      "244/253 Processed: issues_all_2023-02-13.csv \n",
      "245/253 Processed: issues_all_2022-09-27.csv \n",
      "246/253 Processed: issues_all_2023-02-25.csv \n",
      "247/253 Processed: issues_all_2022-10-06.csv \n",
      "248/253 Processed: issues_all_2023-03-29.csv \n",
      "249/253 Processed: issues_all_2023-03-02.csv \n",
      "250/253 Processed: issues_all_2022-10-03.csv \n",
      "251/253 Processed: issues_all_2022-10-08.csv \n",
      "252/253 Processed: issues_all_2022-09-10.csv \n"
     ]
    }
   ],
   "source": [
    "appended_data = []\n",
    "# Regular expression to capture various variations of \"high priority\"\n",
    "\n",
    "test_label = r\"\\btest\\b|\\btesting\\b\"\n",
    "not_test_label = r\"\\bnot\\s*test\\b|\\bno\\s*test\\b|\\bother\\b|\\b(?:[^t]|t(?!est\\b))*\\b\"\n",
    "\n",
    "pattern=not_test_label\n",
    "file_name = \"not_test_label\"\n",
    "length_res = len(res)\n",
    "for i, r in enumerate(res):\n",
    "    try:\n",
    "        file_path = f\"{dir_path}/{r}\"\n",
    "        df = pd.read_csv(file_path, index_col=0)\n",
    "        \n",
    "        # Make sure the dataframe is not empty \n",
    "        df = df[df['labels'].notnull() & df['labels'].str.strip().astype(bool)]\n",
    "\n",
    "\n",
    "        # ~ Finds NOT in regex\n",
    "        df = df[\n",
    "           df[\"labels\"].str.contains(pattern, case=False, na=False, regex=True)\n",
    "        ]\n",
    "\n",
    "        if not df.empty:  # Append non-empty dataframes to the list\n",
    "           appended_data.append(df)\n",
    "\n",
    "\n",
    "        print(f\"{i}/{length_res} Processed: {r} \")\n",
    "    except Exception as e:\n",
    "        print(f\"{i}/{length_res} Error processing {r}: {e}\")\n",
    "\n",
    "appended_data = pd.concat(appended_data, ignore_index=True)"
   ]
  },
  {
   "cell_type": "code",
   "execution_count": 5,
   "id": "7a0c1e50-e4aa-4ca6-a71b-9f70c1ef7c38",
   "metadata": {
    "tags": []
   },
   "outputs": [
    {
     "data": {
      "text/html": [
       "<div>\n",
       "<style scoped>\n",
       "    .dataframe tbody tr th:only-of-type {\n",
       "        vertical-align: middle;\n",
       "    }\n",
       "\n",
       "    .dataframe tbody tr th {\n",
       "        vertical-align: top;\n",
       "    }\n",
       "\n",
       "    .dataframe thead th {\n",
       "        text-align: right;\n",
       "    }\n",
       "</style>\n",
       "<table border=\"1\" class=\"dataframe\">\n",
       "  <thead>\n",
       "    <tr style=\"text-align: right;\">\n",
       "      <th></th>\n",
       "      <th>id</th>\n",
       "      <th>type</th>\n",
       "      <th>created_at</th>\n",
       "      <th>repo</th>\n",
       "      <th>repo_url</th>\n",
       "      <th>action</th>\n",
       "      <th>title</th>\n",
       "      <th>labels</th>\n",
       "      <th>body</th>\n",
       "    </tr>\n",
       "  </thead>\n",
       "  <tbody>\n",
       "    <tr>\n",
       "      <th>0</th>\n",
       "      <td>27299559404</td>\n",
       "      <td>IssuesEvent</td>\n",
       "      <td>2023-02-24 00:00:00</td>\n",
       "      <td>Expensify/App</td>\n",
       "      <td>https://api.github.com/repos/Expensify/App</td>\n",
       "      <td>opened</td>\n",
       "      <td>Payment issue for E/App PR#14946</td>\n",
       "      <td>Daily Awaiting Payment Bug</td>\n",
       "      <td>Issue created to compensate the Contributor+ m...</td>\n",
       "    </tr>\n",
       "    <tr>\n",
       "      <th>1</th>\n",
       "      <td>27299559594</td>\n",
       "      <td>IssuesEvent</td>\n",
       "      <td>2023-02-24 00:00:00</td>\n",
       "      <td>NuMellow/theMoFactory</td>\n",
       "      <td>https://api.github.com/repos/NuMellow/theMoFac...</td>\n",
       "      <td>opened</td>\n",
       "      <td>Upload animation frames for BMO app audio</td>\n",
       "      <td>Epic</td>\n",
       "      <td>Create frames for phrases from the old ipad ap...</td>\n",
       "    </tr>\n",
       "    <tr>\n",
       "      <th>2</th>\n",
       "      <td>27299560619</td>\n",
       "      <td>IssuesEvent</td>\n",
       "      <td>2023-02-24 00:00:05</td>\n",
       "      <td>DhyeyKansagara/project-management-github-activity</td>\n",
       "      <td>https://api.github.com/repos/DhyeyKansagara/pr...</td>\n",
       "      <td>opened</td>\n",
       "      <td>Linux ls command</td>\n",
       "      <td>I Know</td>\n",
       "      <td>Linux ls command lists the files in the curren...</td>\n",
       "    </tr>\n",
       "    <tr>\n",
       "      <th>3</th>\n",
       "      <td>27299560735</td>\n",
       "      <td>IssuesEvent</td>\n",
       "      <td>2023-02-24 00:00:05</td>\n",
       "      <td>OhMyGuus/I-Still-Dont-Care-About-Cookies</td>\n",
       "      <td>https://api.github.com/repos/OhMyGuus/I-Still-...</td>\n",
       "      <td>closed</td>\n",
       "      <td>[REQ] www.hostinger.de</td>\n",
       "      <td>Website request Anonymous request</td>\n",
       "      <td>Someone reported anonymously: \\r\\n  ### Websit...</td>\n",
       "    </tr>\n",
       "    <tr>\n",
       "      <th>4</th>\n",
       "      <td>27299561219</td>\n",
       "      <td>IssuesEvent</td>\n",
       "      <td>2023-02-24 00:00:06</td>\n",
       "      <td>JonasGruenwald/uptime-monitor</td>\n",
       "      <td>https://api.github.com/repos/JonasGruenwald/up...</td>\n",
       "      <td>opened</td>\n",
       "      <td>🛑 A place in the woods API is down</td>\n",
       "      <td>status a-place-in-the-woods-api</td>\n",
       "      <td>In [`210816c`](https://github.com/JonasGruenwa...</td>\n",
       "    </tr>\n",
       "    <tr>\n",
       "      <th>...</th>\n",
       "      <td>...</td>\n",
       "      <td>...</td>\n",
       "      <td>...</td>\n",
       "      <td>...</td>\n",
       "      <td>...</td>\n",
       "      <td>...</td>\n",
       "      <td>...</td>\n",
       "      <td>...</td>\n",
       "      <td>...</td>\n",
       "    </tr>\n",
       "    <tr>\n",
       "      <th>11085930</th>\n",
       "      <td>23933835016</td>\n",
       "      <td>IssuesEvent</td>\n",
       "      <td>2022-09-10 23:59:13</td>\n",
       "      <td>definiteIymaybe/uptime</td>\n",
       "      <td>https://api.github.com/repos/definiteIymaybe/u...</td>\n",
       "      <td>closed</td>\n",
       "      <td>🛑 donate.memo.ru is down</td>\n",
       "      <td>status donate-memo-ru</td>\n",
       "      <td>In [`aa7845a`](https://github.com/definiteIyma...</td>\n",
       "    </tr>\n",
       "    <tr>\n",
       "      <th>11085931</th>\n",
       "      <td>23933835802</td>\n",
       "      <td>IssuesEvent</td>\n",
       "      <td>2022-09-10 23:59:25</td>\n",
       "      <td>ultralytics/yolov5</td>\n",
       "      <td>https://api.github.com/repos/ultralytics/yolov5</td>\n",
       "      <td>opened</td>\n",
       "      <td>Getting error while training on YOLOv5 colab t...</td>\n",
       "      <td>bug</td>\n",
       "      <td>### Search before asking\\n\\n- [X] I have searc...</td>\n",
       "    </tr>\n",
       "    <tr>\n",
       "      <th>11085932</th>\n",
       "      <td>23933837137</td>\n",
       "      <td>IssuesEvent</td>\n",
       "      <td>2022-09-10 23:59:48</td>\n",
       "      <td>alexkuang0/status</td>\n",
       "      <td>https://api.github.com/repos/alexkuang0/status</td>\n",
       "      <td>closed</td>\n",
       "      <td>🛑 Homepage is down</td>\n",
       "      <td>status homepage</td>\n",
       "      <td>In [`22d46d7`](https://github.com/alexkuang0/s...</td>\n",
       "    </tr>\n",
       "    <tr>\n",
       "      <th>11085933</th>\n",
       "      <td>23933837457</td>\n",
       "      <td>IssuesEvent</td>\n",
       "      <td>2022-09-10 23:59:53</td>\n",
       "      <td>Open-Bootcamp/movie-app-API</td>\n",
       "      <td>https://api.github.com/repos/Open-Bootcamp/mov...</td>\n",
       "      <td>opened</td>\n",
       "      <td>Terminar con Users + authentificación</td>\n",
       "      <td>13 sept</td>\n",
       "      <td>- Migration _User_\\r\\n- Crear **Login** and **...</td>\n",
       "    </tr>\n",
       "    <tr>\n",
       "      <th>11085934</th>\n",
       "      <td>23933837529</td>\n",
       "      <td>IssuesEvent</td>\n",
       "      <td>2022-09-10 23:59:55</td>\n",
       "      <td>karlos528/fe</td>\n",
       "      <td>https://api.github.com/repos/karlos528/fe</td>\n",
       "      <td>opened</td>\n",
       "      <td>🛑 Habilitación is down</td>\n",
       "      <td>status habilitacion</td>\n",
       "      <td>In [`4a4113d`](https://github.com/karlos528/fe...</td>\n",
       "    </tr>\n",
       "  </tbody>\n",
       "</table>\n",
       "<p>11085935 rows × 9 columns</p>\n",
       "</div>"
      ],
      "text/plain": [
       "                   id         type           created_at  \\\n",
       "0         27299559404  IssuesEvent  2023-02-24 00:00:00   \n",
       "1         27299559594  IssuesEvent  2023-02-24 00:00:00   \n",
       "2         27299560619  IssuesEvent  2023-02-24 00:00:05   \n",
       "3         27299560735  IssuesEvent  2023-02-24 00:00:05   \n",
       "4         27299561219  IssuesEvent  2023-02-24 00:00:06   \n",
       "...               ...          ...                  ...   \n",
       "11085930  23933835016  IssuesEvent  2022-09-10 23:59:13   \n",
       "11085931  23933835802  IssuesEvent  2022-09-10 23:59:25   \n",
       "11085932  23933837137  IssuesEvent  2022-09-10 23:59:48   \n",
       "11085933  23933837457  IssuesEvent  2022-09-10 23:59:53   \n",
       "11085934  23933837529  IssuesEvent  2022-09-10 23:59:55   \n",
       "\n",
       "                                                       repo  \\\n",
       "0                                             Expensify/App   \n",
       "1                                     NuMellow/theMoFactory   \n",
       "2         DhyeyKansagara/project-management-github-activity   \n",
       "3                  OhMyGuus/I-Still-Dont-Care-About-Cookies   \n",
       "4                             JonasGruenwald/uptime-monitor   \n",
       "...                                                     ...   \n",
       "11085930                             definiteIymaybe/uptime   \n",
       "11085931                                 ultralytics/yolov5   \n",
       "11085932                                  alexkuang0/status   \n",
       "11085933                        Open-Bootcamp/movie-app-API   \n",
       "11085934                                       karlos528/fe   \n",
       "\n",
       "                                                   repo_url  action  \\\n",
       "0                https://api.github.com/repos/Expensify/App  opened   \n",
       "1         https://api.github.com/repos/NuMellow/theMoFac...  opened   \n",
       "2         https://api.github.com/repos/DhyeyKansagara/pr...  opened   \n",
       "3         https://api.github.com/repos/OhMyGuus/I-Still-...  closed   \n",
       "4         https://api.github.com/repos/JonasGruenwald/up...  opened   \n",
       "...                                                     ...     ...   \n",
       "11085930  https://api.github.com/repos/definiteIymaybe/u...  closed   \n",
       "11085931    https://api.github.com/repos/ultralytics/yolov5  opened   \n",
       "11085932     https://api.github.com/repos/alexkuang0/status  closed   \n",
       "11085933  https://api.github.com/repos/Open-Bootcamp/mov...  opened   \n",
       "11085934          https://api.github.com/repos/karlos528/fe  opened   \n",
       "\n",
       "                                                      title  \\\n",
       "0                          Payment issue for E/App PR#14946   \n",
       "1                 Upload animation frames for BMO app audio   \n",
       "2                                         Linux ls command    \n",
       "3                                    [REQ] www.hostinger.de   \n",
       "4                        🛑 A place in the woods API is down   \n",
       "...                                                     ...   \n",
       "11085930                           🛑 donate.memo.ru is down   \n",
       "11085931  Getting error while training on YOLOv5 colab t...   \n",
       "11085932                                 🛑 Homepage is down   \n",
       "11085933              Terminar con Users + authentificación   \n",
       "11085934                             🛑 Habilitación is down   \n",
       "\n",
       "                                     labels  \\\n",
       "0                Daily Awaiting Payment Bug   \n",
       "1                                      Epic   \n",
       "2                                    I Know   \n",
       "3         Website request Anonymous request   \n",
       "4           status a-place-in-the-woods-api   \n",
       "...                                     ...   \n",
       "11085930              status donate-memo-ru   \n",
       "11085931                                bug   \n",
       "11085932                    status homepage   \n",
       "11085933                            13 sept   \n",
       "11085934                status habilitacion   \n",
       "\n",
       "                                                       body  \n",
       "0         Issue created to compensate the Contributor+ m...  \n",
       "1         Create frames for phrases from the old ipad ap...  \n",
       "2         Linux ls command lists the files in the curren...  \n",
       "3         Someone reported anonymously: \\r\\n  ### Websit...  \n",
       "4         In [`210816c`](https://github.com/JonasGruenwa...  \n",
       "...                                                     ...  \n",
       "11085930  In [`aa7845a`](https://github.com/definiteIyma...  \n",
       "11085931  ### Search before asking\\n\\n- [X] I have searc...  \n",
       "11085932  In [`22d46d7`](https://github.com/alexkuang0/s...  \n",
       "11085933  - Migration _User_\\r\\n- Crear **Login** and **...  \n",
       "11085934  In [`4a4113d`](https://github.com/karlos528/fe...  \n",
       "\n",
       "[11085935 rows x 9 columns]"
      ]
     },
     "execution_count": 5,
     "metadata": {},
     "output_type": "execute_result"
    }
   ],
   "source": [
    "appended_data = pd.DataFrame(appended_data)\n",
    "appended_data"
   ]
  },
  {
   "cell_type": "code",
   "execution_count": 6,
   "id": "893fc8a0-c411-4e47-a45c-50833df8984d",
   "metadata": {
    "tags": []
   },
   "outputs": [
    {
     "data": {
      "text/html": [
       "<div>\n",
       "<style scoped>\n",
       "    .dataframe tbody tr th:only-of-type {\n",
       "        vertical-align: middle;\n",
       "    }\n",
       "\n",
       "    .dataframe tbody tr th {\n",
       "        vertical-align: top;\n",
       "    }\n",
       "\n",
       "    .dataframe thead th {\n",
       "        text-align: right;\n",
       "    }\n",
       "</style>\n",
       "<table border=\"1\" class=\"dataframe\">\n",
       "  <thead>\n",
       "    <tr style=\"text-align: right;\">\n",
       "      <th></th>\n",
       "      <th>id</th>\n",
       "      <th>type</th>\n",
       "      <th>created_at</th>\n",
       "      <th>repo</th>\n",
       "      <th>repo_url</th>\n",
       "      <th>action</th>\n",
       "      <th>title</th>\n",
       "      <th>labels</th>\n",
       "      <th>body</th>\n",
       "    </tr>\n",
       "  </thead>\n",
       "  <tbody>\n",
       "    <tr>\n",
       "      <th>0</th>\n",
       "      <td>27299656941</td>\n",
       "      <td>IssuesEvent</td>\n",
       "      <td>2023-02-24 00:07:05</td>\n",
       "      <td>kylecorry31/Trail-Sense</td>\n",
       "      <td>https://api.github.com/repos/kylecorry31/Trail...</td>\n",
       "      <td>opened</td>\n",
       "      <td>Cache preference values</td>\n",
       "      <td>tech-debt p2</td>\n",
       "      <td>- [ ] Make user prefs a singleton\\r\\n- [ ] Reg...</td>\n",
       "    </tr>\n",
       "    <tr>\n",
       "      <th>1</th>\n",
       "      <td>27299671975</td>\n",
       "      <td>IssuesEvent</td>\n",
       "      <td>2023-02-24 00:08:15</td>\n",
       "      <td>ntlarissa/devops-capstone-project</td>\n",
       "      <td>https://api.github.com/repos/ntlarissa/devops-...</td>\n",
       "      <td>closed</td>\n",
       "      <td>Update an account in the service</td>\n",
       "      <td>technical debt</td>\n",
       "      <td>NaN</td>\n",
       "    </tr>\n",
       "    <tr>\n",
       "      <th>2</th>\n",
       "      <td>27299672917</td>\n",
       "      <td>IssuesEvent</td>\n",
       "      <td>2023-02-24 00:08:19</td>\n",
       "      <td>ntlarissa/devops-capstone-project</td>\n",
       "      <td>https://api.github.com/repos/ntlarissa/devops-...</td>\n",
       "      <td>closed</td>\n",
       "      <td>Delete an account from the service</td>\n",
       "      <td>technical debt</td>\n",
       "      <td>NaN</td>\n",
       "    </tr>\n",
       "    <tr>\n",
       "      <th>3</th>\n",
       "      <td>27299673566</td>\n",
       "      <td>IssuesEvent</td>\n",
       "      <td>2023-02-24 00:08:22</td>\n",
       "      <td>ntlarissa/devops-capstone-project</td>\n",
       "      <td>https://api.github.com/repos/ntlarissa/devops-...</td>\n",
       "      <td>closed</td>\n",
       "      <td>List all accounts in the service</td>\n",
       "      <td>technical debt</td>\n",
       "      <td>NaN</td>\n",
       "    </tr>\n",
       "    <tr>\n",
       "      <th>4</th>\n",
       "      <td>27299673899</td>\n",
       "      <td>IssuesEvent</td>\n",
       "      <td>2023-02-24 00:08:24</td>\n",
       "      <td>ntlarissa/devops-capstone-project</td>\n",
       "      <td>https://api.github.com/repos/ntlarissa/devops-...</td>\n",
       "      <td>closed</td>\n",
       "      <td>Set up the development environment</td>\n",
       "      <td>technical debt</td>\n",
       "      <td>NaN</td>\n",
       "    </tr>\n",
       "    <tr>\n",
       "      <th>...</th>\n",
       "      <td>...</td>\n",
       "      <td>...</td>\n",
       "      <td>...</td>\n",
       "      <td>...</td>\n",
       "      <td>...</td>\n",
       "      <td>...</td>\n",
       "      <td>...</td>\n",
       "      <td>...</td>\n",
       "      <td>...</td>\n",
       "    </tr>\n",
       "    <tr>\n",
       "      <th>18741</th>\n",
       "      <td>23933402964</td>\n",
       "      <td>IssuesEvent</td>\n",
       "      <td>2022-09-10 22:11:28</td>\n",
       "      <td>tameka1222/lab-agile-planning</td>\n",
       "      <td>https://api.github.com/repos/tameka1222/lab-ag...</td>\n",
       "      <td>closed</td>\n",
       "      <td>Deploy service to the cloud</td>\n",
       "      <td>technical debt</td>\n",
       "      <td>**As a** Service Provider\\n **I need** the ser...</td>\n",
       "    </tr>\n",
       "    <tr>\n",
       "      <th>18742</th>\n",
       "      <td>23933450831</td>\n",
       "      <td>IssuesEvent</td>\n",
       "      <td>2022-09-10 22:22:14</td>\n",
       "      <td>tameka1222/lab-agile-planning</td>\n",
       "      <td>https://api.github.com/repos/tameka1222/lab-ag...</td>\n",
       "      <td>opened</td>\n",
       "      <td>Complete Deploy Service to the Cloud</td>\n",
       "      <td>technical debt</td>\n",
       "      <td>**As a** Service Provider  \\n **I need** the s...</td>\n",
       "    </tr>\n",
       "    <tr>\n",
       "      <th>18743</th>\n",
       "      <td>23933455083</td>\n",
       "      <td>IssuesEvent</td>\n",
       "      <td>2022-09-10 22:23:14</td>\n",
       "      <td>TonyLB/maketheworld</td>\n",
       "      <td>https://api.github.com/repos/TonyLB/maketheworld</td>\n",
       "      <td>closed</td>\n",
       "      <td>Add README for character layer in asset lambda</td>\n",
       "      <td>documentation techdebt</td>\n",
       "      <td>NaN</td>\n",
       "    </tr>\n",
       "    <tr>\n",
       "      <th>18744</th>\n",
       "      <td>23933671161</td>\n",
       "      <td>IssuesEvent</td>\n",
       "      <td>2022-09-10 23:15:34</td>\n",
       "      <td>Omoella16/lab-agile-planning</td>\n",
       "      <td>https://api.github.com/repos/Omoella16/lab-agi...</td>\n",
       "      <td>closed</td>\n",
       "      <td>Deploy service to the cloud</td>\n",
       "      <td>technical debt</td>\n",
       "      <td>**As a** user\\n **I need** the ability to depl...</td>\n",
       "    </tr>\n",
       "    <tr>\n",
       "      <th>18745</th>\n",
       "      <td>23933753002</td>\n",
       "      <td>IssuesEvent</td>\n",
       "      <td>2022-09-10 23:36:47</td>\n",
       "      <td>Omoella16/lab-agile-planning</td>\n",
       "      <td>https://api.github.com/repos/Omoella16/lab-agi...</td>\n",
       "      <td>opened</td>\n",
       "      <td>complete deploy service to the cloud</td>\n",
       "      <td>technical debt</td>\n",
       "      <td>- [ ] database still need to be provisioned\\n-...</td>\n",
       "    </tr>\n",
       "  </tbody>\n",
       "</table>\n",
       "<p>18746 rows × 9 columns</p>\n",
       "</div>"
      ],
      "text/plain": [
       "                id         type           created_at  \\\n",
       "0      27299656941  IssuesEvent  2023-02-24 00:07:05   \n",
       "1      27299671975  IssuesEvent  2023-02-24 00:08:15   \n",
       "2      27299672917  IssuesEvent  2023-02-24 00:08:19   \n",
       "3      27299673566  IssuesEvent  2023-02-24 00:08:22   \n",
       "4      27299673899  IssuesEvent  2023-02-24 00:08:24   \n",
       "...            ...          ...                  ...   \n",
       "18741  23933402964  IssuesEvent  2022-09-10 22:11:28   \n",
       "18742  23933450831  IssuesEvent  2022-09-10 22:22:14   \n",
       "18743  23933455083  IssuesEvent  2022-09-10 22:23:14   \n",
       "18744  23933671161  IssuesEvent  2022-09-10 23:15:34   \n",
       "18745  23933753002  IssuesEvent  2022-09-10 23:36:47   \n",
       "\n",
       "                                    repo  \\\n",
       "0                kylecorry31/Trail-Sense   \n",
       "1      ntlarissa/devops-capstone-project   \n",
       "2      ntlarissa/devops-capstone-project   \n",
       "3      ntlarissa/devops-capstone-project   \n",
       "4      ntlarissa/devops-capstone-project   \n",
       "...                                  ...   \n",
       "18741      tameka1222/lab-agile-planning   \n",
       "18742      tameka1222/lab-agile-planning   \n",
       "18743                TonyLB/maketheworld   \n",
       "18744       Omoella16/lab-agile-planning   \n",
       "18745       Omoella16/lab-agile-planning   \n",
       "\n",
       "                                                repo_url  action  \\\n",
       "0      https://api.github.com/repos/kylecorry31/Trail...  opened   \n",
       "1      https://api.github.com/repos/ntlarissa/devops-...  closed   \n",
       "2      https://api.github.com/repos/ntlarissa/devops-...  closed   \n",
       "3      https://api.github.com/repos/ntlarissa/devops-...  closed   \n",
       "4      https://api.github.com/repos/ntlarissa/devops-...  closed   \n",
       "...                                                  ...     ...   \n",
       "18741  https://api.github.com/repos/tameka1222/lab-ag...  closed   \n",
       "18742  https://api.github.com/repos/tameka1222/lab-ag...  opened   \n",
       "18743   https://api.github.com/repos/TonyLB/maketheworld  closed   \n",
       "18744  https://api.github.com/repos/Omoella16/lab-agi...  closed   \n",
       "18745  https://api.github.com/repos/Omoella16/lab-agi...  opened   \n",
       "\n",
       "                                                title                  labels  \\\n",
       "0                             Cache preference values            tech-debt p2   \n",
       "1                    Update an account in the service          technical debt   \n",
       "2                  Delete an account from the service          technical debt   \n",
       "3                    List all accounts in the service          technical debt   \n",
       "4                  Set up the development environment          technical debt   \n",
       "...                                               ...                     ...   \n",
       "18741                     Deploy service to the cloud          technical debt   \n",
       "18742            Complete Deploy Service to the Cloud          technical debt   \n",
       "18743  Add README for character layer in asset lambda  documentation techdebt   \n",
       "18744                    Deploy service to the cloud           technical debt   \n",
       "18745            complete deploy service to the cloud          technical debt   \n",
       "\n",
       "                                                    body  \n",
       "0      - [ ] Make user prefs a singleton\\r\\n- [ ] Reg...  \n",
       "1                                                    NaN  \n",
       "2                                                    NaN  \n",
       "3                                                    NaN  \n",
       "4                                                    NaN  \n",
       "...                                                  ...  \n",
       "18741  **As a** Service Provider\\n **I need** the ser...  \n",
       "18742  **As a** Service Provider  \\n **I need** the s...  \n",
       "18743                                                NaN  \n",
       "18744  **As a** user\\n **I need** the ability to depl...  \n",
       "18745  - [ ] database still need to be provisioned\\n-...  \n",
       "\n",
       "[18746 rows x 9 columns]"
      ]
     },
     "execution_count": 6,
     "metadata": {},
     "output_type": "execute_result"
    }
   ],
   "source": [
    "# Create debt dataframe\n",
    "technical_debt_regex = r'debt|\\bTD\\b'\n",
    "contains_debt_not_test = appended_data['labels'].str.contains(technical_debt_regex, case=False, na=False)\n",
    "debt = appended_data[contains_debt_not_test].reset_index(drop=True)\n",
    "debt"
   ]
  },
  {
   "cell_type": "code",
   "execution_count": 7,
   "id": "daf82feb-870a-4bbb-9c8f-28a06e294223",
   "metadata": {
    "tags": []
   },
   "outputs": [],
   "source": [
    "# Dataset with debt and not test\n",
    "debt_file_name = f\"{file_name}_with_td.csv\"\n",
    "debt.to_csv(debt_file_name)"
   ]
  },
  {
   "cell_type": "code",
   "execution_count": 8,
   "id": "f9079f1e-cd28-4aa4-8502-120752f36167",
   "metadata": {
    "tags": []
   },
   "outputs": [
    {
     "data": {
      "text/html": [
       "<div>\n",
       "<style scoped>\n",
       "    .dataframe tbody tr th:only-of-type {\n",
       "        vertical-align: middle;\n",
       "    }\n",
       "\n",
       "    .dataframe tbody tr th {\n",
       "        vertical-align: top;\n",
       "    }\n",
       "\n",
       "    .dataframe thead th {\n",
       "        text-align: right;\n",
       "    }\n",
       "</style>\n",
       "<table border=\"1\" class=\"dataframe\">\n",
       "  <thead>\n",
       "    <tr style=\"text-align: right;\">\n",
       "      <th></th>\n",
       "      <th>count</th>\n",
       "    </tr>\n",
       "    <tr>\n",
       "      <th>labels</th>\n",
       "      <th></th>\n",
       "    </tr>\n",
       "  </thead>\n",
       "  <tbody>\n",
       "    <tr>\n",
       "      <th>technical debt</th>\n",
       "      <td>4339</td>\n",
       "    </tr>\n",
       "    <tr>\n",
       "      <th>tech debt</th>\n",
       "      <td>752</td>\n",
       "    </tr>\n",
       "    <tr>\n",
       "      <th>Technical Debt</th>\n",
       "      <td>672</td>\n",
       "    </tr>\n",
       "    <tr>\n",
       "      <th>techdebt</th>\n",
       "      <td>641</td>\n",
       "    </tr>\n",
       "    <tr>\n",
       "      <th>tech-debt</th>\n",
       "      <td>573</td>\n",
       "    </tr>\n",
       "    <tr>\n",
       "      <th>Technical debt</th>\n",
       "      <td>437</td>\n",
       "    </tr>\n",
       "    <tr>\n",
       "      <th>debt</th>\n",
       "      <td>396</td>\n",
       "    </tr>\n",
       "    <tr>\n",
       "      <th>technical-debt</th>\n",
       "      <td>279</td>\n",
       "    </tr>\n",
       "    <tr>\n",
       "      <th>Tech Debt</th>\n",
       "      <td>208</td>\n",
       "    </tr>\n",
       "    <tr>\n",
       "      <th>enhancement technical debt</th>\n",
       "      <td>81</td>\n",
       "    </tr>\n",
       "    <tr>\n",
       "      <th>task backlog tech-debt</th>\n",
       "      <td>75</td>\n",
       "    </tr>\n",
       "    <tr>\n",
       "      <th>vsa-debt</th>\n",
       "      <td>64</td>\n",
       "    </tr>\n",
       "    <tr>\n",
       "      <th>tech_debt</th>\n",
       "      <td>58</td>\n",
       "    </tr>\n",
       "    <tr>\n",
       "      <th>Good First Issue Help Wanted Area/Technical Debt Tech/TypeScript</th>\n",
       "      <td>53</td>\n",
       "    </tr>\n",
       "    <tr>\n",
       "      <th>T: tech-debt ⚙️</th>\n",
       "      <td>53</td>\n",
       "    </tr>\n",
       "    <tr>\n",
       "      <th>enhancement tech debt</th>\n",
       "      <td>52</td>\n",
       "    </tr>\n",
       "    <tr>\n",
       "      <th>tech debt deprecation no stalebot</th>\n",
       "      <td>49</td>\n",
       "    </tr>\n",
       "    <tr>\n",
       "      <th>:money_mouth_face: tech debt :warning: P2</th>\n",
       "      <td>48</td>\n",
       "    </tr>\n",
       "    <tr>\n",
       "      <th>design vsa-debt</th>\n",
       "      <td>45</td>\n",
       "    </tr>\n",
       "    <tr>\n",
       "      <th>ENTITY techdebt</th>\n",
       "      <td>43</td>\n",
       "    </tr>\n",
       "    <tr>\n",
       "      <th>Tech Debt Notify</th>\n",
       "      <td>43</td>\n",
       "    </tr>\n",
       "    <tr>\n",
       "      <th>Tech debt</th>\n",
       "      <td>42</td>\n",
       "    </tr>\n",
       "    <tr>\n",
       "      <th>:credit_card: technical-debt</th>\n",
       "      <td>39</td>\n",
       "    </tr>\n",
       "    <tr>\n",
       "      <th>🔧 Tech Debt</th>\n",
       "      <td>38</td>\n",
       "    </tr>\n",
       "    <tr>\n",
       "      <th>tech debt triage</th>\n",
       "      <td>37</td>\n",
       "    </tr>\n",
       "    <tr>\n",
       "      <th>kind/tech-debt</th>\n",
       "      <td>36</td>\n",
       "    </tr>\n",
       "    <tr>\n",
       "      <th>bug tech-debt</th>\n",
       "      <td>35</td>\n",
       "    </tr>\n",
       "    <tr>\n",
       "      <th>enhancement tech-debt</th>\n",
       "      <td>34</td>\n",
       "    </tr>\n",
       "    <tr>\n",
       "      <th>techdebt epic</th>\n",
       "      <td>34</td>\n",
       "    </tr>\n",
       "    <tr>\n",
       "      <th>type-debt</th>\n",
       "      <td>32</td>\n",
       "    </tr>\n",
       "    <tr>\n",
       "      <th>Tooling Tech debt</th>\n",
       "      <td>32</td>\n",
       "    </tr>\n",
       "    <tr>\n",
       "      <th>documentation technical debt</th>\n",
       "      <td>31</td>\n",
       "    </tr>\n",
       "    <tr>\n",
       "      <th>Tech Debt dependency update</th>\n",
       "      <td>30</td>\n",
       "    </tr>\n",
       "    <tr>\n",
       "      <th>low priority preview tech debt</th>\n",
       "      <td>30</td>\n",
       "    </tr>\n",
       "    <tr>\n",
       "      <th>tech-debt no-issue-activity</th>\n",
       "      <td>29</td>\n",
       "    </tr>\n",
       "    <tr>\n",
       "      <th>Technology CSP: AWS Technical Debt</th>\n",
       "      <td>29</td>\n",
       "    </tr>\n",
       "    <tr>\n",
       "      <th>good first issue technical debt</th>\n",
       "      <td>29</td>\n",
       "    </tr>\n",
       "    <tr>\n",
       "      <th>Tech Debt Notify QA Review Needed</th>\n",
       "      <td>29</td>\n",
       "    </tr>\n",
       "    <tr>\n",
       "      <th>documentation techdebt</th>\n",
       "      <td>29</td>\n",
       "    </tr>\n",
       "    <tr>\n",
       "      <th>type: technical debt</th>\n",
       "      <td>29</td>\n",
       "    </tr>\n",
       "    <tr>\n",
       "      <th>bug technical debt</th>\n",
       "      <td>29</td>\n",
       "    </tr>\n",
       "    <tr>\n",
       "      <th>:bank: debt</th>\n",
       "      <td>28</td>\n",
       "    </tr>\n",
       "    <tr>\n",
       "      <th>frontend vsa-debt FSR Enhancements PTEMS</th>\n",
       "      <td>28</td>\n",
       "    </tr>\n",
       "    <tr>\n",
       "      <th>type/debt</th>\n",
       "      <td>28</td>\n",
       "    </tr>\n",
       "    <tr>\n",
       "      <th>Technical Debt REST API</th>\n",
       "      <td>27</td>\n",
       "    </tr>\n",
       "    <tr>\n",
       "      <th>debt team/repo-management</th>\n",
       "      <td>27</td>\n",
       "    </tr>\n",
       "    <tr>\n",
       "      <th>tech debt Task</th>\n",
       "      <td>26</td>\n",
       "    </tr>\n",
       "    <tr>\n",
       "      <th>task tech debt</th>\n",
       "      <td>26</td>\n",
       "    </tr>\n",
       "    <tr>\n",
       "      <th>experience tech-debt</th>\n",
       "      <td>26</td>\n",
       "    </tr>\n",
       "    <tr>\n",
       "      <th>pipeline tech-debt</th>\n",
       "      <td>26</td>\n",
       "    </tr>\n",
       "  </tbody>\n",
       "</table>\n",
       "</div>"
      ],
      "text/plain": [
       "                                                    count\n",
       "labels                                                   \n",
       "technical debt                                       4339\n",
       "tech debt                                             752\n",
       "Technical Debt                                        672\n",
       "techdebt                                              641\n",
       "tech-debt                                             573\n",
       "Technical debt                                        437\n",
       "debt                                                  396\n",
       "technical-debt                                        279\n",
       "Tech Debt                                             208\n",
       "enhancement technical debt                             81\n",
       "task backlog tech-debt                                 75\n",
       "vsa-debt                                               64\n",
       "tech_debt                                              58\n",
       "Good First Issue Help Wanted Area/Technical Deb...     53\n",
       "T: tech-debt ⚙️                                        53\n",
       "enhancement tech debt                                  52\n",
       "tech debt deprecation no stalebot                      49\n",
       ":money_mouth_face: tech debt :warning: P2              48\n",
       "design vsa-debt                                        45\n",
       "ENTITY techdebt                                        43\n",
       "Tech Debt Notify                                       43\n",
       "Tech debt                                              42\n",
       ":credit_card: technical-debt                           39\n",
       "🔧 Tech Debt                                            38\n",
       "tech debt triage                                       37\n",
       "kind/tech-debt                                         36\n",
       "bug tech-debt                                          35\n",
       "enhancement tech-debt                                  34\n",
       "techdebt epic                                          34\n",
       "type-debt                                              32\n",
       "Tooling Tech debt                                      32\n",
       "documentation technical debt                           31\n",
       "Tech Debt dependency update                            30\n",
       "low priority preview tech debt                         30\n",
       "tech-debt no-issue-activity                            29\n",
       "Technology CSP: AWS Technical Debt                     29\n",
       "good first issue technical debt                        29\n",
       "Tech Debt Notify QA Review Needed                      29\n",
       "documentation techdebt                                 29\n",
       "type: technical debt                                   29\n",
       "bug technical debt                                     29\n",
       ":bank: debt                                            28\n",
       "frontend vsa-debt FSR Enhancements PTEMS               28\n",
       "type/debt                                              28\n",
       "Technical Debt REST API                                27\n",
       "debt team/repo-management                              27\n",
       "tech debt Task                                         26\n",
       "task tech debt                                         26\n",
       "experience tech-debt                                   26\n",
       "pipeline tech-debt                                     26"
      ]
     },
     "execution_count": 8,
     "metadata": {},
     "output_type": "execute_result"
    }
   ],
   "source": [
    "debt.labels.value_counts().to_frame()[:50]"
   ]
  },
  {
   "cell_type": "code",
   "execution_count": 9,
   "id": "f83bb087-5614-4af3-84cf-8bb1ee592c67",
   "metadata": {
    "tags": []
   },
   "outputs": [
    {
     "data": {
      "text/html": [
       "<div>\n",
       "<style scoped>\n",
       "    .dataframe tbody tr th:only-of-type {\n",
       "        vertical-align: middle;\n",
       "    }\n",
       "\n",
       "    .dataframe tbody tr th {\n",
       "        vertical-align: top;\n",
       "    }\n",
       "\n",
       "    .dataframe thead th {\n",
       "        text-align: right;\n",
       "    }\n",
       "</style>\n",
       "<table border=\"1\" class=\"dataframe\">\n",
       "  <thead>\n",
       "    <tr style=\"text-align: right;\">\n",
       "      <th></th>\n",
       "      <th>count</th>\n",
       "    </tr>\n",
       "    <tr>\n",
       "      <th>labels</th>\n",
       "      <th></th>\n",
       "    </tr>\n",
       "  </thead>\n",
       "  <tbody>\n",
       "    <tr>\n",
       "      <th>stale branch</th>\n",
       "      <td>3425617</td>\n",
       "    </tr>\n",
       "    <tr>\n",
       "      <th>bug</th>\n",
       "      <td>840275</td>\n",
       "    </tr>\n",
       "    <tr>\n",
       "      <th>enhancement</th>\n",
       "      <td>688428</td>\n",
       "    </tr>\n",
       "    <tr>\n",
       "      <th>security vulnerability</th>\n",
       "      <td>185294</td>\n",
       "    </tr>\n",
       "    <tr>\n",
       "      <th>stale branch 🗑️</th>\n",
       "      <td>179847</td>\n",
       "    </tr>\n",
       "    <tr>\n",
       "      <th>documentation</th>\n",
       "      <td>90803</td>\n",
       "    </tr>\n",
       "    <tr>\n",
       "      <th>question</th>\n",
       "      <td>84048</td>\n",
       "    </tr>\n",
       "    <tr>\n",
       "      <th>feature</th>\n",
       "      <td>67276</td>\n",
       "    </tr>\n",
       "    <tr>\n",
       "      <th>Bug</th>\n",
       "      <td>44493</td>\n",
       "    </tr>\n",
       "    <tr>\n",
       "      <th>Mend: dependency security vulnerability</th>\n",
       "      <td>37090</td>\n",
       "    </tr>\n",
       "    <tr>\n",
       "      <th>status monika</th>\n",
       "      <td>34953</td>\n",
       "    </tr>\n",
       "    <tr>\n",
       "      <th>good first issue</th>\n",
       "      <td>24833</td>\n",
       "    </tr>\n",
       "    <tr>\n",
       "      <th>status mirror</th>\n",
       "      <td>24731</td>\n",
       "    </tr>\n",
       "    <tr>\n",
       "      <th>help wanted</th>\n",
       "      <td>23635</td>\n",
       "    </tr>\n",
       "    <tr>\n",
       "      <th>stale</th>\n",
       "      <td>21305</td>\n",
       "    </tr>\n",
       "    <tr>\n",
       "      <th>kind/bug</th>\n",
       "      <td>20904</td>\n",
       "    </tr>\n",
       "    <tr>\n",
       "      <th>feature request</th>\n",
       "      <td>20399</td>\n",
       "    </tr>\n",
       "    <tr>\n",
       "      <th>status tanecni-divadlo-cz</th>\n",
       "      <td>19718</td>\n",
       "    </tr>\n",
       "    <tr>\n",
       "      <th>enhancement good first issue</th>\n",
       "      <td>19154</td>\n",
       "    </tr>\n",
       "    <tr>\n",
       "      <th>status orkut</th>\n",
       "      <td>15797</td>\n",
       "    </tr>\n",
       "    <tr>\n",
       "      <th>task</th>\n",
       "      <td>15702</td>\n",
       "    </tr>\n",
       "    <tr>\n",
       "      <th>type: bug</th>\n",
       "      <td>14359</td>\n",
       "    </tr>\n",
       "    <tr>\n",
       "      <th>wontfix</th>\n",
       "      <td>14150</td>\n",
       "    </tr>\n",
       "    <tr>\n",
       "      <th>invalid</th>\n",
       "      <td>13978</td>\n",
       "    </tr>\n",
       "    <tr>\n",
       "      <th>custom</th>\n",
       "      <td>13757</td>\n",
       "    </tr>\n",
       "    <tr>\n",
       "      <th>alas alas/al2</th>\n",
       "      <td>12892</td>\n",
       "    </tr>\n",
       "    <tr>\n",
       "      <th>status ojolink</th>\n",
       "      <td>12880</td>\n",
       "    </tr>\n",
       "    <tr>\n",
       "      <th>[T] Realização F01 [0] Coleta</th>\n",
       "      <td>12052</td>\n",
       "    </tr>\n",
       "    <tr>\n",
       "      <th>bug enhancement</th>\n",
       "      <td>11585</td>\n",
       "    </tr>\n",
       "    <tr>\n",
       "      <th>watchout</th>\n",
       "      <td>11462</td>\n",
       "    </tr>\n",
       "    <tr>\n",
       "      <th>documentation enhancement</th>\n",
       "      <td>11233</td>\n",
       "    </tr>\n",
       "    <tr>\n",
       "      <th>status a-l-t-e-r-v1</th>\n",
       "      <td>11077</td>\n",
       "    </tr>\n",
       "    <tr>\n",
       "      <th>Stale</th>\n",
       "      <td>11011</td>\n",
       "    </tr>\n",
       "    <tr>\n",
       "      <th>bug triage</th>\n",
       "      <td>10460</td>\n",
       "    </tr>\n",
       "    <tr>\n",
       "      <th>feat</th>\n",
       "      <td>10428</td>\n",
       "    </tr>\n",
       "    <tr>\n",
       "      <th>conversion</th>\n",
       "      <td>10170</td>\n",
       "    </tr>\n",
       "    <tr>\n",
       "      <th>enhancement help wanted</th>\n",
       "      <td>10056</td>\n",
       "    </tr>\n",
       "    <tr>\n",
       "      <th>action-needsmoderation</th>\n",
       "      <td>9924</td>\n",
       "    </tr>\n",
       "    <tr>\n",
       "      <th>type/bug</th>\n",
       "      <td>9902</td>\n",
       "    </tr>\n",
       "    <tr>\n",
       "      <th>status chat-genie-client-api</th>\n",
       "      <td>9326</td>\n",
       "    </tr>\n",
       "    <tr>\n",
       "      <th>Feature</th>\n",
       "      <td>9160</td>\n",
       "    </tr>\n",
       "    <tr>\n",
       "      <th>status danbs</th>\n",
       "      <td>9112</td>\n",
       "    </tr>\n",
       "    <tr>\n",
       "      <th>feature-request</th>\n",
       "      <td>9093</td>\n",
       "    </tr>\n",
       "    <tr>\n",
       "      <th>frontend</th>\n",
       "      <td>9034</td>\n",
       "    </tr>\n",
       "    <tr>\n",
       "      <th>Type: Bug</th>\n",
       "      <td>8902</td>\n",
       "    </tr>\n",
       "    <tr>\n",
       "      <th>answer en</th>\n",
       "      <td>8692</td>\n",
       "    </tr>\n",
       "    <tr>\n",
       "      <th>Enhancement</th>\n",
       "      <td>8664</td>\n",
       "    </tr>\n",
       "    <tr>\n",
       "      <th>status schoelcher</th>\n",
       "      <td>8655</td>\n",
       "    </tr>\n",
       "    <tr>\n",
       "      <th>duplicate</th>\n",
       "      <td>8590</td>\n",
       "    </tr>\n",
       "    <tr>\n",
       "      <th>status mego-api-14</th>\n",
       "      <td>8564</td>\n",
       "    </tr>\n",
       "  </tbody>\n",
       "</table>\n",
       "</div>"
      ],
      "text/plain": [
       "                                           count\n",
       "labels                                          \n",
       "stale branch                             3425617\n",
       "bug                                       840275\n",
       "enhancement                               688428\n",
       "security vulnerability                    185294\n",
       "stale branch 🗑️                           179847\n",
       "documentation                              90803\n",
       "question                                   84048\n",
       "feature                                    67276\n",
       "Bug                                        44493\n",
       "Mend: dependency security vulnerability    37090\n",
       "status monika                              34953\n",
       "good first issue                           24833\n",
       "status mirror                              24731\n",
       "help wanted                                23635\n",
       "stale                                      21305\n",
       "kind/bug                                   20904\n",
       "feature request                            20399\n",
       "status tanecni-divadlo-cz                  19718\n",
       "enhancement good first issue               19154\n",
       "status orkut                               15797\n",
       "task                                       15702\n",
       "type: bug                                  14359\n",
       "wontfix                                    14150\n",
       "invalid                                    13978\n",
       "custom                                     13757\n",
       "alas alas/al2                              12892\n",
       "status ojolink                             12880\n",
       "[T] Realização F01 [0] Coleta              12052\n",
       "bug enhancement                            11585\n",
       "watchout                                   11462\n",
       "documentation enhancement                  11233\n",
       "status a-l-t-e-r-v1                        11077\n",
       "Stale                                      11011\n",
       "bug triage                                 10460\n",
       "feat                                       10428\n",
       "conversion                                 10170\n",
       "enhancement help wanted                    10056\n",
       "action-needsmoderation                      9924\n",
       "type/bug                                    9902\n",
       "status chat-genie-client-api                9326\n",
       "Feature                                     9160\n",
       "status danbs                                9112\n",
       "feature-request                             9093\n",
       "frontend                                    9034\n",
       "Type: Bug                                   8902\n",
       "answer en                                   8692\n",
       "Enhancement                                 8664\n",
       "status schoelcher                           8655\n",
       "duplicate                                   8590\n",
       "status mego-api-14                          8564"
      ]
     },
     "execution_count": 9,
     "metadata": {},
     "output_type": "execute_result"
    }
   ],
   "source": [
    "# To labels\n",
    "appended_data.labels.value_counts().to_frame()[:50] "
   ]
  },
  {
   "cell_type": "code",
   "execution_count": 10,
   "id": "4fa02011-4304-4478-84c3-0fa20e6febda",
   "metadata": {
    "tags": []
   },
   "outputs": [
    {
     "name": "stdout",
     "output_type": "stream",
     "text": [
      "                  id         type           created_at  \\\n",
      "0        27299559404  IssuesEvent  2023-02-24 00:00:00   \n",
      "1        27299559594  IssuesEvent  2023-02-24 00:00:00   \n",
      "2        27299560619  IssuesEvent  2023-02-24 00:00:05   \n",
      "3        27299560735  IssuesEvent  2023-02-24 00:00:05   \n",
      "4        27299561219  IssuesEvent  2023-02-24 00:00:06   \n",
      "...              ...          ...                  ...   \n",
      "99995  27322482589.0  IssuesEvent  2023-02-24 21:17:33   \n",
      "99996  27322482589.0  IssuesEvent  2023-02-24 21:17:33   \n",
      "99997  27322482589.0  IssuesEvent  2023-02-24 21:17:33   \n",
      "99998  27322482589.0  IssuesEvent  2023-02-24 21:17:33   \n",
      "99999  27322482589.0  IssuesEvent  2023-02-24 21:17:33   \n",
      "\n",
      "                                                    repo  \\\n",
      "0                                          Expensify/App   \n",
      "1                                  NuMellow/theMoFactory   \n",
      "2      DhyeyKansagara/project-management-github-activity   \n",
      "3               OhMyGuus/I-Still-Dont-Care-About-Cookies   \n",
      "4                          JonasGruenwald/uptime-monitor   \n",
      "...                                                  ...   \n",
      "99995                                  jjcss/CSS_Website   \n",
      "99996                                  jjcss/CSS_Website   \n",
      "99997                                  jjcss/CSS_Website   \n",
      "99998                                  jjcss/CSS_Website   \n",
      "99999                                  jjcss/CSS_Website   \n",
      "\n",
      "                                                repo_url  action  \\\n",
      "0             https://api.github.com/repos/Expensify/App  opened   \n",
      "1      https://api.github.com/repos/NuMellow/theMoFac...  opened   \n",
      "2      https://api.github.com/repos/DhyeyKansagara/pr...  opened   \n",
      "3      https://api.github.com/repos/OhMyGuus/I-Still-...  closed   \n",
      "4      https://api.github.com/repos/JonasGruenwald/up...  opened   \n",
      "...                                                  ...     ...   \n",
      "99995     https://api.github.com/repos/jjcss/CSS_Website  opened   \n",
      "99996     https://api.github.com/repos/jjcss/CSS_Website  opened   \n",
      "99997     https://api.github.com/repos/jjcss/CSS_Website  opened   \n",
      "99998     https://api.github.com/repos/jjcss/CSS_Website  opened   \n",
      "99999     https://api.github.com/repos/jjcss/CSS_Website  opened   \n",
      "\n",
      "                                           title  \\\n",
      "0               Payment issue for E/App PR#14946   \n",
      "1      Upload animation frames for BMO app audio   \n",
      "2                              Linux ls command    \n",
      "3                         [REQ] www.hostinger.de   \n",
      "4             🛑 A place in the woods API is down   \n",
      "...                                          ...   \n",
      "99995                      [githubIcon] is STALE   \n",
      "99996                      [githubIcon] is STALE   \n",
      "99997                      [githubIcon] is STALE   \n",
      "99998                      [githubIcon] is STALE   \n",
      "99999                      [githubIcon] is STALE   \n",
      "\n",
      "                                  labels  \\\n",
      "0             Daily Awaiting Payment Bug   \n",
      "1                                   Epic   \n",
      "2                                 I Know   \n",
      "3      Website request Anonymous request   \n",
      "4        status a-place-in-the-woods-api   \n",
      "...                                  ...   \n",
      "99995                       stale branch   \n",
      "99996                       stale branch   \n",
      "99997                       stale branch   \n",
      "99998                       stale branch   \n",
      "99999                       stale branch   \n",
      "\n",
      "                                                    body  \n",
      "0      Issue created to compensate the Contributor+ m...  \n",
      "1      Create frames for phrases from the old ipad ap...  \n",
      "2      Linux ls command lists the files in the curren...  \n",
      "3      Someone reported anonymously: \\r\\n  ### Websit...  \n",
      "4      In [`210816c`](https://github.com/JonasGruenwa...  \n",
      "...                                                  ...  \n",
      "99995       githubIcon has had no activity for 66 days.   \n",
      "99996       githubIcon has had no activity for 66 days.   \n",
      "99997       githubIcon has had no activity for 66 days.   \n",
      "99998       githubIcon has had no activity for 66 days.   \n",
      "99999       githubIcon has had no activity for 66 days.   \n",
      "\n",
      "[100000 rows x 9 columns]\n"
     ]
    }
   ],
   "source": [
    "# Remove debt from the dataset\n",
    "appended_data_no_debt = appended_data[~contains_debt_not_test].reset_index(drop=True)\n",
    "\n",
    "# Keep only the first 100,000 rows\n",
    "appended_data_no_debt = appended_data_no_debt.head(100000)\n",
    "\n",
    "# Reset the index\n",
    "appended_data_no_debt.reset_index(drop=True, inplace=True)\n",
    "\n",
    "# Display the resulting DataFrame\n",
    "print(appended_data_no_debt)\n"
   ]
  },
  {
   "cell_type": "code",
   "execution_count": 11,
   "id": "0d68690b-c4f4-4ac4-8062-56c3af33bf82",
   "metadata": {
    "tags": []
   },
   "outputs": [
    {
     "data": {
      "text/html": [
       "<div>\n",
       "<style scoped>\n",
       "    .dataframe tbody tr th:only-of-type {\n",
       "        vertical-align: middle;\n",
       "    }\n",
       "\n",
       "    .dataframe tbody tr th {\n",
       "        vertical-align: top;\n",
       "    }\n",
       "\n",
       "    .dataframe thead th {\n",
       "        text-align: right;\n",
       "    }\n",
       "</style>\n",
       "<table border=\"1\" class=\"dataframe\">\n",
       "  <thead>\n",
       "    <tr style=\"text-align: right;\">\n",
       "      <th></th>\n",
       "      <th>id</th>\n",
       "      <th>type</th>\n",
       "      <th>created_at</th>\n",
       "      <th>repo</th>\n",
       "      <th>repo_url</th>\n",
       "      <th>action</th>\n",
       "      <th>title</th>\n",
       "      <th>labels</th>\n",
       "      <th>body</th>\n",
       "    </tr>\n",
       "  </thead>\n",
       "  <tbody>\n",
       "  </tbody>\n",
       "</table>\n",
       "</div>"
      ],
      "text/plain": [
       "Empty DataFrame\n",
       "Columns: [id, type, created_at, repo, repo_url, action, title, labels, body]\n",
       "Index: []"
      ]
     },
     "execution_count": 11,
     "metadata": {},
     "output_type": "execute_result"
    }
   ],
   "source": [
    "# Sanity check\n",
    "should_be_empty=appended_data_no_debt[appended_data_no_debt['labels'].str.contains(technical_debt_regex, case=False, na=False)]\n",
    "should_be_empty"
   ]
  },
  {
   "cell_type": "code",
   "execution_count": 12,
   "id": "faae7e5b-a9eb-45ff-ba17-00bcd64a8fa8",
   "metadata": {
    "tags": []
   },
   "outputs": [],
   "source": [
    "# Convert to csv\n",
    "test_file_name = f\"{file_name}_no_td.csv\"\n",
    "appended_data_no_debt.to_csv(test_file_name)"
   ]
  },
  {
   "cell_type": "code",
   "execution_count": 13,
   "id": "7a0c01f9-91ed-472a-8ef0-a4a6f5e0b7dc",
   "metadata": {
    "tags": []
   },
   "outputs": [
    {
     "data": {
      "text/html": [
       "<div>\n",
       "<style scoped>\n",
       "    .dataframe tbody tr th:only-of-type {\n",
       "        vertical-align: middle;\n",
       "    }\n",
       "\n",
       "    .dataframe tbody tr th {\n",
       "        vertical-align: top;\n",
       "    }\n",
       "\n",
       "    .dataframe thead th {\n",
       "        text-align: right;\n",
       "    }\n",
       "</style>\n",
       "<table border=\"1\" class=\"dataframe\">\n",
       "  <thead>\n",
       "    <tr style=\"text-align: right;\">\n",
       "      <th></th>\n",
       "      <th>id</th>\n",
       "      <th>type</th>\n",
       "      <th>created_at</th>\n",
       "      <th>repo</th>\n",
       "      <th>repo_url</th>\n",
       "      <th>action</th>\n",
       "      <th>title</th>\n",
       "      <th>labels</th>\n",
       "      <th>body</th>\n",
       "    </tr>\n",
       "  </thead>\n",
       "  <tbody>\n",
       "    <tr>\n",
       "      <th>0</th>\n",
       "      <td>2.729956e+10</td>\n",
       "      <td>IssuesEvent</td>\n",
       "      <td>2023-02-24 00:00:00</td>\n",
       "      <td>Expensify/App</td>\n",
       "      <td>https://api.github.com/repos/Expensify/App</td>\n",
       "      <td>opened</td>\n",
       "      <td>Payment issue for E/App PR#14946</td>\n",
       "      <td>Daily Awaiting Payment Bug</td>\n",
       "      <td>Issue created to compensate the Contributor+ m...</td>\n",
       "    </tr>\n",
       "    <tr>\n",
       "      <th>1</th>\n",
       "      <td>2.729956e+10</td>\n",
       "      <td>IssuesEvent</td>\n",
       "      <td>2023-02-24 00:00:00</td>\n",
       "      <td>NuMellow/theMoFactory</td>\n",
       "      <td>https://api.github.com/repos/NuMellow/theMoFac...</td>\n",
       "      <td>opened</td>\n",
       "      <td>Upload animation frames for BMO app audio</td>\n",
       "      <td>Epic</td>\n",
       "      <td>Create frames for phrases from the old ipad ap...</td>\n",
       "    </tr>\n",
       "    <tr>\n",
       "      <th>2</th>\n",
       "      <td>2.729956e+10</td>\n",
       "      <td>IssuesEvent</td>\n",
       "      <td>2023-02-24 00:00:05</td>\n",
       "      <td>DhyeyKansagara/project-management-github-activity</td>\n",
       "      <td>https://api.github.com/repos/DhyeyKansagara/pr...</td>\n",
       "      <td>opened</td>\n",
       "      <td>Linux ls command</td>\n",
       "      <td>I Know</td>\n",
       "      <td>Linux ls command lists the files in the curren...</td>\n",
       "    </tr>\n",
       "    <tr>\n",
       "      <th>3</th>\n",
       "      <td>2.729956e+10</td>\n",
       "      <td>IssuesEvent</td>\n",
       "      <td>2023-02-24 00:00:05</td>\n",
       "      <td>OhMyGuus/I-Still-Dont-Care-About-Cookies</td>\n",
       "      <td>https://api.github.com/repos/OhMyGuus/I-Still-...</td>\n",
       "      <td>closed</td>\n",
       "      <td>[REQ] www.hostinger.de</td>\n",
       "      <td>Website request Anonymous request</td>\n",
       "      <td>Someone reported anonymously: \\r\\n  ### Websit...</td>\n",
       "    </tr>\n",
       "    <tr>\n",
       "      <th>4</th>\n",
       "      <td>2.729956e+10</td>\n",
       "      <td>IssuesEvent</td>\n",
       "      <td>2023-02-24 00:00:06</td>\n",
       "      <td>JonasGruenwald/uptime-monitor</td>\n",
       "      <td>https://api.github.com/repos/JonasGruenwald/up...</td>\n",
       "      <td>opened</td>\n",
       "      <td>🛑 A place in the woods API is down</td>\n",
       "      <td>status a-place-in-the-woods-api</td>\n",
       "      <td>In [`210816c`](https://github.com/JonasGruenwa...</td>\n",
       "    </tr>\n",
       "    <tr>\n",
       "      <th>...</th>\n",
       "      <td>...</td>\n",
       "      <td>...</td>\n",
       "      <td>...</td>\n",
       "      <td>...</td>\n",
       "      <td>...</td>\n",
       "      <td>...</td>\n",
       "      <td>...</td>\n",
       "      <td>...</td>\n",
       "      <td>...</td>\n",
       "    </tr>\n",
       "    <tr>\n",
       "      <th>99995</th>\n",
       "      <td>2.732248e+10</td>\n",
       "      <td>IssuesEvent</td>\n",
       "      <td>2023-02-24 21:17:33</td>\n",
       "      <td>jjcss/CSS_Website</td>\n",
       "      <td>https://api.github.com/repos/jjcss/CSS_Website</td>\n",
       "      <td>opened</td>\n",
       "      <td>[githubIcon] is STALE</td>\n",
       "      <td>stale branch</td>\n",
       "      <td>githubIcon has had no activity for 66 days.</td>\n",
       "    </tr>\n",
       "    <tr>\n",
       "      <th>99996</th>\n",
       "      <td>2.732248e+10</td>\n",
       "      <td>IssuesEvent</td>\n",
       "      <td>2023-02-24 21:17:33</td>\n",
       "      <td>jjcss/CSS_Website</td>\n",
       "      <td>https://api.github.com/repos/jjcss/CSS_Website</td>\n",
       "      <td>opened</td>\n",
       "      <td>[githubIcon] is STALE</td>\n",
       "      <td>stale branch</td>\n",
       "      <td>githubIcon has had no activity for 66 days.</td>\n",
       "    </tr>\n",
       "    <tr>\n",
       "      <th>99997</th>\n",
       "      <td>2.732248e+10</td>\n",
       "      <td>IssuesEvent</td>\n",
       "      <td>2023-02-24 21:17:33</td>\n",
       "      <td>jjcss/CSS_Website</td>\n",
       "      <td>https://api.github.com/repos/jjcss/CSS_Website</td>\n",
       "      <td>opened</td>\n",
       "      <td>[githubIcon] is STALE</td>\n",
       "      <td>stale branch</td>\n",
       "      <td>githubIcon has had no activity for 66 days.</td>\n",
       "    </tr>\n",
       "    <tr>\n",
       "      <th>99998</th>\n",
       "      <td>2.732248e+10</td>\n",
       "      <td>IssuesEvent</td>\n",
       "      <td>2023-02-24 21:17:33</td>\n",
       "      <td>jjcss/CSS_Website</td>\n",
       "      <td>https://api.github.com/repos/jjcss/CSS_Website</td>\n",
       "      <td>opened</td>\n",
       "      <td>[githubIcon] is STALE</td>\n",
       "      <td>stale branch</td>\n",
       "      <td>githubIcon has had no activity for 66 days.</td>\n",
       "    </tr>\n",
       "    <tr>\n",
       "      <th>99999</th>\n",
       "      <td>2.732248e+10</td>\n",
       "      <td>IssuesEvent</td>\n",
       "      <td>2023-02-24 21:17:33</td>\n",
       "      <td>jjcss/CSS_Website</td>\n",
       "      <td>https://api.github.com/repos/jjcss/CSS_Website</td>\n",
       "      <td>opened</td>\n",
       "      <td>[githubIcon] is STALE</td>\n",
       "      <td>stale branch</td>\n",
       "      <td>githubIcon has had no activity for 66 days.</td>\n",
       "    </tr>\n",
       "  </tbody>\n",
       "</table>\n",
       "<p>100000 rows × 9 columns</p>\n",
       "</div>"
      ],
      "text/plain": [
       "                 id         type           created_at  \\\n",
       "0      2.729956e+10  IssuesEvent  2023-02-24 00:00:00   \n",
       "1      2.729956e+10  IssuesEvent  2023-02-24 00:00:00   \n",
       "2      2.729956e+10  IssuesEvent  2023-02-24 00:00:05   \n",
       "3      2.729956e+10  IssuesEvent  2023-02-24 00:00:05   \n",
       "4      2.729956e+10  IssuesEvent  2023-02-24 00:00:06   \n",
       "...             ...          ...                  ...   \n",
       "99995  2.732248e+10  IssuesEvent  2023-02-24 21:17:33   \n",
       "99996  2.732248e+10  IssuesEvent  2023-02-24 21:17:33   \n",
       "99997  2.732248e+10  IssuesEvent  2023-02-24 21:17:33   \n",
       "99998  2.732248e+10  IssuesEvent  2023-02-24 21:17:33   \n",
       "99999  2.732248e+10  IssuesEvent  2023-02-24 21:17:33   \n",
       "\n",
       "                                                    repo  \\\n",
       "0                                          Expensify/App   \n",
       "1                                  NuMellow/theMoFactory   \n",
       "2      DhyeyKansagara/project-management-github-activity   \n",
       "3               OhMyGuus/I-Still-Dont-Care-About-Cookies   \n",
       "4                          JonasGruenwald/uptime-monitor   \n",
       "...                                                  ...   \n",
       "99995                                  jjcss/CSS_Website   \n",
       "99996                                  jjcss/CSS_Website   \n",
       "99997                                  jjcss/CSS_Website   \n",
       "99998                                  jjcss/CSS_Website   \n",
       "99999                                  jjcss/CSS_Website   \n",
       "\n",
       "                                                repo_url  action  \\\n",
       "0             https://api.github.com/repos/Expensify/App  opened   \n",
       "1      https://api.github.com/repos/NuMellow/theMoFac...  opened   \n",
       "2      https://api.github.com/repos/DhyeyKansagara/pr...  opened   \n",
       "3      https://api.github.com/repos/OhMyGuus/I-Still-...  closed   \n",
       "4      https://api.github.com/repos/JonasGruenwald/up...  opened   \n",
       "...                                                  ...     ...   \n",
       "99995     https://api.github.com/repos/jjcss/CSS_Website  opened   \n",
       "99996     https://api.github.com/repos/jjcss/CSS_Website  opened   \n",
       "99997     https://api.github.com/repos/jjcss/CSS_Website  opened   \n",
       "99998     https://api.github.com/repos/jjcss/CSS_Website  opened   \n",
       "99999     https://api.github.com/repos/jjcss/CSS_Website  opened   \n",
       "\n",
       "                                           title  \\\n",
       "0               Payment issue for E/App PR#14946   \n",
       "1      Upload animation frames for BMO app audio   \n",
       "2                              Linux ls command    \n",
       "3                         [REQ] www.hostinger.de   \n",
       "4             🛑 A place in the woods API is down   \n",
       "...                                          ...   \n",
       "99995                      [githubIcon] is STALE   \n",
       "99996                      [githubIcon] is STALE   \n",
       "99997                      [githubIcon] is STALE   \n",
       "99998                      [githubIcon] is STALE   \n",
       "99999                      [githubIcon] is STALE   \n",
       "\n",
       "                                  labels  \\\n",
       "0             Daily Awaiting Payment Bug   \n",
       "1                                   Epic   \n",
       "2                                 I Know   \n",
       "3      Website request Anonymous request   \n",
       "4        status a-place-in-the-woods-api   \n",
       "...                                  ...   \n",
       "99995                       stale branch   \n",
       "99996                       stale branch   \n",
       "99997                       stale branch   \n",
       "99998                       stale branch   \n",
       "99999                       stale branch   \n",
       "\n",
       "                                                    body  \n",
       "0      Issue created to compensate the Contributor+ m...  \n",
       "1      Create frames for phrases from the old ipad ap...  \n",
       "2      Linux ls command lists the files in the curren...  \n",
       "3      Someone reported anonymously: \\r\\n  ### Websit...  \n",
       "4      In [`210816c`](https://github.com/JonasGruenwa...  \n",
       "...                                                  ...  \n",
       "99995       githubIcon has had no activity for 66 days.   \n",
       "99996       githubIcon has had no activity for 66 days.   \n",
       "99997       githubIcon has had no activity for 66 days.   \n",
       "99998       githubIcon has had no activity for 66 days.   \n",
       "99999       githubIcon has had no activity for 66 days.   \n",
       "\n",
       "[100000 rows x 9 columns]"
      ]
     },
     "execution_count": 13,
     "metadata": {},
     "output_type": "execute_result"
    }
   ],
   "source": [
    "pri = pd.read_csv(test_file_name, index_col=0)\n",
    "pri"
   ]
  },
  {
   "cell_type": "code",
   "execution_count": 14,
   "id": "642df166-301f-469c-9f58-29257b67931b",
   "metadata": {},
   "outputs": [
    {
     "data": {
      "text/html": [
       "<div>\n",
       "<style scoped>\n",
       "    .dataframe tbody tr th:only-of-type {\n",
       "        vertical-align: middle;\n",
       "    }\n",
       "\n",
       "    .dataframe tbody tr th {\n",
       "        vertical-align: top;\n",
       "    }\n",
       "\n",
       "    .dataframe thead th {\n",
       "        text-align: right;\n",
       "    }\n",
       "</style>\n",
       "<table border=\"1\" class=\"dataframe\">\n",
       "  <thead>\n",
       "    <tr style=\"text-align: right;\">\n",
       "      <th></th>\n",
       "      <th>id</th>\n",
       "      <th>type</th>\n",
       "      <th>created_at</th>\n",
       "      <th>repo</th>\n",
       "      <th>repo_url</th>\n",
       "      <th>action</th>\n",
       "      <th>title</th>\n",
       "      <th>labels</th>\n",
       "      <th>body</th>\n",
       "    </tr>\n",
       "  </thead>\n",
       "  <tbody>\n",
       "    <tr>\n",
       "      <th>0</th>\n",
       "      <td>2.729966e+10</td>\n",
       "      <td>IssuesEvent</td>\n",
       "      <td>2023-02-24 00:07:05</td>\n",
       "      <td>kylecorry31/Trail-Sense</td>\n",
       "      <td>https://api.github.com/repos/kylecorry31/Trail...</td>\n",
       "      <td>opened</td>\n",
       "      <td>Cache preference values</td>\n",
       "      <td>tech-debt p2</td>\n",
       "      <td>- [ ] Make user prefs a singleton\\r\\n- [ ] Reg...</td>\n",
       "    </tr>\n",
       "    <tr>\n",
       "      <th>1</th>\n",
       "      <td>2.729967e+10</td>\n",
       "      <td>IssuesEvent</td>\n",
       "      <td>2023-02-24 00:08:15</td>\n",
       "      <td>ntlarissa/devops-capstone-project</td>\n",
       "      <td>https://api.github.com/repos/ntlarissa/devops-...</td>\n",
       "      <td>closed</td>\n",
       "      <td>Update an account in the service</td>\n",
       "      <td>technical debt</td>\n",
       "      <td>NaN</td>\n",
       "    </tr>\n",
       "    <tr>\n",
       "      <th>2</th>\n",
       "      <td>2.729967e+10</td>\n",
       "      <td>IssuesEvent</td>\n",
       "      <td>2023-02-24 00:08:19</td>\n",
       "      <td>ntlarissa/devops-capstone-project</td>\n",
       "      <td>https://api.github.com/repos/ntlarissa/devops-...</td>\n",
       "      <td>closed</td>\n",
       "      <td>Delete an account from the service</td>\n",
       "      <td>technical debt</td>\n",
       "      <td>NaN</td>\n",
       "    </tr>\n",
       "    <tr>\n",
       "      <th>3</th>\n",
       "      <td>2.729967e+10</td>\n",
       "      <td>IssuesEvent</td>\n",
       "      <td>2023-02-24 00:08:22</td>\n",
       "      <td>ntlarissa/devops-capstone-project</td>\n",
       "      <td>https://api.github.com/repos/ntlarissa/devops-...</td>\n",
       "      <td>closed</td>\n",
       "      <td>List all accounts in the service</td>\n",
       "      <td>technical debt</td>\n",
       "      <td>NaN</td>\n",
       "    </tr>\n",
       "    <tr>\n",
       "      <th>4</th>\n",
       "      <td>2.729967e+10</td>\n",
       "      <td>IssuesEvent</td>\n",
       "      <td>2023-02-24 00:08:24</td>\n",
       "      <td>ntlarissa/devops-capstone-project</td>\n",
       "      <td>https://api.github.com/repos/ntlarissa/devops-...</td>\n",
       "      <td>closed</td>\n",
       "      <td>Set up the development environment</td>\n",
       "      <td>technical debt</td>\n",
       "      <td>NaN</td>\n",
       "    </tr>\n",
       "    <tr>\n",
       "      <th>...</th>\n",
       "      <td>...</td>\n",
       "      <td>...</td>\n",
       "      <td>...</td>\n",
       "      <td>...</td>\n",
       "      <td>...</td>\n",
       "      <td>...</td>\n",
       "      <td>...</td>\n",
       "      <td>...</td>\n",
       "      <td>...</td>\n",
       "    </tr>\n",
       "    <tr>\n",
       "      <th>18741</th>\n",
       "      <td>2.393340e+10</td>\n",
       "      <td>IssuesEvent</td>\n",
       "      <td>2022-09-10 22:11:28</td>\n",
       "      <td>tameka1222/lab-agile-planning</td>\n",
       "      <td>https://api.github.com/repos/tameka1222/lab-ag...</td>\n",
       "      <td>closed</td>\n",
       "      <td>Deploy service to the cloud</td>\n",
       "      <td>technical debt</td>\n",
       "      <td>**As a** Service Provider\\n **I need** the ser...</td>\n",
       "    </tr>\n",
       "    <tr>\n",
       "      <th>18742</th>\n",
       "      <td>2.393345e+10</td>\n",
       "      <td>IssuesEvent</td>\n",
       "      <td>2022-09-10 22:22:14</td>\n",
       "      <td>tameka1222/lab-agile-planning</td>\n",
       "      <td>https://api.github.com/repos/tameka1222/lab-ag...</td>\n",
       "      <td>opened</td>\n",
       "      <td>Complete Deploy Service to the Cloud</td>\n",
       "      <td>technical debt</td>\n",
       "      <td>**As a** Service Provider  \\n **I need** the s...</td>\n",
       "    </tr>\n",
       "    <tr>\n",
       "      <th>18743</th>\n",
       "      <td>2.393346e+10</td>\n",
       "      <td>IssuesEvent</td>\n",
       "      <td>2022-09-10 22:23:14</td>\n",
       "      <td>TonyLB/maketheworld</td>\n",
       "      <td>https://api.github.com/repos/TonyLB/maketheworld</td>\n",
       "      <td>closed</td>\n",
       "      <td>Add README for character layer in asset lambda</td>\n",
       "      <td>documentation techdebt</td>\n",
       "      <td>NaN</td>\n",
       "    </tr>\n",
       "    <tr>\n",
       "      <th>18744</th>\n",
       "      <td>2.393367e+10</td>\n",
       "      <td>IssuesEvent</td>\n",
       "      <td>2022-09-10 23:15:34</td>\n",
       "      <td>Omoella16/lab-agile-planning</td>\n",
       "      <td>https://api.github.com/repos/Omoella16/lab-agi...</td>\n",
       "      <td>closed</td>\n",
       "      <td>Deploy service to the cloud</td>\n",
       "      <td>technical debt</td>\n",
       "      <td>**As a** user\\n **I need** the ability to depl...</td>\n",
       "    </tr>\n",
       "    <tr>\n",
       "      <th>18745</th>\n",
       "      <td>2.393375e+10</td>\n",
       "      <td>IssuesEvent</td>\n",
       "      <td>2022-09-10 23:36:47</td>\n",
       "      <td>Omoella16/lab-agile-planning</td>\n",
       "      <td>https://api.github.com/repos/Omoella16/lab-agi...</td>\n",
       "      <td>opened</td>\n",
       "      <td>complete deploy service to the cloud</td>\n",
       "      <td>technical debt</td>\n",
       "      <td>- [ ] database still need to be provisioned\\n-...</td>\n",
       "    </tr>\n",
       "  </tbody>\n",
       "</table>\n",
       "<p>18746 rows × 9 columns</p>\n",
       "</div>"
      ],
      "text/plain": [
       "                 id         type           created_at  \\\n",
       "0      2.729966e+10  IssuesEvent  2023-02-24 00:07:05   \n",
       "1      2.729967e+10  IssuesEvent  2023-02-24 00:08:15   \n",
       "2      2.729967e+10  IssuesEvent  2023-02-24 00:08:19   \n",
       "3      2.729967e+10  IssuesEvent  2023-02-24 00:08:22   \n",
       "4      2.729967e+10  IssuesEvent  2023-02-24 00:08:24   \n",
       "...             ...          ...                  ...   \n",
       "18741  2.393340e+10  IssuesEvent  2022-09-10 22:11:28   \n",
       "18742  2.393345e+10  IssuesEvent  2022-09-10 22:22:14   \n",
       "18743  2.393346e+10  IssuesEvent  2022-09-10 22:23:14   \n",
       "18744  2.393367e+10  IssuesEvent  2022-09-10 23:15:34   \n",
       "18745  2.393375e+10  IssuesEvent  2022-09-10 23:36:47   \n",
       "\n",
       "                                    repo  \\\n",
       "0                kylecorry31/Trail-Sense   \n",
       "1      ntlarissa/devops-capstone-project   \n",
       "2      ntlarissa/devops-capstone-project   \n",
       "3      ntlarissa/devops-capstone-project   \n",
       "4      ntlarissa/devops-capstone-project   \n",
       "...                                  ...   \n",
       "18741      tameka1222/lab-agile-planning   \n",
       "18742      tameka1222/lab-agile-planning   \n",
       "18743                TonyLB/maketheworld   \n",
       "18744       Omoella16/lab-agile-planning   \n",
       "18745       Omoella16/lab-agile-planning   \n",
       "\n",
       "                                                repo_url  action  \\\n",
       "0      https://api.github.com/repos/kylecorry31/Trail...  opened   \n",
       "1      https://api.github.com/repos/ntlarissa/devops-...  closed   \n",
       "2      https://api.github.com/repos/ntlarissa/devops-...  closed   \n",
       "3      https://api.github.com/repos/ntlarissa/devops-...  closed   \n",
       "4      https://api.github.com/repos/ntlarissa/devops-...  closed   \n",
       "...                                                  ...     ...   \n",
       "18741  https://api.github.com/repos/tameka1222/lab-ag...  closed   \n",
       "18742  https://api.github.com/repos/tameka1222/lab-ag...  opened   \n",
       "18743   https://api.github.com/repos/TonyLB/maketheworld  closed   \n",
       "18744  https://api.github.com/repos/Omoella16/lab-agi...  closed   \n",
       "18745  https://api.github.com/repos/Omoella16/lab-agi...  opened   \n",
       "\n",
       "                                                title                  labels  \\\n",
       "0                             Cache preference values            tech-debt p2   \n",
       "1                    Update an account in the service          technical debt   \n",
       "2                  Delete an account from the service          technical debt   \n",
       "3                    List all accounts in the service          technical debt   \n",
       "4                  Set up the development environment          technical debt   \n",
       "...                                               ...                     ...   \n",
       "18741                     Deploy service to the cloud          technical debt   \n",
       "18742            Complete Deploy Service to the Cloud          technical debt   \n",
       "18743  Add README for character layer in asset lambda  documentation techdebt   \n",
       "18744                    Deploy service to the cloud           technical debt   \n",
       "18745            complete deploy service to the cloud          technical debt   \n",
       "\n",
       "                                                    body  \n",
       "0      - [ ] Make user prefs a singleton\\r\\n- [ ] Reg...  \n",
       "1                                                    NaN  \n",
       "2                                                    NaN  \n",
       "3                                                    NaN  \n",
       "4                                                    NaN  \n",
       "...                                                  ...  \n",
       "18741  **As a** Service Provider\\n **I need** the ser...  \n",
       "18742  **As a** Service Provider  \\n **I need** the s...  \n",
       "18743                                                NaN  \n",
       "18744  **As a** user\\n **I need** the ability to depl...  \n",
       "18745  - [ ] database still need to be provisioned\\n-...  \n",
       "\n",
       "[18746 rows x 9 columns]"
      ]
     },
     "execution_count": 14,
     "metadata": {},
     "output_type": "execute_result"
    }
   ],
   "source": [
    "debt = pd.read_csv(debt_file_name, index_col=0)\n",
    "debt"
   ]
  },
  {
   "cell_type": "code",
   "execution_count": null,
   "id": "b10cf6b2-001d-457e-a525-b23e06466a2c",
   "metadata": {},
   "outputs": [],
   "source": []
  }
 ],
 "metadata": {
  "kernelspec": {
   "display_name": "Python 3 (ipykernel)",
   "language": "python",
   "name": "python3"
  },
  "language_info": {
   "codemirror_mode": {
    "name": "ipython",
    "version": 3
   },
   "file_extension": ".py",
   "mimetype": "text/x-python",
   "name": "python",
   "nbconvert_exporter": "python",
   "pygments_lexer": "ipython3",
   "version": "3.10.13"
  }
 },
 "nbformat": 4,
 "nbformat_minor": 5
}
