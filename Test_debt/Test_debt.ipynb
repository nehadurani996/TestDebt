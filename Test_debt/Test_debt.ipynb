{
 "cells": [
  {
   "cell_type": "markdown",
   "id": "f07717a6-d297-4b99-a412-62142a8d4d81",
   "metadata": {},
   "source": [
    "# Dataset creation\n",
    "## This notebook will:\n",
    "\n",
    "- Find github issues by label\n",
    "- Remove Technical debt labels\n",
    "- Make a test set\n",
    "- It will produce 4 different dataset:\n",
    "\n",
    "- test/non_test dataset\n",
    "- Test dataset\n",
    "- Debt dataset\n",
    "- Full dataset with nothing removed"
   ]
  },
  {
   "cell_type": "code",
   "execution_count": 1,
   "id": "b72eb1a6-d4f1-48ba-b9d2-fc48126ed990",
   "metadata": {
    "tags": []
   },
   "outputs": [],
   "source": [
    "import pandas as pd\n",
    "import re\n",
    "import os"
   ]
  },
  {
   "cell_type": "code",
   "execution_count": 2,
   "id": "bd3f9691-a437-477f-bc1f-1035a529d832",
   "metadata": {
    "tags": []
   },
   "outputs": [
    {
     "name": "stdout",
     "output_type": "stream",
     "text": [
      "['issues_all_2023-03-11.csv', 'issues_all_2023-02-24.csv', 'issues_all_2022-08-30.csv', 'issues_all_2023-02-10.csv', 'issues_all_2022-08-21.csv', 'issues_all_2022-09-15.csv', 'issues_all_2023-02-26.csv', 'issues_all_2022-09-21.csv', 'issues_all_2022-12-20.csv', 'issues_all_2023-03-13.csv', 'issues_all_2022-09-08.csv', 'issues_all_2022-09-25.csv', 'issues_all_2022-10-01.csv', 'issues_all_2022-08-16.csv', 'issues_all_2022-12-17.csv', 'issues_all_2022-10-13.csv', 'issues_all_2022-09-20.csv', 'issues_all_2022-07-26.csv', 'issues_all_2022-09-28.csv', 'issues_all_2022-09-09.csv', 'issues_all_2023-01-31.csv', 'issues_all_2022-10-30.csv', 'issues_all_2023-02-02.csv', 'issues_all_2023-02-16.csv', 'issues_all_2023-01-15.csv', 'issues_all_2022-08-13.csv', 'issues_all_2023-01-12.csv', 'issues_all_2022-08-19.csv', 'issues_all_2022-09-30.csv', 'issues_all_2022-09-04.csv', 'issues_all_2022-12-05.csv', 'issues_all_2022-08-24.csv', 'issues_all_2023-01-20.csv', 'issues_all_2023-01-05.csv', 'issues_all_2022-08-23.csv', 'issues_all_2023-03-16.csv', 'issues_all_2022-11-11.csv', 'issues_all_2022-09-11.csv', 'issues_all_2022-12-03.csv', 'issues_all_2023-01-01.csv', 'issues_all_2023-03-05.csv', 'issues_all_2023-01-21.csv', 'issues_all_2023-03-23.csv', 'issues_all_2023-03-22.csv', 'issues_all_2022-12-24.csv', 'issues_all_2022-10-22.csv', 'issues_all_2022-10-02.csv', 'issues_all_2022-11-16.csv', 'issues_all_2022-10-16.csv', 'issues_all_2023-01-25.csv', 'issues_all_2022-08-22.csv', 'issues_all_2023-01-11.csv', 'issues_all_2022-11-05.csv', 'issues_all_2022-10-24.csv', 'issues_all_2022-12-07.csv', 'issues_all_2023-03-24.csv', 'issues_all_2022-11-07.csv', 'issues_all_2022-12-16.csv', 'issues_all_2022-12-29.csv', 'issues_all_2022-11-03.csv', 'issues_all_2022-08-06.csv', 'issues_all_2022-10-26.csv', 'issues_all_2023-02-06.csv', 'issues_all_2022-09-18.csv', 'issues_all_2022-10-09.csv', 'issues_all_2022-12-19.csv', 'issues_all_2022-09-13.csv', 'issues_all_2022-12-10.csv', 'issues_all_2023-01-07.csv', 'issues_all_2022-08-03.csv', 'issues_all_2023-01-03.csv', 'issues_all_2023-03-03.csv', 'issues_all_2022-11-08.csv', 'issues_all_2022-12-06.csv', 'issues_all_2022-11-29.csv', 'issues_all_2022-07-28.csv', 'issues_all_2022-11-30.csv', 'issues_all_2023-01-09.csv', 'issues_all_2022-07-27.csv', 'issues_all_2022-12-21.csv', 'issues_all_2023-02-08.csv', 'issues_all_2023-03-09.csv', 'issues_all_2022-08-31.csv', 'issues_all_2023-03-12.csv', 'issues_all_2022-11-20.csv', 'issues_all_2022-09-12.csv', 'issues_all_2023-03-01.csv', 'issues_all_2023-03-28.csv', 'issues_all_2022-11-13.csv', 'issues_all_2022-09-16.csv', 'issues_all_2022-10-12.csv', 'issues_all_2022-12-11.csv', 'issues_all_2022-08-25.csv', 'issues_all_2023-02-15.csv', 'issues_all_2023-01-19.csv', 'issues_all_2022-11-06.csv', 'issues_all_2022-12-25.csv', 'issues_all_2022-10-17.csv', 'issues_all_2022-10-10.csv', 'issues_all_2022-07-31.csv', 'issues_all_2022-11-19.csv', 'issues_all_2023-03-10.csv', 'issues_all_2022-09-05.csv', 'issues_all_2022-11-01.csv', 'issues_all_2022-10-20.csv', 'issues_all_2022-12-09.csv', 'issues_all_2022-10-05.csv', 'issues_all_2022-10-25.csv', 'issues_all_2022-12-01.csv', 'issues_all_2022-11-17.csv', 'issues_all_2022-11-28.csv', 'issues_all_2023-03-04.csv', 'issues_all_2023-02-23.csv', 'issues_all_2023-02-17.csv', 'issues_all_2022-10-23.csv', 'issues_all_2022-09-06.csv', 'issues_all_2022-09-19.csv', 'issues_all_2022-10-07.csv', 'issues_all_2023-01-10.csv', 'issues_all_2023-01-27.csv', 'issues_all_2022-11-09.csv', 'issues_all_2022-12-18.csv', 'issues_all_2023-01-24.csv', 'issues_all_2022-08-09.csv', 'issues_all_2022-12-12.csv', 'issues_all_2023-02-12.csv', 'issues_all_2023-02-05.csv', 'issues_all_2022-07-23.csv', 'issues_all_2023-03-08.csv', 'issues_all_2023-01-18.csv', 'issues_all_2022-09-29.csv', 'issues_all_2022-09-22.csv', 'issues_all_2022-12-22.csv', 'issues_all_2022-08-12.csv', 'issues_all_2022-12-13.csv', 'issues_all_2022-08-15.csv', 'issues_all_2023-02-20.csv', 'issues_all_2023-02-14.csv', 'issues_all_2023-03-20.csv', 'issues_all_2022-12-15.csv', 'issues_all_2022-11-21.csv', 'issues_all_2023-03-07.csv', 'issues_all_2022-11-23.csv', 'issues_all_2023-02-07.csv', 'issues_all_2022-12-08.csv', 'issues_all_2022-08-07.csv', 'issues_all_2023-03-15.csv', 'issues_all_2022-10-11.csv', 'issues_all_2022-10-14.csv', 'issues_all_2023-03-26.csv', 'issues_all_2023-02-27.csv', 'issues_all_2023-01-08.csv', 'issues_all_2022-11-22.csv', 'issues_all_2022-09-26.csv', 'issues_all_2022-11-14.csv', 'issues_all_2022-12-30.csv', 'issues_all_2022-10-31.csv', 'issues_all_2022-10-27.csv', 'issues_all_2023-03-25.csv', 'issues_all_2023-03-31.csv', 'issues_all_2022-12-04.csv', 'issues_all_2022-10-18.csv', 'issues_all_2022-08-10.csv', 'issues_all_2022-08-20.csv', 'issues_all_2023-02-28.csv', 'issues_all_2022-10-19.csv', 'issues_all_2022-12-31.csv', 'issues_all_2022-11-26.csv', 'issues_all_2022-07-22.csv', 'issues_all_2023-01-23.csv', 'issues_all_2023-03-21.csv', 'issues_all_2022-09-23.csv', 'issues_all_2023-03-14.csv', 'issues_all_2023-03-17.csv', 'issues_all_2022-12-28.csv', 'issues_all_2023-01-04.csv', 'issues_all_2022-07-30.csv', 'issues_all_2022-09-07.csv', 'issues_all_2023-01-14.csv', 'issues_all_2023-01-16.csv', 'issues_all_2023-02-21.csv', 'issues_all_2023-03-30.csv', 'issues_all_2022-09-02.csv', 'issues_all_2022-07-29.csv', 'issues_all_2023-02-18.csv', 'issues_all_2023-01-13.csv', 'issues_all_2023-01-06.csv', 'issues_all_2023-02-04.csv', 'issues_all_2022-08-02.csv', 'issues_all_2022-12-27.csv', 'issues_all_2023-01-02.csv', 'issues_all_2022-08-26.csv', 'issues_all_2022-08-27.csv', 'issues_all_2022-08-08.csv', 'issues_all_2023-03-06.csv', 'issues_all_2022-12-26.csv', 'issues_all_2023-01-17.csv', 'issues_all_2022-11-15.csv', 'issues_all_2022-08-01.csv', 'issues_all_2022-08-18.csv', 'issues_all_2023-02-09.csv', 'issues_all_2022-12-02.csv', 'issues_all_2022-09-01.csv', 'issues_all_2023-02-22.csv', 'issues_all_2022-08-04.csv', 'issues_all_2022-09-03.csv', 'issues_all_2022-11-25.csv', 'issues_all_2022-10-21.csv', 'issues_all_2022-11-12.csv', 'issues_all_2022-07-24.csv', 'issues_all_2022-08-17.csv', 'issues_all_2022-08-28.csv', 'issues_all_2022-09-24.csv', 'issues_all_2022-12-14.csv', 'issues_all_2022-11-04.csv', 'issues_all_2022-11-27.csv', 'issues_all_2022-11-18.csv', 'issues_all_2022-10-04.csv', 'issues_all_2023-02-19.csv', 'issues_all_2023-01-28.csv', 'issues_all_2022-08-29.csv', 'issues_all_2023-02-11.csv', 'issues_all_2022-08-05.csv', 'issues_all_2022-11-10.csv', 'issues_all_2023-03-18.csv', 'issues_all_2022-08-14.csv', 'issues_all_2023-03-27.csv', 'issues_all_2022-11-24.csv', 'issues_all_2022-09-17.csv', 'issues_all_2022-12-23.csv', 'issues_all_2023-03-19.csv', 'issues_all_2022-09-14.csv', 'issues_all_2023-01-29.csv', 'issues_all_2022-10-15.csv', 'issues_all_2023-02-01.csv', 'issues_all_2022-10-28.csv', 'issues_all_2023-02-03.csv', 'issues_all_2022-08-11.csv', 'issues_all_2022-11-02.csv', 'issues_all_2023-01-22.csv', 'issues_all_2023-01-26.csv', 'issues_all_2022-10-29.csv', 'issues_all_2023-01-30.csv', 'issues_all_2022-07-25.csv', 'issues_all_2023-02-13.csv', 'issues_all_2022-09-27.csv', 'issues_all_2023-02-25.csv', 'issues_all_2022-10-06.csv', 'issues_all_2023-03-29.csv', 'issues_all_2023-03-02.csv', 'issues_all_2022-10-03.csv', 'issues_all_2022-10-08.csv', 'issues_all_2022-09-10.csv']\n"
     ]
    }
   ],
   "source": [
    "# folder path\n",
    "dir_path = 'Datasets' ## Point to the extracted folder containing all the issues csv files\n",
    "\n",
    "# list to store files\n",
    "res = []\n",
    "\n",
    "# Iterate directory\n",
    "for path in os.listdir(dir_path):\n",
    "    # check if current path is a file\n",
    "    if os.path.isfile(os.path.join(dir_path, path)):\n",
    "        res.append(path)\n",
    "print(res)"
   ]
  },
  {
   "cell_type": "code",
   "execution_count": 3,
   "id": "f730588e-a834-41e3-b745-c3c69748f1b3",
   "metadata": {},
   "outputs": [
    {
     "name": "stdout",
     "output_type": "stream",
     "text": [
      "0/253 Error processing issues_all_2023-03-11.csv: Error tokenizing data. C error: Buffer overflow caught - possible malformed input file.\n",
      "\n"
     ]
    },
    {
     "name": "stderr",
     "output_type": "stream",
     "text": [
      "/tmp/ipykernel_2471098/3693993710.py:13: DtypeWarning: Columns (0,1,2,3,4,5,6,7,8,9) have mixed types. Specify dtype option on import or set low_memory=False.\n",
      "  df = pd.read_csv(file_path, index_col=0)\n"
     ]
    },
    {
     "name": "stdout",
     "output_type": "stream",
     "text": [
      "1/253 Processed: issues_all_2023-02-24.csv \n",
      "2/253 Processed: issues_all_2022-08-30.csv \n"
     ]
    },
    {
     "name": "stderr",
     "output_type": "stream",
     "text": [
      "/tmp/ipykernel_2471098/3693993710.py:13: DtypeWarning: Columns (0,1) have mixed types. Specify dtype option on import or set low_memory=False.\n",
      "  df = pd.read_csv(file_path, index_col=0)\n"
     ]
    },
    {
     "name": "stdout",
     "output_type": "stream",
     "text": [
      "3/253 Processed: issues_all_2023-02-10.csv \n",
      "4/253 Processed: issues_all_2022-08-21.csv \n"
     ]
    },
    {
     "name": "stderr",
     "output_type": "stream",
     "text": [
      "/tmp/ipykernel_2471098/3693993710.py:13: DtypeWarning: Columns (0,2,3,4,5,6,7,8,9) have mixed types. Specify dtype option on import or set low_memory=False.\n",
      "  df = pd.read_csv(file_path, index_col=0)\n"
     ]
    },
    {
     "name": "stdout",
     "output_type": "stream",
     "text": [
      "5/253 Processed: issues_all_2022-09-15.csv \n",
      "6/253 Processed: issues_all_2023-02-26.csv \n",
      "7/253 Processed: issues_all_2022-09-21.csv \n",
      "8/253 Processed: issues_all_2022-12-20.csv \n",
      "9/253 Error processing issues_all_2023-03-13.csv: Error tokenizing data. C error: Buffer overflow caught - possible malformed input file.\n",
      "\n",
      "10/253 Processed: issues_all_2022-09-08.csv \n",
      "11/253 Processed: issues_all_2022-09-25.csv \n",
      "12/253 Processed: issues_all_2022-10-01.csv \n"
     ]
    },
    {
     "name": "stderr",
     "output_type": "stream",
     "text": [
      "/tmp/ipykernel_2471098/3693993710.py:13: DtypeWarning: Columns (0) have mixed types. Specify dtype option on import or set low_memory=False.\n",
      "  df = pd.read_csv(file_path, index_col=0)\n"
     ]
    },
    {
     "name": "stdout",
     "output_type": "stream",
     "text": [
      "13/253 Processed: issues_all_2022-08-16.csv \n",
      "14/253 Processed: issues_all_2022-12-17.csv \n",
      "15/253 Processed: issues_all_2022-10-13.csv \n",
      "16/253 Processed: issues_all_2022-09-20.csv \n",
      "17/253 Processed: issues_all_2022-07-26.csv \n",
      "18/253 Processed: issues_all_2022-09-28.csv \n",
      "19/253 Processed: issues_all_2022-09-09.csv \n"
     ]
    },
    {
     "name": "stderr",
     "output_type": "stream",
     "text": [
      "/tmp/ipykernel_2471098/3693993710.py:13: DtypeWarning: Columns (0,1) have mixed types. Specify dtype option on import or set low_memory=False.\n",
      "  df = pd.read_csv(file_path, index_col=0)\n"
     ]
    },
    {
     "name": "stdout",
     "output_type": "stream",
     "text": [
      "20/253 Processed: issues_all_2023-01-31.csv \n",
      "21/253 Processed: issues_all_2022-10-30.csv \n"
     ]
    },
    {
     "name": "stderr",
     "output_type": "stream",
     "text": [
      "/tmp/ipykernel_2471098/3693993710.py:13: DtypeWarning: Columns (0,1) have mixed types. Specify dtype option on import or set low_memory=False.\n",
      "  df = pd.read_csv(file_path, index_col=0)\n"
     ]
    },
    {
     "name": "stdout",
     "output_type": "stream",
     "text": [
      "22/253 Processed: issues_all_2023-02-02.csv \n"
     ]
    },
    {
     "name": "stderr",
     "output_type": "stream",
     "text": [
      "/tmp/ipykernel_2471098/3693993710.py:13: DtypeWarning: Columns (0,1) have mixed types. Specify dtype option on import or set low_memory=False.\n",
      "  df = pd.read_csv(file_path, index_col=0)\n"
     ]
    },
    {
     "name": "stdout",
     "output_type": "stream",
     "text": [
      "23/253 Processed: issues_all_2023-02-16.csv \n",
      "24/253 Processed: issues_all_2023-01-15.csv \n",
      "25/253 Processed: issues_all_2022-08-13.csv \n"
     ]
    },
    {
     "name": "stderr",
     "output_type": "stream",
     "text": [
      "/tmp/ipykernel_2471098/3693993710.py:13: DtypeWarning: Columns (0,1) have mixed types. Specify dtype option on import or set low_memory=False.\n",
      "  df = pd.read_csv(file_path, index_col=0)\n"
     ]
    },
    {
     "name": "stdout",
     "output_type": "stream",
     "text": [
      "26/253 Processed: issues_all_2023-01-12.csv \n"
     ]
    },
    {
     "name": "stderr",
     "output_type": "stream",
     "text": [
      "/tmp/ipykernel_2471098/3693993710.py:13: DtypeWarning: Columns (0,2,3,4,5,6,7,8,9) have mixed types. Specify dtype option on import or set low_memory=False.\n",
      "  df = pd.read_csv(file_path, index_col=0)\n"
     ]
    },
    {
     "name": "stdout",
     "output_type": "stream",
     "text": [
      "27/253 Processed: issues_all_2022-08-19.csv \n",
      "28/253 Processed: issues_all_2022-09-30.csv \n",
      "29/253 Processed: issues_all_2022-09-04.csv \n",
      "30/253 Error processing issues_all_2022-12-05.csv: Error tokenizing data. C error: Buffer overflow caught - possible malformed input file.\n",
      "\n",
      "31/253 Processed: issues_all_2022-08-24.csv \n"
     ]
    },
    {
     "name": "stderr",
     "output_type": "stream",
     "text": [
      "/tmp/ipykernel_2471098/3693993710.py:13: DtypeWarning: Columns (0,1) have mixed types. Specify dtype option on import or set low_memory=False.\n",
      "  df = pd.read_csv(file_path, index_col=0)\n"
     ]
    },
    {
     "name": "stdout",
     "output_type": "stream",
     "text": [
      "32/253 Processed: issues_all_2023-01-20.csv \n",
      "33/253 Processed: issues_all_2023-01-05.csv \n",
      "34/253 Processed: issues_all_2022-08-23.csv \n",
      "35/253 Processed: issues_all_2023-03-16.csv \n"
     ]
    },
    {
     "name": "stderr",
     "output_type": "stream",
     "text": [
      "/tmp/ipykernel_2471098/3693993710.py:13: DtypeWarning: Columns (0,2,3,4,5,6,7,8,9) have mixed types. Specify dtype option on import or set low_memory=False.\n",
      "  df = pd.read_csv(file_path, index_col=0)\n"
     ]
    },
    {
     "name": "stdout",
     "output_type": "stream",
     "text": [
      "36/253 Processed: issues_all_2022-11-11.csv \n",
      "37/253 Processed: issues_all_2022-09-11.csv \n",
      "38/253 Error processing issues_all_2022-12-03.csv: Error tokenizing data. C error: Buffer overflow caught - possible malformed input file.\n",
      "\n",
      "39/253 Processed: issues_all_2023-01-01.csv \n",
      "40/253 Processed: issues_all_2023-03-05.csv \n",
      "41/253 Processed: issues_all_2023-01-21.csv \n",
      "42/253 Error processing issues_all_2023-03-23.csv: Error tokenizing data. C error: Buffer overflow caught - possible malformed input file.\n",
      "\n",
      "43/253 Error processing issues_all_2023-03-22.csv: Error tokenizing data. C error: Buffer overflow caught - possible malformed input file.\n",
      "\n",
      "44/253 Processed: issues_all_2022-12-24.csv \n",
      "45/253 Processed: issues_all_2022-10-22.csv \n",
      "46/253 Processed: issues_all_2022-10-02.csv \n",
      "47/253 Processed: issues_all_2022-11-16.csv \n",
      "48/253 Processed: issues_all_2022-10-16.csv \n"
     ]
    },
    {
     "name": "stderr",
     "output_type": "stream",
     "text": [
      "/tmp/ipykernel_2471098/3693993710.py:13: DtypeWarning: Columns (0,1) have mixed types. Specify dtype option on import or set low_memory=False.\n",
      "  df = pd.read_csv(file_path, index_col=0)\n"
     ]
    },
    {
     "name": "stdout",
     "output_type": "stream",
     "text": [
      "49/253 Processed: issues_all_2023-01-25.csv \n",
      "50/253 Error processing issues_all_2022-08-22.csv: Error tokenizing data. C error: Buffer overflow caught - possible malformed input file.\n",
      "\n",
      "51/253 Processed: issues_all_2023-01-11.csv \n",
      "52/253 Processed: issues_all_2022-11-05.csv \n"
     ]
    },
    {
     "name": "stderr",
     "output_type": "stream",
     "text": [
      "/tmp/ipykernel_2471098/3693993710.py:13: DtypeWarning: Columns (1) have mixed types. Specify dtype option on import or set low_memory=False.\n",
      "  df = pd.read_csv(file_path, index_col=0)\n"
     ]
    },
    {
     "name": "stdout",
     "output_type": "stream",
     "text": [
      "53/253 Processed: issues_all_2022-10-24.csv \n",
      "54/253 Processed: issues_all_2022-12-07.csv \n"
     ]
    },
    {
     "name": "stderr",
     "output_type": "stream",
     "text": [
      "/tmp/ipykernel_2471098/3693993710.py:13: DtypeWarning: Columns (0,1,2,3,4,5,6,7,8,9) have mixed types. Specify dtype option on import or set low_memory=False.\n",
      "  df = pd.read_csv(file_path, index_col=0)\n"
     ]
    },
    {
     "name": "stdout",
     "output_type": "stream",
     "text": [
      "55/253 Processed: issues_all_2023-03-24.csv \n"
     ]
    },
    {
     "name": "stderr",
     "output_type": "stream",
     "text": [
      "/tmp/ipykernel_2471098/3693993710.py:13: DtypeWarning: Columns (1) have mixed types. Specify dtype option on import or set low_memory=False.\n",
      "  df = pd.read_csv(file_path, index_col=0)\n"
     ]
    },
    {
     "name": "stdout",
     "output_type": "stream",
     "text": [
      "56/253 Processed: issues_all_2022-11-07.csv \n"
     ]
    },
    {
     "name": "stderr",
     "output_type": "stream",
     "text": [
      "/tmp/ipykernel_2471098/3693993710.py:13: DtypeWarning: Columns (0,2,3,4,5,6,7,8,9) have mixed types. Specify dtype option on import or set low_memory=False.\n",
      "  df = pd.read_csv(file_path, index_col=0)\n"
     ]
    },
    {
     "name": "stdout",
     "output_type": "stream",
     "text": [
      "57/253 Processed: issues_all_2022-12-16.csv \n",
      "58/253 Processed: issues_all_2022-12-29.csv \n",
      "59/253 Processed: issues_all_2022-11-03.csv \n",
      "60/253 Processed: issues_all_2022-08-06.csv \n",
      "61/253 Processed: issues_all_2022-10-26.csv \n"
     ]
    },
    {
     "name": "stderr",
     "output_type": "stream",
     "text": [
      "/tmp/ipykernel_2471098/3693993710.py:13: DtypeWarning: Columns (0,1) have mixed types. Specify dtype option on import or set low_memory=False.\n",
      "  df = pd.read_csv(file_path, index_col=0)\n"
     ]
    },
    {
     "name": "stdout",
     "output_type": "stream",
     "text": [
      "62/253 Processed: issues_all_2023-02-06.csv \n",
      "63/253 Processed: issues_all_2022-09-18.csv \n",
      "64/253 Processed: issues_all_2022-10-09.csv \n",
      "65/253 Processed: issues_all_2022-12-19.csv \n",
      "66/253 Processed: issues_all_2022-09-13.csv \n",
      "67/253 Processed: issues_all_2022-12-10.csv \n",
      "68/253 Processed: issues_all_2023-01-07.csv \n"
     ]
    },
    {
     "name": "stderr",
     "output_type": "stream",
     "text": [
      "/tmp/ipykernel_2471098/3693993710.py:13: DtypeWarning: Columns (0) have mixed types. Specify dtype option on import or set low_memory=False.\n",
      "  df = pd.read_csv(file_path, index_col=0)\n"
     ]
    },
    {
     "name": "stdout",
     "output_type": "stream",
     "text": [
      "69/253 Processed: issues_all_2022-08-03.csv \n",
      "70/253 Processed: issues_all_2023-01-03.csv \n",
      "71/253 Error processing issues_all_2023-03-03.csv: Error tokenizing data. C error: Buffer overflow caught - possible malformed input file.\n",
      "\n",
      "72/253 Processed: issues_all_2022-11-08.csv \n",
      "73/253 Error processing issues_all_2022-12-06.csv: Error tokenizing data. C error: Buffer overflow caught - possible malformed input file.\n",
      "\n",
      "74/253 Processed: issues_all_2022-11-29.csv \n"
     ]
    },
    {
     "name": "stderr",
     "output_type": "stream",
     "text": [
      "/tmp/ipykernel_2471098/3693993710.py:13: DtypeWarning: Columns (1) have mixed types. Specify dtype option on import or set low_memory=False.\n",
      "  df = pd.read_csv(file_path, index_col=0)\n"
     ]
    },
    {
     "name": "stdout",
     "output_type": "stream",
     "text": [
      "75/253 Processed: issues_all_2022-07-28.csv \n"
     ]
    },
    {
     "name": "stderr",
     "output_type": "stream",
     "text": [
      "/tmp/ipykernel_2471098/3693993710.py:13: DtypeWarning: Columns (0,1) have mixed types. Specify dtype option on import or set low_memory=False.\n",
      "  df = pd.read_csv(file_path, index_col=0)\n"
     ]
    },
    {
     "name": "stdout",
     "output_type": "stream",
     "text": [
      "76/253 Processed: issues_all_2022-11-30.csv \n",
      "77/253 Error processing issues_all_2023-01-09.csv: Error tokenizing data. C error: Buffer overflow caught - possible malformed input file.\n",
      "\n"
     ]
    },
    {
     "name": "stderr",
     "output_type": "stream",
     "text": [
      "/tmp/ipykernel_2471098/3693993710.py:13: DtypeWarning: Columns (1) have mixed types. Specify dtype option on import or set low_memory=False.\n",
      "  df = pd.read_csv(file_path, index_col=0)\n"
     ]
    },
    {
     "name": "stdout",
     "output_type": "stream",
     "text": [
      "78/253 Processed: issues_all_2022-07-27.csv \n",
      "79/253 Processed: issues_all_2022-12-21.csv \n"
     ]
    },
    {
     "name": "stderr",
     "output_type": "stream",
     "text": [
      "/tmp/ipykernel_2471098/3693993710.py:13: DtypeWarning: Columns (0,1) have mixed types. Specify dtype option on import or set low_memory=False.\n",
      "  df = pd.read_csv(file_path, index_col=0)\n"
     ]
    },
    {
     "name": "stdout",
     "output_type": "stream",
     "text": [
      "80/253 Processed: issues_all_2023-02-08.csv \n"
     ]
    },
    {
     "name": "stderr",
     "output_type": "stream",
     "text": [
      "/tmp/ipykernel_2471098/3693993710.py:13: DtypeWarning: Columns (0) have mixed types. Specify dtype option on import or set low_memory=False.\n",
      "  df = pd.read_csv(file_path, index_col=0)\n"
     ]
    },
    {
     "name": "stdout",
     "output_type": "stream",
     "text": [
      "81/253 Processed: issues_all_2023-03-09.csv \n",
      "82/253 Processed: issues_all_2022-08-31.csv \n",
      "83/253 Processed: issues_all_2023-03-12.csv \n",
      "84/253 Processed: issues_all_2022-11-20.csv \n",
      "85/253 Processed: issues_all_2022-09-12.csv \n",
      "86/253 Processed: issues_all_2023-03-01.csv \n"
     ]
    },
    {
     "name": "stderr",
     "output_type": "stream",
     "text": [
      "/tmp/ipykernel_2471098/3693993710.py:13: DtypeWarning: Columns (0,1) have mixed types. Specify dtype option on import or set low_memory=False.\n",
      "  df = pd.read_csv(file_path, index_col=0)\n"
     ]
    },
    {
     "name": "stdout",
     "output_type": "stream",
     "text": [
      "87/253 Processed: issues_all_2023-03-28.csv \n",
      "88/253 Processed: issues_all_2022-11-13.csv \n",
      "89/253 Processed: issues_all_2022-09-16.csv \n",
      "90/253 Processed: issues_all_2022-10-12.csv \n",
      "91/253 Processed: issues_all_2022-12-11.csv \n",
      "92/253 Processed: issues_all_2022-08-25.csv \n"
     ]
    },
    {
     "name": "stderr",
     "output_type": "stream",
     "text": [
      "/tmp/ipykernel_2471098/3693993710.py:13: DtypeWarning: Columns (0,1) have mixed types. Specify dtype option on import or set low_memory=False.\n",
      "  df = pd.read_csv(file_path, index_col=0)\n"
     ]
    },
    {
     "name": "stdout",
     "output_type": "stream",
     "text": [
      "93/253 Processed: issues_all_2023-02-15.csv \n"
     ]
    },
    {
     "name": "stderr",
     "output_type": "stream",
     "text": [
      "/tmp/ipykernel_2471098/3693993710.py:13: DtypeWarning: Columns (0,1,2,3,4,5,6,7,8,9) have mixed types. Specify dtype option on import or set low_memory=False.\n",
      "  df = pd.read_csv(file_path, index_col=0)\n"
     ]
    },
    {
     "name": "stdout",
     "output_type": "stream",
     "text": [
      "94/253 Processed: issues_all_2023-01-19.csv \n",
      "95/253 Error processing issues_all_2022-11-06.csv: Error tokenizing data. C error: Buffer overflow caught - possible malformed input file.\n",
      "\n",
      "96/253 Processed: issues_all_2022-12-25.csv \n"
     ]
    },
    {
     "name": "stderr",
     "output_type": "stream",
     "text": [
      "/tmp/ipykernel_2471098/3693993710.py:13: DtypeWarning: Columns (1) have mixed types. Specify dtype option on import or set low_memory=False.\n",
      "  df = pd.read_csv(file_path, index_col=0)\n"
     ]
    },
    {
     "name": "stdout",
     "output_type": "stream",
     "text": [
      "97/253 Processed: issues_all_2022-10-17.csv \n",
      "98/253 Processed: issues_all_2022-10-10.csv \n",
      "99/253 Processed: issues_all_2022-07-31.csv \n",
      "100/253 Processed: issues_all_2022-11-19.csv \n"
     ]
    },
    {
     "name": "stderr",
     "output_type": "stream",
     "text": [
      "/tmp/ipykernel_2471098/3693993710.py:13: DtypeWarning: Columns (0,1,2,3,4,5,6,7,8,9) have mixed types. Specify dtype option on import or set low_memory=False.\n",
      "  df = pd.read_csv(file_path, index_col=0)\n"
     ]
    },
    {
     "name": "stdout",
     "output_type": "stream",
     "text": [
      "101/253 Processed: issues_all_2023-03-10.csv \n"
     ]
    },
    {
     "name": "stderr",
     "output_type": "stream",
     "text": [
      "/tmp/ipykernel_2471098/3693993710.py:13: DtypeWarning: Columns (0) have mixed types. Specify dtype option on import or set low_memory=False.\n",
      "  df = pd.read_csv(file_path, index_col=0)\n"
     ]
    },
    {
     "name": "stdout",
     "output_type": "stream",
     "text": [
      "102/253 Processed: issues_all_2022-09-05.csv \n",
      "103/253 Processed: issues_all_2022-11-01.csv \n",
      "104/253 Processed: issues_all_2022-10-20.csv \n"
     ]
    },
    {
     "name": "stderr",
     "output_type": "stream",
     "text": [
      "/tmp/ipykernel_2471098/3693993710.py:13: DtypeWarning: Columns (0,2,3,4,5,6,7,8,9) have mixed types. Specify dtype option on import or set low_memory=False.\n",
      "  df = pd.read_csv(file_path, index_col=0)\n"
     ]
    },
    {
     "name": "stdout",
     "output_type": "stream",
     "text": [
      "105/253 Processed: issues_all_2022-12-09.csv \n",
      "106/253 Processed: issues_all_2022-10-05.csv \n",
      "107/253 Processed: issues_all_2022-10-25.csv \n",
      "108/253 Processed: issues_all_2022-12-01.csv \n",
      "109/253 Processed: issues_all_2022-11-17.csv \n"
     ]
    },
    {
     "name": "stderr",
     "output_type": "stream",
     "text": [
      "/tmp/ipykernel_2471098/3693993710.py:13: DtypeWarning: Columns (0,1) have mixed types. Specify dtype option on import or set low_memory=False.\n",
      "  df = pd.read_csv(file_path, index_col=0)\n"
     ]
    },
    {
     "name": "stdout",
     "output_type": "stream",
     "text": [
      "110/253 Processed: issues_all_2022-11-28.csv \n"
     ]
    },
    {
     "name": "stderr",
     "output_type": "stream",
     "text": [
      "/tmp/ipykernel_2471098/3693993710.py:13: DtypeWarning: Columns (0,1) have mixed types. Specify dtype option on import or set low_memory=False.\n",
      "  df = pd.read_csv(file_path, index_col=0)\n"
     ]
    },
    {
     "name": "stdout",
     "output_type": "stream",
     "text": [
      "111/253 Processed: issues_all_2023-03-04.csv \n"
     ]
    },
    {
     "name": "stderr",
     "output_type": "stream",
     "text": [
      "/tmp/ipykernel_2471098/3693993710.py:13: DtypeWarning: Columns (1) have mixed types. Specify dtype option on import or set low_memory=False.\n",
      "  df = pd.read_csv(file_path, index_col=0)\n"
     ]
    },
    {
     "name": "stdout",
     "output_type": "stream",
     "text": [
      "112/253 Processed: issues_all_2023-02-23.csv \n"
     ]
    },
    {
     "name": "stderr",
     "output_type": "stream",
     "text": [
      "/tmp/ipykernel_2471098/3693993710.py:13: DtypeWarning: Columns (0,1,2,3,4,5,6,7,8,9) have mixed types. Specify dtype option on import or set low_memory=False.\n",
      "  df = pd.read_csv(file_path, index_col=0)\n"
     ]
    },
    {
     "name": "stdout",
     "output_type": "stream",
     "text": [
      "113/253 Processed: issues_all_2023-02-17.csv \n",
      "114/253 Processed: issues_all_2022-10-23.csv \n",
      "115/253 Processed: issues_all_2022-09-06.csv \n",
      "116/253 Processed: issues_all_2022-09-19.csv \n",
      "117/253 Processed: issues_all_2022-10-07.csv \n",
      "118/253 Processed: issues_all_2023-01-10.csv \n"
     ]
    },
    {
     "name": "stderr",
     "output_type": "stream",
     "text": [
      "/tmp/ipykernel_2471098/3693993710.py:13: DtypeWarning: Columns (0,1,2,3,4,5,6,7,8,9) have mixed types. Specify dtype option on import or set low_memory=False.\n",
      "  df = pd.read_csv(file_path, index_col=0)\n"
     ]
    },
    {
     "name": "stdout",
     "output_type": "stream",
     "text": [
      "119/253 Processed: issues_all_2023-01-27.csv \n"
     ]
    },
    {
     "name": "stderr",
     "output_type": "stream",
     "text": [
      "/tmp/ipykernel_2471098/3693993710.py:13: DtypeWarning: Columns (1) have mixed types. Specify dtype option on import or set low_memory=False.\n",
      "  df = pd.read_csv(file_path, index_col=0)\n"
     ]
    },
    {
     "name": "stdout",
     "output_type": "stream",
     "text": [
      "120/253 Processed: issues_all_2022-11-09.csv \n",
      "121/253 Processed: issues_all_2022-12-18.csv \n"
     ]
    },
    {
     "name": "stderr",
     "output_type": "stream",
     "text": [
      "/tmp/ipykernel_2471098/3693993710.py:13: DtypeWarning: Columns (0,1) have mixed types. Specify dtype option on import or set low_memory=False.\n",
      "  df = pd.read_csv(file_path, index_col=0)\n"
     ]
    },
    {
     "name": "stdout",
     "output_type": "stream",
     "text": [
      "122/253 Processed: issues_all_2023-01-24.csv \n",
      "123/253 Processed: issues_all_2022-08-09.csv \n",
      "124/253 Processed: issues_all_2022-12-12.csv \n",
      "125/253 Processed: issues_all_2023-02-12.csv \n",
      "126/253 Processed: issues_all_2023-02-05.csv \n",
      "127/253 Processed: issues_all_2022-07-23.csv \n"
     ]
    },
    {
     "name": "stderr",
     "output_type": "stream",
     "text": [
      "/tmp/ipykernel_2471098/3693993710.py:13: DtypeWarning: Columns (0,1) have mixed types. Specify dtype option on import or set low_memory=False.\n",
      "  df = pd.read_csv(file_path, index_col=0)\n"
     ]
    },
    {
     "name": "stdout",
     "output_type": "stream",
     "text": [
      "128/253 Processed: issues_all_2023-03-08.csv \n"
     ]
    },
    {
     "name": "stderr",
     "output_type": "stream",
     "text": [
      "/tmp/ipykernel_2471098/3693993710.py:13: DtypeWarning: Columns (0) have mixed types. Specify dtype option on import or set low_memory=False.\n",
      "  df = pd.read_csv(file_path, index_col=0)\n"
     ]
    },
    {
     "name": "stdout",
     "output_type": "stream",
     "text": [
      "129/253 Processed: issues_all_2023-01-18.csv \n",
      "130/253 Processed: issues_all_2022-09-29.csv \n",
      "131/253 Processed: issues_all_2022-09-22.csv \n",
      "132/253 Processed: issues_all_2022-12-22.csv \n",
      "133/253 Processed: issues_all_2022-08-12.csv \n",
      "134/253 Processed: issues_all_2022-12-13.csv \n",
      "135/253 Processed: issues_all_2022-08-15.csv \n",
      "136/253 Processed: issues_all_2023-02-20.csv \n"
     ]
    },
    {
     "name": "stderr",
     "output_type": "stream",
     "text": [
      "/tmp/ipykernel_2471098/3693993710.py:13: DtypeWarning: Columns (0,1) have mixed types. Specify dtype option on import or set low_memory=False.\n",
      "  df = pd.read_csv(file_path, index_col=0)\n"
     ]
    },
    {
     "name": "stdout",
     "output_type": "stream",
     "text": [
      "137/253 Processed: issues_all_2023-02-14.csv \n"
     ]
    },
    {
     "name": "stderr",
     "output_type": "stream",
     "text": [
      "/tmp/ipykernel_2471098/3693993710.py:13: DtypeWarning: Columns (0,1) have mixed types. Specify dtype option on import or set low_memory=False.\n",
      "  df = pd.read_csv(file_path, index_col=0)\n"
     ]
    },
    {
     "name": "stdout",
     "output_type": "stream",
     "text": [
      "138/253 Processed: issues_all_2023-03-20.csv \n"
     ]
    },
    {
     "name": "stderr",
     "output_type": "stream",
     "text": [
      "/tmp/ipykernel_2471098/3693993710.py:13: DtypeWarning: Columns (1) have mixed types. Specify dtype option on import or set low_memory=False.\n",
      "  df = pd.read_csv(file_path, index_col=0)\n"
     ]
    },
    {
     "name": "stdout",
     "output_type": "stream",
     "text": [
      "139/253 Processed: issues_all_2022-12-15.csv \n",
      "140/253 Processed: issues_all_2022-11-21.csv \n"
     ]
    },
    {
     "name": "stderr",
     "output_type": "stream",
     "text": [
      "/tmp/ipykernel_2471098/3693993710.py:13: DtypeWarning: Columns (0,1) have mixed types. Specify dtype option on import or set low_memory=False.\n",
      "  df = pd.read_csv(file_path, index_col=0)\n"
     ]
    },
    {
     "name": "stdout",
     "output_type": "stream",
     "text": [
      "141/253 Processed: issues_all_2023-03-07.csv \n",
      "142/253 Error processing issues_all_2022-11-23.csv: Error tokenizing data. C error: Buffer overflow caught - possible malformed input file.\n",
      "\n"
     ]
    },
    {
     "name": "stderr",
     "output_type": "stream",
     "text": [
      "/tmp/ipykernel_2471098/3693993710.py:13: DtypeWarning: Columns (0,1) have mixed types. Specify dtype option on import or set low_memory=False.\n",
      "  df = pd.read_csv(file_path, index_col=0)\n"
     ]
    },
    {
     "name": "stdout",
     "output_type": "stream",
     "text": [
      "143/253 Processed: issues_all_2023-02-07.csv \n",
      "144/253 Processed: issues_all_2022-12-08.csv \n",
      "145/253 Processed: issues_all_2022-08-07.csv \n"
     ]
    },
    {
     "name": "stderr",
     "output_type": "stream",
     "text": [
      "/tmp/ipykernel_2471098/3693993710.py:13: DtypeWarning: Columns (0,1) have mixed types. Specify dtype option on import or set low_memory=False.\n",
      "  df = pd.read_csv(file_path, index_col=0)\n"
     ]
    },
    {
     "name": "stdout",
     "output_type": "stream",
     "text": [
      "146/253 Processed: issues_all_2023-03-15.csv \n",
      "147/253 Processed: issues_all_2022-10-11.csv \n",
      "148/253 Processed: issues_all_2022-10-14.csv \n",
      "149/253 Processed: issues_all_2023-03-26.csv \n"
     ]
    },
    {
     "name": "stderr",
     "output_type": "stream",
     "text": [
      "/tmp/ipykernel_2471098/3693993710.py:13: DtypeWarning: Columns (0,1) have mixed types. Specify dtype option on import or set low_memory=False.\n",
      "  df = pd.read_csv(file_path, index_col=0)\n"
     ]
    },
    {
     "name": "stdout",
     "output_type": "stream",
     "text": [
      "150/253 Processed: issues_all_2023-02-27.csv \n",
      "151/253 Processed: issues_all_2023-01-08.csv \n",
      "152/253 Processed: issues_all_2022-11-22.csv \n",
      "153/253 Processed: issues_all_2022-09-26.csv \n",
      "154/253 Processed: issues_all_2022-11-14.csv \n"
     ]
    },
    {
     "name": "stderr",
     "output_type": "stream",
     "text": [
      "/tmp/ipykernel_2471098/3693993710.py:13: DtypeWarning: Columns (0,2,3,4,5,6,7,8,9) have mixed types. Specify dtype option on import or set low_memory=False.\n",
      "  df = pd.read_csv(file_path, index_col=0)\n"
     ]
    },
    {
     "name": "stdout",
     "output_type": "stream",
     "text": [
      "155/253 Processed: issues_all_2022-12-30.csv \n"
     ]
    },
    {
     "name": "stderr",
     "output_type": "stream",
     "text": [
      "/tmp/ipykernel_2471098/3693993710.py:13: DtypeWarning: Columns (1) have mixed types. Specify dtype option on import or set low_memory=False.\n",
      "  df = pd.read_csv(file_path, index_col=0)\n"
     ]
    },
    {
     "name": "stdout",
     "output_type": "stream",
     "text": [
      "156/253 Processed: issues_all_2022-10-31.csv \n",
      "157/253 Processed: issues_all_2022-10-27.csv \n",
      "158/253 Processed: issues_all_2023-03-25.csv \n"
     ]
    },
    {
     "name": "stderr",
     "output_type": "stream",
     "text": [
      "/tmp/ipykernel_2471098/3693993710.py:13: DtypeWarning: Columns (0,1,2,3,4,5,6,7,8,9) have mixed types. Specify dtype option on import or set low_memory=False.\n",
      "  df = pd.read_csv(file_path, index_col=0)\n"
     ]
    },
    {
     "name": "stdout",
     "output_type": "stream",
     "text": [
      "159/253 Processed: issues_all_2023-03-31.csv \n",
      "160/253 Error processing issues_all_2022-12-04.csv: Error tokenizing data. C error: Buffer overflow caught - possible malformed input file.\n",
      "\n",
      "161/253 Processed: issues_all_2022-10-18.csv \n",
      "162/253 Processed: issues_all_2022-08-10.csv \n",
      "163/253 Processed: issues_all_2022-08-20.csv \n"
     ]
    },
    {
     "name": "stderr",
     "output_type": "stream",
     "text": [
      "/tmp/ipykernel_2471098/3693993710.py:13: DtypeWarning: Columns (0,1) have mixed types. Specify dtype option on import or set low_memory=False.\n",
      "  df = pd.read_csv(file_path, index_col=0)\n"
     ]
    },
    {
     "name": "stdout",
     "output_type": "stream",
     "text": [
      "164/253 Processed: issues_all_2023-02-28.csv \n",
      "165/253 Processed: issues_all_2022-10-19.csv \n",
      "166/253 Processed: issues_all_2022-12-31.csv \n",
      "167/253 Processed: issues_all_2022-11-26.csv \n"
     ]
    },
    {
     "name": "stderr",
     "output_type": "stream",
     "text": [
      "/tmp/ipykernel_2471098/3693993710.py:13: DtypeWarning: Columns (0) have mixed types. Specify dtype option on import or set low_memory=False.\n",
      "  df = pd.read_csv(file_path, index_col=0)\n"
     ]
    },
    {
     "name": "stdout",
     "output_type": "stream",
     "text": [
      "168/253 Processed: issues_all_2022-07-22.csv \n"
     ]
    },
    {
     "name": "stderr",
     "output_type": "stream",
     "text": [
      "/tmp/ipykernel_2471098/3693993710.py:13: DtypeWarning: Columns (0,1) have mixed types. Specify dtype option on import or set low_memory=False.\n",
      "  df = pd.read_csv(file_path, index_col=0)\n"
     ]
    },
    {
     "name": "stdout",
     "output_type": "stream",
     "text": [
      "169/253 Processed: issues_all_2023-01-23.csv \n"
     ]
    },
    {
     "name": "stderr",
     "output_type": "stream",
     "text": [
      "/tmp/ipykernel_2471098/3693993710.py:13: DtypeWarning: Columns (0,1) have mixed types. Specify dtype option on import or set low_memory=False.\n",
      "  df = pd.read_csv(file_path, index_col=0)\n"
     ]
    },
    {
     "name": "stdout",
     "output_type": "stream",
     "text": [
      "170/253 Processed: issues_all_2023-03-21.csv \n",
      "171/253 Processed: issues_all_2022-09-23.csv \n"
     ]
    },
    {
     "name": "stderr",
     "output_type": "stream",
     "text": [
      "/tmp/ipykernel_2471098/3693993710.py:13: DtypeWarning: Columns (0,1) have mixed types. Specify dtype option on import or set low_memory=False.\n",
      "  df = pd.read_csv(file_path, index_col=0)\n"
     ]
    },
    {
     "name": "stdout",
     "output_type": "stream",
     "text": [
      "172/253 Processed: issues_all_2023-03-14.csv \n"
     ]
    },
    {
     "name": "stderr",
     "output_type": "stream",
     "text": [
      "/tmp/ipykernel_2471098/3693993710.py:13: DtypeWarning: Columns (0,1,2,3,4,5,6,7,8,9) have mixed types. Specify dtype option on import or set low_memory=False.\n",
      "  df = pd.read_csv(file_path, index_col=0)\n"
     ]
    },
    {
     "name": "stdout",
     "output_type": "stream",
     "text": [
      "173/253 Processed: issues_all_2023-03-17.csv \n",
      "174/253 Processed: issues_all_2022-12-28.csv \n",
      "175/253 Processed: issues_all_2023-01-04.csv \n",
      "176/253 Processed: issues_all_2022-07-30.csv \n",
      "177/253 Processed: issues_all_2022-09-07.csv \n",
      "178/253 Processed: issues_all_2023-01-14.csv \n"
     ]
    },
    {
     "name": "stderr",
     "output_type": "stream",
     "text": [
      "/tmp/ipykernel_2471098/3693993710.py:13: DtypeWarning: Columns (0,1) have mixed types. Specify dtype option on import or set low_memory=False.\n",
      "  df = pd.read_csv(file_path, index_col=0)\n"
     ]
    },
    {
     "name": "stdout",
     "output_type": "stream",
     "text": [
      "179/253 Processed: issues_all_2023-01-16.csv \n"
     ]
    },
    {
     "name": "stderr",
     "output_type": "stream",
     "text": [
      "/tmp/ipykernel_2471098/3693993710.py:13: DtypeWarning: Columns (0,1) have mixed types. Specify dtype option on import or set low_memory=False.\n",
      "  df = pd.read_csv(file_path, index_col=0)\n"
     ]
    },
    {
     "name": "stdout",
     "output_type": "stream",
     "text": [
      "180/253 Processed: issues_all_2023-02-21.csv \n"
     ]
    },
    {
     "name": "stderr",
     "output_type": "stream",
     "text": [
      "/tmp/ipykernel_2471098/3693993710.py:13: DtypeWarning: Columns (0,1) have mixed types. Specify dtype option on import or set low_memory=False.\n",
      "  df = pd.read_csv(file_path, index_col=0)\n"
     ]
    },
    {
     "name": "stdout",
     "output_type": "stream",
     "text": [
      "181/253 Processed: issues_all_2023-03-30.csv \n"
     ]
    },
    {
     "name": "stderr",
     "output_type": "stream",
     "text": [
      "/tmp/ipykernel_2471098/3693993710.py:13: DtypeWarning: Columns (0,2,3,4,5,6,7,8,9) have mixed types. Specify dtype option on import or set low_memory=False.\n",
      "  df = pd.read_csv(file_path, index_col=0)\n"
     ]
    },
    {
     "name": "stdout",
     "output_type": "stream",
     "text": [
      "182/253 Processed: issues_all_2022-09-02.csv \n"
     ]
    },
    {
     "name": "stderr",
     "output_type": "stream",
     "text": [
      "/tmp/ipykernel_2471098/3693993710.py:13: DtypeWarning: Columns (1) have mixed types. Specify dtype option on import or set low_memory=False.\n",
      "  df = pd.read_csv(file_path, index_col=0)\n"
     ]
    },
    {
     "name": "stdout",
     "output_type": "stream",
     "text": [
      "183/253 Processed: issues_all_2022-07-29.csv \n",
      "184/253 Processed: issues_all_2023-02-18.csv \n"
     ]
    },
    {
     "name": "stderr",
     "output_type": "stream",
     "text": [
      "/tmp/ipykernel_2471098/3693993710.py:13: DtypeWarning: Columns (0,1,2,3,4,5,6,7,8,9) have mixed types. Specify dtype option on import or set low_memory=False.\n",
      "  df = pd.read_csv(file_path, index_col=0)\n"
     ]
    },
    {
     "name": "stdout",
     "output_type": "stream",
     "text": [
      "185/253 Processed: issues_all_2023-01-13.csv \n"
     ]
    },
    {
     "name": "stderr",
     "output_type": "stream",
     "text": [
      "/tmp/ipykernel_2471098/3693993710.py:13: DtypeWarning: Columns (0,2,3,4,5,6,7,8,9) have mixed types. Specify dtype option on import or set low_memory=False.\n",
      "  df = pd.read_csv(file_path, index_col=0)\n"
     ]
    },
    {
     "name": "stdout",
     "output_type": "stream",
     "text": [
      "186/253 Processed: issues_all_2023-01-06.csv \n",
      "187/253 Processed: issues_all_2023-02-04.csv \n",
      "188/253 Processed: issues_all_2022-08-02.csv \n",
      "189/253 Processed: issues_all_2022-12-27.csv \n",
      "190/253 Processed: issues_all_2023-01-02.csv \n",
      "191/253 Processed: issues_all_2022-08-26.csv \n",
      "192/253 Processed: issues_all_2022-08-27.csv \n"
     ]
    },
    {
     "name": "stderr",
     "output_type": "stream",
     "text": [
      "/tmp/ipykernel_2471098/3693993710.py:13: DtypeWarning: Columns (1) have mixed types. Specify dtype option on import or set low_memory=False.\n",
      "  df = pd.read_csv(file_path, index_col=0)\n"
     ]
    },
    {
     "name": "stdout",
     "output_type": "stream",
     "text": [
      "193/253 Processed: issues_all_2022-08-08.csv \n"
     ]
    },
    {
     "name": "stderr",
     "output_type": "stream",
     "text": [
      "/tmp/ipykernel_2471098/3693993710.py:13: DtypeWarning: Columns (0,1) have mixed types. Specify dtype option on import or set low_memory=False.\n",
      "  df = pd.read_csv(file_path, index_col=0)\n"
     ]
    },
    {
     "name": "stdout",
     "output_type": "stream",
     "text": [
      "194/253 Processed: issues_all_2023-03-06.csv \n",
      "195/253 Processed: issues_all_2022-12-26.csv \n"
     ]
    },
    {
     "name": "stderr",
     "output_type": "stream",
     "text": [
      "/tmp/ipykernel_2471098/3693993710.py:13: DtypeWarning: Columns (0,1) have mixed types. Specify dtype option on import or set low_memory=False.\n",
      "  df = pd.read_csv(file_path, index_col=0)\n"
     ]
    },
    {
     "name": "stdout",
     "output_type": "stream",
     "text": [
      "196/253 Processed: issues_all_2023-01-17.csv \n",
      "197/253 Processed: issues_all_2022-11-15.csv \n",
      "198/253 Processed: issues_all_2022-08-01.csv \n",
      "199/253 Processed: issues_all_2022-08-18.csv \n",
      "200/253 Processed: issues_all_2023-02-09.csv \n",
      "201/253 Error processing issues_all_2022-12-02.csv: Error tokenizing data. C error: Buffer overflow caught - possible malformed input file.\n",
      "\n",
      "202/253 Processed: issues_all_2022-09-01.csv \n"
     ]
    },
    {
     "name": "stderr",
     "output_type": "stream",
     "text": [
      "/tmp/ipykernel_2471098/3693993710.py:13: DtypeWarning: Columns (1) have mixed types. Specify dtype option on import or set low_memory=False.\n",
      "  df = pd.read_csv(file_path, index_col=0)\n"
     ]
    },
    {
     "name": "stdout",
     "output_type": "stream",
     "text": [
      "203/253 Processed: issues_all_2023-02-22.csv \n",
      "204/253 Processed: issues_all_2022-08-04.csv \n",
      "205/253 Processed: issues_all_2022-09-03.csv \n"
     ]
    },
    {
     "name": "stderr",
     "output_type": "stream",
     "text": [
      "/tmp/ipykernel_2471098/3693993710.py:13: DtypeWarning: Columns (0,2,3,4,5,6,7,8,9) have mixed types. Specify dtype option on import or set low_memory=False.\n",
      "  df = pd.read_csv(file_path, index_col=0)\n"
     ]
    },
    {
     "name": "stdout",
     "output_type": "stream",
     "text": [
      "206/253 Processed: issues_all_2022-11-25.csv \n",
      "207/253 Processed: issues_all_2022-10-21.csv \n",
      "208/253 Processed: issues_all_2022-11-12.csv \n",
      "209/253 Processed: issues_all_2022-07-24.csv \n"
     ]
    },
    {
     "name": "stderr",
     "output_type": "stream",
     "text": [
      "/tmp/ipykernel_2471098/3693993710.py:13: DtypeWarning: Columns (1) have mixed types. Specify dtype option on import or set low_memory=False.\n",
      "  df = pd.read_csv(file_path, index_col=0)\n"
     ]
    },
    {
     "name": "stdout",
     "output_type": "stream",
     "text": [
      "210/253 Processed: issues_all_2022-08-17.csv \n",
      "211/253 Processed: issues_all_2022-08-28.csv \n",
      "212/253 Processed: issues_all_2022-09-24.csv \n",
      "213/253 Processed: issues_all_2022-12-14.csv \n"
     ]
    },
    {
     "name": "stderr",
     "output_type": "stream",
     "text": [
      "/tmp/ipykernel_2471098/3693993710.py:13: DtypeWarning: Columns (0,2,3,4,5,6,7,8,9) have mixed types. Specify dtype option on import or set low_memory=False.\n",
      "  df = pd.read_csv(file_path, index_col=0)\n"
     ]
    },
    {
     "name": "stdout",
     "output_type": "stream",
     "text": [
      "214/253 Processed: issues_all_2022-11-04.csv \n",
      "215/253 Processed: issues_all_2022-11-27.csv \n"
     ]
    },
    {
     "name": "stderr",
     "output_type": "stream",
     "text": [
      "/tmp/ipykernel_2471098/3693993710.py:13: DtypeWarning: Columns (0,2,3,4,5,6,7,8,9) have mixed types. Specify dtype option on import or set low_memory=False.\n",
      "  df = pd.read_csv(file_path, index_col=0)\n"
     ]
    },
    {
     "name": "stdout",
     "output_type": "stream",
     "text": [
      "216/253 Processed: issues_all_2022-11-18.csv \n",
      "217/253 Processed: issues_all_2022-10-04.csv \n",
      "218/253 Processed: issues_all_2023-02-19.csv \n",
      "219/253 Processed: issues_all_2023-01-28.csv \n",
      "220/253 Processed: issues_all_2022-08-29.csv \n",
      "221/253 Processed: issues_all_2023-02-11.csv \n"
     ]
    },
    {
     "name": "stderr",
     "output_type": "stream",
     "text": [
      "/tmp/ipykernel_2471098/3693993710.py:13: DtypeWarning: Columns (0,2,3,4,5,6,7,8,9) have mixed types. Specify dtype option on import or set low_memory=False.\n",
      "  df = pd.read_csv(file_path, index_col=0)\n"
     ]
    },
    {
     "name": "stdout",
     "output_type": "stream",
     "text": [
      "222/253 Processed: issues_all_2022-08-05.csv \n",
      "223/253 Processed: issues_all_2022-11-10.csv \n",
      "224/253 Processed: issues_all_2023-03-18.csv \n",
      "225/253 Processed: issues_all_2022-08-14.csv \n"
     ]
    },
    {
     "name": "stderr",
     "output_type": "stream",
     "text": [
      "/tmp/ipykernel_2471098/3693993710.py:13: DtypeWarning: Columns (0,1) have mixed types. Specify dtype option on import or set low_memory=False.\n",
      "  df = pd.read_csv(file_path, index_col=0)\n"
     ]
    },
    {
     "name": "stdout",
     "output_type": "stream",
     "text": [
      "226/253 Processed: issues_all_2023-03-27.csv \n"
     ]
    },
    {
     "name": "stderr",
     "output_type": "stream",
     "text": [
      "/tmp/ipykernel_2471098/3693993710.py:13: DtypeWarning: Columns (1) have mixed types. Specify dtype option on import or set low_memory=False.\n",
      "  df = pd.read_csv(file_path, index_col=0)\n"
     ]
    },
    {
     "name": "stdout",
     "output_type": "stream",
     "text": [
      "227/253 Processed: issues_all_2022-11-24.csv \n",
      "228/253 Processed: issues_all_2022-09-17.csv \n",
      "229/253 Error processing issues_all_2022-12-23.csv: Error tokenizing data. C error: Buffer overflow caught - possible malformed input file.\n",
      "\n",
      "230/253 Processed: issues_all_2023-03-19.csv \n",
      "231/253 Processed: issues_all_2022-09-14.csv \n",
      "232/253 Processed: issues_all_2023-01-29.csv \n",
      "233/253 Processed: issues_all_2022-10-15.csv \n",
      "234/253 Processed: issues_all_2023-02-01.csv \n",
      "235/253 Processed: issues_all_2022-10-28.csv \n"
     ]
    },
    {
     "name": "stderr",
     "output_type": "stream",
     "text": [
      "/tmp/ipykernel_2471098/3693993710.py:13: DtypeWarning: Columns (0,1,2,3,4,5,6,7,8,9) have mixed types. Specify dtype option on import or set low_memory=False.\n",
      "  df = pd.read_csv(file_path, index_col=0)\n"
     ]
    },
    {
     "name": "stdout",
     "output_type": "stream",
     "text": [
      "236/253 Processed: issues_all_2023-02-03.csv \n",
      "237/253 Processed: issues_all_2022-08-11.csv \n",
      "238/253 Processed: issues_all_2022-11-02.csv \n",
      "239/253 Processed: issues_all_2023-01-22.csv \n",
      "240/253 Processed: issues_all_2023-01-26.csv \n",
      "241/253 Processed: issues_all_2022-10-29.csv \n",
      "242/253 Processed: issues_all_2023-01-30.csv \n",
      "243/253 Processed: issues_all_2022-07-25.csv \n"
     ]
    },
    {
     "name": "stderr",
     "output_type": "stream",
     "text": [
      "/tmp/ipykernel_2471098/3693993710.py:13: DtypeWarning: Columns (0,1) have mixed types. Specify dtype option on import or set low_memory=False.\n",
      "  df = pd.read_csv(file_path, index_col=0)\n"
     ]
    },
    {
     "name": "stdout",
     "output_type": "stream",
     "text": [
      "244/253 Processed: issues_all_2023-02-13.csv \n",
      "245/253 Processed: issues_all_2022-09-27.csv \n",
      "246/253 Processed: issues_all_2023-02-25.csv \n",
      "247/253 Processed: issues_all_2022-10-06.csv \n",
      "248/253 Processed: issues_all_2023-03-29.csv \n",
      "249/253 Processed: issues_all_2023-03-02.csv \n",
      "250/253 Processed: issues_all_2022-10-03.csv \n",
      "251/253 Processed: issues_all_2022-10-08.csv \n",
      "252/253 Processed: issues_all_2022-09-10.csv \n"
     ]
    }
   ],
   "source": [
    "appended_data = []\n",
    "# Regular expression to capture various variations of \"high priority\"\n",
    "\n",
    "test_label = r\"\\btest\\b|\\btesting\\b\"\n",
    "not_test_label = r\"\\bnot\\s*test\\b|\\bno\\s*test\\b|\\bother\\b|\\b(?:[^t]|t(?!est\\b))*\\b\"\n",
    "\n",
    "pattern=test_label\n",
    "file_name = \"test_label\"\n",
    "length_res = len(res)\n",
    "for i, r in enumerate(res):\n",
    "    try:\n",
    "        file_path = f\"{dir_path}/{r}\"\n",
    "        df = pd.read_csv(file_path, index_col=0)\n",
    "        \n",
    "        # Make sure the dataframe is not empty \n",
    "        df = df[df['labels'].notnull() & df['labels'].str.strip().astype(bool)]\n",
    "\n",
    "\n",
    "        # ~ Finds NOT in regex\n",
    "        df = df[\n",
    "           df[\"labels\"].str.contains(pattern, case=False, na=False, regex=True)\n",
    "        ]\n",
    "\n",
    "        if not df.empty:  # Append non-empty dataframes to the list\n",
    "           appended_data.append(df)\n",
    "\n",
    "\n",
    "        print(f\"{i}/{length_res} Processed: {r} \")\n",
    "    except Exception as e:\n",
    "        print(f\"{i}/{length_res} Error processing {r}: {e}\")\n",
    "\n",
    "appended_data = pd.concat(appended_data, ignore_index=True)"
   ]
  },
  {
   "cell_type": "code",
   "execution_count": 4,
   "id": "7a0c1e50-e4aa-4ca6-a71b-9f70c1ef7c38",
   "metadata": {
    "tags": []
   },
   "outputs": [
    {
     "data": {
      "text/html": [
       "<div>\n",
       "<style scoped>\n",
       "    .dataframe tbody tr th:only-of-type {\n",
       "        vertical-align: middle;\n",
       "    }\n",
       "\n",
       "    .dataframe tbody tr th {\n",
       "        vertical-align: top;\n",
       "    }\n",
       "\n",
       "    .dataframe thead th {\n",
       "        text-align: right;\n",
       "    }\n",
       "</style>\n",
       "<table border=\"1\" class=\"dataframe\">\n",
       "  <thead>\n",
       "    <tr style=\"text-align: right;\">\n",
       "      <th></th>\n",
       "      <th>id</th>\n",
       "      <th>type</th>\n",
       "      <th>created_at</th>\n",
       "      <th>repo</th>\n",
       "      <th>repo_url</th>\n",
       "      <th>action</th>\n",
       "      <th>title</th>\n",
       "      <th>labels</th>\n",
       "      <th>body</th>\n",
       "    </tr>\n",
       "  </thead>\n",
       "  <tbody>\n",
       "    <tr>\n",
       "      <th>0</th>\n",
       "      <td>27299567285</td>\n",
       "      <td>IssuesEvent</td>\n",
       "      <td>2023-02-24 00:00:29</td>\n",
       "      <td>unifyai/ivy</td>\n",
       "      <td>https://api.github.com/repos/unifyai/ivy</td>\n",
       "      <td>closed</td>\n",
       "      <td>Fix linalg.test_matmul</td>\n",
       "      <td>TensorFlow Frontend Sub Task Failing Test</td>\n",
       "      <td>|   |   |\\r\\n|---|---|\\r\\n|tensorflow|&lt;a href=...</td>\n",
       "    </tr>\n",
       "    <tr>\n",
       "      <th>1</th>\n",
       "      <td>27299573308</td>\n",
       "      <td>IssuesEvent</td>\n",
       "      <td>2023-02-24 00:00:52</td>\n",
       "      <td>unifyai/ivy</td>\n",
       "      <td>https://api.github.com/repos/unifyai/ivy</td>\n",
       "      <td>reopened</td>\n",
       "      <td>Fix linalg.test_matrix_rank</td>\n",
       "      <td>PyTorch Frontend Sub Task Failing Test</td>\n",
       "      <td>|   |   |\\r\\n|---|---|\\r\\n|tensorflow|&lt;a href=...</td>\n",
       "    </tr>\n",
       "    <tr>\n",
       "      <th>2</th>\n",
       "      <td>27299597200</td>\n",
       "      <td>IssuesEvent</td>\n",
       "      <td>2023-02-24 00:02:32</td>\n",
       "      <td>dotnet/runtime</td>\n",
       "      <td>https://api.github.com/repos/dotnet/runtime</td>\n",
       "      <td>closed</td>\n",
       "      <td>Add Tests for System.Drawing.Common</td>\n",
       "      <td>area-System.Drawing increase-code-coverage tes...</td>\n",
       "      <td>This issue tracks porting some set of tests fr...</td>\n",
       "    </tr>\n",
       "    <tr>\n",
       "      <th>3</th>\n",
       "      <td>27299607982</td>\n",
       "      <td>IssuesEvent</td>\n",
       "      <td>2023-02-24 00:03:19</td>\n",
       "      <td>unifyai/ivy</td>\n",
       "      <td>https://api.github.com/repos/unifyai/ivy</td>\n",
       "      <td>reopened</td>\n",
       "      <td>Fix tensor.test_numpy_ndarray_property_shape</td>\n",
       "      <td>TensorFlow Frontend Sub Task Failing Test</td>\n",
       "      <td>|   |   |\\r\\n|---|---|\\r\\n|tensorflow|&lt;a href=...</td>\n",
       "    </tr>\n",
       "    <tr>\n",
       "      <th>4</th>\n",
       "      <td>27299609243</td>\n",
       "      <td>IssuesEvent</td>\n",
       "      <td>2023-02-24 00:03:25</td>\n",
       "      <td>unifyai/ivy</td>\n",
       "      <td>https://api.github.com/repos/unifyai/ivy</td>\n",
       "      <td>reopened</td>\n",
       "      <td>Fix tensor.test_array_property_device</td>\n",
       "      <td>TensorFlow Frontend Sub Task Failing Test</td>\n",
       "      <td>|   |   |\\r\\n|---|---|\\r\\n|tensorflow|&lt;a href=...</td>\n",
       "    </tr>\n",
       "    <tr>\n",
       "      <th>...</th>\n",
       "      <td>...</td>\n",
       "      <td>...</td>\n",
       "      <td>...</td>\n",
       "      <td>...</td>\n",
       "      <td>...</td>\n",
       "      <td>...</td>\n",
       "      <td>...</td>\n",
       "      <td>...</td>\n",
       "      <td>...</td>\n",
       "    </tr>\n",
       "    <tr>\n",
       "      <th>100938</th>\n",
       "      <td>23933792422</td>\n",
       "      <td>IssuesEvent</td>\n",
       "      <td>2022-09-10 23:47:34</td>\n",
       "      <td>GustavoGomesDias/store</td>\n",
       "      <td>https://api.github.com/repos/GustavoGomesDias/...</td>\n",
       "      <td>closed</td>\n",
       "      <td>Enviar resultado do reporter dos testes geread...</td>\n",
       "      <td>enhancement test</td>\n",
       "      <td>Atualmente, eu sei quando o PR falha, mas não ...</td>\n",
       "    </tr>\n",
       "    <tr>\n",
       "      <th>100939</th>\n",
       "      <td>23933795909</td>\n",
       "      <td>IssuesEvent</td>\n",
       "      <td>2022-09-10 23:48:31</td>\n",
       "      <td>GustavoGomesDias/store</td>\n",
       "      <td>https://api.github.com/repos/GustavoGomesDias/...</td>\n",
       "      <td>closed</td>\n",
       "      <td>Trackear tempo dos testes mais demorados</td>\n",
       "      <td>bug test</td>\n",
       "      <td>Abaixou o teste de 20s para 15s, mas ainda tá ...</td>\n",
       "    </tr>\n",
       "    <tr>\n",
       "      <th>100940</th>\n",
       "      <td>23933809567</td>\n",
       "      <td>IssuesEvent</td>\n",
       "      <td>2022-09-10 23:52:18</td>\n",
       "      <td>herrphon/upptime</td>\n",
       "      <td>https://api.github.com/repos/herrphon/upptime</td>\n",
       "      <td>closed</td>\n",
       "      <td>🛑 Auth-Bridge - Test 1 is down</td>\n",
       "      <td>status auth-bridge-test-1</td>\n",
       "      <td>In [`cf9d8e1`](https://github.com/herrphon/upp...</td>\n",
       "    </tr>\n",
       "    <tr>\n",
       "      <th>100941</th>\n",
       "      <td>23933811531</td>\n",
       "      <td>IssuesEvent</td>\n",
       "      <td>2022-09-10 23:52:49</td>\n",
       "      <td>kubernetes/test-infra</td>\n",
       "      <td>https://api.github.com/repos/kubernetes/test-i...</td>\n",
       "      <td>closed</td>\n",
       "      <td>error unmarshaling config/jobs/kubernetes-sigs...</td>\n",
       "      <td>kind/bug sig/testing</td>\n",
       "      <td>### What happened:\\r\\n***\\r\\n\\r\\nProw's [check...</td>\n",
       "    </tr>\n",
       "    <tr>\n",
       "      <th>100942</th>\n",
       "      <td>23933814456</td>\n",
       "      <td>IssuesEvent</td>\n",
       "      <td>2022-09-10 23:53:40</td>\n",
       "      <td>kubernetes/test-infra</td>\n",
       "      <td>https://api.github.com/repos/kubernetes/test-i...</td>\n",
       "      <td>closed</td>\n",
       "      <td>error unmarshaling config/jobs/kubernetes-sigs...</td>\n",
       "      <td>kind/bug sig/testing</td>\n",
       "      <td>### What happened:\\r\\n***\\r\\n\\r\\nProw's [check...</td>\n",
       "    </tr>\n",
       "  </tbody>\n",
       "</table>\n",
       "<p>100943 rows × 9 columns</p>\n",
       "</div>"
      ],
      "text/plain": [
       "                 id         type           created_at                    repo  \\\n",
       "0       27299567285  IssuesEvent  2023-02-24 00:00:29             unifyai/ivy   \n",
       "1       27299573308  IssuesEvent  2023-02-24 00:00:52             unifyai/ivy   \n",
       "2       27299597200  IssuesEvent  2023-02-24 00:02:32          dotnet/runtime   \n",
       "3       27299607982  IssuesEvent  2023-02-24 00:03:19             unifyai/ivy   \n",
       "4       27299609243  IssuesEvent  2023-02-24 00:03:25             unifyai/ivy   \n",
       "...             ...          ...                  ...                     ...   \n",
       "100938  23933792422  IssuesEvent  2022-09-10 23:47:34  GustavoGomesDias/store   \n",
       "100939  23933795909  IssuesEvent  2022-09-10 23:48:31  GustavoGomesDias/store   \n",
       "100940  23933809567  IssuesEvent  2022-09-10 23:52:18        herrphon/upptime   \n",
       "100941  23933811531  IssuesEvent  2022-09-10 23:52:49   kubernetes/test-infra   \n",
       "100942  23933814456  IssuesEvent  2022-09-10 23:53:40   kubernetes/test-infra   \n",
       "\n",
       "                                                 repo_url    action  \\\n",
       "0                https://api.github.com/repos/unifyai/ivy    closed   \n",
       "1                https://api.github.com/repos/unifyai/ivy  reopened   \n",
       "2             https://api.github.com/repos/dotnet/runtime    closed   \n",
       "3                https://api.github.com/repos/unifyai/ivy  reopened   \n",
       "4                https://api.github.com/repos/unifyai/ivy  reopened   \n",
       "...                                                   ...       ...   \n",
       "100938  https://api.github.com/repos/GustavoGomesDias/...    closed   \n",
       "100939  https://api.github.com/repos/GustavoGomesDias/...    closed   \n",
       "100940      https://api.github.com/repos/herrphon/upptime    closed   \n",
       "100941  https://api.github.com/repos/kubernetes/test-i...    closed   \n",
       "100942  https://api.github.com/repos/kubernetes/test-i...    closed   \n",
       "\n",
       "                                                    title  \\\n",
       "0                                  Fix linalg.test_matmul   \n",
       "1                             Fix linalg.test_matrix_rank   \n",
       "2                     Add Tests for System.Drawing.Common   \n",
       "3            Fix tensor.test_numpy_ndarray_property_shape   \n",
       "4                   Fix tensor.test_array_property_device   \n",
       "...                                                   ...   \n",
       "100938  Enviar resultado do reporter dos testes geread...   \n",
       "100939           Trackear tempo dos testes mais demorados   \n",
       "100940                     🛑 Auth-Bridge - Test 1 is down   \n",
       "100941  error unmarshaling config/jobs/kubernetes-sigs...   \n",
       "100942  error unmarshaling config/jobs/kubernetes-sigs...   \n",
       "\n",
       "                                                   labels  \\\n",
       "0               TensorFlow Frontend Sub Task Failing Test   \n",
       "1                  PyTorch Frontend Sub Task Failing Test   \n",
       "2       area-System.Drawing increase-code-coverage tes...   \n",
       "3               TensorFlow Frontend Sub Task Failing Test   \n",
       "4               TensorFlow Frontend Sub Task Failing Test   \n",
       "...                                                   ...   \n",
       "100938                                   enhancement test   \n",
       "100939                                           bug test   \n",
       "100940                          status auth-bridge-test-1   \n",
       "100941                               kind/bug sig/testing   \n",
       "100942                               kind/bug sig/testing   \n",
       "\n",
       "                                                     body  \n",
       "0       |   |   |\\r\\n|---|---|\\r\\n|tensorflow|<a href=...  \n",
       "1       |   |   |\\r\\n|---|---|\\r\\n|tensorflow|<a href=...  \n",
       "2       This issue tracks porting some set of tests fr...  \n",
       "3       |   |   |\\r\\n|---|---|\\r\\n|tensorflow|<a href=...  \n",
       "4       |   |   |\\r\\n|---|---|\\r\\n|tensorflow|<a href=...  \n",
       "...                                                   ...  \n",
       "100938  Atualmente, eu sei quando o PR falha, mas não ...  \n",
       "100939  Abaixou o teste de 20s para 15s, mas ainda tá ...  \n",
       "100940  In [`cf9d8e1`](https://github.com/herrphon/upp...  \n",
       "100941  ### What happened:\\r\\n***\\r\\n\\r\\nProw's [check...  \n",
       "100942  ### What happened:\\r\\n***\\r\\n\\r\\nProw's [check...  \n",
       "\n",
       "[100943 rows x 9 columns]"
      ]
     },
     "execution_count": 4,
     "metadata": {},
     "output_type": "execute_result"
    }
   ],
   "source": [
    "appended_data = pd.DataFrame(appended_data)\n",
    "appended_data"
   ]
  },
  {
   "cell_type": "code",
   "execution_count": 5,
   "id": "893fc8a0-c411-4e47-a45c-50833df8984d",
   "metadata": {
    "tags": []
   },
   "outputs": [
    {
     "data": {
      "text/html": [
       "<div>\n",
       "<style scoped>\n",
       "    .dataframe tbody tr th:only-of-type {\n",
       "        vertical-align: middle;\n",
       "    }\n",
       "\n",
       "    .dataframe tbody tr th {\n",
       "        vertical-align: top;\n",
       "    }\n",
       "\n",
       "    .dataframe thead th {\n",
       "        text-align: right;\n",
       "    }\n",
       "</style>\n",
       "<table border=\"1\" class=\"dataframe\">\n",
       "  <thead>\n",
       "    <tr style=\"text-align: right;\">\n",
       "      <th></th>\n",
       "      <th>id</th>\n",
       "      <th>type</th>\n",
       "      <th>created_at</th>\n",
       "      <th>repo</th>\n",
       "      <th>repo_url</th>\n",
       "      <th>action</th>\n",
       "      <th>title</th>\n",
       "      <th>labels</th>\n",
       "      <th>body</th>\n",
       "    </tr>\n",
       "  </thead>\n",
       "  <tbody>\n",
       "    <tr>\n",
       "      <th>0</th>\n",
       "      <td>27009082883</td>\n",
       "      <td>IssuesEvent</td>\n",
       "      <td>2023-02-10 14:05:00</td>\n",
       "      <td>harnettmatt/rankings</td>\n",
       "      <td>https://api.github.com/repos/harnettmatt/rankings</td>\n",
       "      <td>closed</td>\n",
       "      <td>Make sure integration tests are running with i...</td>\n",
       "      <td>testing debt</td>\n",
       "      <td>Make sure tests are not interfering with each ...</td>\n",
       "    </tr>\n",
       "    <tr>\n",
       "      <th>1</th>\n",
       "      <td>27334017266</td>\n",
       "      <td>IssuesEvent</td>\n",
       "      <td>2023-02-26 00:56:03</td>\n",
       "      <td>DataBiosphere/azul</td>\n",
       "      <td>https://api.github.com/repos/DataBiosphere/azul</td>\n",
       "      <td>closed</td>\n",
       "      <td>Cover AnVIL service response in unit tests</td>\n",
       "      <td>enh demoed debt test orange demo</td>\n",
       "      <td>https://github.com/DataBiosphere/azul/pull/492...</td>\n",
       "    </tr>\n",
       "    <tr>\n",
       "      <th>2</th>\n",
       "      <td>27334019367</td>\n",
       "      <td>IssuesEvent</td>\n",
       "      <td>2023-02-26 00:56:29</td>\n",
       "      <td>DataBiosphere/azul</td>\n",
       "      <td>https://api.github.com/repos/DataBiosphere/azul</td>\n",
       "      <td>closed</td>\n",
       "      <td>Service `app.repository_controller` should be ...</td>\n",
       "      <td>bug debt test orange no demo spike:2 service</td>\n",
       "      <td>https://github.com/DataBiosphere/azul/blob/350...</td>\n",
       "    </tr>\n",
       "    <tr>\n",
       "      <th>3</th>\n",
       "      <td>27334021608</td>\n",
       "      <td>IssuesEvent</td>\n",
       "      <td>2023-02-26 00:56:57</td>\n",
       "      <td>DataBiosphere/azul</td>\n",
       "      <td>https://api.github.com/repos/DataBiosphere/azul</td>\n",
       "      <td>closed</td>\n",
       "      <td>Many caches persist between test cases</td>\n",
       "      <td>enh debt test orange no demo spike:2</td>\n",
       "      <td>~An example is~ https://github.com/DataBiosphe...</td>\n",
       "    </tr>\n",
       "    <tr>\n",
       "      <th>4</th>\n",
       "      <td>24141625446</td>\n",
       "      <td>IssuesEvent</td>\n",
       "      <td>2022-09-21 15:14:12</td>\n",
       "      <td>department-of-veterans-affairs/va.gov-cms</td>\n",
       "      <td>https://api.github.com/repos/department-of-vet...</td>\n",
       "      <td>closed</td>\n",
       "      <td>Improve friendliness of Behat text pattern mat...</td>\n",
       "      <td>Technical debt Automated testing ⭐️ Sitewide CMS</td>\n",
       "      <td>## Description\\r\\n\\r\\nIn [this commit](https:/...</td>\n",
       "    </tr>\n",
       "    <tr>\n",
       "      <th>...</th>\n",
       "      <td>...</td>\n",
       "      <td>...</td>\n",
       "      <td>...</td>\n",
       "      <td>...</td>\n",
       "      <td>...</td>\n",
       "      <td>...</td>\n",
       "      <td>...</td>\n",
       "      <td>...</td>\n",
       "      <td>...</td>\n",
       "    </tr>\n",
       "    <tr>\n",
       "      <th>289</th>\n",
       "      <td>24445797281.0</td>\n",
       "      <td>IssuesEvent</td>\n",
       "      <td>2022-10-06 17:51:03</td>\n",
       "      <td>confidential-containers/operator</td>\n",
       "      <td>https://api.github.com/repos/confidential-cont...</td>\n",
       "      <td>opened</td>\n",
       "      <td>Development and CI versions should be kept in ...</td>\n",
       "      <td>testing technical debt</td>\n",
       "      <td>The operator build is supported with a given v...</td>\n",
       "    </tr>\n",
       "    <tr>\n",
       "      <th>290</th>\n",
       "      <td>24446044954.0</td>\n",
       "      <td>IssuesEvent</td>\n",
       "      <td>2022-10-06 18:03:52</td>\n",
       "      <td>confidential-containers/operator</td>\n",
       "      <td>https://api.github.com/repos/confidential-cont...</td>\n",
       "      <td>opened</td>\n",
       "      <td>Document the operator CI</td>\n",
       "      <td>testing technical debt</td>\n",
       "      <td>The scripts for testing and CI were created in...</td>\n",
       "    </tr>\n",
       "    <tr>\n",
       "      <th>291</th>\n",
       "      <td>27451246148</td>\n",
       "      <td>IssuesEvent</td>\n",
       "      <td>2023-03-02 17:32:05</td>\n",
       "      <td>saltstack/salt</td>\n",
       "      <td>https://api.github.com/repos/saltstack/salt</td>\n",
       "      <td>closed</td>\n",
       "      <td>[TECH DEBT] Add performance test to the test s...</td>\n",
       "      <td>auto-test tech-debt</td>\n",
       "      <td>Add performance test to the test suite.\\r\\n\\r\\...</td>\n",
       "    </tr>\n",
       "    <tr>\n",
       "      <th>292</th>\n",
       "      <td>24365487149</td>\n",
       "      <td>IssuesEvent</td>\n",
       "      <td>2022-10-03 14:52:10</td>\n",
       "      <td>hashicorp/terraform-cdk</td>\n",
       "      <td>https://api.github.com/repos/hashicorp/terrafo...</td>\n",
       "      <td>opened</td>\n",
       "      <td>Re-enable `convertProject.test.ts` test</td>\n",
       "      <td>enhancement testing priority/important-soon de...</td>\n",
       "      <td>&lt;!--- Please keep this note for the community ...</td>\n",
       "    </tr>\n",
       "    <tr>\n",
       "      <th>293</th>\n",
       "      <td>23926854636</td>\n",
       "      <td>IssuesEvent</td>\n",
       "      <td>2022-09-10 00:56:15</td>\n",
       "      <td>libhal/libhal</td>\n",
       "      <td>https://api.github.com/repos/libhal/libhal</td>\n",
       "      <td>closed</td>\n",
       "      <td>Complete `mock::steady_clock`</td>\n",
       "      <td>testing technical debt</td>\n",
       "      <td>NaN</td>\n",
       "    </tr>\n",
       "  </tbody>\n",
       "</table>\n",
       "<p>294 rows × 9 columns</p>\n",
       "</div>"
      ],
      "text/plain": [
       "                id         type           created_at  \\\n",
       "0      27009082883  IssuesEvent  2023-02-10 14:05:00   \n",
       "1      27334017266  IssuesEvent  2023-02-26 00:56:03   \n",
       "2      27334019367  IssuesEvent  2023-02-26 00:56:29   \n",
       "3      27334021608  IssuesEvent  2023-02-26 00:56:57   \n",
       "4      24141625446  IssuesEvent  2022-09-21 15:14:12   \n",
       "..             ...          ...                  ...   \n",
       "289  24445797281.0  IssuesEvent  2022-10-06 17:51:03   \n",
       "290  24446044954.0  IssuesEvent  2022-10-06 18:03:52   \n",
       "291    27451246148  IssuesEvent  2023-03-02 17:32:05   \n",
       "292    24365487149  IssuesEvent  2022-10-03 14:52:10   \n",
       "293    23926854636  IssuesEvent  2022-09-10 00:56:15   \n",
       "\n",
       "                                          repo  \\\n",
       "0                         harnettmatt/rankings   \n",
       "1                           DataBiosphere/azul   \n",
       "2                           DataBiosphere/azul   \n",
       "3                           DataBiosphere/azul   \n",
       "4    department-of-veterans-affairs/va.gov-cms   \n",
       "..                                         ...   \n",
       "289           confidential-containers/operator   \n",
       "290           confidential-containers/operator   \n",
       "291                             saltstack/salt   \n",
       "292                    hashicorp/terraform-cdk   \n",
       "293                              libhal/libhal   \n",
       "\n",
       "                                              repo_url  action  \\\n",
       "0    https://api.github.com/repos/harnettmatt/rankings  closed   \n",
       "1      https://api.github.com/repos/DataBiosphere/azul  closed   \n",
       "2      https://api.github.com/repos/DataBiosphere/azul  closed   \n",
       "3      https://api.github.com/repos/DataBiosphere/azul  closed   \n",
       "4    https://api.github.com/repos/department-of-vet...  closed   \n",
       "..                                                 ...     ...   \n",
       "289  https://api.github.com/repos/confidential-cont...  opened   \n",
       "290  https://api.github.com/repos/confidential-cont...  opened   \n",
       "291        https://api.github.com/repos/saltstack/salt  closed   \n",
       "292  https://api.github.com/repos/hashicorp/terrafo...  opened   \n",
       "293         https://api.github.com/repos/libhal/libhal  closed   \n",
       "\n",
       "                                                 title  \\\n",
       "0    Make sure integration tests are running with i...   \n",
       "1           Cover AnVIL service response in unit tests   \n",
       "2    Service `app.repository_controller` should be ...   \n",
       "3               Many caches persist between test cases   \n",
       "4    Improve friendliness of Behat text pattern mat...   \n",
       "..                                                 ...   \n",
       "289  Development and CI versions should be kept in ...   \n",
       "290                           Document the operator CI   \n",
       "291  [TECH DEBT] Add performance test to the test s...   \n",
       "292            Re-enable `convertProject.test.ts` test   \n",
       "293                      Complete `mock::steady_clock`   \n",
       "\n",
       "                                                labels  \\\n",
       "0                                         testing debt   \n",
       "1                     enh demoed debt test orange demo   \n",
       "2         bug debt test orange no demo spike:2 service   \n",
       "3                 enh debt test orange no demo spike:2   \n",
       "4     Technical debt Automated testing ⭐️ Sitewide CMS   \n",
       "..                                                 ...   \n",
       "289                             testing technical debt   \n",
       "290                             testing technical debt   \n",
       "291                                auto-test tech-debt   \n",
       "292  enhancement testing priority/important-soon de...   \n",
       "293                             testing technical debt   \n",
       "\n",
       "                                                  body  \n",
       "0    Make sure tests are not interfering with each ...  \n",
       "1    https://github.com/DataBiosphere/azul/pull/492...  \n",
       "2    https://github.com/DataBiosphere/azul/blob/350...  \n",
       "3    ~An example is~ https://github.com/DataBiosphe...  \n",
       "4    ## Description\\r\\n\\r\\nIn [this commit](https:/...  \n",
       "..                                                 ...  \n",
       "289  The operator build is supported with a given v...  \n",
       "290  The scripts for testing and CI were created in...  \n",
       "291  Add performance test to the test suite.\\r\\n\\r\\...  \n",
       "292  <!--- Please keep this note for the community ...  \n",
       "293                                                NaN  \n",
       "\n",
       "[294 rows x 9 columns]"
      ]
     },
     "execution_count": 5,
     "metadata": {},
     "output_type": "execute_result"
    }
   ],
   "source": [
    "# Create debt dataframe\n",
    "technical_debt_regex = r'debt|\\bTD\\b'\n",
    "contains_debt_test = appended_data['labels'].str.contains(technical_debt_regex, case=False, na=False)\n",
    "debt = appended_data[contains_debt_test].reset_index(drop=True)\n",
    "debt"
   ]
  },
  {
   "cell_type": "code",
   "execution_count": 6,
   "id": "daf82feb-870a-4bbb-9c8f-28a06e294223",
   "metadata": {
    "tags": []
   },
   "outputs": [],
   "source": [
    "# Dataset with debt and the given priority\n",
    "debt_file_name = f\"{file_name}_with_td.csv\"\n",
    "debt.to_csv(debt_file_name)"
   ]
  },
  {
   "cell_type": "code",
   "execution_count": 7,
   "id": "f9079f1e-cd28-4aa4-8502-120752f36167",
   "metadata": {
    "tags": []
   },
   "outputs": [
    {
     "data": {
      "text/html": [
       "<div>\n",
       "<style scoped>\n",
       "    .dataframe tbody tr th:only-of-type {\n",
       "        vertical-align: middle;\n",
       "    }\n",
       "\n",
       "    .dataframe tbody tr th {\n",
       "        vertical-align: top;\n",
       "    }\n",
       "\n",
       "    .dataframe thead th {\n",
       "        text-align: right;\n",
       "    }\n",
       "</style>\n",
       "<table border=\"1\" class=\"dataframe\">\n",
       "  <thead>\n",
       "    <tr style=\"text-align: right;\">\n",
       "      <th></th>\n",
       "      <th>count</th>\n",
       "    </tr>\n",
       "    <tr>\n",
       "      <th>labels</th>\n",
       "      <th></th>\n",
       "    </tr>\n",
       "  </thead>\n",
       "  <tbody>\n",
       "    <tr>\n",
       "      <th>testing technical debt</th>\n",
       "      <td>11</td>\n",
       "    </tr>\n",
       "    <tr>\n",
       "      <th>testing tech-debt</th>\n",
       "      <td>8</td>\n",
       "    </tr>\n",
       "    <tr>\n",
       "      <th>area/test kind/tech-debt</th>\n",
       "      <td>7</td>\n",
       "    </tr>\n",
       "    <tr>\n",
       "      <th>kind/tech-debt area/unit-test</th>\n",
       "      <td>5</td>\n",
       "    </tr>\n",
       "    <tr>\n",
       "      <th>testing tech debt</th>\n",
       "      <td>5</td>\n",
       "    </tr>\n",
       "    <tr>\n",
       "      <th>auto-test tech-debt</th>\n",
       "      <td>5</td>\n",
       "    </tr>\n",
       "    <tr>\n",
       "      <th>testing tech-debt refactoring</th>\n",
       "      <td>4</td>\n",
       "    </tr>\n",
       "    <tr>\n",
       "      <th>area/testing priority/important-longterm area/tech-debt</th>\n",
       "      <td>4</td>\n",
       "    </tr>\n",
       "    <tr>\n",
       "      <th>Tech Debt testing</th>\n",
       "      <td>4</td>\n",
       "    </tr>\n",
       "    <tr>\n",
       "      <th>enhancement tech debt testing</th>\n",
       "      <td>3</td>\n",
       "    </tr>\n",
       "    <tr>\n",
       "      <th>tech-debt P: medium testing</th>\n",
       "      <td>3</td>\n",
       "    </tr>\n",
       "    <tr>\n",
       "      <th>tech debt testing</th>\n",
       "      <td>3</td>\n",
       "    </tr>\n",
       "    <tr>\n",
       "      <th>crate-zkevm-circuits T-test T-tech-debt</th>\n",
       "      <td>3</td>\n",
       "    </tr>\n",
       "    <tr>\n",
       "      <th>kind/tech-debt area/unit-test area/typescript</th>\n",
       "      <td>3</td>\n",
       "    </tr>\n",
       "    <tr>\n",
       "      <th>noproductcode test debt team:Security SSO</th>\n",
       "      <td>3</td>\n",
       "    </tr>\n",
       "    <tr>\n",
       "      <th>tech-debt network-integration-test ephesus</th>\n",
       "      <td>3</td>\n",
       "    </tr>\n",
       "    <tr>\n",
       "      <th>debt flaky test</th>\n",
       "      <td>3</td>\n",
       "    </tr>\n",
       "    <tr>\n",
       "      <th>Technical Debt Epic Test if fixed in 3.0</th>\n",
       "      <td>3</td>\n",
       "    </tr>\n",
       "    <tr>\n",
       "      <th>Technical Debt Test L2 Developer Tool Team</th>\n",
       "      <td>2</td>\n",
       "    </tr>\n",
       "    <tr>\n",
       "      <th>testing priority/medium refactoring ooni/probe-engine techdebt cleanup</th>\n",
       "      <td>2</td>\n",
       "    </tr>\n",
       "    <tr>\n",
       "      <th>kind/bug quality/code quality/debt area/test</th>\n",
       "      <td>2</td>\n",
       "    </tr>\n",
       "    <tr>\n",
       "      <th>frontend vaos tech-debt e2e-flaky-test</th>\n",
       "      <td>2</td>\n",
       "    </tr>\n",
       "    <tr>\n",
       "      <th>[zube]: Review kind/tech-debt area/unit-test</th>\n",
       "      <td>2</td>\n",
       "    </tr>\n",
       "    <tr>\n",
       "      <th>[zube]: Working area/test kind/tech-debt</th>\n",
       "      <td>2</td>\n",
       "    </tr>\n",
       "    <tr>\n",
       "      <th>tech-debt vscode test scenario</th>\n",
       "      <td>2</td>\n",
       "    </tr>\n",
       "    <tr>\n",
       "      <th>enhancement testing tech-debt</th>\n",
       "      <td>2</td>\n",
       "    </tr>\n",
       "    <tr>\n",
       "      <th>bug help wanted good first issue technical debt CI Test Infrastructure</th>\n",
       "      <td>2</td>\n",
       "    </tr>\n",
       "    <tr>\n",
       "      <th>test refactoring test_ui_functional technical debt Team:Detections and Resp Team: SecuritySolution Team:Detection Rules</th>\n",
       "      <td>2</td>\n",
       "    </tr>\n",
       "    <tr>\n",
       "      <th>debt testing team/repo-management</th>\n",
       "      <td>2</td>\n",
       "    </tr>\n",
       "    <tr>\n",
       "      <th>technical debt test</th>\n",
       "      <td>2</td>\n",
       "    </tr>\n",
       "    <tr>\n",
       "      <th>interactive-window debt engineering flaky test</th>\n",
       "      <td>2</td>\n",
       "    </tr>\n",
       "    <tr>\n",
       "      <th>:test_tube: testing :credit_card: technical debt</th>\n",
       "      <td>2</td>\n",
       "    </tr>\n",
       "    <tr>\n",
       "      <th>Type: Tech Debt Aspect: Testing Component: Continuous Delivery Stale</th>\n",
       "      <td>2</td>\n",
       "    </tr>\n",
       "    <tr>\n",
       "      <th>Type:Tech Debt .CI &amp; Tests flaky-test-fix</th>\n",
       "      <td>2</td>\n",
       "    </tr>\n",
       "    <tr>\n",
       "      <th>source::anaconda type::tech-debt sprint type::testing</th>\n",
       "      <td>2</td>\n",
       "    </tr>\n",
       "    <tr>\n",
       "      <th>testing technical debt CI wasm</th>\n",
       "      <td>2</td>\n",
       "    </tr>\n",
       "    <tr>\n",
       "      <th>Area-Compilers Test Concept-Design Debt</th>\n",
       "      <td>2</td>\n",
       "    </tr>\n",
       "    <tr>\n",
       "      <th>tech-debt no-issue-activity test</th>\n",
       "      <td>2</td>\n",
       "    </tr>\n",
       "    <tr>\n",
       "      <th>a/test a/tech_debt</th>\n",
       "      <td>2</td>\n",
       "    </tr>\n",
       "    <tr>\n",
       "      <th>good first issue testing tech-debt refactoring</th>\n",
       "      <td>2</td>\n",
       "    </tr>\n",
       "    <tr>\n",
       "      <th>enhancement good first issue technical debt testing</th>\n",
       "      <td>2</td>\n",
       "    </tr>\n",
       "    <tr>\n",
       "      <th>technical debt tests test issue</th>\n",
       "      <td>2</td>\n",
       "    </tr>\n",
       "    <tr>\n",
       "      <th>in:Kernel/Bootstrap test debt in:SpringBoot springboot-3.0</th>\n",
       "      <td>2</td>\n",
       "    </tr>\n",
       "    <tr>\n",
       "      <th>Team:APM technical debt v8.5.0 apm:test-plan-8.5.0</th>\n",
       "      <td>2</td>\n",
       "    </tr>\n",
       "    <tr>\n",
       "      <th>area/test kind/flaky-test area/provisioning-v2 area/clusterprovisioningv2 kind/tech-debt QA/None</th>\n",
       "      <td>2</td>\n",
       "    </tr>\n",
       "    <tr>\n",
       "      <th>source::anaconda type::feature type::tech-debt sprint type::testing</th>\n",
       "      <td>2</td>\n",
       "    </tr>\n",
       "    <tr>\n",
       "      <th>crate-zkevm-circuits T-bug T-test T-tech-debt</th>\n",
       "      <td>2</td>\n",
       "    </tr>\n",
       "    <tr>\n",
       "      <th>[zube]: To Test kind/tech-debt area/performance v2.6.7</th>\n",
       "      <td>2</td>\n",
       "    </tr>\n",
       "    <tr>\n",
       "      <th>Type: Bug Type: Tech Debt Type: CI Test Flake</th>\n",
       "      <td>2</td>\n",
       "    </tr>\n",
       "    <tr>\n",
       "      <th>area/testing techdebt</th>\n",
       "      <td>1</td>\n",
       "    </tr>\n",
       "  </tbody>\n",
       "</table>\n",
       "</div>"
      ],
      "text/plain": [
       "                                                    count\n",
       "labels                                                   \n",
       "testing technical debt                                 11\n",
       "testing tech-debt                                       8\n",
       "area/test kind/tech-debt                                7\n",
       "kind/tech-debt area/unit-test                           5\n",
       "testing tech debt                                       5\n",
       "auto-test tech-debt                                     5\n",
       "testing tech-debt refactoring                           4\n",
       "area/testing priority/important-longterm area/t...      4\n",
       "Tech Debt testing                                       4\n",
       "enhancement tech debt testing                           3\n",
       "tech-debt P: medium testing                             3\n",
       "tech debt testing                                       3\n",
       "crate-zkevm-circuits T-test T-tech-debt                 3\n",
       "kind/tech-debt area/unit-test area/typescript           3\n",
       "noproductcode test debt team:Security SSO               3\n",
       "tech-debt network-integration-test ephesus              3\n",
       "debt flaky test                                         3\n",
       "Technical Debt Epic Test if fixed in 3.0                3\n",
       "Technical Debt Test L2 Developer Tool Team              2\n",
       "testing priority/medium refactoring ooni/probe-...      2\n",
       "kind/bug quality/code quality/debt area/test            2\n",
       "frontend vaos tech-debt e2e-flaky-test                  2\n",
       "[zube]: Review kind/tech-debt area/unit-test            2\n",
       "[zube]: Working area/test kind/tech-debt                2\n",
       "tech-debt vscode test scenario                          2\n",
       "enhancement testing tech-debt                           2\n",
       "bug help wanted good first issue technical debt...      2\n",
       "test refactoring test_ui_functional technical d...      2\n",
       "debt testing team/repo-management                       2\n",
       "technical debt test                                     2\n",
       "interactive-window debt engineering flaky test          2\n",
       ":test_tube: testing :credit_card: technical debt        2\n",
       "Type: Tech Debt Aspect: Testing Component: Cont...      2\n",
       "Type:Tech Debt .CI & Tests flaky-test-fix               2\n",
       "source::anaconda type::tech-debt sprint type::t...      2\n",
       "testing technical debt CI wasm                          2\n",
       "Area-Compilers Test Concept-Design Debt                 2\n",
       "tech-debt no-issue-activity test                        2\n",
       "a/test a/tech_debt                                      2\n",
       "good first issue testing tech-debt refactoring          2\n",
       "enhancement good first issue technical debt tes...      2\n",
       "technical debt tests test issue                         2\n",
       "in:Kernel/Bootstrap test debt in:SpringBoot spr...      2\n",
       "Team:APM technical debt v8.5.0 apm:test-plan-8.5.0      2\n",
       "area/test kind/flaky-test area/provisioning-v2 ...      2\n",
       "source::anaconda type::feature type::tech-debt ...      2\n",
       "crate-zkevm-circuits T-bug T-test T-tech-debt           2\n",
       "[zube]: To Test kind/tech-debt area/performance...      2\n",
       "Type: Bug Type: Tech Debt Type: CI Test Flake           2\n",
       "area/testing techdebt                                   1"
      ]
     },
     "execution_count": 7,
     "metadata": {},
     "output_type": "execute_result"
    }
   ],
   "source": [
    "debt.labels.value_counts().to_frame()[:50]"
   ]
  },
  {
   "cell_type": "code",
   "execution_count": 8,
   "id": "f83bb087-5614-4af3-84cf-8bb1ee592c67",
   "metadata": {
    "tags": []
   },
   "outputs": [
    {
     "data": {
      "text/html": [
       "<div>\n",
       "<style scoped>\n",
       "    .dataframe tbody tr th:only-of-type {\n",
       "        vertical-align: middle;\n",
       "    }\n",
       "\n",
       "    .dataframe tbody tr th {\n",
       "        vertical-align: top;\n",
       "    }\n",
       "\n",
       "    .dataframe thead th {\n",
       "        text-align: right;\n",
       "    }\n",
       "</style>\n",
       "<table border=\"1\" class=\"dataframe\">\n",
       "  <thead>\n",
       "    <tr style=\"text-align: right;\">\n",
       "      <th></th>\n",
       "      <th>count</th>\n",
       "    </tr>\n",
       "    <tr>\n",
       "      <th>labels</th>\n",
       "      <th></th>\n",
       "    </tr>\n",
       "  </thead>\n",
       "  <tbody>\n",
       "    <tr>\n",
       "      <th>status software-center-test-1</th>\n",
       "      <td>8223</td>\n",
       "    </tr>\n",
       "    <tr>\n",
       "      <th>testing</th>\n",
       "      <td>5123</td>\n",
       "    </tr>\n",
       "    <tr>\n",
       "      <th>status auth-bridge-test-1</th>\n",
       "      <td>4803</td>\n",
       "    </tr>\n",
       "    <tr>\n",
       "      <th>test</th>\n",
       "      <td>3664</td>\n",
       "    </tr>\n",
       "    <tr>\n",
       "      <th>TensorFlow Frontend Sub Task Failing Test</th>\n",
       "      <td>2005</td>\n",
       "    </tr>\n",
       "    <tr>\n",
       "      <th>PyTorch Frontend Sub Task Failing Test</th>\n",
       "      <td>1764</td>\n",
       "    </tr>\n",
       "    <tr>\n",
       "      <th>generalization test development</th>\n",
       "      <td>1701</td>\n",
       "    </tr>\n",
       "    <tr>\n",
       "      <th>test-failing ci-force-bot</th>\n",
       "      <td>1574</td>\n",
       "    </tr>\n",
       "    <tr>\n",
       "      <th>NumPy Frontend Sub Task Failing Test</th>\n",
       "      <td>1535</td>\n",
       "    </tr>\n",
       "    <tr>\n",
       "      <th>status mention-test-bot</th>\n",
       "      <td>1445</td>\n",
       "    </tr>\n",
       "    <tr>\n",
       "      <th>JAX Frontend Sub Task Failing Test</th>\n",
       "      <td>1266</td>\n",
       "    </tr>\n",
       "    <tr>\n",
       "      <th>Sub Task Failing Test</th>\n",
       "      <td>951</td>\n",
       "    </tr>\n",
       "    <tr>\n",
       "      <th>security-hub us-east-1 HIGH gha-test</th>\n",
       "      <td>808</td>\n",
       "    </tr>\n",
       "    <tr>\n",
       "      <th>Test</th>\n",
       "      <td>782</td>\n",
       "    </tr>\n",
       "    <tr>\n",
       "      <th>failed-test</th>\n",
       "      <td>772</td>\n",
       "    </tr>\n",
       "    <tr>\n",
       "      <th>C-test-failure O-robot branch-master</th>\n",
       "      <td>752</td>\n",
       "    </tr>\n",
       "    <tr>\n",
       "      <th>security-hub us-east-1 gha-test CRITICAL</th>\n",
       "      <td>742</td>\n",
       "    </tr>\n",
       "    <tr>\n",
       "      <th>Testing</th>\n",
       "      <td>666</td>\n",
       "    </tr>\n",
       "    <tr>\n",
       "      <th>C-test-failure O-robot O-roachtest branch-master release-blocker</th>\n",
       "      <td>582</td>\n",
       "    </tr>\n",
       "    <tr>\n",
       "      <th>good first issue test</th>\n",
       "      <td>569</td>\n",
       "    </tr>\n",
       "    <tr>\n",
       "      <th>status test-play-dump</th>\n",
       "      <td>566</td>\n",
       "    </tr>\n",
       "    <tr>\n",
       "      <th>bug testing</th>\n",
       "      <td>453</td>\n",
       "    </tr>\n",
       "    <tr>\n",
       "      <th>bug test</th>\n",
       "      <td>444</td>\n",
       "    </tr>\n",
       "    <tr>\n",
       "      <th>[Type] Flaky Test</th>\n",
       "      <td>424</td>\n",
       "    </tr>\n",
       "    <tr>\n",
       "      <th>component/test flaky-tests</th>\n",
       "      <td>362</td>\n",
       "    </tr>\n",
       "    <tr>\n",
       "      <th>enhancement testing</th>\n",
       "      <td>320</td>\n",
       "    </tr>\n",
       "    <tr>\n",
       "      <th>[Status] Stale [Type] Flaky Test</th>\n",
       "      <td>300</td>\n",
       "    </tr>\n",
       "    <tr>\n",
       "      <th>enhancement test</th>\n",
       "      <td>285</td>\n",
       "    </tr>\n",
       "    <tr>\n",
       "      <th>In Testing</th>\n",
       "      <td>280</td>\n",
       "    </tr>\n",
       "    <tr>\n",
       "      <th>bug needs-testing</th>\n",
       "      <td>272</td>\n",
       "    </tr>\n",
       "    <tr>\n",
       "      <th>enhancement backlog testing</th>\n",
       "      <td>266</td>\n",
       "    </tr>\n",
       "    <tr>\n",
       "      <th>Requires Testing</th>\n",
       "      <td>250</td>\n",
       "    </tr>\n",
       "    <tr>\n",
       "      <th>C-test-failure O-robot branch-master T-sql-queries</th>\n",
       "      <td>243</td>\n",
       "    </tr>\n",
       "    <tr>\n",
       "      <th>type:automated-testing</th>\n",
       "      <td>237</td>\n",
       "    </tr>\n",
       "    <tr>\n",
       "      <th>test failure</th>\n",
       "      <td>234</td>\n",
       "    </tr>\n",
       "    <tr>\n",
       "      <th>priority/backlog kind/failing-test</th>\n",
       "      <td>223</td>\n",
       "    </tr>\n",
       "    <tr>\n",
       "      <th>kind/test</th>\n",
       "      <td>223</td>\n",
       "    </tr>\n",
       "    <tr>\n",
       "      <th>integration-test-failure</th>\n",
       "      <td>192</td>\n",
       "    </tr>\n",
       "    <tr>\n",
       "      <th>Sub Task Ivy API Experimental Failing Test</th>\n",
       "      <td>191</td>\n",
       "    </tr>\n",
       "    <tr>\n",
       "      <th>kind/failing-test</th>\n",
       "      <td>184</td>\n",
       "    </tr>\n",
       "    <tr>\n",
       "      <th>status test-project</th>\n",
       "      <td>179</td>\n",
       "    </tr>\n",
       "    <tr>\n",
       "      <th>C-test-failure O-robot O-roachtest release-blocker branch-release-22.2</th>\n",
       "      <td>175</td>\n",
       "    </tr>\n",
       "    <tr>\n",
       "      <th>flaky test</th>\n",
       "      <td>171</td>\n",
       "    </tr>\n",
       "    <tr>\n",
       "      <th>bad-test</th>\n",
       "      <td>168</td>\n",
       "    </tr>\n",
       "    <tr>\n",
       "      <th>flaky-test</th>\n",
       "      <td>164</td>\n",
       "    </tr>\n",
       "    <tr>\n",
       "      <th>bug need testing</th>\n",
       "      <td>159</td>\n",
       "    </tr>\n",
       "    <tr>\n",
       "      <th>C-test-failure O-robot O-roachtest release-blocker branch-release-22.1</th>\n",
       "      <td>157</td>\n",
       "    </tr>\n",
       "    <tr>\n",
       "      <th>C-test-failure O-robot O-roachtest branch-master</th>\n",
       "      <td>156</td>\n",
       "    </tr>\n",
       "    <tr>\n",
       "      <th>needs testing</th>\n",
       "      <td>154</td>\n",
       "    </tr>\n",
       "    <tr>\n",
       "      <th>status test-2</th>\n",
       "      <td>153</td>\n",
       "    </tr>\n",
       "  </tbody>\n",
       "</table>\n",
       "</div>"
      ],
      "text/plain": [
       "                                                    count\n",
       "labels                                                   \n",
       "status software-center-test-1                        8223\n",
       "testing                                              5123\n",
       "status auth-bridge-test-1                            4803\n",
       "test                                                 3664\n",
       "TensorFlow Frontend Sub Task Failing Test            2005\n",
       "PyTorch Frontend Sub Task Failing Test               1764\n",
       "generalization test development                      1701\n",
       "test-failing ci-force-bot                            1574\n",
       "NumPy Frontend Sub Task Failing Test                 1535\n",
       "status mention-test-bot                              1445\n",
       "JAX Frontend Sub Task Failing Test                   1266\n",
       "Sub Task Failing Test                                 951\n",
       "security-hub us-east-1 HIGH gha-test                  808\n",
       "Test                                                  782\n",
       "failed-test                                           772\n",
       "C-test-failure O-robot branch-master                  752\n",
       "security-hub us-east-1 gha-test CRITICAL              742\n",
       "Testing                                               666\n",
       "C-test-failure O-robot O-roachtest branch-maste...    582\n",
       "good first issue test                                 569\n",
       "status test-play-dump                                 566\n",
       "bug testing                                           453\n",
       "bug test                                              444\n",
       "[Type] Flaky Test                                     424\n",
       "component/test flaky-tests                            362\n",
       "enhancement testing                                   320\n",
       "[Status] Stale [Type] Flaky Test                      300\n",
       "enhancement test                                      285\n",
       "In Testing                                            280\n",
       "bug needs-testing                                     272\n",
       "enhancement backlog testing                           266\n",
       "Requires Testing                                      250\n",
       "C-test-failure O-robot branch-master T-sql-queries    243\n",
       "type:automated-testing                                237\n",
       "test failure                                          234\n",
       "priority/backlog kind/failing-test                    223\n",
       "kind/test                                             223\n",
       "integration-test-failure                              192\n",
       "Sub Task Ivy API Experimental Failing Test            191\n",
       "kind/failing-test                                     184\n",
       "status test-project                                   179\n",
       "C-test-failure O-robot O-roachtest release-bloc...    175\n",
       "flaky test                                            171\n",
       "bad-test                                              168\n",
       "flaky-test                                            164\n",
       "bug need testing                                      159\n",
       "C-test-failure O-robot O-roachtest release-bloc...    157\n",
       "C-test-failure O-robot O-roachtest branch-master      156\n",
       "needs testing                                         154\n",
       "status test-2                                         153"
      ]
     },
     "execution_count": 8,
     "metadata": {},
     "output_type": "execute_result"
    }
   ],
   "source": [
    "# To labels\n",
    "appended_data.labels.value_counts().to_frame()[:50] "
   ]
  },
  {
   "cell_type": "code",
   "execution_count": 9,
   "id": "4fa02011-4304-4478-84c3-0fa20e6febda",
   "metadata": {
    "tags": []
   },
   "outputs": [
    {
     "data": {
      "text/html": [
       "<div>\n",
       "<style scoped>\n",
       "    .dataframe tbody tr th:only-of-type {\n",
       "        vertical-align: middle;\n",
       "    }\n",
       "\n",
       "    .dataframe tbody tr th {\n",
       "        vertical-align: top;\n",
       "    }\n",
       "\n",
       "    .dataframe thead th {\n",
       "        text-align: right;\n",
       "    }\n",
       "</style>\n",
       "<table border=\"1\" class=\"dataframe\">\n",
       "  <thead>\n",
       "    <tr style=\"text-align: right;\">\n",
       "      <th></th>\n",
       "      <th>id</th>\n",
       "      <th>type</th>\n",
       "      <th>created_at</th>\n",
       "      <th>repo</th>\n",
       "      <th>repo_url</th>\n",
       "      <th>action</th>\n",
       "      <th>title</th>\n",
       "      <th>labels</th>\n",
       "      <th>body</th>\n",
       "    </tr>\n",
       "  </thead>\n",
       "  <tbody>\n",
       "    <tr>\n",
       "      <th>0</th>\n",
       "      <td>27299567285</td>\n",
       "      <td>IssuesEvent</td>\n",
       "      <td>2023-02-24 00:00:29</td>\n",
       "      <td>unifyai/ivy</td>\n",
       "      <td>https://api.github.com/repos/unifyai/ivy</td>\n",
       "      <td>closed</td>\n",
       "      <td>Fix linalg.test_matmul</td>\n",
       "      <td>TensorFlow Frontend Sub Task Failing Test</td>\n",
       "      <td>|   |   |\\r\\n|---|---|\\r\\n|tensorflow|&lt;a href=...</td>\n",
       "    </tr>\n",
       "    <tr>\n",
       "      <th>1</th>\n",
       "      <td>27299573308</td>\n",
       "      <td>IssuesEvent</td>\n",
       "      <td>2023-02-24 00:00:52</td>\n",
       "      <td>unifyai/ivy</td>\n",
       "      <td>https://api.github.com/repos/unifyai/ivy</td>\n",
       "      <td>reopened</td>\n",
       "      <td>Fix linalg.test_matrix_rank</td>\n",
       "      <td>PyTorch Frontend Sub Task Failing Test</td>\n",
       "      <td>|   |   |\\r\\n|---|---|\\r\\n|tensorflow|&lt;a href=...</td>\n",
       "    </tr>\n",
       "    <tr>\n",
       "      <th>2</th>\n",
       "      <td>27299597200</td>\n",
       "      <td>IssuesEvent</td>\n",
       "      <td>2023-02-24 00:02:32</td>\n",
       "      <td>dotnet/runtime</td>\n",
       "      <td>https://api.github.com/repos/dotnet/runtime</td>\n",
       "      <td>closed</td>\n",
       "      <td>Add Tests for System.Drawing.Common</td>\n",
       "      <td>area-System.Drawing increase-code-coverage tes...</td>\n",
       "      <td>This issue tracks porting some set of tests fr...</td>\n",
       "    </tr>\n",
       "    <tr>\n",
       "      <th>3</th>\n",
       "      <td>27299607982</td>\n",
       "      <td>IssuesEvent</td>\n",
       "      <td>2023-02-24 00:03:19</td>\n",
       "      <td>unifyai/ivy</td>\n",
       "      <td>https://api.github.com/repos/unifyai/ivy</td>\n",
       "      <td>reopened</td>\n",
       "      <td>Fix tensor.test_numpy_ndarray_property_shape</td>\n",
       "      <td>TensorFlow Frontend Sub Task Failing Test</td>\n",
       "      <td>|   |   |\\r\\n|---|---|\\r\\n|tensorflow|&lt;a href=...</td>\n",
       "    </tr>\n",
       "    <tr>\n",
       "      <th>4</th>\n",
       "      <td>27299609243</td>\n",
       "      <td>IssuesEvent</td>\n",
       "      <td>2023-02-24 00:03:25</td>\n",
       "      <td>unifyai/ivy</td>\n",
       "      <td>https://api.github.com/repos/unifyai/ivy</td>\n",
       "      <td>reopened</td>\n",
       "      <td>Fix tensor.test_array_property_device</td>\n",
       "      <td>TensorFlow Frontend Sub Task Failing Test</td>\n",
       "      <td>|   |   |\\r\\n|---|---|\\r\\n|tensorflow|&lt;a href=...</td>\n",
       "    </tr>\n",
       "    <tr>\n",
       "      <th>...</th>\n",
       "      <td>...</td>\n",
       "      <td>...</td>\n",
       "      <td>...</td>\n",
       "      <td>...</td>\n",
       "      <td>...</td>\n",
       "      <td>...</td>\n",
       "      <td>...</td>\n",
       "      <td>...</td>\n",
       "      <td>...</td>\n",
       "    </tr>\n",
       "    <tr>\n",
       "      <th>100644</th>\n",
       "      <td>23933792422</td>\n",
       "      <td>IssuesEvent</td>\n",
       "      <td>2022-09-10 23:47:34</td>\n",
       "      <td>GustavoGomesDias/store</td>\n",
       "      <td>https://api.github.com/repos/GustavoGomesDias/...</td>\n",
       "      <td>closed</td>\n",
       "      <td>Enviar resultado do reporter dos testes geread...</td>\n",
       "      <td>enhancement test</td>\n",
       "      <td>Atualmente, eu sei quando o PR falha, mas não ...</td>\n",
       "    </tr>\n",
       "    <tr>\n",
       "      <th>100645</th>\n",
       "      <td>23933795909</td>\n",
       "      <td>IssuesEvent</td>\n",
       "      <td>2022-09-10 23:48:31</td>\n",
       "      <td>GustavoGomesDias/store</td>\n",
       "      <td>https://api.github.com/repos/GustavoGomesDias/...</td>\n",
       "      <td>closed</td>\n",
       "      <td>Trackear tempo dos testes mais demorados</td>\n",
       "      <td>bug test</td>\n",
       "      <td>Abaixou o teste de 20s para 15s, mas ainda tá ...</td>\n",
       "    </tr>\n",
       "    <tr>\n",
       "      <th>100646</th>\n",
       "      <td>23933809567</td>\n",
       "      <td>IssuesEvent</td>\n",
       "      <td>2022-09-10 23:52:18</td>\n",
       "      <td>herrphon/upptime</td>\n",
       "      <td>https://api.github.com/repos/herrphon/upptime</td>\n",
       "      <td>closed</td>\n",
       "      <td>🛑 Auth-Bridge - Test 1 is down</td>\n",
       "      <td>status auth-bridge-test-1</td>\n",
       "      <td>In [`cf9d8e1`](https://github.com/herrphon/upp...</td>\n",
       "    </tr>\n",
       "    <tr>\n",
       "      <th>100647</th>\n",
       "      <td>23933811531</td>\n",
       "      <td>IssuesEvent</td>\n",
       "      <td>2022-09-10 23:52:49</td>\n",
       "      <td>kubernetes/test-infra</td>\n",
       "      <td>https://api.github.com/repos/kubernetes/test-i...</td>\n",
       "      <td>closed</td>\n",
       "      <td>error unmarshaling config/jobs/kubernetes-sigs...</td>\n",
       "      <td>kind/bug sig/testing</td>\n",
       "      <td>### What happened:\\r\\n***\\r\\n\\r\\nProw's [check...</td>\n",
       "    </tr>\n",
       "    <tr>\n",
       "      <th>100648</th>\n",
       "      <td>23933814456</td>\n",
       "      <td>IssuesEvent</td>\n",
       "      <td>2022-09-10 23:53:40</td>\n",
       "      <td>kubernetes/test-infra</td>\n",
       "      <td>https://api.github.com/repos/kubernetes/test-i...</td>\n",
       "      <td>closed</td>\n",
       "      <td>error unmarshaling config/jobs/kubernetes-sigs...</td>\n",
       "      <td>kind/bug sig/testing</td>\n",
       "      <td>### What happened:\\r\\n***\\r\\n\\r\\nProw's [check...</td>\n",
       "    </tr>\n",
       "  </tbody>\n",
       "</table>\n",
       "<p>100649 rows × 9 columns</p>\n",
       "</div>"
      ],
      "text/plain": [
       "                 id         type           created_at                    repo  \\\n",
       "0       27299567285  IssuesEvent  2023-02-24 00:00:29             unifyai/ivy   \n",
       "1       27299573308  IssuesEvent  2023-02-24 00:00:52             unifyai/ivy   \n",
       "2       27299597200  IssuesEvent  2023-02-24 00:02:32          dotnet/runtime   \n",
       "3       27299607982  IssuesEvent  2023-02-24 00:03:19             unifyai/ivy   \n",
       "4       27299609243  IssuesEvent  2023-02-24 00:03:25             unifyai/ivy   \n",
       "...             ...          ...                  ...                     ...   \n",
       "100644  23933792422  IssuesEvent  2022-09-10 23:47:34  GustavoGomesDias/store   \n",
       "100645  23933795909  IssuesEvent  2022-09-10 23:48:31  GustavoGomesDias/store   \n",
       "100646  23933809567  IssuesEvent  2022-09-10 23:52:18        herrphon/upptime   \n",
       "100647  23933811531  IssuesEvent  2022-09-10 23:52:49   kubernetes/test-infra   \n",
       "100648  23933814456  IssuesEvent  2022-09-10 23:53:40   kubernetes/test-infra   \n",
       "\n",
       "                                                 repo_url    action  \\\n",
       "0                https://api.github.com/repos/unifyai/ivy    closed   \n",
       "1                https://api.github.com/repos/unifyai/ivy  reopened   \n",
       "2             https://api.github.com/repos/dotnet/runtime    closed   \n",
       "3                https://api.github.com/repos/unifyai/ivy  reopened   \n",
       "4                https://api.github.com/repos/unifyai/ivy  reopened   \n",
       "...                                                   ...       ...   \n",
       "100644  https://api.github.com/repos/GustavoGomesDias/...    closed   \n",
       "100645  https://api.github.com/repos/GustavoGomesDias/...    closed   \n",
       "100646      https://api.github.com/repos/herrphon/upptime    closed   \n",
       "100647  https://api.github.com/repos/kubernetes/test-i...    closed   \n",
       "100648  https://api.github.com/repos/kubernetes/test-i...    closed   \n",
       "\n",
       "                                                    title  \\\n",
       "0                                  Fix linalg.test_matmul   \n",
       "1                             Fix linalg.test_matrix_rank   \n",
       "2                     Add Tests for System.Drawing.Common   \n",
       "3            Fix tensor.test_numpy_ndarray_property_shape   \n",
       "4                   Fix tensor.test_array_property_device   \n",
       "...                                                   ...   \n",
       "100644  Enviar resultado do reporter dos testes geread...   \n",
       "100645           Trackear tempo dos testes mais demorados   \n",
       "100646                     🛑 Auth-Bridge - Test 1 is down   \n",
       "100647  error unmarshaling config/jobs/kubernetes-sigs...   \n",
       "100648  error unmarshaling config/jobs/kubernetes-sigs...   \n",
       "\n",
       "                                                   labels  \\\n",
       "0               TensorFlow Frontend Sub Task Failing Test   \n",
       "1                  PyTorch Frontend Sub Task Failing Test   \n",
       "2       area-System.Drawing increase-code-coverage tes...   \n",
       "3               TensorFlow Frontend Sub Task Failing Test   \n",
       "4               TensorFlow Frontend Sub Task Failing Test   \n",
       "...                                                   ...   \n",
       "100644                                   enhancement test   \n",
       "100645                                           bug test   \n",
       "100646                          status auth-bridge-test-1   \n",
       "100647                               kind/bug sig/testing   \n",
       "100648                               kind/bug sig/testing   \n",
       "\n",
       "                                                     body  \n",
       "0       |   |   |\\r\\n|---|---|\\r\\n|tensorflow|<a href=...  \n",
       "1       |   |   |\\r\\n|---|---|\\r\\n|tensorflow|<a href=...  \n",
       "2       This issue tracks porting some set of tests fr...  \n",
       "3       |   |   |\\r\\n|---|---|\\r\\n|tensorflow|<a href=...  \n",
       "4       |   |   |\\r\\n|---|---|\\r\\n|tensorflow|<a href=...  \n",
       "...                                                   ...  \n",
       "100644  Atualmente, eu sei quando o PR falha, mas não ...  \n",
       "100645  Abaixou o teste de 20s para 15s, mas ainda tá ...  \n",
       "100646  In [`cf9d8e1`](https://github.com/herrphon/upp...  \n",
       "100647  ### What happened:\\r\\n***\\r\\n\\r\\nProw's [check...  \n",
       "100648  ### What happened:\\r\\n***\\r\\n\\r\\nProw's [check...  \n",
       "\n",
       "[100649 rows x 9 columns]"
      ]
     },
     "execution_count": 9,
     "metadata": {},
     "output_type": "execute_result"
    }
   ],
   "source": [
    "# Remove debt from the dataset\n",
    "appended_data_no_debt = appended_data[~contains_debt_test].reset_index(drop=True)\n",
    "appended_data_no_debt.reset_index(drop=True, inplace=True)\n",
    "appended_data_no_debt"
   ]
  },
  {
   "cell_type": "code",
   "execution_count": 10,
   "id": "0d68690b-c4f4-4ac4-8062-56c3af33bf82",
   "metadata": {
    "tags": []
   },
   "outputs": [
    {
     "data": {
      "text/html": [
       "<div>\n",
       "<style scoped>\n",
       "    .dataframe tbody tr th:only-of-type {\n",
       "        vertical-align: middle;\n",
       "    }\n",
       "\n",
       "    .dataframe tbody tr th {\n",
       "        vertical-align: top;\n",
       "    }\n",
       "\n",
       "    .dataframe thead th {\n",
       "        text-align: right;\n",
       "    }\n",
       "</style>\n",
       "<table border=\"1\" class=\"dataframe\">\n",
       "  <thead>\n",
       "    <tr style=\"text-align: right;\">\n",
       "      <th></th>\n",
       "      <th>id</th>\n",
       "      <th>type</th>\n",
       "      <th>created_at</th>\n",
       "      <th>repo</th>\n",
       "      <th>repo_url</th>\n",
       "      <th>action</th>\n",
       "      <th>title</th>\n",
       "      <th>labels</th>\n",
       "      <th>body</th>\n",
       "    </tr>\n",
       "  </thead>\n",
       "  <tbody>\n",
       "  </tbody>\n",
       "</table>\n",
       "</div>"
      ],
      "text/plain": [
       "Empty DataFrame\n",
       "Columns: [id, type, created_at, repo, repo_url, action, title, labels, body]\n",
       "Index: []"
      ]
     },
     "execution_count": 10,
     "metadata": {},
     "output_type": "execute_result"
    }
   ],
   "source": [
    "# Sanity check\n",
    "should_be_empty=appended_data_no_debt[appended_data_no_debt['labels'].str.contains(technical_debt_regex, case=False, na=False)]\n",
    "should_be_empty"
   ]
  },
  {
   "cell_type": "code",
   "execution_count": 11,
   "id": "faae7e5b-a9eb-45ff-ba17-00bcd64a8fa8",
   "metadata": {
    "tags": []
   },
   "outputs": [],
   "source": [
    "# Convert to csv\n",
    "test_file_name = f\"{file_name}_no_td.csv\"\n",
    "appended_data_no_debt.to_csv(test_file_name)"
   ]
  },
  {
   "cell_type": "code",
   "execution_count": 12,
   "id": "7a0c01f9-91ed-472a-8ef0-a4a6f5e0b7dc",
   "metadata": {
    "tags": []
   },
   "outputs": [
    {
     "data": {
      "text/html": [
       "<div>\n",
       "<style scoped>\n",
       "    .dataframe tbody tr th:only-of-type {\n",
       "        vertical-align: middle;\n",
       "    }\n",
       "\n",
       "    .dataframe tbody tr th {\n",
       "        vertical-align: top;\n",
       "    }\n",
       "\n",
       "    .dataframe thead th {\n",
       "        text-align: right;\n",
       "    }\n",
       "</style>\n",
       "<table border=\"1\" class=\"dataframe\">\n",
       "  <thead>\n",
       "    <tr style=\"text-align: right;\">\n",
       "      <th></th>\n",
       "      <th>id</th>\n",
       "      <th>type</th>\n",
       "      <th>created_at</th>\n",
       "      <th>repo</th>\n",
       "      <th>repo_url</th>\n",
       "      <th>action</th>\n",
       "      <th>title</th>\n",
       "      <th>labels</th>\n",
       "      <th>body</th>\n",
       "    </tr>\n",
       "  </thead>\n",
       "  <tbody>\n",
       "    <tr>\n",
       "      <th>0</th>\n",
       "      <td>2.729957e+10</td>\n",
       "      <td>IssuesEvent</td>\n",
       "      <td>2023-02-24 00:00:29</td>\n",
       "      <td>unifyai/ivy</td>\n",
       "      <td>https://api.github.com/repos/unifyai/ivy</td>\n",
       "      <td>closed</td>\n",
       "      <td>Fix linalg.test_matmul</td>\n",
       "      <td>TensorFlow Frontend Sub Task Failing Test</td>\n",
       "      <td>|   |   |\\r\\n|---|---|\\r\\n|tensorflow|&lt;a href=...</td>\n",
       "    </tr>\n",
       "    <tr>\n",
       "      <th>1</th>\n",
       "      <td>2.729957e+10</td>\n",
       "      <td>IssuesEvent</td>\n",
       "      <td>2023-02-24 00:00:52</td>\n",
       "      <td>unifyai/ivy</td>\n",
       "      <td>https://api.github.com/repos/unifyai/ivy</td>\n",
       "      <td>reopened</td>\n",
       "      <td>Fix linalg.test_matrix_rank</td>\n",
       "      <td>PyTorch Frontend Sub Task Failing Test</td>\n",
       "      <td>|   |   |\\r\\n|---|---|\\r\\n|tensorflow|&lt;a href=...</td>\n",
       "    </tr>\n",
       "    <tr>\n",
       "      <th>2</th>\n",
       "      <td>2.729960e+10</td>\n",
       "      <td>IssuesEvent</td>\n",
       "      <td>2023-02-24 00:02:32</td>\n",
       "      <td>dotnet/runtime</td>\n",
       "      <td>https://api.github.com/repos/dotnet/runtime</td>\n",
       "      <td>closed</td>\n",
       "      <td>Add Tests for System.Drawing.Common</td>\n",
       "      <td>area-System.Drawing increase-code-coverage tes...</td>\n",
       "      <td>This issue tracks porting some set of tests fr...</td>\n",
       "    </tr>\n",
       "    <tr>\n",
       "      <th>3</th>\n",
       "      <td>2.729961e+10</td>\n",
       "      <td>IssuesEvent</td>\n",
       "      <td>2023-02-24 00:03:19</td>\n",
       "      <td>unifyai/ivy</td>\n",
       "      <td>https://api.github.com/repos/unifyai/ivy</td>\n",
       "      <td>reopened</td>\n",
       "      <td>Fix tensor.test_numpy_ndarray_property_shape</td>\n",
       "      <td>TensorFlow Frontend Sub Task Failing Test</td>\n",
       "      <td>|   |   |\\r\\n|---|---|\\r\\n|tensorflow|&lt;a href=...</td>\n",
       "    </tr>\n",
       "    <tr>\n",
       "      <th>4</th>\n",
       "      <td>2.729961e+10</td>\n",
       "      <td>IssuesEvent</td>\n",
       "      <td>2023-02-24 00:03:25</td>\n",
       "      <td>unifyai/ivy</td>\n",
       "      <td>https://api.github.com/repos/unifyai/ivy</td>\n",
       "      <td>reopened</td>\n",
       "      <td>Fix tensor.test_array_property_device</td>\n",
       "      <td>TensorFlow Frontend Sub Task Failing Test</td>\n",
       "      <td>|   |   |\\r\\n|---|---|\\r\\n|tensorflow|&lt;a href=...</td>\n",
       "    </tr>\n",
       "    <tr>\n",
       "      <th>...</th>\n",
       "      <td>...</td>\n",
       "      <td>...</td>\n",
       "      <td>...</td>\n",
       "      <td>...</td>\n",
       "      <td>...</td>\n",
       "      <td>...</td>\n",
       "      <td>...</td>\n",
       "      <td>...</td>\n",
       "      <td>...</td>\n",
       "    </tr>\n",
       "    <tr>\n",
       "      <th>100644</th>\n",
       "      <td>2.393379e+10</td>\n",
       "      <td>IssuesEvent</td>\n",
       "      <td>2022-09-10 23:47:34</td>\n",
       "      <td>GustavoGomesDias/store</td>\n",
       "      <td>https://api.github.com/repos/GustavoGomesDias/...</td>\n",
       "      <td>closed</td>\n",
       "      <td>Enviar resultado do reporter dos testes geread...</td>\n",
       "      <td>enhancement test</td>\n",
       "      <td>Atualmente, eu sei quando o PR falha, mas não ...</td>\n",
       "    </tr>\n",
       "    <tr>\n",
       "      <th>100645</th>\n",
       "      <td>2.393380e+10</td>\n",
       "      <td>IssuesEvent</td>\n",
       "      <td>2022-09-10 23:48:31</td>\n",
       "      <td>GustavoGomesDias/store</td>\n",
       "      <td>https://api.github.com/repos/GustavoGomesDias/...</td>\n",
       "      <td>closed</td>\n",
       "      <td>Trackear tempo dos testes mais demorados</td>\n",
       "      <td>bug test</td>\n",
       "      <td>Abaixou o teste de 20s para 15s, mas ainda tá ...</td>\n",
       "    </tr>\n",
       "    <tr>\n",
       "      <th>100646</th>\n",
       "      <td>2.393381e+10</td>\n",
       "      <td>IssuesEvent</td>\n",
       "      <td>2022-09-10 23:52:18</td>\n",
       "      <td>herrphon/upptime</td>\n",
       "      <td>https://api.github.com/repos/herrphon/upptime</td>\n",
       "      <td>closed</td>\n",
       "      <td>🛑 Auth-Bridge - Test 1 is down</td>\n",
       "      <td>status auth-bridge-test-1</td>\n",
       "      <td>In [`cf9d8e1`](https://github.com/herrphon/upp...</td>\n",
       "    </tr>\n",
       "    <tr>\n",
       "      <th>100647</th>\n",
       "      <td>2.393381e+10</td>\n",
       "      <td>IssuesEvent</td>\n",
       "      <td>2022-09-10 23:52:49</td>\n",
       "      <td>kubernetes/test-infra</td>\n",
       "      <td>https://api.github.com/repos/kubernetes/test-i...</td>\n",
       "      <td>closed</td>\n",
       "      <td>error unmarshaling config/jobs/kubernetes-sigs...</td>\n",
       "      <td>kind/bug sig/testing</td>\n",
       "      <td>### What happened:\\r\\n***\\r\\n\\r\\nProw's [check...</td>\n",
       "    </tr>\n",
       "    <tr>\n",
       "      <th>100648</th>\n",
       "      <td>2.393381e+10</td>\n",
       "      <td>IssuesEvent</td>\n",
       "      <td>2022-09-10 23:53:40</td>\n",
       "      <td>kubernetes/test-infra</td>\n",
       "      <td>https://api.github.com/repos/kubernetes/test-i...</td>\n",
       "      <td>closed</td>\n",
       "      <td>error unmarshaling config/jobs/kubernetes-sigs...</td>\n",
       "      <td>kind/bug sig/testing</td>\n",
       "      <td>### What happened:\\r\\n***\\r\\n\\r\\nProw's [check...</td>\n",
       "    </tr>\n",
       "  </tbody>\n",
       "</table>\n",
       "<p>100649 rows × 9 columns</p>\n",
       "</div>"
      ],
      "text/plain": [
       "                  id         type           created_at  \\\n",
       "0       2.729957e+10  IssuesEvent  2023-02-24 00:00:29   \n",
       "1       2.729957e+10  IssuesEvent  2023-02-24 00:00:52   \n",
       "2       2.729960e+10  IssuesEvent  2023-02-24 00:02:32   \n",
       "3       2.729961e+10  IssuesEvent  2023-02-24 00:03:19   \n",
       "4       2.729961e+10  IssuesEvent  2023-02-24 00:03:25   \n",
       "...              ...          ...                  ...   \n",
       "100644  2.393379e+10  IssuesEvent  2022-09-10 23:47:34   \n",
       "100645  2.393380e+10  IssuesEvent  2022-09-10 23:48:31   \n",
       "100646  2.393381e+10  IssuesEvent  2022-09-10 23:52:18   \n",
       "100647  2.393381e+10  IssuesEvent  2022-09-10 23:52:49   \n",
       "100648  2.393381e+10  IssuesEvent  2022-09-10 23:53:40   \n",
       "\n",
       "                          repo  \\\n",
       "0                  unifyai/ivy   \n",
       "1                  unifyai/ivy   \n",
       "2               dotnet/runtime   \n",
       "3                  unifyai/ivy   \n",
       "4                  unifyai/ivy   \n",
       "...                        ...   \n",
       "100644  GustavoGomesDias/store   \n",
       "100645  GustavoGomesDias/store   \n",
       "100646        herrphon/upptime   \n",
       "100647   kubernetes/test-infra   \n",
       "100648   kubernetes/test-infra   \n",
       "\n",
       "                                                 repo_url    action  \\\n",
       "0                https://api.github.com/repos/unifyai/ivy    closed   \n",
       "1                https://api.github.com/repos/unifyai/ivy  reopened   \n",
       "2             https://api.github.com/repos/dotnet/runtime    closed   \n",
       "3                https://api.github.com/repos/unifyai/ivy  reopened   \n",
       "4                https://api.github.com/repos/unifyai/ivy  reopened   \n",
       "...                                                   ...       ...   \n",
       "100644  https://api.github.com/repos/GustavoGomesDias/...    closed   \n",
       "100645  https://api.github.com/repos/GustavoGomesDias/...    closed   \n",
       "100646      https://api.github.com/repos/herrphon/upptime    closed   \n",
       "100647  https://api.github.com/repos/kubernetes/test-i...    closed   \n",
       "100648  https://api.github.com/repos/kubernetes/test-i...    closed   \n",
       "\n",
       "                                                    title  \\\n",
       "0                                  Fix linalg.test_matmul   \n",
       "1                             Fix linalg.test_matrix_rank   \n",
       "2                     Add Tests for System.Drawing.Common   \n",
       "3            Fix tensor.test_numpy_ndarray_property_shape   \n",
       "4                   Fix tensor.test_array_property_device   \n",
       "...                                                   ...   \n",
       "100644  Enviar resultado do reporter dos testes geread...   \n",
       "100645           Trackear tempo dos testes mais demorados   \n",
       "100646                     🛑 Auth-Bridge - Test 1 is down   \n",
       "100647  error unmarshaling config/jobs/kubernetes-sigs...   \n",
       "100648  error unmarshaling config/jobs/kubernetes-sigs...   \n",
       "\n",
       "                                                   labels  \\\n",
       "0               TensorFlow Frontend Sub Task Failing Test   \n",
       "1                  PyTorch Frontend Sub Task Failing Test   \n",
       "2       area-System.Drawing increase-code-coverage tes...   \n",
       "3               TensorFlow Frontend Sub Task Failing Test   \n",
       "4               TensorFlow Frontend Sub Task Failing Test   \n",
       "...                                                   ...   \n",
       "100644                                   enhancement test   \n",
       "100645                                           bug test   \n",
       "100646                          status auth-bridge-test-1   \n",
       "100647                               kind/bug sig/testing   \n",
       "100648                               kind/bug sig/testing   \n",
       "\n",
       "                                                     body  \n",
       "0       |   |   |\\r\\n|---|---|\\r\\n|tensorflow|<a href=...  \n",
       "1       |   |   |\\r\\n|---|---|\\r\\n|tensorflow|<a href=...  \n",
       "2       This issue tracks porting some set of tests fr...  \n",
       "3       |   |   |\\r\\n|---|---|\\r\\n|tensorflow|<a href=...  \n",
       "4       |   |   |\\r\\n|---|---|\\r\\n|tensorflow|<a href=...  \n",
       "...                                                   ...  \n",
       "100644  Atualmente, eu sei quando o PR falha, mas não ...  \n",
       "100645  Abaixou o teste de 20s para 15s, mas ainda tá ...  \n",
       "100646  In [`cf9d8e1`](https://github.com/herrphon/upp...  \n",
       "100647  ### What happened:\\r\\n***\\r\\n\\r\\nProw's [check...  \n",
       "100648  ### What happened:\\r\\n***\\r\\n\\r\\nProw's [check...  \n",
       "\n",
       "[100649 rows x 9 columns]"
      ]
     },
     "execution_count": 12,
     "metadata": {},
     "output_type": "execute_result"
    }
   ],
   "source": [
    "pri = pd.read_csv(test_file_name, index_col=0)\n",
    "pri"
   ]
  },
  {
   "cell_type": "code",
   "execution_count": 13,
   "id": "642df166-301f-469c-9f58-29257b67931b",
   "metadata": {
    "tags": []
   },
   "outputs": [
    {
     "data": {
      "text/html": [
       "<div>\n",
       "<style scoped>\n",
       "    .dataframe tbody tr th:only-of-type {\n",
       "        vertical-align: middle;\n",
       "    }\n",
       "\n",
       "    .dataframe tbody tr th {\n",
       "        vertical-align: top;\n",
       "    }\n",
       "\n",
       "    .dataframe thead th {\n",
       "        text-align: right;\n",
       "    }\n",
       "</style>\n",
       "<table border=\"1\" class=\"dataframe\">\n",
       "  <thead>\n",
       "    <tr style=\"text-align: right;\">\n",
       "      <th></th>\n",
       "      <th>id</th>\n",
       "      <th>type</th>\n",
       "      <th>created_at</th>\n",
       "      <th>repo</th>\n",
       "      <th>repo_url</th>\n",
       "      <th>action</th>\n",
       "      <th>title</th>\n",
       "      <th>labels</th>\n",
       "      <th>body</th>\n",
       "    </tr>\n",
       "  </thead>\n",
       "  <tbody>\n",
       "    <tr>\n",
       "      <th>0</th>\n",
       "      <td>2.700908e+10</td>\n",
       "      <td>IssuesEvent</td>\n",
       "      <td>2023-02-10 14:05:00</td>\n",
       "      <td>harnettmatt/rankings</td>\n",
       "      <td>https://api.github.com/repos/harnettmatt/rankings</td>\n",
       "      <td>closed</td>\n",
       "      <td>Make sure integration tests are running with i...</td>\n",
       "      <td>testing debt</td>\n",
       "      <td>Make sure tests are not interfering with each ...</td>\n",
       "    </tr>\n",
       "    <tr>\n",
       "      <th>1</th>\n",
       "      <td>2.733402e+10</td>\n",
       "      <td>IssuesEvent</td>\n",
       "      <td>2023-02-26 00:56:03</td>\n",
       "      <td>DataBiosphere/azul</td>\n",
       "      <td>https://api.github.com/repos/DataBiosphere/azul</td>\n",
       "      <td>closed</td>\n",
       "      <td>Cover AnVIL service response in unit tests</td>\n",
       "      <td>enh demoed debt test orange demo</td>\n",
       "      <td>https://github.com/DataBiosphere/azul/pull/492...</td>\n",
       "    </tr>\n",
       "    <tr>\n",
       "      <th>2</th>\n",
       "      <td>2.733402e+10</td>\n",
       "      <td>IssuesEvent</td>\n",
       "      <td>2023-02-26 00:56:29</td>\n",
       "      <td>DataBiosphere/azul</td>\n",
       "      <td>https://api.github.com/repos/DataBiosphere/azul</td>\n",
       "      <td>closed</td>\n",
       "      <td>Service `app.repository_controller` should be ...</td>\n",
       "      <td>bug debt test orange no demo spike:2 service</td>\n",
       "      <td>https://github.com/DataBiosphere/azul/blob/350...</td>\n",
       "    </tr>\n",
       "    <tr>\n",
       "      <th>3</th>\n",
       "      <td>2.733402e+10</td>\n",
       "      <td>IssuesEvent</td>\n",
       "      <td>2023-02-26 00:56:57</td>\n",
       "      <td>DataBiosphere/azul</td>\n",
       "      <td>https://api.github.com/repos/DataBiosphere/azul</td>\n",
       "      <td>closed</td>\n",
       "      <td>Many caches persist between test cases</td>\n",
       "      <td>enh debt test orange no demo spike:2</td>\n",
       "      <td>~An example is~ https://github.com/DataBiosphe...</td>\n",
       "    </tr>\n",
       "    <tr>\n",
       "      <th>4</th>\n",
       "      <td>2.414163e+10</td>\n",
       "      <td>IssuesEvent</td>\n",
       "      <td>2022-09-21 15:14:12</td>\n",
       "      <td>department-of-veterans-affairs/va.gov-cms</td>\n",
       "      <td>https://api.github.com/repos/department-of-vet...</td>\n",
       "      <td>closed</td>\n",
       "      <td>Improve friendliness of Behat text pattern mat...</td>\n",
       "      <td>Technical debt Automated testing ⭐️ Sitewide CMS</td>\n",
       "      <td>## Description\\r\\n\\r\\nIn [this commit](https:/...</td>\n",
       "    </tr>\n",
       "    <tr>\n",
       "      <th>...</th>\n",
       "      <td>...</td>\n",
       "      <td>...</td>\n",
       "      <td>...</td>\n",
       "      <td>...</td>\n",
       "      <td>...</td>\n",
       "      <td>...</td>\n",
       "      <td>...</td>\n",
       "      <td>...</td>\n",
       "      <td>...</td>\n",
       "    </tr>\n",
       "    <tr>\n",
       "      <th>289</th>\n",
       "      <td>2.444580e+10</td>\n",
       "      <td>IssuesEvent</td>\n",
       "      <td>2022-10-06 17:51:03</td>\n",
       "      <td>confidential-containers/operator</td>\n",
       "      <td>https://api.github.com/repos/confidential-cont...</td>\n",
       "      <td>opened</td>\n",
       "      <td>Development and CI versions should be kept in ...</td>\n",
       "      <td>testing technical debt</td>\n",
       "      <td>The operator build is supported with a given v...</td>\n",
       "    </tr>\n",
       "    <tr>\n",
       "      <th>290</th>\n",
       "      <td>2.444604e+10</td>\n",
       "      <td>IssuesEvent</td>\n",
       "      <td>2022-10-06 18:03:52</td>\n",
       "      <td>confidential-containers/operator</td>\n",
       "      <td>https://api.github.com/repos/confidential-cont...</td>\n",
       "      <td>opened</td>\n",
       "      <td>Document the operator CI</td>\n",
       "      <td>testing technical debt</td>\n",
       "      <td>The scripts for testing and CI were created in...</td>\n",
       "    </tr>\n",
       "    <tr>\n",
       "      <th>291</th>\n",
       "      <td>2.745125e+10</td>\n",
       "      <td>IssuesEvent</td>\n",
       "      <td>2023-03-02 17:32:05</td>\n",
       "      <td>saltstack/salt</td>\n",
       "      <td>https://api.github.com/repos/saltstack/salt</td>\n",
       "      <td>closed</td>\n",
       "      <td>[TECH DEBT] Add performance test to the test s...</td>\n",
       "      <td>auto-test tech-debt</td>\n",
       "      <td>Add performance test to the test suite.\\r\\n\\r\\...</td>\n",
       "    </tr>\n",
       "    <tr>\n",
       "      <th>292</th>\n",
       "      <td>2.436549e+10</td>\n",
       "      <td>IssuesEvent</td>\n",
       "      <td>2022-10-03 14:52:10</td>\n",
       "      <td>hashicorp/terraform-cdk</td>\n",
       "      <td>https://api.github.com/repos/hashicorp/terrafo...</td>\n",
       "      <td>opened</td>\n",
       "      <td>Re-enable `convertProject.test.ts` test</td>\n",
       "      <td>enhancement testing priority/important-soon de...</td>\n",
       "      <td>&lt;!--- Please keep this note for the community ...</td>\n",
       "    </tr>\n",
       "    <tr>\n",
       "      <th>293</th>\n",
       "      <td>2.392685e+10</td>\n",
       "      <td>IssuesEvent</td>\n",
       "      <td>2022-09-10 00:56:15</td>\n",
       "      <td>libhal/libhal</td>\n",
       "      <td>https://api.github.com/repos/libhal/libhal</td>\n",
       "      <td>closed</td>\n",
       "      <td>Complete `mock::steady_clock`</td>\n",
       "      <td>testing technical debt</td>\n",
       "      <td>NaN</td>\n",
       "    </tr>\n",
       "  </tbody>\n",
       "</table>\n",
       "<p>294 rows × 9 columns</p>\n",
       "</div>"
      ],
      "text/plain": [
       "               id         type           created_at  \\\n",
       "0    2.700908e+10  IssuesEvent  2023-02-10 14:05:00   \n",
       "1    2.733402e+10  IssuesEvent  2023-02-26 00:56:03   \n",
       "2    2.733402e+10  IssuesEvent  2023-02-26 00:56:29   \n",
       "3    2.733402e+10  IssuesEvent  2023-02-26 00:56:57   \n",
       "4    2.414163e+10  IssuesEvent  2022-09-21 15:14:12   \n",
       "..            ...          ...                  ...   \n",
       "289  2.444580e+10  IssuesEvent  2022-10-06 17:51:03   \n",
       "290  2.444604e+10  IssuesEvent  2022-10-06 18:03:52   \n",
       "291  2.745125e+10  IssuesEvent  2023-03-02 17:32:05   \n",
       "292  2.436549e+10  IssuesEvent  2022-10-03 14:52:10   \n",
       "293  2.392685e+10  IssuesEvent  2022-09-10 00:56:15   \n",
       "\n",
       "                                          repo  \\\n",
       "0                         harnettmatt/rankings   \n",
       "1                           DataBiosphere/azul   \n",
       "2                           DataBiosphere/azul   \n",
       "3                           DataBiosphere/azul   \n",
       "4    department-of-veterans-affairs/va.gov-cms   \n",
       "..                                         ...   \n",
       "289           confidential-containers/operator   \n",
       "290           confidential-containers/operator   \n",
       "291                             saltstack/salt   \n",
       "292                    hashicorp/terraform-cdk   \n",
       "293                              libhal/libhal   \n",
       "\n",
       "                                              repo_url  action  \\\n",
       "0    https://api.github.com/repos/harnettmatt/rankings  closed   \n",
       "1      https://api.github.com/repos/DataBiosphere/azul  closed   \n",
       "2      https://api.github.com/repos/DataBiosphere/azul  closed   \n",
       "3      https://api.github.com/repos/DataBiosphere/azul  closed   \n",
       "4    https://api.github.com/repos/department-of-vet...  closed   \n",
       "..                                                 ...     ...   \n",
       "289  https://api.github.com/repos/confidential-cont...  opened   \n",
       "290  https://api.github.com/repos/confidential-cont...  opened   \n",
       "291        https://api.github.com/repos/saltstack/salt  closed   \n",
       "292  https://api.github.com/repos/hashicorp/terrafo...  opened   \n",
       "293         https://api.github.com/repos/libhal/libhal  closed   \n",
       "\n",
       "                                                 title  \\\n",
       "0    Make sure integration tests are running with i...   \n",
       "1           Cover AnVIL service response in unit tests   \n",
       "2    Service `app.repository_controller` should be ...   \n",
       "3               Many caches persist between test cases   \n",
       "4    Improve friendliness of Behat text pattern mat...   \n",
       "..                                                 ...   \n",
       "289  Development and CI versions should be kept in ...   \n",
       "290                           Document the operator CI   \n",
       "291  [TECH DEBT] Add performance test to the test s...   \n",
       "292            Re-enable `convertProject.test.ts` test   \n",
       "293                      Complete `mock::steady_clock`   \n",
       "\n",
       "                                                labels  \\\n",
       "0                                         testing debt   \n",
       "1                     enh demoed debt test orange demo   \n",
       "2         bug debt test orange no demo spike:2 service   \n",
       "3                 enh debt test orange no demo spike:2   \n",
       "4     Technical debt Automated testing ⭐️ Sitewide CMS   \n",
       "..                                                 ...   \n",
       "289                             testing technical debt   \n",
       "290                             testing technical debt   \n",
       "291                                auto-test tech-debt   \n",
       "292  enhancement testing priority/important-soon de...   \n",
       "293                             testing technical debt   \n",
       "\n",
       "                                                  body  \n",
       "0    Make sure tests are not interfering with each ...  \n",
       "1    https://github.com/DataBiosphere/azul/pull/492...  \n",
       "2    https://github.com/DataBiosphere/azul/blob/350...  \n",
       "3    ~An example is~ https://github.com/DataBiosphe...  \n",
       "4    ## Description\\r\\n\\r\\nIn [this commit](https:/...  \n",
       "..                                                 ...  \n",
       "289  The operator build is supported with a given v...  \n",
       "290  The scripts for testing and CI were created in...  \n",
       "291  Add performance test to the test suite.\\r\\n\\r\\...  \n",
       "292  <!--- Please keep this note for the community ...  \n",
       "293                                                NaN  \n",
       "\n",
       "[294 rows x 9 columns]"
      ]
     },
     "execution_count": 13,
     "metadata": {},
     "output_type": "execute_result"
    }
   ],
   "source": [
    "debt = pd.read_csv(debt_file_name, index_col=0)\n",
    "debt"
   ]
  },
  {
   "cell_type": "code",
   "execution_count": null,
   "id": "6738a2ba-d35d-4e08-ac48-665d29de6ee1",
   "metadata": {},
   "outputs": [],
   "source": []
  }
 ],
 "metadata": {
  "kernelspec": {
   "display_name": "Python 3 (ipykernel)",
   "language": "python",
   "name": "python3"
  },
  "language_info": {
   "codemirror_mode": {
    "name": "ipython",
    "version": 3
   },
   "file_extension": ".py",
   "mimetype": "text/x-python",
   "name": "python",
   "nbconvert_exporter": "python",
   "pygments_lexer": "ipython3",
   "version": "3.10.13"
  }
 },
 "nbformat": 4,
 "nbformat_minor": 5
}
